{
 "cells": [
  {
   "cell_type": "markdown",
   "metadata": {},
   "source": [
    "# Продажа квартир в Санкт-Петербурге — анализ рынка недвижимости\n"
   ]
  },
  {
   "cell_type": "markdown",
   "metadata": {},
   "source": [
    "В нашем распоряжении данные сервиса Яндекс.Недвижимость — архив объявлений о продаже квартир в Санкт-Петербурге и соседних населённых пунктов за несколько лет. Нужно научиться определять рыночную стоимость объектов недвижимости. Наша задача — установить параметры. Это позволит построить автоматизированную систему: она отследит аномалии и мошенническую деятельность. \n",
    "\n",
    "По каждой квартире на продажу доступны два вида данных. Первые вписаны пользователем, вторые — получены автоматически на основе картографических данных. Например, расстояние до центра, аэропорта, ближайшего парка и водоёма. "
   ]
  },
  {
   "cell_type": "markdown",
   "metadata": {},
   "source": [
    "## Цель: \n",
    "   \n",
    "   Выполнить предобработку данных и изучить их, чтобы найти интересные особенности и зависимости, которые существуют на рынке недвижимости. \n",
    "    \n",
    "    \n",
    "## План работы/задачи:\n",
    "    \n",
    "1. Изучить данные, оценить некорректность данных.  \n",
    "    \n",
    "2. Предобработать данные, исключить возможные пропуски, заполнить недостающие данные.  \n",
    "    \n",
    "3. Добавить новые столбцы, для исследования данных  \n",
    "    \n",
    "4. Исследовать данные, найти закономерности и особенности \n",
    "    \n"
   ]
  },
  {
   "cell_type": "markdown",
   "metadata": {},
   "source": [
    "### Откроем файл с данными и изучим общую информацию. "
   ]
  },
  {
   "cell_type": "code",
   "execution_count": 2,
   "metadata": {},
   "outputs": [],
   "source": [
    "import pandas as pd\n",
    "import matplotlib.pyplot as plt\n",
    "import seaborn as sns\n",
    "import numpy as np"
   ]
  },
  {
   "cell_type": "code",
   "execution_count": 3,
   "metadata": {},
   "outputs": [],
   "source": [
    "try:\n",
    "    data = pd.read_csv('/datasets/real_estate_data.csv', sep='\\t', decimal=',')\n",
    "except:\n",
    "    data = pd.read_csv('https://code.s3.yandex.net/datasets/real_estate_data.csv', sep='\\t', decimal=',')"
   ]
  },
  {
   "cell_type": "code",
   "execution_count": 7,
   "metadata": {},
   "outputs": [
    {
     "name": "stdout",
     "output_type": "stream",
     "text": [
      "<class 'pandas.core.frame.DataFrame'>\n",
      "RangeIndex: 23699 entries, 0 to 23698\n",
      "Data columns (total 22 columns):\n",
      " #   Column                Non-Null Count  Dtype \n",
      "---  ------                --------------  ----- \n",
      " 0   total_images          23699 non-null  int64 \n",
      " 1   last_price            23699 non-null  object\n",
      " 2   total_area            23699 non-null  object\n",
      " 3   first_day_exposition  23699 non-null  object\n",
      " 4   rooms                 23699 non-null  int64 \n",
      " 5   ceiling_height        14504 non-null  object\n",
      " 6   floors_total          23613 non-null  object\n",
      " 7   living_area           21796 non-null  object\n",
      " 8   floor                 23699 non-null  int64 \n",
      " 9   is_apartment          2775 non-null   object\n",
      " 10  studio                23699 non-null  bool  \n",
      " 11  open_plan             23699 non-null  bool  \n",
      " 12  kitchen_area          21421 non-null  object\n",
      " 13  balcony               12180 non-null  object\n",
      " 14  locality_name         23650 non-null  object\n",
      " 15  airports_nearest      18157 non-null  object\n",
      " 16  city_centers_nearest  18180 non-null  object\n",
      " 17  parks_around3000      18181 non-null  object\n",
      " 18  parks_nearest         8079 non-null   object\n",
      " 19  ponds_around3000      18181 non-null  object\n",
      " 20  ponds_nearest         9110 non-null   object\n",
      " 21  days_exposition       20518 non-null  object\n",
      "dtypes: bool(2), int64(3), object(17)\n",
      "memory usage: 3.7+ MB\n"
     ]
    },
    {
     "data": {
      "text/html": [
       "<div>\n",
       "<style scoped>\n",
       "    .dataframe tbody tr th:only-of-type {\n",
       "        vertical-align: middle;\n",
       "    }\n",
       "\n",
       "    .dataframe tbody tr th {\n",
       "        vertical-align: top;\n",
       "    }\n",
       "\n",
       "    .dataframe thead th {\n",
       "        text-align: right;\n",
       "    }\n",
       "</style>\n",
       "<table border=\"1\" class=\"dataframe\">\n",
       "  <thead>\n",
       "    <tr style=\"text-align: right;\">\n",
       "      <th></th>\n",
       "      <th>total_images</th>\n",
       "      <th>last_price</th>\n",
       "      <th>total_area</th>\n",
       "      <th>first_day_exposition</th>\n",
       "      <th>rooms</th>\n",
       "      <th>ceiling_height</th>\n",
       "      <th>floors_total</th>\n",
       "      <th>living_area</th>\n",
       "      <th>floor</th>\n",
       "      <th>is_apartment</th>\n",
       "      <th>...</th>\n",
       "      <th>kitchen_area</th>\n",
       "      <th>balcony</th>\n",
       "      <th>locality_name</th>\n",
       "      <th>airports_nearest</th>\n",
       "      <th>city_centers_nearest</th>\n",
       "      <th>parks_around3000</th>\n",
       "      <th>parks_nearest</th>\n",
       "      <th>ponds_around3000</th>\n",
       "      <th>ponds_nearest</th>\n",
       "      <th>days_exposition</th>\n",
       "    </tr>\n",
       "  </thead>\n",
       "  <tbody>\n",
       "    <tr>\n",
       "      <th>0</th>\n",
       "      <td>20</td>\n",
       "      <td>13000000.0</td>\n",
       "      <td>108.00</td>\n",
       "      <td>2019-03-07T00:00:00</td>\n",
       "      <td>3</td>\n",
       "      <td>2.70</td>\n",
       "      <td>16.0</td>\n",
       "      <td>51.0</td>\n",
       "      <td>8</td>\n",
       "      <td>NaN</td>\n",
       "      <td>...</td>\n",
       "      <td>25.00</td>\n",
       "      <td>NaN</td>\n",
       "      <td>Санкт-Петербург</td>\n",
       "      <td>18863.0</td>\n",
       "      <td>16028.0</td>\n",
       "      <td>1.0</td>\n",
       "      <td>482.0</td>\n",
       "      <td>2.0</td>\n",
       "      <td>755.0</td>\n",
       "      <td>NaN</td>\n",
       "    </tr>\n",
       "    <tr>\n",
       "      <th>1</th>\n",
       "      <td>7</td>\n",
       "      <td>3350000.0</td>\n",
       "      <td>40.40</td>\n",
       "      <td>2018-12-04T00:00:00</td>\n",
       "      <td>1</td>\n",
       "      <td>NaN</td>\n",
       "      <td>11.0</td>\n",
       "      <td>18.6</td>\n",
       "      <td>1</td>\n",
       "      <td>NaN</td>\n",
       "      <td>...</td>\n",
       "      <td>11.00</td>\n",
       "      <td>2.0</td>\n",
       "      <td>посёлок Шушары</td>\n",
       "      <td>12817.0</td>\n",
       "      <td>18603.0</td>\n",
       "      <td>0.0</td>\n",
       "      <td>NaN</td>\n",
       "      <td>0.0</td>\n",
       "      <td>NaN</td>\n",
       "      <td>81.0</td>\n",
       "    </tr>\n",
       "    <tr>\n",
       "      <th>2</th>\n",
       "      <td>10</td>\n",
       "      <td>5196000.0</td>\n",
       "      <td>56.00</td>\n",
       "      <td>2015-08-20T00:00:00</td>\n",
       "      <td>2</td>\n",
       "      <td>NaN</td>\n",
       "      <td>5.0</td>\n",
       "      <td>34.3</td>\n",
       "      <td>4</td>\n",
       "      <td>NaN</td>\n",
       "      <td>...</td>\n",
       "      <td>8.30</td>\n",
       "      <td>0.0</td>\n",
       "      <td>Санкт-Петербург</td>\n",
       "      <td>21741.0</td>\n",
       "      <td>13933.0</td>\n",
       "      <td>1.0</td>\n",
       "      <td>90.0</td>\n",
       "      <td>2.0</td>\n",
       "      <td>574.0</td>\n",
       "      <td>558.0</td>\n",
       "    </tr>\n",
       "    <tr>\n",
       "      <th>3</th>\n",
       "      <td>0</td>\n",
       "      <td>64900000.0</td>\n",
       "      <td>159.00</td>\n",
       "      <td>2015-07-24T00:00:00</td>\n",
       "      <td>3</td>\n",
       "      <td>NaN</td>\n",
       "      <td>14.0</td>\n",
       "      <td>NaN</td>\n",
       "      <td>9</td>\n",
       "      <td>NaN</td>\n",
       "      <td>...</td>\n",
       "      <td>NaN</td>\n",
       "      <td>0.0</td>\n",
       "      <td>Санкт-Петербург</td>\n",
       "      <td>28098.0</td>\n",
       "      <td>6800.0</td>\n",
       "      <td>2.0</td>\n",
       "      <td>84.0</td>\n",
       "      <td>3.0</td>\n",
       "      <td>234.0</td>\n",
       "      <td>424.0</td>\n",
       "    </tr>\n",
       "    <tr>\n",
       "      <th>4</th>\n",
       "      <td>2</td>\n",
       "      <td>10000000.0</td>\n",
       "      <td>100.00</td>\n",
       "      <td>2018-06-19T00:00:00</td>\n",
       "      <td>2</td>\n",
       "      <td>3.03</td>\n",
       "      <td>14.0</td>\n",
       "      <td>32.0</td>\n",
       "      <td>13</td>\n",
       "      <td>NaN</td>\n",
       "      <td>...</td>\n",
       "      <td>41.00</td>\n",
       "      <td>NaN</td>\n",
       "      <td>Санкт-Петербург</td>\n",
       "      <td>31856.0</td>\n",
       "      <td>8098.0</td>\n",
       "      <td>2.0</td>\n",
       "      <td>112.0</td>\n",
       "      <td>1.0</td>\n",
       "      <td>48.0</td>\n",
       "      <td>121.0</td>\n",
       "    </tr>\n",
       "    <tr>\n",
       "      <th>...</th>\n",
       "      <td>...</td>\n",
       "      <td>...</td>\n",
       "      <td>...</td>\n",
       "      <td>...</td>\n",
       "      <td>...</td>\n",
       "      <td>...</td>\n",
       "      <td>...</td>\n",
       "      <td>...</td>\n",
       "      <td>...</td>\n",
       "      <td>...</td>\n",
       "      <td>...</td>\n",
       "      <td>...</td>\n",
       "      <td>...</td>\n",
       "      <td>...</td>\n",
       "      <td>...</td>\n",
       "      <td>...</td>\n",
       "      <td>...</td>\n",
       "      <td>...</td>\n",
       "      <td>...</td>\n",
       "      <td>...</td>\n",
       "      <td>...</td>\n",
       "    </tr>\n",
       "    <tr>\n",
       "      <th>23694</th>\n",
       "      <td>9</td>\n",
       "      <td>9700000.0</td>\n",
       "      <td>133.81</td>\n",
       "      <td>2017-03-21T00:00:00</td>\n",
       "      <td>3</td>\n",
       "      <td>3.70</td>\n",
       "      <td>5.0</td>\n",
       "      <td>73.3</td>\n",
       "      <td>3</td>\n",
       "      <td>NaN</td>\n",
       "      <td>...</td>\n",
       "      <td>13.83</td>\n",
       "      <td>NaN</td>\n",
       "      <td>Санкт-Петербург</td>\n",
       "      <td>24665.0</td>\n",
       "      <td>4232.0</td>\n",
       "      <td>1.0</td>\n",
       "      <td>796.0</td>\n",
       "      <td>3.0</td>\n",
       "      <td>381.0</td>\n",
       "      <td>NaN</td>\n",
       "    </tr>\n",
       "    <tr>\n",
       "      <th>23695</th>\n",
       "      <td>14</td>\n",
       "      <td>3100000.0</td>\n",
       "      <td>59.00</td>\n",
       "      <td>2018-01-15T00:00:00</td>\n",
       "      <td>3</td>\n",
       "      <td>NaN</td>\n",
       "      <td>5.0</td>\n",
       "      <td>38.0</td>\n",
       "      <td>4</td>\n",
       "      <td>NaN</td>\n",
       "      <td>...</td>\n",
       "      <td>8.50</td>\n",
       "      <td>NaN</td>\n",
       "      <td>Тосно</td>\n",
       "      <td>NaN</td>\n",
       "      <td>NaN</td>\n",
       "      <td>NaN</td>\n",
       "      <td>NaN</td>\n",
       "      <td>NaN</td>\n",
       "      <td>NaN</td>\n",
       "      <td>45.0</td>\n",
       "    </tr>\n",
       "    <tr>\n",
       "      <th>23696</th>\n",
       "      <td>18</td>\n",
       "      <td>2500000.0</td>\n",
       "      <td>56.70</td>\n",
       "      <td>2018-02-11T00:00:00</td>\n",
       "      <td>2</td>\n",
       "      <td>NaN</td>\n",
       "      <td>3.0</td>\n",
       "      <td>29.7</td>\n",
       "      <td>1</td>\n",
       "      <td>NaN</td>\n",
       "      <td>...</td>\n",
       "      <td>NaN</td>\n",
       "      <td>NaN</td>\n",
       "      <td>село Рождествено</td>\n",
       "      <td>NaN</td>\n",
       "      <td>NaN</td>\n",
       "      <td>NaN</td>\n",
       "      <td>NaN</td>\n",
       "      <td>NaN</td>\n",
       "      <td>NaN</td>\n",
       "      <td>NaN</td>\n",
       "    </tr>\n",
       "    <tr>\n",
       "      <th>23697</th>\n",
       "      <td>13</td>\n",
       "      <td>11475000.0</td>\n",
       "      <td>76.75</td>\n",
       "      <td>2017-03-28T00:00:00</td>\n",
       "      <td>2</td>\n",
       "      <td>3.00</td>\n",
       "      <td>17.0</td>\n",
       "      <td>NaN</td>\n",
       "      <td>12</td>\n",
       "      <td>NaN</td>\n",
       "      <td>...</td>\n",
       "      <td>23.30</td>\n",
       "      <td>2.0</td>\n",
       "      <td>Санкт-Петербург</td>\n",
       "      <td>39140.0</td>\n",
       "      <td>10364.0</td>\n",
       "      <td>2.0</td>\n",
       "      <td>173.0</td>\n",
       "      <td>3.0</td>\n",
       "      <td>196.0</td>\n",
       "      <td>602.0</td>\n",
       "    </tr>\n",
       "    <tr>\n",
       "      <th>23698</th>\n",
       "      <td>4</td>\n",
       "      <td>1350000.0</td>\n",
       "      <td>32.30</td>\n",
       "      <td>2017-07-21T00:00:00</td>\n",
       "      <td>1</td>\n",
       "      <td>2.50</td>\n",
       "      <td>5.0</td>\n",
       "      <td>12.3</td>\n",
       "      <td>1</td>\n",
       "      <td>NaN</td>\n",
       "      <td>...</td>\n",
       "      <td>9.00</td>\n",
       "      <td>NaN</td>\n",
       "      <td>поселок Новый Учхоз</td>\n",
       "      <td>NaN</td>\n",
       "      <td>NaN</td>\n",
       "      <td>NaN</td>\n",
       "      <td>NaN</td>\n",
       "      <td>NaN</td>\n",
       "      <td>NaN</td>\n",
       "      <td>NaN</td>\n",
       "    </tr>\n",
       "  </tbody>\n",
       "</table>\n",
       "<p>23699 rows × 22 columns</p>\n",
       "</div>"
      ],
      "text/plain": [
       "       total_images  last_price  total_area first_day_exposition  rooms  \\\n",
       "0                20  13000000.0      108.00  2019-03-07T00:00:00      3   \n",
       "1                 7   3350000.0       40.40  2018-12-04T00:00:00      1   \n",
       "2                10   5196000.0       56.00  2015-08-20T00:00:00      2   \n",
       "3                 0  64900000.0      159.00  2015-07-24T00:00:00      3   \n",
       "4                 2  10000000.0      100.00  2018-06-19T00:00:00      2   \n",
       "...             ...         ...         ...                  ...    ...   \n",
       "23694             9   9700000.0      133.81  2017-03-21T00:00:00      3   \n",
       "23695            14   3100000.0       59.00  2018-01-15T00:00:00      3   \n",
       "23696            18   2500000.0       56.70  2018-02-11T00:00:00      2   \n",
       "23697            13  11475000.0       76.75  2017-03-28T00:00:00      2   \n",
       "23698             4   1350000.0       32.30  2017-07-21T00:00:00      1   \n",
       "\n",
       "       ceiling_height  floors_total  living_area  floor is_apartment  ...  \\\n",
       "0                2.70          16.0         51.0      8          NaN  ...   \n",
       "1                 NaN          11.0         18.6      1          NaN  ...   \n",
       "2                 NaN           5.0         34.3      4          NaN  ...   \n",
       "3                 NaN          14.0          NaN      9          NaN  ...   \n",
       "4                3.03          14.0         32.0     13          NaN  ...   \n",
       "...               ...           ...          ...    ...          ...  ...   \n",
       "23694            3.70           5.0         73.3      3          NaN  ...   \n",
       "23695             NaN           5.0         38.0      4          NaN  ...   \n",
       "23696             NaN           3.0         29.7      1          NaN  ...   \n",
       "23697            3.00          17.0          NaN     12          NaN  ...   \n",
       "23698            2.50           5.0         12.3      1          NaN  ...   \n",
       "\n",
       "       kitchen_area  balcony        locality_name  airports_nearest  \\\n",
       "0             25.00      NaN      Санкт-Петербург           18863.0   \n",
       "1             11.00      2.0       посёлок Шушары           12817.0   \n",
       "2              8.30      0.0      Санкт-Петербург           21741.0   \n",
       "3               NaN      0.0      Санкт-Петербург           28098.0   \n",
       "4             41.00      NaN      Санкт-Петербург           31856.0   \n",
       "...             ...      ...                  ...               ...   \n",
       "23694         13.83      NaN      Санкт-Петербург           24665.0   \n",
       "23695          8.50      NaN                Тосно               NaN   \n",
       "23696           NaN      NaN     село Рождествено               NaN   \n",
       "23697         23.30      2.0      Санкт-Петербург           39140.0   \n",
       "23698          9.00      NaN  поселок Новый Учхоз               NaN   \n",
       "\n",
       "      city_centers_nearest  parks_around3000  parks_nearest  ponds_around3000  \\\n",
       "0                  16028.0               1.0          482.0               2.0   \n",
       "1                  18603.0               0.0            NaN               0.0   \n",
       "2                  13933.0               1.0           90.0               2.0   \n",
       "3                   6800.0               2.0           84.0               3.0   \n",
       "4                   8098.0               2.0          112.0               1.0   \n",
       "...                    ...               ...            ...               ...   \n",
       "23694               4232.0               1.0          796.0               3.0   \n",
       "23695                  NaN               NaN            NaN               NaN   \n",
       "23696                  NaN               NaN            NaN               NaN   \n",
       "23697              10364.0               2.0          173.0               3.0   \n",
       "23698                  NaN               NaN            NaN               NaN   \n",
       "\n",
       "       ponds_nearest  days_exposition  \n",
       "0              755.0              NaN  \n",
       "1                NaN             81.0  \n",
       "2              574.0            558.0  \n",
       "3              234.0            424.0  \n",
       "4               48.0            121.0  \n",
       "...              ...              ...  \n",
       "23694          381.0              NaN  \n",
       "23695            NaN             45.0  \n",
       "23696            NaN              NaN  \n",
       "23697          196.0            602.0  \n",
       "23698            NaN              NaN  \n",
       "\n",
       "[23699 rows x 22 columns]"
      ]
     },
     "execution_count": 7,
     "metadata": {},
     "output_type": "execute_result"
    },
    {
     "data": {
      "image/png": "[encoded data removed]",
      "text/plain": [
       "<Figure size 1080x1440 with 20 Axes>"
      ]
     },
     "metadata": {
      "needs_background": "light"
     },
     "output_type": "display_data"
    }
   ],
   "source": [
    "data.rename(columns={'cityCenters_nearest' : 'city_centers_nearest'}, inplace=True)\n",
    "data.info()\n",
    "data['balcony'] = pd.to_numeric(data['balcony'])\n",
    "data['floors_total'] = pd.to_numeric(data['floors_total'])\n",
    "data['last_price'] = pd.to_numeric(data['last_price']) \n",
    "data['parks_around3000'] = pd.to_numeric(data['parks_around3000'])\n",
    "data['ponds_around3000'] = pd.to_numeric(data['ponds_around3000'])\n",
    "data['living_area'] = pd.to_numeric(data['living_area'])\n",
    "data['total_area'] = pd.to_numeric(data['total_area'])\n",
    "data['kitchen_area'] = pd.to_numeric(data['kitchen_area'])\n",
    "data['days_exposition'] = pd.to_numeric(data['days_exposition'])\n",
    "data['ceiling_height'] = pd.to_numeric(data['ceiling_height'])\n",
    "data['ponds_nearest'] = pd.to_numeric(data['ponds_nearest'])\n",
    "data['parks_nearest'] = pd.to_numeric(data['parks_nearest'])\n",
    "data['city_centers_nearest'] = pd.to_numeric(data['city_centers_nearest'])\n",
    "data['airports_nearest'] = pd.to_numeric(data['airports_nearest'])\n",
    "\n",
    "data.hist(figsize=(15, 20))\n",
    "data\n"
   ]
  },
  {
   "cell_type": "markdown",
   "metadata": {},
   "source": [
    "<div class=\"alert alert-info\">\n",
    "    \n",
    "<b> 1. Всего в датасете 23699 записей </b> \n",
    "    \n",
    "<b> 2. В 14 столбцах есть пропуски </b> \n",
    "    \n",
    "<b> 3. Большинство столбцов имеет неправильный тип данных, при том что данные в них несут числовое значение </b> \n",
    "    \n",
    "<b> 4. Так как тип данных неправильный, не получается построить гистограммы для этих столбцов, тип данных изменю в следующем шаге  \n",
    "    5. По первому взгляду определенно есть выбросы в некоторых столбцах, для более детального анализа буду разбирать в отдельности каждый столбец в следующем шаге не предмет выбросов и пропусков.</b> \n",
    "</div>"
   ]
  },
  {
   "cell_type": "markdown",
   "metadata": {},
   "source": [
    "### Предобработка данных"
   ]
  },
  {
   "cell_type": "code",
   "execution_count": 2,
   "metadata": {},
   "outputs": [
    {
     "data": {
      "text/plain": [
       "23025"
      ]
     },
     "execution_count": 2,
     "metadata": {},
     "output_type": "execute_result"
    }
   ],
   "source": [
    "data.duplicated().sum() #число дубликатов 0\n",
    "data.isnull().sum().sort_values()\n",
    "\n",
    "#Пропуски в\n",
    "\n",
    "#locality_name(название населённого пункта) (49)\n",
    "#floors_total(всего этажей в доме), (86)\n",
    "\n",
    "#living_area(жилая площадь в м²),  (1903)\n",
    "#kitchen_area(площадь кухни в м²),  (2278)\n",
    "#days_exposition(сколько дней было размещено объявление) (3181)\n",
    "#parks_around3000(число парков в радиусе 3 км), (5518)\n",
    "#ponds_around3000(число водоёмов в радиусе 3 км), (5518) \n",
    "#cityCenters_nearest(расстояние до центра города м), (5519)\n",
    "#airports_nearest(расстояние до ближайшего аэропорта в м), (5542)\n",
    "#ceiling_height(высота потолков (м)), (9195) \n",
    "#balcony(число балконов), (11519)\n",
    "#ponds_nearest(расстояние до ближайшего водоёма м), (14589) \n",
    "#parks_nearest(расстояние до ближайшего парка м), (15620)\n",
    "#is_apartment(апартаменты (булев тип)), (20924)  \n",
    " \n",
    "data.dropna(subset=['floors_total'], inplace=True) # так как значений немного, удаляем записи, где отсутствует этажность\n",
    "data['floors_total'] = pd.to_numeric(data['floors_total'])\n",
    "data['floors_total'] = data['floors_total'].astype(int) # приводим в целочисленный тип этажность\n",
    "\n",
    "data.dropna(subset=['locality_name'], inplace=True) # так как значений немного, удаляем записи, где отсутствует локация\n",
    "data['locality_name'] = data['locality_name'].str.lower() #на всякий случай приводим всё к нижнему регистру\n",
    "  \n",
    "data['balcony'] = data['balcony'].fillna(0)  # заполним пропуски 0, скорее всего там нет балконов\n",
    "data['balcony'] = pd.to_numeric(data['balcony']) \n",
    "data['balcony'] = data['balcony'].astype(int) # переводим в тип int\n",
    "\n",
    "data['last_price'] = pd.to_numeric(data['last_price']) \n",
    "data['last_price'] = data['last_price'].astype(int) # Приводим в целочисленный тип стоимость квартиры\n",
    "\n",
    "data['first_day_exposition'] = pd.to_datetime(data['first_day_exposition'], format='%Y-%m-%dT%H:%M:%S') #приводим к типу даты дату публикации\n",
    "\n",
    "data['is_apartment'].value_counts() #Всего аппартаментов - 50\n",
    "data['is_apartment'] = data['is_apartment'].fillna(value=False) #Заменяем пропущенные значения на нет.Скорее всего эти обьекты не апартаменты\n",
    "\n",
    "\n",
    "data['parks_around3000'] = pd.to_numeric(data['parks_around3000']) # Приводим в целочисленный тип количество парков.\n",
    "data['parks_around3000'] = data['parks_around3000'].fillna(value=0).astype(int) # Заменяем пропущенные значения на 0, скорее всего в этом радиусе парки отсутствуют\n",
    "\n",
    "data['ponds_around3000'] = pd.to_numeric(data['ponds_around3000']) # Приводим в целочисленный тип количество прудов.\n",
    "data['ponds_around3000'] = data['ponds_around3000'].fillna(value=0).astype(int) #Заменяем пропущенные значения на 0, скорее всего в этом радиусе пруды отсутствуют\n",
    "\n",
    "data.isnull().sum().sort_values()\n",
    "\n",
    "data['living_area'] = data['living_area'].fillna(0)\n",
    "data['living_area'] = pd.to_numeric(data['living_area'])\n",
    "data['living_area'] = data['living_area'].astype(int) # переводим в тип int\n",
    "data['living_area'].describe()\n",
    "#sorted(data['living_area'])\n",
    "#data['living_area'].tail(5) #проверил что нет максимального аномального значения \n",
    "#data['living_area'].hist(bins=100, range=(0, 270))\n",
    "data['total_area'] = pd.to_numeric(data['total_area'])\n",
    "data['total_area'] = data['total_area'].astype(int) # переводим в тип int\n",
    "#data['total_area'] = sorted(data['total_area'])\n",
    "#data['total_area'].tail()\n",
    "#data.loc[data['total_area'] > 899] #самое больше значение общей площади, возможно это частный дом, но странно что всего одна комната\n",
    "\n",
    "for t in data['rooms'].unique():\n",
    "    data.loc[(data['rooms'] == t) & (data['living_area'] == 0), 'living_area'] = \\\n",
    "    data.loc[(data['rooms'] == t), 'living_area'].median() #Заполним пропуски в 'living_area' медианными значениями по 'rooms'\n",
    "\n",
    "data.loc[data['living_area'] > data['total_area'], 'living_area'] = data.loc[data['living_area'] > data['total_area'], 'total_area'] \n",
    "#заполнил пропуски там где жил плош больше общей - общей площадью \n",
    "\n",
    "data['kitchen_area'] = data['kitchen_area'].fillna(data['kitchen_area'].median())\n",
    "data['kitchen_area'] = pd.to_numeric(data['kitchen_area'])\n",
    "data['kitchen_area'] = data['kitchen_area'].astype(int) # переводим в тип int\n",
    "#data['kitchen_area'].hist(bins=100, range=(0, 300)) #заполним средним, так как пропусков не так много\n",
    "\n",
    "data.isnull().sum().sort_values()\n",
    "\n",
    "data.loc[data['ceiling_height'].isnull()].head(100)\n",
    "data['ceiling_height'].isnull().sum() #почти в 2/3 обьявлений пропуски, не ясно на основе чего заменить, можно заменить медианным значением по всему но датасету, но это будет не так корректно, тогда на какие группы разделит?\n",
    " \n",
    "#data.info()\n",
    "\n",
    "#Изменил типы данных в столбцах где данные представляют численное значение\n",
    "data['days_exposition'] = pd.to_numeric(data['days_exposition'])\n",
    "data['ceiling_height'] = pd.to_numeric(data['ceiling_height'])\n",
    "data['ponds_nearest'] = pd.to_numeric(data['ponds_nearest'])\n",
    "data['parks_nearest'] = pd.to_numeric(data['parks_nearest'])\n",
    "data['city_centers_nearest'] = pd.to_numeric(data['city_centers_nearest'])\n",
    "data['airports_nearest'] = pd.to_numeric(data['airports_nearest'])\n",
    "#data.info()\n",
    "\n",
    "#data.isnull().sum().sort_values()\n",
    "#data.hist(figsize=(15, 20))\n",
    "sorted(data['ceiling_height'].unique()) #100 - выброс, 20-32 - опечатка, от 5 - 14 метров выбросы \n",
    "\n",
    "data.drop(index=data.query('ceiling_height > 5 and ceiling_height < 15').index,inplace=True)\n",
    "data.update(data[(data['ceiling_height'] >= 20) & (data['ceiling_height'] <= 32)]['ceiling_height']/10)\n",
    "data.drop(index=data.query('ceiling_height > 36').index,inplace=True)\n",
    "data.drop(index=data.query('ceiling_height < 2').index,inplace=True)\n",
    "#sorted(data['ceiling_height'].unique()) \n",
    "\n",
    "#data['living_area'].hist(bins=100)\n",
    "#sorted(data['living_area'].unique())\n",
    "len(data.loc[data['living_area'] < 10])\n",
    "data.drop(index=data.query('living_area < 10').index,inplace=True) #удалим кв с жил площадью меньше 10 так как их немного\n",
    "len(data.loc[data['living_area'] > 300 ])\n",
    "data.drop(index=data.query('living_area > 300').index,inplace=True) #удалим кв с жил площадью больше 220 так как их немного\n",
    "\n",
    "data['last_price'].sort_values().head()\n",
    "data['last_price'] = data['last_price'].astype(int)\n",
    "len(data.loc[data['last_price'] < 1000000]) #цена за прадожу квартиры меньше миллиона кажется странной\n",
    "data.drop(index=data.query('last_price < 1000000').index,inplace=True)\n",
    "len(data.loc[data['last_price'] > 100000000]) #цена за прадожу квартиры больше 100 миллионов кажется странной\n",
    "data.drop(index=data.query('last_price > 100000000').index,inplace=True)\n",
    "\n",
    "\n",
    "data.query('floors_total > 40')['floors_total'].count()\n",
    "data.drop(index=data.query('floors_total > 40').index,inplace=True) #удалим две квартиры в 50 и 60 этажных домах\n",
    "data.query('floor > floors_total')['floor'].count() #проверил нет кв где этаж больше кол во этажей в доме\n",
    "\n",
    "#data['kitchen_area'].hist(bins=100)\n",
    "data['kitchen_area'].sort_values().head()\n",
    "data.query('kitchen_area > 50')['floors_total'].count()\n",
    "data.loc[data['kitchen_area'] > 50].head() #кухни с пл больше 50 кажутся аномальными\n",
    "data.drop(index=data.query('kitchen_area > 50').index,inplace=True)\n",
    "data.drop(index=data.query('kitchen_area < 2').index,inplace=True) #кухня в 1 кв м не может быть\n",
    "\n",
    "#data['days_exposition'].hist(bins=100)\n",
    "data.query('days_exposition > 365*3')['days_exposition'].count()\n",
    "data.drop(index=data.query('days_exposition > 365*3').index,inplace=True) #удалим обьявления старше 3 лет\n",
    "\n",
    "data['airports_nearest'].sort_values().tail(1000)\n",
    "data['airports_nearest'].max()\n",
    "data.query('airports_nearest > 70000')['airports_nearest'].count()\n",
    "#data['airports_nearest'].hist(bins=100)\n",
    "data.drop(index=data.query('airports_nearest < 1').index,inplace=True)\n",
    "data.drop(index=data.query('airports_nearest > 70000').index,inplace=True) #удали кв 0км от аэропорта и больше 7км так как их мало\n",
    "\n",
    "data.reset_index(drop=True,inplace=True)\n",
    "\n",
    "data['liv_area'] = (data['total_area'] - data['kitchen_area']) * 0.9\n",
    "data.loc[(data['living_area']+data['kitchen_area']) > data['total_area'], 'living_area'] =\\\n",
    "    data.loc[(data['living_area']+data['kitchen_area']) > data['total_area'], 'liv_area']\n",
    "data = data.drop('liv_area', axis=1)\n",
    "data.loc[(data['living_area']+data['kitchen_area']) > data['total_area']] \n",
    "\n",
    "data['locality_name'] = data['locality_name'].str.replace('ё', 'е')\n",
    "data['locality_name'].unique()\n",
    "data['locality_name'] = data['locality_name'].str.replace('городской поселок','поселок городского типа')\n",
    "data['locality_name'].unique()\n",
    "\n",
    "data.reset_index(drop=True,inplace=True)\n",
    "\n",
    "len(data)\n",
    "\n",
    "#100/(23699/22989) #3% #не вспомнил как это сделать \"красивше\" \n"
   ]
  },
  {
   "cell_type": "markdown",
   "metadata": {},
   "source": [
    "число дубликатов 0\n",
    "\n",
    "Пропуски в\n",
    "\n",
    "1. locality_name(название населённого пункта) (49) так как значений немного, удаляем записи, где отсутствует этажность, на всякий случай приводим всё к нижнему регистру\n",
    "#floors_total(всего этажей в доме), (86) так как значений немного, удаляем записи, где отсутствует этажность, приводим в целочисленный тип\n",
    "\n",
    "2. living_area(жилая площадь в м²),  (1903) проверил что нет максимального аномального значения, пропуски заменил на мед по rooms, там где значения получились так что сумма жилой площади и площади кухни превышает общую площадь заменил по условию того что сумма жилой и площади кухни равно 0.9 общей площади. Удалим кв с жил площадью меньше 10 так как их немного, удалим кв с жил площадью больше 220 так как их немного\n",
    "\n",
    "3. kitchen_area(площадь кухни в м²),  (2278) заполним средним, так как пропусков не так много. кухни с пл больше 50 кажутся аномальными, кухня в 1 кв м не может быть.\n",
    "\n",
    "4. days_exposition(сколько дней было размещено объявление) (3181) удалим обьявления старше 3 лет\n",
    "\n",
    "5. parks_around3000(число парков в радиусе 3 км), (5518) Заменяем пропущенные значения на 0, скорее всего в этом радиусе парки отсутствуют\n",
    "\n",
    "6. ponds_around3000(число водоёмов в радиусе 3 км), (5518) Заменяем пропущенные значения на 0, скорее всего в этом радиусе парки отсутствуют\n",
    "\n",
    "7. cityCenters_nearest(расстояние до центра города м), (5519)\n",
    "\n",
    "8. airports_nearest(расстояние до ближайшего аэропорта в м), (5542) удали кв 0км от аэропорта и больше 7км так как их мало\n",
    "\n",
    "9. ceiling_height(высота потолков (м)), (9195) почти в 2/3 обьявлений пропуски, не ясно на основе чего заменить, можно заменить медианным значением по всему но датасету, но это будет не так корректно, оставил так. Удалил выбросы: 100 - выброс, 20-32 - опечатка, от 5 - 14 метров выбросы.\n",
    "\n",
    "10. balcony(число балконов), (11519) заполним пропуски 0, скорее всего там нет балконов, переводим в тип int\n",
    "\n",
    "11. ponds_nearest(расстояние до ближайшего водоёма м), (14589) \n",
    "\n",
    "12. parks_nearest(расстояние до ближайшего парка м), (15620) \n",
    "\n",
    "13. is_apartment(апартаменты (булев тип)), (20924) Заменяем пропущенные значения на нет.Скорее всего эти обьекты не апартаменты\n",
    "\n",
    "цена за прадожу квартиры меньше миллиона кажется странной, цена за прадожу квартиры больше 100 миллионов кажется странной\n",
    "\n",
    "удалим две квартиры в 50 и 60 этажных домах, проверил нет кв где этаж больше кол во этажей в доме\n",
    "\n",
    "\n"
   ]
  },
  {
   "cell_type": "markdown",
   "metadata": {},
   "source": [
    "<div class=\"alert alert-info\">\n",
    "    \n",
    "<b> 1. Всего в датасете 23699 записей. После удаления незаполненных данных стало 22989, удалось остаться в рамках 10%. </b> \n",
    "    \n",
    "<b> 2. Изменил тип данных в столбцах на int которые несут числовое значение, в столбце first_day_exposition на datetime </b>   \n",
    "    \n",
    "<b> 3. Удалил пропуски в толбцах где мало пропусков, удалил выбросы и некорректные значения в celing_height, living_area, last_price, floors_total, kitchen_area, days_exposition, airports_nearest. </b> \n",
    "    \n",
    "<b> 4. Пропуски в living_area заменил на мед по rooms, там где значения получились так что сумма жилой площади и площади кухни превышает общую площадь заменил по условию того что сумма жилой и площади кухни равно 0.9 общей площади</b> \n",
    "    \n",
    "<b> 5. Убрал бросающиеся в глаза дубликаты в столбце с названием </b> \n",
    "</div>"
   ]
  },
  {
   "cell_type": "markdown",
   "metadata": {},
   "source": [
    "### Посчитаем и добавим в таблицу новые столбцы"
   ]
  },
  {
   "cell_type": "code",
   "execution_count": 3,
   "metadata": {},
   "outputs": [
    {
     "data": {
      "text/html": [
       "<div>\n",
       "<style scoped>\n",
       "    .dataframe tbody tr th:only-of-type {\n",
       "        vertical-align: middle;\n",
       "    }\n",
       "\n",
       "    .dataframe tbody tr th {\n",
       "        vertical-align: top;\n",
       "    }\n",
       "\n",
       "    .dataframe thead th {\n",
       "        text-align: right;\n",
       "    }\n",
       "</style>\n",
       "<table border=\"1\" class=\"dataframe\">\n",
       "  <thead>\n",
       "    <tr style=\"text-align: right;\">\n",
       "      <th></th>\n",
       "      <th>total_images</th>\n",
       "      <th>last_price</th>\n",
       "      <th>total_area</th>\n",
       "      <th>first_day_exposition</th>\n",
       "      <th>rooms</th>\n",
       "      <th>ceiling_height</th>\n",
       "      <th>floors_total</th>\n",
       "      <th>living_area</th>\n",
       "      <th>floor</th>\n",
       "      <th>is_apartment</th>\n",
       "      <th>...</th>\n",
       "      <th>parks_nearest</th>\n",
       "      <th>ponds_around3000</th>\n",
       "      <th>ponds_nearest</th>\n",
       "      <th>days_exposition</th>\n",
       "      <th>cost_per_sqm</th>\n",
       "      <th>dayofweek</th>\n",
       "      <th>month</th>\n",
       "      <th>year</th>\n",
       "      <th>floor_type</th>\n",
       "      <th>km_from_center</th>\n",
       "    </tr>\n",
       "  </thead>\n",
       "  <tbody>\n",
       "    <tr>\n",
       "      <th>0</th>\n",
       "      <td>20</td>\n",
       "      <td>13000000</td>\n",
       "      <td>108</td>\n",
       "      <td>2019-03-07</td>\n",
       "      <td>3</td>\n",
       "      <td>2.70</td>\n",
       "      <td>16</td>\n",
       "      <td>51.0</td>\n",
       "      <td>8</td>\n",
       "      <td>False</td>\n",
       "      <td>...</td>\n",
       "      <td>482.0</td>\n",
       "      <td>2</td>\n",
       "      <td>755.0</td>\n",
       "      <td>NaN</td>\n",
       "      <td>120370</td>\n",
       "      <td>3</td>\n",
       "      <td>3</td>\n",
       "      <td>2019</td>\n",
       "      <td>другой</td>\n",
       "      <td>16.0</td>\n",
       "    </tr>\n",
       "    <tr>\n",
       "      <th>1</th>\n",
       "      <td>7</td>\n",
       "      <td>3350000</td>\n",
       "      <td>40</td>\n",
       "      <td>2018-12-04</td>\n",
       "      <td>1</td>\n",
       "      <td>NaN</td>\n",
       "      <td>11</td>\n",
       "      <td>18.0</td>\n",
       "      <td>1</td>\n",
       "      <td>False</td>\n",
       "      <td>...</td>\n",
       "      <td>NaN</td>\n",
       "      <td>0</td>\n",
       "      <td>NaN</td>\n",
       "      <td>81.0</td>\n",
       "      <td>83750</td>\n",
       "      <td>1</td>\n",
       "      <td>12</td>\n",
       "      <td>2018</td>\n",
       "      <td>первый</td>\n",
       "      <td>19.0</td>\n",
       "    </tr>\n",
       "    <tr>\n",
       "      <th>2</th>\n",
       "      <td>10</td>\n",
       "      <td>5196000</td>\n",
       "      <td>56</td>\n",
       "      <td>2015-08-20</td>\n",
       "      <td>2</td>\n",
       "      <td>NaN</td>\n",
       "      <td>5</td>\n",
       "      <td>34.0</td>\n",
       "      <td>4</td>\n",
       "      <td>False</td>\n",
       "      <td>...</td>\n",
       "      <td>90.0</td>\n",
       "      <td>2</td>\n",
       "      <td>574.0</td>\n",
       "      <td>558.0</td>\n",
       "      <td>92785</td>\n",
       "      <td>3</td>\n",
       "      <td>8</td>\n",
       "      <td>2015</td>\n",
       "      <td>другой</td>\n",
       "      <td>14.0</td>\n",
       "    </tr>\n",
       "    <tr>\n",
       "      <th>3</th>\n",
       "      <td>0</td>\n",
       "      <td>64900000</td>\n",
       "      <td>159</td>\n",
       "      <td>2015-07-24</td>\n",
       "      <td>3</td>\n",
       "      <td>NaN</td>\n",
       "      <td>14</td>\n",
       "      <td>44.0</td>\n",
       "      <td>9</td>\n",
       "      <td>False</td>\n",
       "      <td>...</td>\n",
       "      <td>84.0</td>\n",
       "      <td>3</td>\n",
       "      <td>234.0</td>\n",
       "      <td>424.0</td>\n",
       "      <td>408176</td>\n",
       "      <td>4</td>\n",
       "      <td>7</td>\n",
       "      <td>2015</td>\n",
       "      <td>другой</td>\n",
       "      <td>7.0</td>\n",
       "    </tr>\n",
       "    <tr>\n",
       "      <th>4</th>\n",
       "      <td>2</td>\n",
       "      <td>10000000</td>\n",
       "      <td>100</td>\n",
       "      <td>2018-06-19</td>\n",
       "      <td>2</td>\n",
       "      <td>3.03</td>\n",
       "      <td>14</td>\n",
       "      <td>32.0</td>\n",
       "      <td>13</td>\n",
       "      <td>False</td>\n",
       "      <td>...</td>\n",
       "      <td>112.0</td>\n",
       "      <td>1</td>\n",
       "      <td>48.0</td>\n",
       "      <td>121.0</td>\n",
       "      <td>100000</td>\n",
       "      <td>1</td>\n",
       "      <td>6</td>\n",
       "      <td>2018</td>\n",
       "      <td>другой</td>\n",
       "      <td>8.0</td>\n",
       "    </tr>\n",
       "  </tbody>\n",
       "</table>\n",
       "<p>5 rows × 28 columns</p>\n",
       "</div>"
      ],
      "text/plain": [
       "   total_images  last_price  total_area first_day_exposition  rooms  \\\n",
       "0            20    13000000         108           2019-03-07      3   \n",
       "1             7     3350000          40           2018-12-04      1   \n",
       "2            10     5196000          56           2015-08-20      2   \n",
       "3             0    64900000         159           2015-07-24      3   \n",
       "4             2    10000000         100           2018-06-19      2   \n",
       "\n",
       "   ceiling_height  floors_total  living_area  floor  is_apartment  ...  \\\n",
       "0            2.70            16         51.0      8         False  ...   \n",
       "1             NaN            11         18.0      1         False  ...   \n",
       "2             NaN             5         34.0      4         False  ...   \n",
       "3             NaN            14         44.0      9         False  ...   \n",
       "4            3.03            14         32.0     13         False  ...   \n",
       "\n",
       "   parks_nearest  ponds_around3000  ponds_nearest  days_exposition  \\\n",
       "0          482.0                 2          755.0              NaN   \n",
       "1            NaN                 0            NaN             81.0   \n",
       "2           90.0                 2          574.0            558.0   \n",
       "3           84.0                 3          234.0            424.0   \n",
       "4          112.0                 1           48.0            121.0   \n",
       "\n",
       "  cost_per_sqm  dayofweek  month  year  floor_type  km_from_center  \n",
       "0       120370          3      3  2019      другой            16.0  \n",
       "1        83750          1     12  2018      первый            19.0  \n",
       "2        92785          3      8  2015      другой            14.0  \n",
       "3       408176          4      7  2015      другой             7.0  \n",
       "4       100000          1      6  2018      другой             8.0  \n",
       "\n",
       "[5 rows x 28 columns]"
      ]
     },
     "execution_count": 3,
     "metadata": {},
     "output_type": "execute_result"
    }
   ],
   "source": [
    "data['cost_per_sqm'] = data['last_price'] / data['total_area'] #цена одного квадратного метра\n",
    "data['cost_per_sqm'] = data['cost_per_sqm'].astype(int)\n",
    "data['dayofweek'] = data['first_day_exposition'].dt.weekday #день недели публикации объявления\n",
    "data['month'] = data['first_day_exposition'].dt.month #месяц публикации объявления\n",
    "data['year'] = data['first_day_exposition'].dt.year #год публикации объявления\n",
    "\n",
    "def floor_type(row):\n",
    "    if row['floor'] == 1:\n",
    "        return 'первый'\n",
    "    if row['floor'] == row['floors_total']:\n",
    "        return 'последний'\n",
    "    else:\n",
    "        return 'другой'  \n",
    "data['floor_type'] = data.apply(floor_type, axis=1) #тип этажа квартиры\n",
    "\n",
    "data['km_from_center'] = (data['city_centers_nearest']/1000).round() #расстояние до центра города в километрах\n",
    "\n",
    "data.head()\n"
   ]
  },
  {
   "cell_type": "markdown",
   "metadata": {},
   "source": [
    "### Проведем исследовательский анализ данных"
   ]
  },
  {
   "cell_type": "code",
   "execution_count": 4,
   "metadata": {
    "scrolled": false
   },
   "outputs": [
    {
     "data": {
      "image/png": "[encoded data removed]",
      "text/plain": [
       "<Figure size 1080x360 with 1 Axes>"
      ]
     },
     "metadata": {
      "needs_background": "light"
     },
     "output_type": "display_data"
    },
    {
     "data": {
      "image/png": "[encoded data removed]",
      "text/plain": [
       "<Figure size 432x288 with 1 Axes>"
      ]
     },
     "metadata": {
      "needs_background": "light"
     },
     "output_type": "display_data"
    },
    {
     "data": {
      "image/png": "[encoded data removed]",
      "text/plain": [
       "<Figure size 1080x360 with 1 Axes>"
      ]
     },
     "metadata": {
      "needs_background": "light"
     },
     "output_type": "display_data"
    },
    {
     "data": {
      "image/png": "[encoded data removed]",
      "text/plain": [
       "<Figure size 432x288 with 1 Axes>"
      ]
     },
     "metadata": {
      "needs_background": "light"
     },
     "output_type": "display_data"
    },
    {
     "data": {
      "image/png": "[encoded data removed]",
      "text/plain": [
       "<Figure size 1080x360 with 1 Axes>"
      ]
     },
     "metadata": {
      "needs_background": "light"
     },
     "output_type": "display_data"
    },
    {
     "data": {
      "image/png": "[encoded data removed]",
      "text/plain": [
       "<Figure size 432x288 with 1 Axes>"
      ]
     },
     "metadata": {
      "needs_background": "light"
     },
     "output_type": "display_data"
    },
    {
     "data": {
      "image/png": "[encoded data removed]",
      "text/plain": [
       "<Figure size 1080x360 with 1 Axes>"
      ]
     },
     "metadata": {
      "needs_background": "light"
     },
     "output_type": "display_data"
    },
    {
     "data": {
      "image/png": "[encoded data removed]",
      "text/plain": [
       "<Figure size 1080x360 with 1 Axes>"
      ]
     },
     "metadata": {
      "needs_background": "light"
     },
     "output_type": "display_data"
    },
    {
     "data": {
      "image/png": "[encoded data removed]",
      "text/plain": [
       "<Figure size 1080x360 with 1 Axes>"
      ]
     },
     "metadata": {
      "needs_background": "light"
     },
     "output_type": "display_data"
    },
    {
     "data": {
      "image/png": "[encoded data removed]",
      "text/plain": [
       "<Figure size 1080x360 with 1 Axes>"
      ]
     },
     "metadata": {
      "needs_background": "light"
     },
     "output_type": "display_data"
    },
    {
     "data": {
      "image/png": "[encoded data removed]",
      "text/plain": [
       "<Figure size 432x288 with 1 Axes>"
      ]
     },
     "metadata": {},
     "output_type": "display_data"
    },
    {
     "data": {
      "image/png": "[encoded data removed]",
      "text/plain": [
       "<Figure size 720x360 with 1 Axes>"
      ]
     },
     "metadata": {
      "needs_background": "light"
     },
     "output_type": "display_data"
    },
    {
     "data": {
      "image/png": "[encoded data removed]",
      "text/plain": [
       "<Figure size 1080x360 with 1 Axes>"
      ]
     },
     "metadata": {
      "needs_background": "light"
     },
     "output_type": "display_data"
    },
    {
     "data": {
      "image/png": "[encoded data removed]",
      "text/plain": [
       "<Figure size 1080x360 with 1 Axes>"
      ]
     },
     "metadata": {
      "needs_background": "light"
     },
     "output_type": "display_data"
    },
    {
     "data": {
      "image/png": "[encoded data removed]",
      "text/plain": [
       "<Figure size 1080x360 with 1 Axes>"
      ]
     },
     "metadata": {
      "needs_background": "light"
     },
     "output_type": "display_data"
    },
    {
     "data": {
      "image/png": "[encoded data removed]",
      "text/plain": [
       "<Figure size 432x288 with 1 Axes>"
      ]
     },
     "metadata": {
      "needs_background": "light"
     },
     "output_type": "display_data"
    },
    {
     "data": {
      "image/png": "[encoded data removed]",
      "text/plain": [
       "<Figure size 432x288 with 1 Axes>"
      ]
     },
     "metadata": {
      "needs_background": "light"
     },
     "output_type": "display_data"
    },
    {
     "data": {
      "image/png": "[encoded data removed]",
      "text/plain": [
       "<Figure size 1080x360 with 1 Axes>"
      ]
     },
     "metadata": {
      "needs_background": "light"
     },
     "output_type": "display_data"
    },
    {
     "data": {
      "image/png": "[encoded data removed]",
      "text/plain": [
       "<Figure size 432x288 with 1 Axes>"
      ]
     },
     "metadata": {
      "needs_background": "light"
     },
     "output_type": "display_data"
    },
    {
     "data": {
      "image/png": "[encoded data removed]",
      "text/plain": [
       "<Figure size 360x360 with 1 Axes>"
      ]
     },
     "metadata": {
      "needs_background": "light"
     },
     "output_type": "display_data"
    },
    {
     "name": "stdout",
     "output_type": "stream",
     "text": [
      "Корреляция цены и площади: \n",
      "\n",
      "            last_price  total_area\n",
      "last_price    1.000000    0.879591\n",
      "total_area    0.879591    1.000000 \n",
      "\n"
     ]
    },
    {
     "data": {
      "image/png": "[encoded data removed]",
      "text/plain": [
       "<Figure size 360x360 with 1 Axes>"
      ]
     },
     "metadata": {
      "needs_background": "light"
     },
     "output_type": "display_data"
    },
    {
     "name": "stdout",
     "output_type": "stream",
     "text": [
      "Корреляция цены и жилой площади: \n",
      "\n",
      "             last_price  living_area\n",
      "last_price     1.000000     0.749591\n",
      "living_area    0.749591     1.000000 \n",
      "\n"
     ]
    },
    {
     "data": {
      "image/png": "[encoded data removed]",
      "text/plain": [
       "<Figure size 360x360 with 1 Axes>"
      ]
     },
     "metadata": {
      "needs_background": "light"
     },
     "output_type": "display_data"
    },
    {
     "name": "stdout",
     "output_type": "stream",
     "text": [
      "Корреляция цены и площади кухни: \n",
      "\n",
      "              kitchen_area  last_price\n",
      "kitchen_area      1.000000    0.348119\n",
      "last_price        0.348119    1.000000 \n",
      "\n"
     ]
    },
    {
     "data": {
      "image/png": "[encoded data removed]",
      "text/plain": [
       "<Figure size 360x360 with 1 Axes>"
      ]
     },
     "metadata": {
      "needs_background": "light"
     },
     "output_type": "display_data"
    },
    {
     "name": "stdout",
     "output_type": "stream",
     "text": [
      "Корреляция цены и числа комнат: \n",
      "\n",
      "            last_price     rooms\n",
      "last_price    1.000000  0.591586\n",
      "rooms         0.591586  1.000000 \n",
      "\n"
     ]
    },
    {
     "data": {
      "image/png": "[encoded data removed]",
      "text/plain": [
       "<Figure size 360x360 with 1 Axes>"
      ]
     },
     "metadata": {
      "needs_background": "light"
     },
     "output_type": "display_data"
    },
    {
     "data": {
      "image/png": "[encoded data removed]",
      "text/plain": [
       "<Figure size 360x360 with 1 Axes>"
      ]
     },
     "metadata": {
      "needs_background": "light"
     },
     "output_type": "display_data"
    },
    {
     "data": {
      "image/png": "[encoded data removed]",
      "text/plain": [
       "<Figure size 360x360 with 1 Axes>"
      ]
     },
     "metadata": {
      "needs_background": "light"
     },
     "output_type": "display_data"
    },
    {
     "data": {
      "image/png": "[encoded data removed]",
      "text/plain": [
       "<Figure size 360x360 with 1 Axes>"
      ]
     },
     "metadata": {
      "needs_background": "light"
     },
     "output_type": "display_data"
    },
    {
     "data": {
      "image/png": "[encoded data removed]",
      "text/plain": [
       "<Figure size 432x288 with 1 Axes>"
      ]
     },
     "metadata": {
      "needs_background": "light"
     },
     "output_type": "display_data"
    },
    {
     "data": {
      "text/html": [
       "<div>\n",
       "<style scoped>\n",
       "    .dataframe tbody tr th:only-of-type {\n",
       "        vertical-align: middle;\n",
       "    }\n",
       "\n",
       "    .dataframe tbody tr th {\n",
       "        vertical-align: top;\n",
       "    }\n",
       "\n",
       "    .dataframe thead th {\n",
       "        text-align: right;\n",
       "    }\n",
       "</style>\n",
       "<table border=\"1\" class=\"dataframe\">\n",
       "  <thead>\n",
       "    <tr style=\"text-align: right;\">\n",
       "      <th></th>\n",
       "      <th>cost_per_sqm</th>\n",
       "    </tr>\n",
       "    <tr>\n",
       "      <th>locality_name</th>\n",
       "      <th></th>\n",
       "    </tr>\n",
       "  </thead>\n",
       "  <tbody>\n",
       "    <tr>\n",
       "      <th>санкт-петербург</th>\n",
       "      <td>113706</td>\n",
       "    </tr>\n",
       "    <tr>\n",
       "      <th>пушкин</th>\n",
       "      <td>103431</td>\n",
       "    </tr>\n",
       "    <tr>\n",
       "      <th>деревня кудрово</th>\n",
       "      <td>92984</td>\n",
       "    </tr>\n",
       "    <tr>\n",
       "      <th>поселок парголово</th>\n",
       "      <td>90598</td>\n",
       "    </tr>\n",
       "    <tr>\n",
       "      <th>поселок мурино</th>\n",
       "      <td>86287</td>\n",
       "    </tr>\n",
       "    <tr>\n",
       "      <th>поселок шушары</th>\n",
       "      <td>78927</td>\n",
       "    </tr>\n",
       "    <tr>\n",
       "      <th>колпино</th>\n",
       "      <td>75712</td>\n",
       "    </tr>\n",
       "    <tr>\n",
       "      <th>гатчина</th>\n",
       "      <td>69235</td>\n",
       "    </tr>\n",
       "    <tr>\n",
       "      <th>всеволожск</th>\n",
       "      <td>69066</td>\n",
       "    </tr>\n",
       "    <tr>\n",
       "      <th>выборг</th>\n",
       "      <td>58839</td>\n",
       "    </tr>\n",
       "  </tbody>\n",
       "</table>\n",
       "</div>"
      ],
      "text/plain": [
       "                   cost_per_sqm\n",
       "locality_name                  \n",
       "санкт-петербург          113706\n",
       "пушкин                   103431\n",
       "деревня кудрово           92984\n",
       "поселок парголово         90598\n",
       "поселок мурино            86287\n",
       "поселок шушары            78927\n",
       "колпино                   75712\n",
       "гатчина                   69235\n",
       "всеволожск                69066\n",
       "выборг                    58839"
      ]
     },
     "execution_count": 4,
     "metadata": {},
     "output_type": "execute_result"
    }
   ],
   "source": [
    "#общая площадь!\n",
    "data['total_area'].describe()\n",
    "data.hist('total_area', bins=100, ec='black', figsize=(15,5)) \n",
    "plt.title('Распределение площадей всех квартир')\n",
    "plt.show()# Выведем общие данные по общей площади квартир, Построим гистограмму распределения площадей\n",
    "\n",
    "plt.title('Диаграмма размаха площади квартиры')\n",
    "data.boxplot(column=['total_area'], figsize=(10,5), grid=True) #Построим диаграмму размаха, видим что много выбросов находится в правом \"усе\"\n",
    "#Общая площадь в нашей выборке колеблется от 12 до 494 м2, среднее значение 60, а медиана 52 м2. \n",
    "#Минимальное значение - 12 м2, скорее всего комната в коммуналке, а макс - 494 м2\n",
    "\n",
    "#жилая площадь!\n",
    "data['living_area'].describe()\n",
    "data.hist('living_area', bins=100, ec='black', figsize=(15,5)) \n",
    "plt.title('Распределение по жилой площади')\n",
    "plt.show() #общие данные по жилой площади квартир\n",
    "\n",
    "plt.title('Диаграмма размаха жилой площади')\n",
    "data.boxplot(column=['living_area'], figsize=(10,5), grid=True) #Построим диаграмму размаха, видим что много выбросов находится в правом \"усе\"\n",
    "plt.ylabel('Жилая площадь в метрах')\n",
    "plt.show()\n",
    "#жилая площадь колеблется от 10 до 274 м2, среднее значение 34, а медиана 30 м2. \n",
    "data['living_area'].describe()\n",
    "\n",
    "#data.hist('living_area', bins=90, ec='black', range =(25, 40), figsize=(15,5))\n",
    "#plt.title('Распределение по жилой площади')\n",
    "#plt.show()\n",
    "#Графики почти аналогичны с общей площадью, но есть выбросы с 10-24 м и с 25 до 33 м \n",
    "\n",
    "#площадь кухни!\n",
    "data['kitchen_area'].describe()\n",
    "#Площадь кухни колеблется от 2 до 50 м, среднее значение 10, а медиана 9 м2.\n",
    "data.hist('kitchen_area', bins=100, ec='black', figsize=(15,5)) \n",
    "plt.title('Распределение по кухонной площади')\n",
    "plt.show() #распределение является нормальным\n",
    "\n",
    "plt.title('Диаграмма размаха площади кухни')\n",
    "data.boxplot(column=['kitchen_area'], figsize=(10,5), grid=True)\n",
    "plt.ylabel('Кухонная площадь')\n",
    "plt.show() #много выбросов находится в правом \"усе\"\n",
    "\n",
    "#цена объекта!\n",
    "(data['last_price']/100000).describe()\n",
    "#цена колеблется от 1млн до 99 млн м, среднее значение 6 млн, а медиана 5 млн.\n",
    "data.hist('last_price', bins=100, ec='black', figsize=(15, 5))\n",
    "plt.title('Распределение цены')\n",
    "plt.show() #похоже на распределение пуссона\n",
    "\n",
    "#количество комнат!\n",
    "data['rooms'].describe()\n",
    "#кол-во комнат находится в диапозоне от 0 до 19, среднее значение 2, а медиана 2. 0 комнат это студии\n",
    "data.hist('rooms', bins=19, ec='black', figsize=(15,5)) # гистограмма по всем объектам\n",
    "plt.title('Распределение количества комнат всех квартир')\n",
    "plt.show() #больше всего кв с 1-3 комнатами\n",
    "\n",
    "#высота потолков!\n",
    "data['ceiling_height'].describe()\n",
    "#высота потолков находится в диапозоне от 2 до 5, среднее значение 2.7, а медиана 2.6.\n",
    "data.hist('ceiling_height', bins=100, ec='black', figsize=(15, 5))\n",
    "plt.title('Распределение высоты потолков')\n",
    "plt.show() #есть несколько самых частых значений высоты потолка\n",
    "\n",
    "#этаж квартиры!\n",
    "data['floor'].describe()\n",
    "#Этаж находится в диапозоне от 1 до 33, среднее значение 6, а медиана 4.\n",
    "data.hist('floor', bins=100, ec='black', figsize=(15, 5))\n",
    "plt.title('Распределение этажности')\n",
    "plt.show() #чаще всего квартира находится с 1 по 5 этаж\n",
    "\n",
    "#тип этажа квартиры!\n",
    "data['floor_type'].describe() #самая многочисленная категория \"другой\"\n",
    "data.groupby(['floor_type']).sum().plot(kind='pie', autopct='%1.0f%%', y='last_price');\n",
    "#76% квартир располагаются не на первых и последних этажах. Стоимость квартиры на последних этажах выше\n",
    "\n",
    "#общее количество этажей в доме!\n",
    "data['floors_total'].describe()\n",
    "data.hist('floors_total', bins=100, ec='black', figsize=(10, 5))\n",
    "plt.title('Распределение этажности')\n",
    "plt.xlabel('Количество этажей')\n",
    "plt.ylabel('Количество предложений')\n",
    "plt.show() #Всего этаже в здании от 1 до 36, 1 это скорее всего частный дом, среднее значение 11, а медиана 9.\n",
    "#Больше всего зданий с 5 этажами, скорее всего из за старой постройки \n",
    "\n",
    "#расстояние до центра города в метрах!\n",
    "data['km_from_center'].describe() #Кв находятся в диапазоне от 0 до 61 км, 0 это кв в центре, среднее 14, медиана 13\n",
    "data.hist('km_from_center', bins=100, ec='black', figsize=(15, 5))\n",
    "plt.title('Распределение расстояние до центра города')\n",
    "plt.show() #больше всего квартир в радиусе от центра 10-16 км\n",
    "\n",
    "#расстояние до ближайшего аэропорта!\n",
    "(data['airports_nearest']/1000).round().describe() #переведм в км\n",
    "#Расстояние квартир от аэропорта лежит в диапазоне от 6 до 70 км, среднее 29 км, медиана 27\n",
    "data.hist('airports_nearest', bins=100, ec='black', figsize=(15, 5))\n",
    "plt.title('Расстояния до ближайшего аэропорта')\n",
    "plt.show() #большая часть квартир находится в от 10 до 55 км от аэропорта\n",
    "\n",
    "#расстояние до ближайшего парка!\n",
    "data['parks_nearest'].describe() #расстояние до парка от 1м до 3км, среднее 490, медиана 456\n",
    "data.hist('parks_nearest', bins=100, ec='black', figsize=(15, 5))\n",
    "plt.title('Расстояния до ближайшего парка')\n",
    "plt.xlabel('Расстояние в метрах')\n",
    "plt.ylabel('Количество предложений') #большая часть квартир лежит в диапазоне от 1м до 1км\n",
    "\n",
    "#день и месяц публикации объявления!\n",
    "data['dayofweek'].describe() \n",
    "data.hist(column='dayofweek', bins=25, ec='black')\n",
    "plt.title('Распределение публикаций объявлений по дням недели')\n",
    "plt.show() #Чаще всего обьявления публикуют в будние дни в четверг и вторник\n",
    "data['month'].describe()\n",
    "data.hist(column='month', bins=30, ec='black')\n",
    "plt.title('Распределение публикаций объявлений по месяцам')\n",
    "plt.show() #Видимо есть определенные периоды публикации сентябрь-декабрь, февраль-август\n",
    "\n",
    "\n",
    "#Как быстро продавались квартиры\n",
    "data['days_exposition'].describe() #значения распределены от 1 до 1095, в среднем 172, медиана 93\n",
    "data.hist('days_exposition', bins=100, ec='black', figsize=(15, 5))\n",
    "plt.title('Распределение по периоду продажи квартир')\n",
    "plt.show() #Можно увидеть что квартиры продаются от 1-40 дней, дальше обьявления если не продаются то остаются висеть на более долгий срок\n",
    "\n",
    "\n",
    "plt.title('Диаграмма размаха продажи квартиры')\n",
    "plt.ylabel('Колл-во дней в продаже')\n",
    "data.boxplot(column=['days_exposition'], figsize=(10,5), grid=True)\n",
    "\n",
    "#Какие факторы больше всего влияют на общую (полную) стоимость объекта?\n",
    "# Зависимость цены от площади\n",
    "data.pivot_table(index='total_area', values='last_price').plot(grid=True, style='o', figsize=(5, 5))\n",
    "plt.show()\n",
    "print('Корреляция цены и площади:','\\n')\n",
    "print(data.pivot_table(index='floor', values=['total_area', 'last_price']).corr(),'\\n') #0.879591\n",
    "\n",
    "# Зависимость цены от жилой площади\n",
    "data.pivot_table(index='living_area', values='last_price').plot(grid=True, style='o', figsize=(5, 5))\n",
    "plt.show()\n",
    "print('Корреляция цены и жилой площади:','\\n')\n",
    "print(data.pivot_table(index='floor', values=['living_area', 'last_price']).corr(),'\\n') #0.748381 \n",
    "\n",
    "# Зависимость цены от площади кухни\n",
    "data.pivot_table(index='kitchen_area', values='last_price').plot(grid=True, style='o', figsize=(5, 5))\n",
    "plt.show()\n",
    "print('Корреляция цены и площади кухни:','\\n')\n",
    "print(data.pivot_table(index='floor', values=['kitchen_area', 'last_price']).corr(),'\\n') #0.348119\n",
    "\n",
    "# Зависимость цены от числа комнат\n",
    "data.query('rooms > 0').pivot_table(index='rooms', values='last_price').plot(grid=True, style='o-', figsize=(5, 5))\n",
    "plt.show()\n",
    "print('Корреляция цены и числа комнат:','\\n')\n",
    "print(data.query('rooms > 0').pivot_table(index='floor', values=['rooms', 'last_price']).corr(),'\\n') #0.591586\n",
    "\n",
    "# Зависимость цены от этажа\n",
    "data.pivot_table(index='floor_type', values='last_price', aggfunc='median').plot(grid=True, style='o-', figsize=(5, 5))\n",
    "plt.show()\n",
    "\n",
    "# Зависимость от день недели, месяц, год.\n",
    "data.pivot_table(index='dayofweek', values='last_price').plot(grid=True, style='o-', figsize=(5, 5))\n",
    "plt.show()\n",
    "data.pivot_table(index='month', values='last_price').plot(grid=True, style='o-', figsize=(5, 5))\n",
    "plt.show()\n",
    "data.pivot_table(index='year', values='last_price').plot(grid=True, style='o-', figsize=(5, 5))\n",
    "plt.show()\n",
    "\n",
    "#Средняя цена одного квадратного метра в 10 населённых пунктах с наибольшим числом объявлений\n",
    "#city_top = (data.pivot_table(index='locality_name', aggfunc={'cost_per_sqm':'mean'})\n",
    "         #.sort_values(by='cost_per_sqm', ascending=False)).head(10)\n",
    "#city_top\n",
    "\n",
    "#Средняя цена каждого километра в Санкт-петербурге, как стоимость объектов зависит от расстояния до центра города.\n",
    "data[data['locality_name']=='санкт-петербург'].pivot_table(index='km_from_center', values='last_price', aggfunc='mean').plot(kind='bar')\n",
    "plt.title('Распределение стоимости до центра СПб')\n",
    "plt.show() #С большим отрывом лидирует недвижимость до 1км.\n",
    "#Видим более низкие цены на расстоянии от 1 км. до 7 км.\n",
    "#Далее цена спадает на расстоянии от 8 км. до 27 км.\n",
    "#Видим пик на 27км, возможно это недвижимость в элитном районе.\n",
    "\n",
    "\n",
    "city_ten = data['locality_name'].value_counts().head(10)\n",
    "city_ten\n",
    "city_top = data.query('locality_name in (@city_ten.index)').pivot_table(values='cost_per_sqm', index='locality_name', aggfunc='mean')\n",
    "city_top = city_top.astype(int)\n",
    "city_top.sort_values('cost_per_sqm', ascending=False)\n",
    "\n"
   ]
  },
  {
   "cell_type": "markdown",
   "metadata": {},
   "source": [
    "<div class=\"alert alert-info\">\n",
    "    \n",
    "<b> 1. Общая площадь: Построили диаграмму размаха, видим что много выбросов находится от правого \"уса\". Общая площадь в нашей выборке колеблется от 12 до 494 м2, среднее значение 60, а медиана 52 м2. Минимальное значение - 12 м2, скорее всего комната в коммуналке, а макс - 494 м2. </b> \n",
    "    \n",
    "<b> 2. Жилая площадь: Построили диаграмму размаха, видим что много выбросов находится от правого \"уса\". Жилая площадь колеблется от 10 до 274 м2, среднее значение 34, а медиана 30 м2. Графики почти аналогичны с общей площадью, но есть выбросы с 10-24 м и с 25 до 33 м </b>   \n",
    "    \n",
    "<b> 3. Площадь кухни колеблется от 2 до 50 м, среднее значение 10, а медиана 9 м2. Распределение является нормальным </b> \n",
    "    \n",
    "<b> 4. Цена объекта: Цена колеблется от 1млн до 99 млн м, среднее значение 6 млн, а медиана 5 млн.</b> \n",
    "    \n",
    "<b> 5. кол-во комнат находится в диапозоне от 0 до 19, среднее значение 2, а медиана 2. 0 комнат это студии. Больше всего кв с 1-3 комнатами </b> \n",
    "    \n",
    "<b> 6. высота потолков находится в диапозоне от 2 до 5, среднее значение 2.7, а медиана 2.6. Есть несколько самых частых значений высоты потолка </b> \n",
    "    \n",
    "<b> 8. Тип этажа квартиры: 76% квартир располагаются не на первых и последних этажах. Стоимость квартиры на последних этажах выше </b> \n",
    "    \n",
    "<b> 9. общее количество этажей в доме: Всего этаже в здании от 1 до 36, 1 это скорее всего частный дом, среднее значение 11, а медиана Больше всего зданий с 5 этажами, скорее всего из за старой постройки  </b>\n",
    "    \n",
    "<b> 10. Расстояние до центра города: Больше всего квартир в радиусе от центра 10-16 км </b>\n",
    "    \n",
    "<b> 11. Расстояние до ближайшего аэропорта: Расстояние квартир от аэропорта лежит в диапазоне от 6 до 70 км, среднее 29 км, медиана 27. Большая часть квартир находится в от 10 до 55 км от аэропорта </b>\n",
    "    \n",
    "<b> 12. расстояние до ближайшего парка: Расстояние до парка от 1м до 3км, среднее 490, медиана 456. Большая часть квартир лежит в диапазоне от 1м до 1км </b>\n",
    "    \n",
    "<b> 13. Чаще всего обьявления публикуют в будние дни в четверг и вторник. Видимо есть определенные периоды публикации сентябрь-декабрь, февраль-август </b>\n",
    "    \n",
    "<b> 14. Судя по диаграмме размаха видим что продажи дольше 450 дней можно считать аномально долгими, хотя и 450 дней это довольно долго, год и три месяца. По 3ему квартилю мы видим что 75% всех продаж происходит до 230 дней, поэтому долгими можно считать продажи 230 дней и дольше. Быстрыми можно считать продажи в первом квартиле (25%) это 45 дней и меньше.</b>\n",
    "    \n",
    "<b> 15. Из изученных факторов больше всего вляет на общую (полную) стоимость объекта общая площадь обьекта. </b>\n",
    "    \n",
    "<b> 16. В топ 10 городов по стоимости квадратного метра: \n",
    "C самой высокой средней стоимостью кв м(санкт-петербург, пушкин, деревня кудрово, поселок парголово, поселок мурино)\n",
    "C самой низкой средней стоимостью кв м(поселок шушары, колпино, гатчина, всеволожск, выборг)\t </b>\n",
    "</div>"
   ]
  },
  {
   "cell_type": "markdown",
   "metadata": {},
   "source": [
    "### Общий вывод"
   ]
  },
  {
   "cell_type": "markdown",
   "metadata": {},
   "source": [
    "1. Определил и заполнил пропущенные значения там, где это возможно, рассмотрел уникальные значения и убрал дубликаты.\n",
    "2. Добавьте новые столбцы: цена одного квадратного метра; день недели публикации объявления; месяц публикации объявления; год публикации объявления; тип этажа квартиры; расстояние до центра города в километрах.\n",
    "3. Продажи дольше 450 дней можно считать аномально долгими. Долгими можно считать 75% продаж 230 дней и дольше. Быстрыми можно считать 25% продаж это 45 дней и меньше. \n",
    "4. Из изученных факторов больше всего вляет на общую (полную) стоимость объекта общая площадь обьекта\n",
    "5. В топ 10 городов по стоимости квадратного метра: \n",
    "C самой высокой средней стоимостью кв м(санкт-петербург, пушкин, деревня кудрово, поселок парголово, поселок мурино)\n",
    "C самой низкой средней стоимостью кв м(поселок шушары, колпино, гатчина, всеволожск, выборг)\n",
    "6. Средняя цена каждого километра в Санкт-петербурге до центра города распределяется как - с большим отрывом лидирует недвижимость до 1км. Видим более низкие цены на расстоянии от 1 км. до 7 км. Далее цена спадает на расстоянии от 8 км. до 27 км. Видим пик на 27км, возможно это недвижимость в элитном районе.\n"
   ]
  }
 ],
 "metadata": {
  "ExecuteTimeLog": [
   {
    "duration": 527,
    "start_time": "2023-02-16T09:21:20.557Z"
   },
   {
    "duration": 85,
    "start_time": "2023-02-16T09:21:30.828Z"
   },
   {
    "duration": 103,
    "start_time": "2023-02-16T09:22:03.958Z"
   },
   {
    "duration": 85,
    "start_time": "2023-02-16T09:23:38.599Z"
   },
   {
    "duration": 162,
    "start_time": "2023-02-16T09:24:05.631Z"
   },
   {
    "duration": 903,
    "start_time": "2023-02-16T09:24:49.083Z"
   },
   {
    "duration": 668,
    "start_time": "2023-02-16T09:25:06.523Z"
   },
   {
    "duration": 63,
    "start_time": "2023-02-16T09:26:04.668Z"
   },
   {
    "duration": 31,
    "start_time": "2023-02-16T09:26:13.130Z"
   },
   {
    "duration": 30,
    "start_time": "2023-02-16T09:28:30.876Z"
   },
   {
    "duration": 66,
    "start_time": "2023-02-16T09:28:42.338Z"
   },
   {
    "duration": 20,
    "start_time": "2023-02-16T09:29:20.451Z"
   },
   {
    "duration": 18,
    "start_time": "2023-02-16T09:45:41.274Z"
   },
   {
    "duration": 19,
    "start_time": "2023-02-16T10:13:35.561Z"
   },
   {
    "duration": 94,
    "start_time": "2023-02-16T10:14:21.832Z"
   },
   {
    "duration": 71,
    "start_time": "2023-02-16T10:14:33.132Z"
   },
   {
    "duration": 80,
    "start_time": "2023-02-16T10:14:51.757Z"
   },
   {
    "duration": 74,
    "start_time": "2023-02-16T10:14:56.831Z"
   },
   {
    "duration": 21,
    "start_time": "2023-02-16T10:15:29.194Z"
   },
   {
    "duration": 18,
    "start_time": "2023-02-16T10:24:30.741Z"
   },
   {
    "duration": 21,
    "start_time": "2023-02-16T10:34:01.879Z"
   },
   {
    "duration": 28,
    "start_time": "2023-02-16T11:17:44.166Z"
   },
   {
    "duration": 29,
    "start_time": "2023-02-16T11:17:53.535Z"
   },
   {
    "duration": 36,
    "start_time": "2023-02-16T11:18:04.261Z"
   },
   {
    "duration": 20,
    "start_time": "2023-02-16T11:18:41.891Z"
   },
   {
    "duration": 1833,
    "start_time": "2023-02-17T15:17:34.903Z"
   },
   {
    "duration": 25,
    "start_time": "2023-02-17T15:18:51.379Z"
   },
   {
    "duration": 23,
    "start_time": "2023-02-17T15:19:00.039Z"
   },
   {
    "duration": 20,
    "start_time": "2023-02-17T15:19:28.108Z"
   },
   {
    "duration": 19,
    "start_time": "2023-02-17T15:20:25.860Z"
   },
   {
    "duration": 40,
    "start_time": "2023-02-17T15:20:30.200Z"
   },
   {
    "duration": 47,
    "start_time": "2023-02-20T07:39:13.775Z"
   },
   {
    "duration": 1824,
    "start_time": "2023-02-20T07:39:21.060Z"
   },
   {
    "duration": 511,
    "start_time": "2023-02-20T07:39:22.887Z"
   },
   {
    "duration": 27,
    "start_time": "2023-02-20T07:39:50.587Z"
   },
   {
    "duration": 383,
    "start_time": "2023-02-20T07:41:34.171Z"
   },
   {
    "duration": 27,
    "start_time": "2023-02-20T07:41:43.556Z"
   },
   {
    "duration": 109,
    "start_time": "2023-02-20T07:43:06.129Z"
   },
   {
    "duration": 32,
    "start_time": "2023-02-20T07:43:25.783Z"
   },
   {
    "duration": 29,
    "start_time": "2023-02-20T07:44:11.163Z"
   },
   {
    "duration": 31,
    "start_time": "2023-02-20T07:44:27.672Z"
   },
   {
    "duration": 49,
    "start_time": "2023-02-20T07:44:46.015Z"
   },
   {
    "duration": 83,
    "start_time": "2023-02-20T07:47:51.912Z"
   },
   {
    "duration": 106,
    "start_time": "2023-02-20T07:48:14.872Z"
   },
   {
    "duration": 472,
    "start_time": "2023-02-20T07:48:28.292Z"
   },
   {
    "duration": 1078,
    "start_time": "2023-02-20T07:49:11.600Z"
   },
   {
    "duration": 84,
    "start_time": "2023-02-20T07:49:24.962Z"
   },
   {
    "duration": 498,
    "start_time": "2023-02-20T07:49:53.624Z"
   },
   {
    "duration": 66,
    "start_time": "2023-02-20T07:50:10.700Z"
   },
   {
    "duration": 66,
    "start_time": "2023-02-20T07:53:20.700Z"
   },
   {
    "duration": 67,
    "start_time": "2023-02-20T07:53:37.524Z"
   },
   {
    "duration": 77,
    "start_time": "2023-02-20T07:53:52.285Z"
   },
   {
    "duration": 94,
    "start_time": "2023-02-20T07:53:55.893Z"
   },
   {
    "duration": 55,
    "start_time": "2023-02-20T07:54:00.860Z"
   },
   {
    "duration": 455,
    "start_time": "2023-02-20T07:54:18.764Z"
   },
   {
    "duration": 66,
    "start_time": "2023-02-20T07:56:15.733Z"
   },
   {
    "duration": 446,
    "start_time": "2023-02-20T07:56:31.217Z"
   },
   {
    "duration": 72,
    "start_time": "2023-02-20T07:57:06.456Z"
   },
   {
    "duration": 484,
    "start_time": "2023-02-20T07:57:10.064Z"
   },
   {
    "duration": 94,
    "start_time": "2023-02-20T07:58:48.148Z"
   },
   {
    "duration": 60,
    "start_time": "2023-02-20T08:01:41.808Z"
   },
   {
    "duration": 86,
    "start_time": "2023-02-20T08:01:51.201Z"
   },
   {
    "duration": 44,
    "start_time": "2023-02-20T08:02:06.062Z"
   },
   {
    "duration": 47,
    "start_time": "2023-02-20T08:02:34.460Z"
   },
   {
    "duration": 119,
    "start_time": "2023-02-20T08:02:38.460Z"
   },
   {
    "duration": 54,
    "start_time": "2023-02-20T08:02:41.960Z"
   },
   {
    "duration": 66,
    "start_time": "2023-02-20T08:02:46.093Z"
   },
   {
    "duration": 1488,
    "start_time": "2023-02-20T15:59:44.749Z"
   },
   {
    "duration": 1569,
    "start_time": "2023-02-20T16:00:00.138Z"
   },
   {
    "duration": 1317,
    "start_time": "2023-02-20T16:00:01.709Z"
   },
   {
    "duration": 70,
    "start_time": "2023-02-20T16:00:17.696Z"
   },
   {
    "duration": 360,
    "start_time": "2023-02-20T16:00:53.196Z"
   },
   {
    "duration": 60,
    "start_time": "2023-02-20T16:01:08.740Z"
   },
   {
    "duration": 60,
    "start_time": "2023-02-20T16:22:07.880Z"
   },
   {
    "duration": 268,
    "start_time": "2023-02-20T16:27:21.362Z"
   },
   {
    "duration": 61,
    "start_time": "2023-02-20T16:27:36.870Z"
   },
   {
    "duration": 70,
    "start_time": "2023-02-20T16:29:37.462Z"
   },
   {
    "duration": 135,
    "start_time": "2023-02-20T16:30:45.325Z"
   },
   {
    "duration": 70,
    "start_time": "2023-02-20T16:30:51.377Z"
   },
   {
    "duration": 66,
    "start_time": "2023-02-20T16:30:56.958Z"
   },
   {
    "duration": 65,
    "start_time": "2023-02-20T16:31:19.782Z"
   },
   {
    "duration": 281,
    "start_time": "2023-02-20T16:34:31.129Z"
   },
   {
    "duration": 69,
    "start_time": "2023-02-20T16:34:47.137Z"
   },
   {
    "duration": 260,
    "start_time": "2023-02-20T16:37:26.013Z"
   },
   {
    "duration": 299,
    "start_time": "2023-02-20T16:37:53.578Z"
   },
   {
    "duration": 65,
    "start_time": "2023-02-20T16:38:45.885Z"
   },
   {
    "duration": 89,
    "start_time": "2023-02-20T16:40:05.358Z"
   },
   {
    "duration": 133,
    "start_time": "2023-02-20T16:40:39.825Z"
   },
   {
    "duration": 82,
    "start_time": "2023-02-20T16:41:22.709Z"
   },
   {
    "duration": 90,
    "start_time": "2023-02-20T16:50:41.448Z"
   },
   {
    "duration": 87,
    "start_time": "2023-02-20T16:50:48.978Z"
   },
   {
    "duration": 84,
    "start_time": "2023-02-20T16:51:28.509Z"
   },
   {
    "duration": 312,
    "start_time": "2023-02-20T16:51:51.211Z"
   },
   {
    "duration": 92,
    "start_time": "2023-02-20T16:52:11.490Z"
   },
   {
    "duration": 92,
    "start_time": "2023-02-20T16:52:50.023Z"
   },
   {
    "duration": 85,
    "start_time": "2023-02-20T16:53:56.515Z"
   },
   {
    "duration": 149,
    "start_time": "2023-02-20T17:08:26.611Z"
   },
   {
    "duration": 115,
    "start_time": "2023-02-20T17:09:19.752Z"
   },
   {
    "duration": 1597,
    "start_time": "2023-02-21T13:02:47.358Z"
   },
   {
    "duration": 2219,
    "start_time": "2023-02-21T13:02:55.048Z"
   },
   {
    "duration": 796,
    "start_time": "2023-02-21T13:02:57.269Z"
   },
   {
    "duration": 136,
    "start_time": "2023-02-21T13:03:04.740Z"
   },
   {
    "duration": 123,
    "start_time": "2023-02-21T14:38:52.584Z"
   },
   {
    "duration": 42,
    "start_time": "2023-02-21T14:42:13.728Z"
   },
   {
    "duration": 47,
    "start_time": "2023-02-21T14:42:19.372Z"
   },
   {
    "duration": 37,
    "start_time": "2023-02-21T14:42:27.304Z"
   },
   {
    "duration": 42,
    "start_time": "2023-02-21T14:42:35.836Z"
   },
   {
    "duration": 1367,
    "start_time": "2023-02-21T14:42:58.060Z"
   },
   {
    "duration": 686,
    "start_time": "2023-02-21T14:42:59.430Z"
   },
   {
    "duration": 51,
    "start_time": "2023-02-21T14:43:10.080Z"
   },
   {
    "duration": 1461,
    "start_time": "2023-02-26T15:45:03.983Z"
   },
   {
    "duration": 1480,
    "start_time": "2023-02-26T15:45:11.323Z"
   },
   {
    "duration": 678,
    "start_time": "2023-02-26T15:45:12.806Z"
   },
   {
    "duration": 71,
    "start_time": "2023-02-26T18:24:34.254Z"
   },
   {
    "duration": 55,
    "start_time": "2023-02-26T18:24:57.459Z"
   },
   {
    "duration": 651,
    "start_time": "2023-02-26T18:34:31.345Z"
   },
   {
    "duration": 659,
    "start_time": "2023-02-26T18:34:43.468Z"
   },
   {
    "duration": 172,
    "start_time": "2023-02-26T18:35:19.385Z"
   },
   {
    "duration": 54,
    "start_time": "2023-02-26T18:35:30.981Z"
   },
   {
    "duration": 1481,
    "start_time": "2023-03-01T14:24:36.863Z"
   },
   {
    "duration": 1429,
    "start_time": "2023-03-01T14:24:45.053Z"
   },
   {
    "duration": 693,
    "start_time": "2023-03-01T14:24:46.486Z"
   },
   {
    "duration": 61,
    "start_time": "2023-03-01T14:24:55.732Z"
   },
   {
    "duration": 62,
    "start_time": "2023-03-01T14:27:29.327Z"
   },
   {
    "duration": 77,
    "start_time": "2023-03-01T14:29:40.528Z"
   },
   {
    "duration": 155,
    "start_time": "2023-03-01T14:30:49.037Z"
   },
   {
    "duration": 56,
    "start_time": "2023-03-01T14:31:06.976Z"
   },
   {
    "duration": 61,
    "start_time": "2023-03-01T14:31:26.768Z"
   },
   {
    "duration": 121,
    "start_time": "2023-03-01T14:31:34.908Z"
   },
   {
    "duration": 66,
    "start_time": "2023-03-01T14:49:05.805Z"
   },
   {
    "duration": 62,
    "start_time": "2023-03-01T14:49:16.933Z"
   },
   {
    "duration": 57,
    "start_time": "2023-03-01T14:49:19.965Z"
   },
   {
    "duration": 70,
    "start_time": "2023-03-01T15:48:41.028Z"
   },
   {
    "duration": 59,
    "start_time": "2023-03-01T15:52:31.627Z"
   },
   {
    "duration": 63,
    "start_time": "2023-03-01T15:52:41.008Z"
   },
   {
    "duration": 57,
    "start_time": "2023-03-01T15:53:47.966Z"
   },
   {
    "duration": 72,
    "start_time": "2023-03-01T15:54:35.117Z"
   },
   {
    "duration": 64,
    "start_time": "2023-03-01T15:54:59.077Z"
   },
   {
    "duration": 147,
    "start_time": "2023-03-01T16:13:26.419Z"
   },
   {
    "duration": 92,
    "start_time": "2023-03-01T16:13:59.291Z"
   },
   {
    "duration": 95,
    "start_time": "2023-03-01T16:14:09.655Z"
   },
   {
    "duration": 83,
    "start_time": "2023-03-01T16:17:34.183Z"
   },
   {
    "duration": 97,
    "start_time": "2023-03-01T16:17:42.280Z"
   },
   {
    "duration": 99,
    "start_time": "2023-03-01T16:17:52.383Z"
   },
   {
    "duration": 100,
    "start_time": "2023-03-01T16:18:03.292Z"
   },
   {
    "duration": 104,
    "start_time": "2023-03-01T16:18:12.180Z"
   },
   {
    "duration": 124,
    "start_time": "2023-03-01T16:18:17.687Z"
   },
   {
    "duration": 161,
    "start_time": "2023-03-01T16:18:42.083Z"
   },
   {
    "duration": 104,
    "start_time": "2023-03-01T16:19:28.508Z"
   },
   {
    "duration": 97,
    "start_time": "2023-03-01T16:19:37.412Z"
   },
   {
    "duration": 91,
    "start_time": "2023-03-01T16:20:10.072Z"
   },
   {
    "duration": 101,
    "start_time": "2023-03-01T16:22:52.152Z"
   },
   {
    "duration": 96,
    "start_time": "2023-03-01T16:23:13.148Z"
   },
   {
    "duration": 120,
    "start_time": "2023-03-01T16:23:17.252Z"
   },
   {
    "duration": 93,
    "start_time": "2023-03-01T16:24:13.688Z"
   },
   {
    "duration": 154,
    "start_time": "2023-03-01T16:24:21.092Z"
   },
   {
    "duration": 86,
    "start_time": "2023-03-01T16:25:11.072Z"
   },
   {
    "duration": 95,
    "start_time": "2023-03-01T16:25:21.412Z"
   },
   {
    "duration": 111,
    "start_time": "2023-03-01T16:26:00.544Z"
   },
   {
    "duration": 138,
    "start_time": "2023-03-01T16:27:57.741Z"
   },
   {
    "duration": 102,
    "start_time": "2023-03-01T16:28:03.372Z"
   },
   {
    "duration": 99,
    "start_time": "2023-03-01T16:28:09.545Z"
   },
   {
    "duration": 100,
    "start_time": "2023-03-01T16:28:34.793Z"
   },
   {
    "duration": 101,
    "start_time": "2023-03-01T16:28:38.471Z"
   },
   {
    "duration": 172,
    "start_time": "2023-03-01T16:28:47.336Z"
   },
   {
    "duration": 123,
    "start_time": "2023-03-01T16:29:02.397Z"
   },
   {
    "duration": 118,
    "start_time": "2023-03-01T16:29:15.297Z"
   },
   {
    "duration": 239,
    "start_time": "2023-03-01T16:46:27.783Z"
   },
   {
    "duration": 358,
    "start_time": "2023-03-01T16:47:02.378Z"
   },
   {
    "duration": 358,
    "start_time": "2023-03-01T16:48:17.035Z"
   },
   {
    "duration": 441,
    "start_time": "2023-03-01T16:48:34.715Z"
   },
   {
    "duration": 376,
    "start_time": "2023-03-01T16:48:40.585Z"
   },
   {
    "duration": 358,
    "start_time": "2023-03-01T16:49:17.787Z"
   },
   {
    "duration": 480,
    "start_time": "2023-03-01T16:49:30.648Z"
   },
   {
    "duration": 378,
    "start_time": "2023-03-01T16:49:42.931Z"
   },
   {
    "duration": 362,
    "start_time": "2023-03-01T16:49:49.870Z"
   },
   {
    "duration": 408,
    "start_time": "2023-03-01T16:51:06.120Z"
   },
   {
    "duration": 533,
    "start_time": "2023-03-01T16:51:16.556Z"
   },
   {
    "duration": 258,
    "start_time": "2023-03-01T16:51:32.024Z"
   },
   {
    "duration": 1780,
    "start_time": "2023-03-01T16:51:38.424Z"
   },
   {
    "duration": 1947,
    "start_time": "2023-03-01T16:51:47.128Z"
   },
   {
    "duration": 3554,
    "start_time": "2023-03-01T16:52:20.323Z"
   },
   {
    "duration": 491,
    "start_time": "2023-03-01T16:53:07.229Z"
   },
   {
    "duration": 1452,
    "start_time": "2023-03-01T16:54:03.036Z"
   },
   {
    "duration": 344,
    "start_time": "2023-03-01T16:54:11.321Z"
   },
   {
    "duration": 415,
    "start_time": "2023-03-01T16:54:18.728Z"
   },
   {
    "duration": 398,
    "start_time": "2023-03-01T16:54:25.930Z"
   },
   {
    "duration": 365,
    "start_time": "2023-03-01T16:57:38.772Z"
   },
   {
    "duration": 342,
    "start_time": "2023-03-01T16:57:54.904Z"
   },
   {
    "duration": 360,
    "start_time": "2023-03-01T16:58:09.831Z"
   },
   {
    "duration": 368,
    "start_time": "2023-03-01T16:58:27.120Z"
   },
   {
    "duration": 358,
    "start_time": "2023-03-01T17:00:45.801Z"
   },
   {
    "duration": 354,
    "start_time": "2023-03-01T17:01:25.469Z"
   },
   {
    "duration": 461,
    "start_time": "2023-03-01T17:05:57.423Z"
   },
   {
    "duration": 370,
    "start_time": "2023-03-01T17:06:06.617Z"
   },
   {
    "duration": 365,
    "start_time": "2023-03-01T17:06:48.430Z"
   },
   {
    "duration": 350,
    "start_time": "2023-03-01T17:06:55.714Z"
   },
   {
    "duration": 473,
    "start_time": "2023-03-01T17:11:20.738Z"
   },
   {
    "duration": 410,
    "start_time": "2023-03-01T17:11:26.250Z"
   },
   {
    "duration": 0,
    "start_time": "2023-03-01T17:14:07.084Z"
   },
   {
    "duration": 16,
    "start_time": "2023-03-01T17:14:07.095Z"
   },
   {
    "duration": 1306,
    "start_time": "2023-03-01T17:14:21.770Z"
   },
   {
    "duration": 24,
    "start_time": "2023-03-01T17:14:23.246Z"
   },
   {
    "duration": 0,
    "start_time": "2023-03-01T17:14:23.272Z"
   },
   {
    "duration": 16,
    "start_time": "2023-03-01T17:14:28.613Z"
   },
   {
    "duration": 462,
    "start_time": "2023-03-01T17:14:34.578Z"
   },
   {
    "duration": 0,
    "start_time": "2023-03-01T17:14:35.042Z"
   },
   {
    "duration": 798,
    "start_time": "2023-03-01T17:14:38.922Z"
   },
   {
    "duration": 23,
    "start_time": "2023-03-01T17:14:53.626Z"
   },
   {
    "duration": 29,
    "start_time": "2023-03-01T17:15:04.966Z"
   },
   {
    "duration": 24,
    "start_time": "2023-03-01T17:15:54.945Z"
   },
   {
    "duration": 92,
    "start_time": "2023-03-01T17:17:19.626Z"
   },
   {
    "duration": 81,
    "start_time": "2023-03-01T17:17:36.675Z"
   },
   {
    "duration": 83,
    "start_time": "2023-03-01T17:17:52.739Z"
   },
   {
    "duration": 0,
    "start_time": "2023-03-01T17:17:52.824Z"
   },
   {
    "duration": 72,
    "start_time": "2023-03-01T17:18:28.974Z"
   },
   {
    "duration": 74,
    "start_time": "2023-03-01T17:18:33.994Z"
   },
   {
    "duration": 72,
    "start_time": "2023-03-01T17:18:43.886Z"
   },
   {
    "duration": 86,
    "start_time": "2023-03-01T17:18:52.191Z"
   },
   {
    "duration": 99,
    "start_time": "2023-03-01T17:18:57.379Z"
   },
   {
    "duration": 75,
    "start_time": "2023-03-01T17:19:38.039Z"
   },
   {
    "duration": 451,
    "start_time": "2023-03-01T17:19:42.006Z"
   },
   {
    "duration": 927,
    "start_time": "2023-03-01T17:52:43.850Z"
   },
   {
    "duration": 915,
    "start_time": "2023-03-01T17:52:48.962Z"
   },
   {
    "duration": 373,
    "start_time": "2023-03-01T18:41:56.348Z"
   },
   {
    "duration": 464,
    "start_time": "2023-03-01T18:44:16.021Z"
   },
   {
    "duration": 337,
    "start_time": "2023-03-01T18:44:31.362Z"
   },
   {
    "duration": 417,
    "start_time": "2023-03-01T18:45:03.389Z"
   },
   {
    "duration": 720,
    "start_time": "2023-03-01T18:45:47.225Z"
   },
   {
    "duration": 449,
    "start_time": "2023-03-01T18:46:38.621Z"
   },
   {
    "duration": 371,
    "start_time": "2023-03-01T18:47:10.129Z"
   },
   {
    "duration": 359,
    "start_time": "2023-03-01T18:47:26.774Z"
   },
   {
    "duration": 441,
    "start_time": "2023-03-01T18:47:31.689Z"
   },
   {
    "duration": 365,
    "start_time": "2023-03-01T18:49:01.589Z"
   },
   {
    "duration": 404,
    "start_time": "2023-03-01T19:06:46.191Z"
   },
   {
    "duration": 369,
    "start_time": "2023-03-01T19:12:24.744Z"
   },
   {
    "duration": 425,
    "start_time": "2023-03-01T19:16:21.292Z"
   },
   {
    "duration": 351,
    "start_time": "2023-03-01T19:16:40.700Z"
   },
   {
    "duration": 322,
    "start_time": "2023-03-01T19:16:50.040Z"
   },
   {
    "duration": 602,
    "start_time": "2023-03-01T19:21:23.674Z"
   },
   {
    "duration": 570,
    "start_time": "2023-03-01T19:22:04.019Z"
   },
   {
    "duration": 846,
    "start_time": "2023-03-01T19:22:16.790Z"
   },
   {
    "duration": 739,
    "start_time": "2023-03-01T19:22:22.749Z"
   },
   {
    "duration": 540,
    "start_time": "2023-03-01T19:22:58.633Z"
   },
   {
    "duration": 582,
    "start_time": "2023-03-01T19:23:10.621Z"
   },
   {
    "duration": 736,
    "start_time": "2023-03-01T19:23:17.417Z"
   },
   {
    "duration": 547,
    "start_time": "2023-03-01T19:23:33.381Z"
   },
   {
    "duration": 644,
    "start_time": "2023-03-01T19:24:02.045Z"
   },
   {
    "duration": 1394,
    "start_time": "2023-03-01T19:24:12.154Z"
   },
   {
    "duration": 760,
    "start_time": "2023-03-01T19:24:13.551Z"
   },
   {
    "duration": 631,
    "start_time": "2023-03-01T19:24:34.784Z"
   },
   {
    "duration": 631,
    "start_time": "2023-03-01T19:24:48.209Z"
   },
   {
    "duration": 359,
    "start_time": "2023-03-01T19:25:00.759Z"
   },
   {
    "duration": 384,
    "start_time": "2023-03-01T19:25:07.175Z"
   },
   {
    "duration": 364,
    "start_time": "2023-03-01T19:25:16.431Z"
   },
   {
    "duration": 1307,
    "start_time": "2023-03-01T19:25:23.186Z"
   },
   {
    "duration": 943,
    "start_time": "2023-03-01T19:25:24.496Z"
   },
   {
    "duration": 352,
    "start_time": "2023-03-01T19:25:30.855Z"
   },
   {
    "duration": 449,
    "start_time": "2023-03-01T19:26:01.477Z"
   },
   {
    "duration": 1474,
    "start_time": "2023-03-01T19:31:50.190Z"
   },
   {
    "duration": 1382,
    "start_time": "2023-03-01T19:32:30.701Z"
   },
   {
    "duration": 1531,
    "start_time": "2023-03-01T19:33:15.442Z"
   },
   {
    "duration": 1415,
    "start_time": "2023-03-01T19:34:09.246Z"
   },
   {
    "duration": 1403,
    "start_time": "2023-03-01T19:42:31.599Z"
   },
   {
    "duration": 703,
    "start_time": "2023-03-01T19:42:33.004Z"
   },
   {
    "duration": 104,
    "start_time": "2023-03-01T19:42:35.295Z"
   },
   {
    "duration": 372,
    "start_time": "2023-03-01T19:42:41.431Z"
   },
   {
    "duration": 433,
    "start_time": "2023-03-01T19:43:39.312Z"
   },
   {
    "duration": 427,
    "start_time": "2023-03-01T19:44:12.335Z"
   },
   {
    "duration": 470,
    "start_time": "2023-03-01T19:44:32.903Z"
   },
   {
    "duration": 370,
    "start_time": "2023-03-01T19:44:38.051Z"
   },
   {
    "duration": 546,
    "start_time": "2023-03-01T19:45:18.083Z"
   },
   {
    "duration": 419,
    "start_time": "2023-03-01T19:45:25.116Z"
   },
   {
    "duration": 357,
    "start_time": "2023-03-01T19:45:31.928Z"
   },
   {
    "duration": 466,
    "start_time": "2023-03-01T19:45:41.756Z"
   },
   {
    "duration": 375,
    "start_time": "2023-03-01T19:45:46.507Z"
   },
   {
    "duration": 348,
    "start_time": "2023-03-01T19:47:03.332Z"
   },
   {
    "duration": 421,
    "start_time": "2023-03-01T19:47:35.513Z"
   },
   {
    "duration": 471,
    "start_time": "2023-03-01T19:48:11.820Z"
   },
   {
    "duration": 363,
    "start_time": "2023-03-01T19:48:18.920Z"
   },
   {
    "duration": 365,
    "start_time": "2023-03-01T19:48:38.579Z"
   },
   {
    "duration": 453,
    "start_time": "2023-03-01T19:48:55.845Z"
   },
   {
    "duration": 481,
    "start_time": "2023-03-01T19:50:24.177Z"
   },
   {
    "duration": 1690,
    "start_time": "2023-03-01T19:50:42.932Z"
   },
   {
    "duration": 363,
    "start_time": "2023-03-01T19:51:34.385Z"
   },
   {
    "duration": 479,
    "start_time": "2023-03-01T19:51:51.685Z"
   },
   {
    "duration": 345,
    "start_time": "2023-03-01T19:52:13.208Z"
   },
   {
    "duration": 374,
    "start_time": "2023-03-01T19:52:25.510Z"
   },
   {
    "duration": 340,
    "start_time": "2023-03-01T19:53:49.784Z"
   },
   {
    "duration": 451,
    "start_time": "2023-03-01T19:54:01.741Z"
   },
   {
    "duration": 10,
    "start_time": "2023-03-01T19:54:18.841Z"
   },
   {
    "duration": 373,
    "start_time": "2023-03-01T19:54:21.404Z"
   },
   {
    "duration": 368,
    "start_time": "2023-03-01T19:54:31.453Z"
   },
   {
    "duration": 364,
    "start_time": "2023-03-01T19:55:41.984Z"
   },
   {
    "duration": 440,
    "start_time": "2023-03-01T19:56:01.497Z"
   },
   {
    "duration": 328,
    "start_time": "2023-03-01T19:56:15.017Z"
   },
   {
    "duration": 367,
    "start_time": "2023-03-01T19:56:19.727Z"
   },
   {
    "duration": 1337,
    "start_time": "2023-03-01T19:56:28.740Z"
   },
   {
    "duration": 1002,
    "start_time": "2023-03-01T19:56:30.079Z"
   },
   {
    "duration": 368,
    "start_time": "2023-03-01T19:56:42.172Z"
   },
   {
    "duration": 417,
    "start_time": "2023-03-01T19:56:54.040Z"
   },
   {
    "duration": 492,
    "start_time": "2023-03-01T19:57:40.449Z"
   },
   {
    "duration": 412,
    "start_time": "2023-03-01T19:57:47.077Z"
   },
   {
    "duration": 377,
    "start_time": "2023-03-01T19:58:00.053Z"
   },
   {
    "duration": 427,
    "start_time": "2023-03-01T19:58:03.345Z"
   },
   {
    "duration": 404,
    "start_time": "2023-03-01T19:58:12.498Z"
   },
   {
    "duration": 375,
    "start_time": "2023-03-01T20:00:19.729Z"
   },
   {
    "duration": 445,
    "start_time": "2023-03-01T20:00:45.617Z"
   },
   {
    "duration": 344,
    "start_time": "2023-03-01T20:01:03.420Z"
   },
   {
    "duration": 400,
    "start_time": "2023-03-01T20:01:14.594Z"
   },
   {
    "duration": 381,
    "start_time": "2023-03-01T20:01:39.017Z"
   },
   {
    "duration": 471,
    "start_time": "2023-03-01T20:02:45.343Z"
   },
   {
    "duration": 356,
    "start_time": "2023-03-01T20:04:44.114Z"
   },
   {
    "duration": 343,
    "start_time": "2023-03-01T20:05:24.697Z"
   },
   {
    "duration": 127,
    "start_time": "2023-03-01T20:05:33.285Z"
   },
   {
    "duration": 461,
    "start_time": "2023-03-01T20:05:57.954Z"
   },
   {
    "duration": 343,
    "start_time": "2023-03-01T20:06:13.477Z"
   },
   {
    "duration": 338,
    "start_time": "2023-03-01T20:06:19.398Z"
   },
   {
    "duration": 349,
    "start_time": "2023-03-01T20:06:49.081Z"
   },
   {
    "duration": 516,
    "start_time": "2023-03-01T20:06:59.546Z"
   },
   {
    "duration": 115,
    "start_time": "2023-03-01T20:07:34.869Z"
   },
   {
    "duration": 124,
    "start_time": "2023-03-01T20:07:59.478Z"
   },
   {
    "duration": 333,
    "start_time": "2023-03-01T20:08:14.769Z"
   },
   {
    "duration": 411,
    "start_time": "2023-03-01T20:08:24.062Z"
   },
   {
    "duration": 1627,
    "start_time": "2023-03-01T20:08:37.301Z"
   },
   {
    "duration": 277,
    "start_time": "2023-03-01T20:08:48.678Z"
   },
   {
    "duration": 301,
    "start_time": "2023-03-01T20:08:55.606Z"
   },
   {
    "duration": 429,
    "start_time": "2023-03-01T20:09:06.142Z"
   },
   {
    "duration": 285,
    "start_time": "2023-03-01T20:09:15.090Z"
   },
   {
    "duration": 293,
    "start_time": "2023-03-01T20:09:23.262Z"
   },
   {
    "duration": 303,
    "start_time": "2023-03-01T20:10:08.806Z"
   },
   {
    "duration": 15,
    "start_time": "2023-03-02T10:15:38.658Z"
   },
   {
    "duration": 1305,
    "start_time": "2023-03-02T10:15:44.823Z"
   },
   {
    "duration": 814,
    "start_time": "2023-03-02T10:15:46.130Z"
   },
   {
    "duration": 265,
    "start_time": "2023-03-02T10:15:50.987Z"
   },
   {
    "duration": 358,
    "start_time": "2023-03-02T10:16:25.504Z"
   },
   {
    "duration": 282,
    "start_time": "2023-03-02T10:16:48.028Z"
   },
   {
    "duration": 270,
    "start_time": "2023-03-02T10:17:08.840Z"
   },
   {
    "duration": 1161,
    "start_time": "2023-03-02T10:17:20.866Z"
   },
   {
    "duration": 4360,
    "start_time": "2023-03-02T10:17:22.029Z"
   },
   {
    "duration": 3699,
    "start_time": "2023-03-02T10:17:47.286Z"
   },
   {
    "duration": 3849,
    "start_time": "2023-03-02T10:17:53.314Z"
   },
   {
    "duration": 9929,
    "start_time": "2023-03-02T10:18:07.042Z"
   },
   {
    "duration": 4410,
    "start_time": "2023-03-02T10:18:33.982Z"
   },
   {
    "duration": 117,
    "start_time": "2023-03-02T10:19:25.018Z"
   },
   {
    "duration": 4188,
    "start_time": "2023-03-02T10:19:28.658Z"
   },
   {
    "duration": 333,
    "start_time": "2023-03-02T10:24:25.987Z"
   },
   {
    "duration": 119,
    "start_time": "2023-03-02T10:24:54.899Z"
   },
   {
    "duration": 189,
    "start_time": "2023-03-02T10:25:20.347Z"
   },
   {
    "duration": 127,
    "start_time": "2023-03-02T10:25:47.635Z"
   },
   {
    "duration": 124,
    "start_time": "2023-03-02T10:30:00.180Z"
   },
   {
    "duration": 101,
    "start_time": "2023-03-02T10:30:50.595Z"
   },
   {
    "duration": 109,
    "start_time": "2023-03-02T10:30:59.379Z"
   },
   {
    "duration": 85,
    "start_time": "2023-03-02T10:33:54.568Z"
   },
   {
    "duration": 111,
    "start_time": "2023-03-02T10:33:59.604Z"
   },
   {
    "duration": 123,
    "start_time": "2023-03-02T10:34:10.592Z"
   },
   {
    "duration": 121,
    "start_time": "2023-03-02T10:35:10.368Z"
   },
   {
    "duration": 265,
    "start_time": "2023-03-02T10:36:01.593Z"
   },
   {
    "duration": 118,
    "start_time": "2023-03-02T10:36:09.042Z"
   },
   {
    "duration": 126,
    "start_time": "2023-03-02T10:36:24.036Z"
   },
   {
    "duration": 109,
    "start_time": "2023-03-02T10:36:29.440Z"
   },
   {
    "duration": 136,
    "start_time": "2023-03-02T10:36:35.837Z"
   },
   {
    "duration": 113,
    "start_time": "2023-03-02T10:36:40.384Z"
   },
   {
    "duration": 120,
    "start_time": "2023-03-02T10:36:52.204Z"
   },
   {
    "duration": 135,
    "start_time": "2023-03-02T10:37:25.736Z"
   },
   {
    "duration": 2110,
    "start_time": "2023-03-02T10:40:27.536Z"
   },
   {
    "duration": 2286,
    "start_time": "2023-03-02T10:40:34.997Z"
   },
   {
    "duration": 1998,
    "start_time": "2023-03-02T10:40:45.558Z"
   },
   {
    "duration": 131,
    "start_time": "2023-03-02T10:41:23.249Z"
   },
   {
    "duration": 120,
    "start_time": "2023-03-02T10:41:28.308Z"
   },
   {
    "duration": 2102,
    "start_time": "2023-03-02T10:41:55.039Z"
   },
   {
    "duration": 2137,
    "start_time": "2023-03-02T11:39:45.260Z"
   },
   {
    "duration": 2339,
    "start_time": "2023-03-02T11:39:52.000Z"
   },
   {
    "duration": 2076,
    "start_time": "2023-03-02T11:40:16.803Z"
   },
   {
    "duration": 2100,
    "start_time": "2023-03-02T11:40:31.283Z"
   },
   {
    "duration": 2070,
    "start_time": "2023-03-02T11:40:58.368Z"
   },
   {
    "duration": 2222,
    "start_time": "2023-03-02T11:41:20.563Z"
   },
   {
    "duration": 143,
    "start_time": "2023-03-02T11:41:26.768Z"
   },
   {
    "duration": 116,
    "start_time": "2023-03-02T11:41:40.588Z"
   },
   {
    "duration": 123,
    "start_time": "2023-03-02T11:41:56.716Z"
   },
   {
    "duration": 128,
    "start_time": "2023-03-02T11:42:04.932Z"
   },
   {
    "duration": 117,
    "start_time": "2023-03-02T11:42:21.062Z"
   },
   {
    "duration": 128,
    "start_time": "2023-03-02T11:46:44.702Z"
   },
   {
    "duration": 156,
    "start_time": "2023-03-02T11:47:15.250Z"
   },
   {
    "duration": 128,
    "start_time": "2023-03-02T11:47:24.858Z"
   },
   {
    "duration": 129,
    "start_time": "2023-03-02T11:48:19.090Z"
   },
   {
    "duration": 135,
    "start_time": "2023-03-02T11:49:07.326Z"
   },
   {
    "duration": 120,
    "start_time": "2023-03-02T11:49:22.462Z"
   },
   {
    "duration": 120,
    "start_time": "2023-03-02T11:49:34.483Z"
   },
   {
    "duration": 123,
    "start_time": "2023-03-02T11:49:49.639Z"
   },
   {
    "duration": 124,
    "start_time": "2023-03-02T11:49:58.365Z"
   },
   {
    "duration": 296,
    "start_time": "2023-03-02T11:50:14.319Z"
   },
   {
    "duration": 125,
    "start_time": "2023-03-02T11:50:50.892Z"
   },
   {
    "duration": 135,
    "start_time": "2023-03-02T11:52:13.995Z"
   },
   {
    "duration": 118,
    "start_time": "2023-03-02T11:52:22.179Z"
   },
   {
    "duration": 144,
    "start_time": "2023-03-02T11:54:24.694Z"
   },
   {
    "duration": 131,
    "start_time": "2023-03-02T11:54:40.631Z"
   },
   {
    "duration": 123,
    "start_time": "2023-03-02T11:54:47.639Z"
   },
   {
    "duration": 159,
    "start_time": "2023-03-02T11:55:45.539Z"
   },
   {
    "duration": 133,
    "start_time": "2023-03-02T11:59:15.287Z"
   },
   {
    "duration": 108,
    "start_time": "2023-03-02T11:59:24.811Z"
   },
   {
    "duration": 104,
    "start_time": "2023-03-02T12:05:31.995Z"
   },
   {
    "duration": 129,
    "start_time": "2023-03-02T12:05:42.075Z"
   },
   {
    "duration": 105,
    "start_time": "2023-03-02T12:05:52.899Z"
   },
   {
    "duration": 2402,
    "start_time": "2023-03-02T12:08:35.504Z"
   },
   {
    "duration": 118,
    "start_time": "2023-03-02T12:10:39.788Z"
   },
   {
    "duration": 104,
    "start_time": "2023-03-02T12:10:42.844Z"
   },
   {
    "duration": 218,
    "start_time": "2023-03-02T12:10:51.604Z"
   },
   {
    "duration": 308,
    "start_time": "2023-03-02T12:11:01.380Z"
   },
   {
    "duration": 102,
    "start_time": "2023-03-02T12:11:09.068Z"
   },
   {
    "duration": 120,
    "start_time": "2023-03-02T12:13:04.312Z"
   },
   {
    "duration": 107,
    "start_time": "2023-03-02T12:13:49.072Z"
   },
   {
    "duration": 105,
    "start_time": "2023-03-02T12:20:38.629Z"
   },
   {
    "duration": 106,
    "start_time": "2023-03-02T12:20:49.004Z"
   },
   {
    "duration": 105,
    "start_time": "2023-03-02T12:21:20.765Z"
   },
   {
    "duration": 122,
    "start_time": "2023-03-02T13:03:32.706Z"
   },
   {
    "duration": 128,
    "start_time": "2023-03-02T13:03:37.258Z"
   },
   {
    "duration": 334,
    "start_time": "2023-03-02T13:03:42.174Z"
   },
   {
    "duration": 108,
    "start_time": "2023-03-02T13:04:09.410Z"
   },
   {
    "duration": 108,
    "start_time": "2023-03-02T13:04:14.502Z"
   },
   {
    "duration": 111,
    "start_time": "2023-03-02T13:04:22.006Z"
   },
   {
    "duration": 115,
    "start_time": "2023-03-02T13:04:25.355Z"
   },
   {
    "duration": 1254,
    "start_time": "2023-03-02T13:04:34.254Z"
   },
   {
    "duration": 789,
    "start_time": "2023-03-02T13:04:35.511Z"
   },
   {
    "duration": 153,
    "start_time": "2023-03-02T13:05:24.594Z"
   },
   {
    "duration": 136,
    "start_time": "2023-03-02T15:26:48.406Z"
   },
   {
    "duration": 124,
    "start_time": "2023-03-02T15:32:52.584Z"
   },
   {
    "duration": 224,
    "start_time": "2023-03-02T15:33:05.271Z"
   },
   {
    "duration": 225,
    "start_time": "2023-03-02T15:33:20.191Z"
   },
   {
    "duration": 136,
    "start_time": "2023-03-02T15:33:29.876Z"
   },
   {
    "duration": 141,
    "start_time": "2023-03-02T15:33:42.345Z"
   },
   {
    "duration": 137,
    "start_time": "2023-03-02T15:33:51.288Z"
   },
   {
    "duration": 141,
    "start_time": "2023-03-02T15:35:40.424Z"
   },
   {
    "duration": 135,
    "start_time": "2023-03-02T15:35:53.748Z"
   },
   {
    "duration": 204,
    "start_time": "2023-03-02T15:36:11.180Z"
   },
   {
    "duration": 136,
    "start_time": "2023-03-02T15:37:14.692Z"
   },
   {
    "duration": 149,
    "start_time": "2023-03-02T15:37:32.388Z"
   },
   {
    "duration": 162,
    "start_time": "2023-03-02T15:37:52.108Z"
   },
   {
    "duration": 182,
    "start_time": "2023-03-02T15:37:58.900Z"
   },
   {
    "duration": 158,
    "start_time": "2023-03-02T15:38:04.017Z"
   },
   {
    "duration": 131,
    "start_time": "2023-03-02T15:38:18.232Z"
   },
   {
    "duration": 148,
    "start_time": "2023-03-02T15:39:54.812Z"
   },
   {
    "duration": 192,
    "start_time": "2023-03-02T15:41:41.640Z"
   },
   {
    "duration": 133,
    "start_time": "2023-03-02T15:41:47.696Z"
   },
   {
    "duration": 128,
    "start_time": "2023-03-02T15:41:54.484Z"
   },
   {
    "duration": 139,
    "start_time": "2023-03-02T15:42:02.436Z"
   },
   {
    "duration": 122,
    "start_time": "2023-03-02T15:42:10.567Z"
   },
   {
    "duration": 152,
    "start_time": "2023-03-02T15:42:37.324Z"
   },
   {
    "duration": 144,
    "start_time": "2023-03-02T15:43:32.778Z"
   },
   {
    "duration": 232,
    "start_time": "2023-03-02T15:43:44.649Z"
   },
   {
    "duration": 129,
    "start_time": "2023-03-02T15:44:17.724Z"
   },
   {
    "duration": 119,
    "start_time": "2023-03-02T15:44:25.581Z"
   },
   {
    "duration": 133,
    "start_time": "2023-03-02T15:44:28.037Z"
   },
   {
    "duration": 130,
    "start_time": "2023-03-02T15:44:32.978Z"
   },
   {
    "duration": 134,
    "start_time": "2023-03-02T15:45:17.986Z"
   },
   {
    "duration": 127,
    "start_time": "2023-03-02T15:45:28.280Z"
   },
   {
    "duration": 137,
    "start_time": "2023-03-02T15:45:42.314Z"
   },
   {
    "duration": 193,
    "start_time": "2023-03-02T15:45:46.801Z"
   },
   {
    "duration": 135,
    "start_time": "2023-03-02T15:45:56.872Z"
   },
   {
    "duration": 133,
    "start_time": "2023-03-02T15:46:03.867Z"
   },
   {
    "duration": 140,
    "start_time": "2023-03-02T15:46:39.471Z"
   },
   {
    "duration": 139,
    "start_time": "2023-03-02T15:46:51.875Z"
   },
   {
    "duration": 132,
    "start_time": "2023-03-02T15:46:58.533Z"
   },
   {
    "duration": 121,
    "start_time": "2023-03-02T15:49:02.902Z"
   },
   {
    "duration": 114,
    "start_time": "2023-03-02T15:49:17.033Z"
   },
   {
    "duration": 221,
    "start_time": "2023-03-02T15:49:25.182Z"
   },
   {
    "duration": 1370,
    "start_time": "2023-03-02T15:49:36.741Z"
   },
   {
    "duration": 824,
    "start_time": "2023-03-02T15:49:38.113Z"
   },
   {
    "duration": 207,
    "start_time": "2023-03-02T15:50:17.692Z"
   },
   {
    "duration": 140,
    "start_time": "2023-03-02T15:50:30.536Z"
   },
   {
    "duration": 115,
    "start_time": "2023-03-02T15:50:36.541Z"
   },
   {
    "duration": 90,
    "start_time": "2023-03-02T15:50:42.133Z"
   },
   {
    "duration": 182,
    "start_time": "2023-03-02T15:50:44.889Z"
   },
   {
    "duration": 99,
    "start_time": "2023-03-02T15:51:07.109Z"
   },
   {
    "duration": 98,
    "start_time": "2023-03-02T15:51:19.093Z"
   },
   {
    "duration": 109,
    "start_time": "2023-03-02T15:51:27.771Z"
   },
   {
    "duration": 140,
    "start_time": "2023-03-02T15:52:08.537Z"
   },
   {
    "duration": 139,
    "start_time": "2023-03-02T15:52:41.595Z"
   },
   {
    "duration": 136,
    "start_time": "2023-03-02T15:52:48.629Z"
   },
   {
    "duration": 196,
    "start_time": "2023-03-02T15:54:59.411Z"
   },
   {
    "duration": 254,
    "start_time": "2023-03-02T15:55:42.330Z"
   },
   {
    "duration": 285,
    "start_time": "2023-03-02T15:55:56.093Z"
   },
   {
    "duration": 381,
    "start_time": "2023-03-02T15:56:11.342Z"
   },
   {
    "duration": 457,
    "start_time": "2023-03-02T15:56:34.742Z"
   },
   {
    "duration": 363,
    "start_time": "2023-03-02T15:56:54.670Z"
   },
   {
    "duration": 382,
    "start_time": "2023-03-02T16:08:16.927Z"
   },
   {
    "duration": 364,
    "start_time": "2023-03-02T16:08:25.987Z"
   },
   {
    "duration": 501,
    "start_time": "2023-03-02T16:08:46.485Z"
   },
   {
    "duration": 1356,
    "start_time": "2023-03-02T16:08:58.994Z"
   },
   {
    "duration": 1109,
    "start_time": "2023-03-02T16:09:00.352Z"
   },
   {
    "duration": 373,
    "start_time": "2023-03-02T16:09:41.567Z"
   },
   {
    "duration": 462,
    "start_time": "2023-03-02T16:10:07.187Z"
   },
   {
    "duration": 388,
    "start_time": "2023-03-02T16:10:27.879Z"
   },
   {
    "duration": 391,
    "start_time": "2023-03-02T16:10:35.827Z"
   },
   {
    "duration": 473,
    "start_time": "2023-03-02T16:10:46.516Z"
   },
   {
    "duration": 384,
    "start_time": "2023-03-02T16:11:43.411Z"
   },
   {
    "duration": 379,
    "start_time": "2023-03-02T16:11:48.131Z"
   },
   {
    "duration": 440,
    "start_time": "2023-03-02T16:11:58.599Z"
   },
   {
    "duration": 362,
    "start_time": "2023-03-02T16:12:08.535Z"
   },
   {
    "duration": 378,
    "start_time": "2023-03-02T16:12:34.695Z"
   },
   {
    "duration": 245,
    "start_time": "2023-03-02T16:12:56.426Z"
   },
   {
    "duration": 375,
    "start_time": "2023-03-02T16:13:01.639Z"
   },
   {
    "duration": 322,
    "start_time": "2023-03-02T16:13:10.793Z"
   },
   {
    "duration": 1258,
    "start_time": "2023-03-02T16:13:23.926Z"
   },
   {
    "duration": 1029,
    "start_time": "2023-03-02T16:13:25.186Z"
   },
   {
    "duration": 145,
    "start_time": "2023-03-02T16:13:51.071Z"
   },
   {
    "duration": 266,
    "start_time": "2023-03-02T16:14:04.915Z"
   },
   {
    "duration": 205,
    "start_time": "2023-03-02T16:14:12.443Z"
   },
   {
    "duration": 135,
    "start_time": "2023-03-02T16:14:29.377Z"
   },
   {
    "duration": 148,
    "start_time": "2023-03-02T16:14:40.950Z"
   },
   {
    "duration": 148,
    "start_time": "2023-03-02T16:15:11.199Z"
   },
   {
    "duration": 126,
    "start_time": "2023-03-02T16:15:18.483Z"
   },
   {
    "duration": 139,
    "start_time": "2023-03-02T16:15:23.131Z"
   },
   {
    "duration": 154,
    "start_time": "2023-03-02T16:15:27.143Z"
   },
   {
    "duration": 1280,
    "start_time": "2023-03-02T16:15:32.193Z"
   },
   {
    "duration": 819,
    "start_time": "2023-03-02T16:15:33.475Z"
   },
   {
    "duration": 158,
    "start_time": "2023-03-02T16:15:40.811Z"
   },
   {
    "duration": 139,
    "start_time": "2023-03-02T16:15:46.691Z"
   },
   {
    "duration": 141,
    "start_time": "2023-03-02T16:15:53.007Z"
   },
   {
    "duration": 210,
    "start_time": "2023-03-02T16:15:56.740Z"
   },
   {
    "duration": 154,
    "start_time": "2023-03-02T16:16:26.883Z"
   },
   {
    "duration": 370,
    "start_time": "2023-03-02T16:16:44.211Z"
   },
   {
    "duration": 134,
    "start_time": "2023-03-02T16:17:04.556Z"
   },
   {
    "duration": 141,
    "start_time": "2023-03-02T16:17:26.300Z"
   },
   {
    "duration": 136,
    "start_time": "2023-03-02T16:17:28.496Z"
   },
   {
    "duration": 1301,
    "start_time": "2023-03-02T16:17:37.145Z"
   },
   {
    "duration": 773,
    "start_time": "2023-03-02T16:17:38.448Z"
   },
   {
    "duration": 282,
    "start_time": "2023-03-02T16:18:40.633Z"
   },
   {
    "duration": 149,
    "start_time": "2023-03-02T16:18:57.749Z"
   },
   {
    "duration": 259,
    "start_time": "2023-03-02T16:19:45.042Z"
   },
   {
    "duration": 232,
    "start_time": "2023-03-02T16:19:57.793Z"
   },
   {
    "duration": 178,
    "start_time": "2023-03-02T16:20:05.605Z"
   },
   {
    "duration": 109,
    "start_time": "2023-03-02T16:20:20.406Z"
   },
   {
    "duration": 150,
    "start_time": "2023-03-02T16:20:23.894Z"
   },
   {
    "duration": 173,
    "start_time": "2023-03-02T16:20:53.730Z"
   },
   {
    "duration": 142,
    "start_time": "2023-03-02T16:21:14.790Z"
   },
   {
    "duration": 142,
    "start_time": "2023-03-02T16:24:24.626Z"
   },
   {
    "duration": 139,
    "start_time": "2023-03-02T16:26:25.867Z"
   },
   {
    "duration": 225,
    "start_time": "2023-03-02T16:26:30.303Z"
   },
   {
    "duration": 157,
    "start_time": "2023-03-02T16:35:47.191Z"
   },
   {
    "duration": 141,
    "start_time": "2023-03-02T16:36:23.027Z"
   },
   {
    "duration": 191,
    "start_time": "2023-03-02T16:37:23.776Z"
   },
   {
    "duration": 318,
    "start_time": "2023-03-02T16:37:35.028Z"
   },
   {
    "duration": 416,
    "start_time": "2023-03-02T16:37:47.939Z"
   },
   {
    "duration": 270,
    "start_time": "2023-03-02T16:45:17.936Z"
   },
   {
    "duration": 151,
    "start_time": "2023-03-02T16:45:30.200Z"
   },
   {
    "duration": 186,
    "start_time": "2023-03-02T16:46:01.284Z"
   },
   {
    "duration": 147,
    "start_time": "2023-03-02T16:46:06.472Z"
   },
   {
    "duration": 210,
    "start_time": "2023-03-02T16:46:11.808Z"
   },
   {
    "duration": 158,
    "start_time": "2023-03-02T16:46:18.636Z"
   },
   {
    "duration": 151,
    "start_time": "2023-03-02T16:46:32.144Z"
   },
   {
    "duration": 182,
    "start_time": "2023-03-02T16:46:53.670Z"
   },
   {
    "duration": 151,
    "start_time": "2023-03-02T16:47:02.471Z"
   },
   {
    "duration": 142,
    "start_time": "2023-03-02T16:47:14.101Z"
   },
   {
    "duration": 157,
    "start_time": "2023-03-02T16:49:44.880Z"
   },
   {
    "duration": 213,
    "start_time": "2023-03-02T16:50:00.397Z"
   },
   {
    "duration": 174,
    "start_time": "2023-03-02T16:50:04.045Z"
   },
   {
    "duration": 139,
    "start_time": "2023-03-02T16:50:34.673Z"
   },
   {
    "duration": 180,
    "start_time": "2023-03-02T16:51:18.569Z"
   },
   {
    "duration": 378,
    "start_time": "2023-03-02T16:52:45.073Z"
   },
   {
    "duration": 96,
    "start_time": "2023-03-02T16:53:01.073Z"
   },
   {
    "duration": 435,
    "start_time": "2023-03-02T16:53:13.901Z"
   },
   {
    "duration": 370,
    "start_time": "2023-03-02T16:54:03.685Z"
   },
   {
    "duration": 441,
    "start_time": "2023-03-02T16:54:15.849Z"
   },
   {
    "duration": 518,
    "start_time": "2023-03-02T16:54:32.450Z"
   },
   {
    "duration": 401,
    "start_time": "2023-03-02T16:55:04.802Z"
   },
   {
    "duration": 381,
    "start_time": "2023-03-02T16:56:08.177Z"
   },
   {
    "duration": 548,
    "start_time": "2023-03-02T16:56:25.197Z"
   },
   {
    "duration": 385,
    "start_time": "2023-03-02T16:57:18.462Z"
   },
   {
    "duration": 373,
    "start_time": "2023-03-02T16:58:20.409Z"
   },
   {
    "duration": 277,
    "start_time": "2023-03-02T16:58:29.153Z"
   },
   {
    "duration": 310,
    "start_time": "2023-03-02T17:03:13.963Z"
   },
   {
    "duration": 386,
    "start_time": "2023-03-02T17:03:25.863Z"
   },
   {
    "duration": 491,
    "start_time": "2023-03-02T17:03:49.274Z"
   },
   {
    "duration": 451,
    "start_time": "2023-03-02T17:04:03.938Z"
   },
   {
    "duration": 397,
    "start_time": "2023-03-02T17:04:12.838Z"
   },
   {
    "duration": 535,
    "start_time": "2023-03-02T17:04:34.075Z"
   },
   {
    "duration": 391,
    "start_time": "2023-03-02T17:04:53.382Z"
   },
   {
    "duration": 682,
    "start_time": "2023-03-02T17:05:30.583Z"
   },
   {
    "duration": 557,
    "start_time": "2023-03-02T17:05:44.422Z"
   },
   {
    "duration": 1366,
    "start_time": "2023-03-02T17:05:56.429Z"
   },
   {
    "duration": 1196,
    "start_time": "2023-03-02T17:05:57.797Z"
   },
   {
    "duration": 228,
    "start_time": "2023-03-02T17:06:25.671Z"
   },
   {
    "duration": 257,
    "start_time": "2023-03-02T17:06:31.974Z"
   },
   {
    "duration": 299,
    "start_time": "2023-03-02T17:06:46.530Z"
   },
   {
    "duration": 182,
    "start_time": "2023-03-02T17:06:49.902Z"
   },
   {
    "duration": 190,
    "start_time": "2023-03-02T17:06:58.386Z"
   },
   {
    "duration": 226,
    "start_time": "2023-03-02T17:07:15.353Z"
   },
   {
    "duration": 219,
    "start_time": "2023-03-02T17:07:21.342Z"
   },
   {
    "duration": 265,
    "start_time": "2023-03-02T17:07:32.023Z"
   },
   {
    "duration": 211,
    "start_time": "2023-03-02T17:08:28.418Z"
   },
   {
    "duration": 193,
    "start_time": "2023-03-02T17:08:58.594Z"
   },
   {
    "duration": 190,
    "start_time": "2023-03-02T17:09:16.308Z"
   },
   {
    "duration": 401,
    "start_time": "2023-03-02T17:09:49.994Z"
   },
   {
    "duration": 251,
    "start_time": "2023-03-02T17:10:18.374Z"
   },
   {
    "duration": 185,
    "start_time": "2023-03-02T17:10:32.290Z"
   },
   {
    "duration": 205,
    "start_time": "2023-03-02T17:10:36.631Z"
   },
   {
    "duration": 195,
    "start_time": "2023-03-02T17:10:41.378Z"
   },
   {
    "duration": 190,
    "start_time": "2023-03-02T17:10:52.942Z"
   },
   {
    "duration": 192,
    "start_time": "2023-03-02T17:11:28.755Z"
   },
   {
    "duration": 278,
    "start_time": "2023-03-02T17:11:34.874Z"
   },
   {
    "duration": 203,
    "start_time": "2023-03-02T17:11:40.495Z"
   },
   {
    "duration": 211,
    "start_time": "2023-03-02T17:11:43.935Z"
   },
   {
    "duration": 194,
    "start_time": "2023-03-02T17:11:47.902Z"
   },
   {
    "duration": 243,
    "start_time": "2023-03-02T17:11:50.982Z"
   },
   {
    "duration": 191,
    "start_time": "2023-03-02T17:12:47.446Z"
   },
   {
    "duration": 270,
    "start_time": "2023-03-02T17:14:10.295Z"
   },
   {
    "duration": 207,
    "start_time": "2023-03-02T17:14:21.890Z"
   },
   {
    "duration": 2586,
    "start_time": "2023-03-02T17:16:50.643Z"
   },
   {
    "duration": 199,
    "start_time": "2023-03-02T17:17:10.711Z"
   },
   {
    "duration": 191,
    "start_time": "2023-03-02T17:17:13.475Z"
   },
   {
    "duration": 5,
    "start_time": "2023-03-02T18:07:08.857Z"
   },
   {
    "duration": 16,
    "start_time": "2023-03-02T18:09:46.485Z"
   },
   {
    "duration": 13,
    "start_time": "2023-03-02T18:09:56.578Z"
   },
   {
    "duration": 23,
    "start_time": "2023-03-02T18:10:33.353Z"
   },
   {
    "duration": 19,
    "start_time": "2023-03-02T18:11:06.182Z"
   },
   {
    "duration": 329,
    "start_time": "2023-03-02T18:11:26.021Z"
   },
   {
    "duration": 413,
    "start_time": "2023-03-02T18:12:23.179Z"
   },
   {
    "duration": 325,
    "start_time": "2023-03-02T18:12:43.554Z"
   },
   {
    "duration": 310,
    "start_time": "2023-03-02T18:13:41.034Z"
   },
   {
    "duration": 350,
    "start_time": "2023-03-02T18:14:19.282Z"
   },
   {
    "duration": 9,
    "start_time": "2023-03-02T18:33:49.852Z"
   },
   {
    "duration": 8,
    "start_time": "2023-03-02T18:34:04.840Z"
   },
   {
    "duration": 13,
    "start_time": "2023-03-02T18:36:21.693Z"
   },
   {
    "duration": 816,
    "start_time": "2023-03-02T18:36:36.900Z"
   },
   {
    "duration": 268,
    "start_time": "2023-03-02T18:37:25.116Z"
   },
   {
    "duration": 228,
    "start_time": "2023-03-02T18:37:32.540Z"
   },
   {
    "duration": 19,
    "start_time": "2023-03-02T18:37:45.697Z"
   },
   {
    "duration": 232,
    "start_time": "2023-03-02T18:37:58.741Z"
   },
   {
    "duration": 362,
    "start_time": "2023-03-02T18:39:37.563Z"
   },
   {
    "duration": 249,
    "start_time": "2023-03-02T18:39:57.497Z"
   },
   {
    "duration": 335,
    "start_time": "2023-03-02T18:40:03.008Z"
   },
   {
    "duration": 392,
    "start_time": "2023-03-02T18:40:15.329Z"
   },
   {
    "duration": 462,
    "start_time": "2023-03-02T18:44:40.805Z"
   },
   {
    "duration": 397,
    "start_time": "2023-03-02T18:45:59.866Z"
   },
   {
    "duration": 350,
    "start_time": "2023-03-02T18:46:08.609Z"
   },
   {
    "duration": 362,
    "start_time": "2023-03-02T18:46:40.318Z"
   },
   {
    "duration": 368,
    "start_time": "2023-03-02T18:47:04.650Z"
   },
   {
    "duration": 12,
    "start_time": "2023-03-02T18:47:10.079Z"
   },
   {
    "duration": 10,
    "start_time": "2023-03-02T18:47:16.574Z"
   },
   {
    "duration": 12,
    "start_time": "2023-03-02T18:47:20.102Z"
   },
   {
    "duration": 243,
    "start_time": "2023-03-02T18:48:48.878Z"
   },
   {
    "duration": 365,
    "start_time": "2023-03-02T18:49:31.917Z"
   },
   {
    "duration": 673,
    "start_time": "2023-03-02T18:55:52.247Z"
   },
   {
    "duration": 811,
    "start_time": "2023-03-02T18:56:34.291Z"
   },
   {
    "duration": 715,
    "start_time": "2023-03-02T18:57:54.523Z"
   },
   {
    "duration": 1023,
    "start_time": "2023-03-02T18:59:41.187Z"
   },
   {
    "duration": 1020,
    "start_time": "2023-03-02T19:00:07.511Z"
   },
   {
    "duration": 958,
    "start_time": "2023-03-02T19:00:17.075Z"
   },
   {
    "duration": 1080,
    "start_time": "2023-03-02T19:00:30.663Z"
   },
   {
    "duration": 1127,
    "start_time": "2023-03-02T19:02:15.680Z"
   },
   {
    "duration": 918,
    "start_time": "2023-03-02T19:02:27.511Z"
   },
   {
    "duration": 1109,
    "start_time": "2023-03-02T19:03:01.139Z"
   },
   {
    "duration": 967,
    "start_time": "2023-03-02T19:03:14.331Z"
   },
   {
    "duration": 1056,
    "start_time": "2023-03-02T19:03:49.067Z"
   },
   {
    "duration": 811,
    "start_time": "2023-03-02T19:03:57.632Z"
   },
   {
    "duration": 504,
    "start_time": "2023-03-02T19:05:29.268Z"
   },
   {
    "duration": 497,
    "start_time": "2023-03-02T19:05:51.268Z"
   },
   {
    "duration": 285,
    "start_time": "2023-03-02T19:06:43.735Z"
   },
   {
    "duration": 280,
    "start_time": "2023-03-02T19:06:49.608Z"
   },
   {
    "duration": 147,
    "start_time": "2023-03-02T19:07:01.992Z"
   },
   {
    "duration": 161,
    "start_time": "2023-03-02T19:07:20.688Z"
   },
   {
    "duration": 122,
    "start_time": "2023-03-02T19:07:25.200Z"
   },
   {
    "duration": 111,
    "start_time": "2023-03-02T19:07:43.028Z"
   },
   {
    "duration": 687,
    "start_time": "2023-03-02T19:08:15.884Z"
   },
   {
    "duration": 836,
    "start_time": "2023-03-02T19:08:50.160Z"
   },
   {
    "duration": 686,
    "start_time": "2023-03-02T19:08:57.892Z"
   },
   {
    "duration": 1108,
    "start_time": "2023-03-02T19:12:36.324Z"
   },
   {
    "duration": 1266,
    "start_time": "2023-03-02T19:13:22.848Z"
   },
   {
    "duration": 1118,
    "start_time": "2023-03-02T19:15:44.374Z"
   },
   {
    "duration": 226,
    "start_time": "2023-03-02T19:17:57.569Z"
   },
   {
    "duration": 1223,
    "start_time": "2023-03-02T19:18:06.657Z"
   },
   {
    "duration": 1360,
    "start_time": "2023-03-02T19:18:14.564Z"
   },
   {
    "duration": 836,
    "start_time": "2023-03-02T19:18:15.926Z"
   },
   {
    "duration": 337,
    "start_time": "2023-03-02T19:18:16.764Z"
   },
   {
    "duration": 1187,
    "start_time": "2023-03-02T19:18:17.103Z"
   },
   {
    "duration": 1135,
    "start_time": "2023-03-02T19:20:19.494Z"
   },
   {
    "duration": 212,
    "start_time": "2023-03-02T19:20:39.968Z"
   },
   {
    "duration": 377,
    "start_time": "2023-03-02T19:20:45.394Z"
   },
   {
    "duration": 1121,
    "start_time": "2023-03-02T19:20:47.965Z"
   },
   {
    "duration": 1157,
    "start_time": "2023-03-02T19:21:06.570Z"
   },
   {
    "duration": 1065,
    "start_time": "2023-03-02T19:21:17.315Z"
   },
   {
    "duration": 1175,
    "start_time": "2023-03-02T19:22:38.019Z"
   },
   {
    "duration": 1150,
    "start_time": "2023-03-02T19:22:48.173Z"
   },
   {
    "duration": 1131,
    "start_time": "2023-03-02T19:22:57.119Z"
   },
   {
    "duration": 1138,
    "start_time": "2023-03-02T19:23:10.882Z"
   },
   {
    "duration": 1177,
    "start_time": "2023-03-02T19:23:18.298Z"
   },
   {
    "duration": 1154,
    "start_time": "2023-03-02T19:23:22.630Z"
   },
   {
    "duration": 1169,
    "start_time": "2023-03-02T19:23:28.263Z"
   },
   {
    "duration": 1123,
    "start_time": "2023-03-02T19:23:36.742Z"
   },
   {
    "duration": 1251,
    "start_time": "2023-03-02T19:24:06.143Z"
   },
   {
    "duration": 1194,
    "start_time": "2023-03-02T19:24:21.103Z"
   },
   {
    "duration": 1065,
    "start_time": "2023-03-02T19:24:47.847Z"
   },
   {
    "duration": 1220,
    "start_time": "2023-03-02T19:24:54.124Z"
   },
   {
    "duration": 1163,
    "start_time": "2023-03-02T19:25:06.965Z"
   },
   {
    "duration": 1196,
    "start_time": "2023-03-02T19:25:39.766Z"
   },
   {
    "duration": 1071,
    "start_time": "2023-03-02T19:25:47.827Z"
   },
   {
    "duration": 1157,
    "start_time": "2023-03-02T19:25:54.204Z"
   },
   {
    "duration": 1153,
    "start_time": "2023-03-02T19:26:06.502Z"
   },
   {
    "duration": 1126,
    "start_time": "2023-03-02T19:26:11.465Z"
   },
   {
    "duration": 1356,
    "start_time": "2023-03-02T19:26:45.890Z"
   },
   {
    "duration": 1465,
    "start_time": "2023-03-02T19:27:30.215Z"
   },
   {
    "duration": 1469,
    "start_time": "2023-03-02T19:27:44.062Z"
   },
   {
    "duration": 1218,
    "start_time": "2023-03-02T19:27:55.267Z"
   },
   {
    "duration": 1226,
    "start_time": "2023-03-02T19:30:39.499Z"
   },
   {
    "duration": 1387,
    "start_time": "2023-03-02T19:32:53.964Z"
   },
   {
    "duration": 1104,
    "start_time": "2023-03-02T19:33:09.805Z"
   },
   {
    "duration": 1380,
    "start_time": "2023-03-02T19:33:20.927Z"
   },
   {
    "duration": 1452,
    "start_time": "2023-03-02T19:34:27.208Z"
   },
   {
    "duration": 1412,
    "start_time": "2023-03-02T19:34:56.924Z"
   },
   {
    "duration": 1603,
    "start_time": "2023-03-02T19:40:37.008Z"
   },
   {
    "duration": 1563,
    "start_time": "2023-03-02T19:42:25.777Z"
   },
   {
    "duration": 1627,
    "start_time": "2023-03-02T19:43:24.986Z"
   },
   {
    "duration": 1570,
    "start_time": "2023-03-02T19:45:39.809Z"
   },
   {
    "duration": 1539,
    "start_time": "2023-03-02T19:46:08.037Z"
   },
   {
    "duration": 1581,
    "start_time": "2023-03-02T19:46:27.781Z"
   },
   {
    "duration": 200,
    "start_time": "2023-03-02T19:48:09.581Z"
   },
   {
    "duration": 1516,
    "start_time": "2023-03-02T19:48:17.534Z"
   },
   {
    "duration": 276,
    "start_time": "2023-03-02T19:49:35.478Z"
   },
   {
    "duration": 1660,
    "start_time": "2023-03-02T19:49:39.901Z"
   },
   {
    "duration": 1643,
    "start_time": "2023-03-02T19:51:36.201Z"
   },
   {
    "duration": 1902,
    "start_time": "2023-03-02T19:51:55.872Z"
   },
   {
    "duration": 1967,
    "start_time": "2023-03-02T19:52:40.042Z"
   },
   {
    "duration": 1838,
    "start_time": "2023-03-02T19:53:09.582Z"
   },
   {
    "duration": 1860,
    "start_time": "2023-03-02T19:55:50.168Z"
   },
   {
    "duration": 2256,
    "start_time": "2023-03-02T19:57:14.877Z"
   },
   {
    "duration": 2343,
    "start_time": "2023-03-02T20:02:35.477Z"
   },
   {
    "duration": 2190,
    "start_time": "2023-03-02T20:03:54.091Z"
   },
   {
    "duration": 2412,
    "start_time": "2023-03-02T20:04:29.107Z"
   },
   {
    "duration": 2102,
    "start_time": "2023-03-02T20:04:42.295Z"
   },
   {
    "duration": 2408,
    "start_time": "2023-03-02T20:05:02.827Z"
   },
   {
    "duration": 2208,
    "start_time": "2023-03-02T20:09:10.615Z"
   },
   {
    "duration": 2599,
    "start_time": "2023-03-02T20:10:27.920Z"
   },
   {
    "duration": 2525,
    "start_time": "2023-03-02T20:10:52.624Z"
   },
   {
    "duration": 2740,
    "start_time": "2023-03-02T20:14:39.937Z"
   },
   {
    "duration": 2867,
    "start_time": "2023-03-02T20:17:08.620Z"
   },
   {
    "duration": 2963,
    "start_time": "2023-03-02T20:19:29.156Z"
   },
   {
    "duration": 3382,
    "start_time": "2023-03-02T20:19:53.682Z"
   },
   {
    "duration": 3075,
    "start_time": "2023-03-02T20:20:03.341Z"
   },
   {
    "duration": 3058,
    "start_time": "2023-03-02T20:26:16.101Z"
   },
   {
    "duration": 3625,
    "start_time": "2023-03-02T20:26:37.757Z"
   },
   {
    "duration": 3604,
    "start_time": "2023-03-02T20:29:22.818Z"
   },
   {
    "duration": 3599,
    "start_time": "2023-03-02T20:34:12.962Z"
   },
   {
    "duration": 4784,
    "start_time": "2023-03-02T20:37:45.143Z"
   },
   {
    "duration": 3695,
    "start_time": "2023-03-02T20:38:26.789Z"
   },
   {
    "duration": 3621,
    "start_time": "2023-03-02T20:42:48.712Z"
   },
   {
    "duration": 3993,
    "start_time": "2023-03-02T20:43:01.852Z"
   },
   {
    "duration": 4103,
    "start_time": "2023-03-02T20:44:32.136Z"
   },
   {
    "duration": 4040,
    "start_time": "2023-03-02T20:45:17.506Z"
   },
   {
    "duration": 4354,
    "start_time": "2023-03-02T20:49:12.298Z"
   },
   {
    "duration": 4516,
    "start_time": "2023-03-02T20:49:25.311Z"
   },
   {
    "duration": 4640,
    "start_time": "2023-03-02T20:51:59.321Z"
   },
   {
    "duration": 5517,
    "start_time": "2023-03-02T21:03:16.611Z"
   },
   {
    "duration": 6476,
    "start_time": "2023-03-02T21:04:17.124Z"
   },
   {
    "duration": 6128,
    "start_time": "2023-03-02T21:06:01.343Z"
   },
   {
    "duration": 6100,
    "start_time": "2023-03-02T21:06:19.047Z"
   },
   {
    "duration": 8750,
    "start_time": "2023-03-02T21:07:36.939Z"
   },
   {
    "duration": 6756,
    "start_time": "2023-03-02T21:08:00.428Z"
   },
   {
    "duration": 6294,
    "start_time": "2023-03-02T21:09:37.609Z"
   },
   {
    "duration": 6918,
    "start_time": "2023-03-02T21:10:39.409Z"
   },
   {
    "duration": 6414,
    "start_time": "2023-03-02T21:13:10.405Z"
   },
   {
    "duration": 6193,
    "start_time": "2023-03-02T21:13:48.505Z"
   },
   {
    "duration": 6768,
    "start_time": "2023-03-02T21:19:09.518Z"
   },
   {
    "duration": 8134,
    "start_time": "2023-03-02T21:20:56.344Z"
   },
   {
    "duration": 7534,
    "start_time": "2023-03-02T21:24:33.797Z"
   },
   {
    "duration": 7499,
    "start_time": "2023-03-02T21:30:41.636Z"
   },
   {
    "duration": 7408,
    "start_time": "2023-03-02T21:31:13.700Z"
   },
   {
    "duration": 9672,
    "start_time": "2023-03-02T21:35:07.920Z"
   },
   {
    "duration": 8601,
    "start_time": "2023-03-02T21:35:31.433Z"
   },
   {
    "duration": 7672,
    "start_time": "2023-03-02T21:36:44.498Z"
   },
   {
    "duration": 149,
    "start_time": "2023-03-02T21:44:07.407Z"
   },
   {
    "duration": 6841,
    "start_time": "2023-03-02T21:44:13.688Z"
   },
   {
    "duration": 6655,
    "start_time": "2023-03-02T21:47:00.333Z"
   },
   {
    "duration": 8990,
    "start_time": "2023-03-02T21:47:58.911Z"
   },
   {
    "duration": 7128,
    "start_time": "2023-03-02T21:49:23.590Z"
   },
   {
    "duration": 6603,
    "start_time": "2023-03-02T21:54:20.989Z"
   },
   {
    "duration": 339,
    "start_time": "2023-03-02T21:56:33.397Z"
   },
   {
    "duration": 334,
    "start_time": "2023-03-02T21:56:43.885Z"
   },
   {
    "duration": 295,
    "start_time": "2023-03-02T21:57:00.803Z"
   },
   {
    "duration": 385,
    "start_time": "2023-03-02T21:57:13.907Z"
   },
   {
    "duration": 419,
    "start_time": "2023-03-02T21:57:25.794Z"
   },
   {
    "duration": 437,
    "start_time": "2023-03-02T21:58:07.084Z"
   },
   {
    "duration": 406,
    "start_time": "2023-03-02T21:59:01.090Z"
   },
   {
    "duration": 477,
    "start_time": "2023-03-02T21:59:08.502Z"
   },
   {
    "duration": 502,
    "start_time": "2023-03-02T21:59:21.691Z"
   },
   {
    "duration": 584,
    "start_time": "2023-03-02T21:59:43.302Z"
   },
   {
    "duration": 131,
    "start_time": "2023-03-02T22:00:44.607Z"
   },
   {
    "duration": 7037,
    "start_time": "2023-03-02T22:00:54.976Z"
   },
   {
    "duration": 6533,
    "start_time": "2023-03-02T22:05:03.179Z"
   },
   {
    "duration": 7495,
    "start_time": "2023-03-02T22:05:44.078Z"
   },
   {
    "duration": 7136,
    "start_time": "2023-03-02T22:06:40.436Z"
   },
   {
    "duration": 6802,
    "start_time": "2023-03-02T22:06:58.897Z"
   },
   {
    "duration": 6748,
    "start_time": "2023-03-02T22:19:20.601Z"
   },
   {
    "duration": 6664,
    "start_time": "2023-03-02T22:19:54.636Z"
   },
   {
    "duration": 6363,
    "start_time": "2023-03-02T22:20:57.904Z"
   },
   {
    "duration": 2579,
    "start_time": "2023-03-03T07:31:23.506Z"
   },
   {
    "duration": 1058,
    "start_time": "2023-03-03T07:31:26.087Z"
   },
   {
    "duration": 441,
    "start_time": "2023-03-03T07:31:27.146Z"
   },
   {
    "duration": 6743,
    "start_time": "2023-03-03T07:31:27.595Z"
   },
   {
    "duration": 16,
    "start_time": "2023-03-03T07:42:18.906Z"
   },
   {
    "duration": 51,
    "start_time": "2023-03-03T16:16:40.777Z"
   },
   {
    "duration": 1576,
    "start_time": "2023-03-03T16:24:37.174Z"
   },
   {
    "duration": 909,
    "start_time": "2023-03-03T16:56:17.430Z"
   },
   {
    "duration": 282,
    "start_time": "2023-03-03T16:56:44.090Z"
   },
   {
    "duration": 235,
    "start_time": "2023-03-03T16:58:03.061Z"
   },
   {
    "duration": 368,
    "start_time": "2023-03-03T16:58:09.387Z"
   },
   {
    "duration": 230,
    "start_time": "2023-03-03T16:58:32.595Z"
   },
   {
    "duration": 225,
    "start_time": "2023-03-03T16:58:43.249Z"
   },
   {
    "duration": 227,
    "start_time": "2023-03-03T16:58:52.014Z"
   },
   {
    "duration": 256,
    "start_time": "2023-03-03T17:09:55.281Z"
   },
   {
    "duration": 384,
    "start_time": "2023-03-03T17:10:44.688Z"
   },
   {
    "duration": 240,
    "start_time": "2023-03-03T17:11:46.121Z"
   },
   {
    "duration": 211,
    "start_time": "2023-03-03T17:12:21.045Z"
   },
   {
    "duration": 322,
    "start_time": "2023-03-03T17:12:48.168Z"
   },
   {
    "duration": 262,
    "start_time": "2023-03-03T17:12:54.105Z"
   },
   {
    "duration": 213,
    "start_time": "2023-03-03T17:13:02.230Z"
   },
   {
    "duration": 216,
    "start_time": "2023-03-03T17:15:17.772Z"
   },
   {
    "duration": 382,
    "start_time": "2023-03-03T17:15:34.143Z"
   },
   {
    "duration": 256,
    "start_time": "2023-03-03T17:15:45.180Z"
   },
   {
    "duration": 206,
    "start_time": "2023-03-03T17:16:16.309Z"
   },
   {
    "duration": 246,
    "start_time": "2023-03-03T17:18:03.429Z"
   },
   {
    "duration": 243,
    "start_time": "2023-03-03T17:19:21.009Z"
   },
   {
    "duration": 282,
    "start_time": "2023-03-03T17:39:53.691Z"
   },
   {
    "duration": 334,
    "start_time": "2023-03-03T17:39:59.299Z"
   },
   {
    "duration": 242,
    "start_time": "2023-03-03T17:40:15.319Z"
   },
   {
    "duration": 215,
    "start_time": "2023-03-03T17:40:25.787Z"
   },
   {
    "duration": 219,
    "start_time": "2023-03-03T17:40:34.775Z"
   },
   {
    "duration": 208,
    "start_time": "2023-03-03T17:40:45.619Z"
   },
   {
    "duration": 87,
    "start_time": "2023-03-03T17:49:34.921Z"
   },
   {
    "duration": 270,
    "start_time": "2023-03-03T17:49:49.828Z"
   },
   {
    "duration": 236,
    "start_time": "2023-03-03T17:49:52.922Z"
   },
   {
    "duration": 1365,
    "start_time": "2023-03-03T17:50:02.573Z"
   },
   {
    "duration": 982,
    "start_time": "2023-03-03T17:50:03.940Z"
   },
   {
    "duration": 329,
    "start_time": "2023-03-03T17:50:04.925Z"
   },
   {
    "duration": 6078,
    "start_time": "2023-03-03T17:50:05.257Z"
   },
   {
    "duration": 214,
    "start_time": "2023-03-03T17:50:22.264Z"
   },
   {
    "duration": 217,
    "start_time": "2023-03-03T17:50:59.269Z"
   },
   {
    "duration": 234,
    "start_time": "2023-03-03T17:52:24.933Z"
   },
   {
    "duration": 229,
    "start_time": "2023-03-03T17:53:21.357Z"
   },
   {
    "duration": 1379,
    "start_time": "2023-03-03T17:53:29.492Z"
   },
   {
    "duration": 896,
    "start_time": "2023-03-03T17:53:30.874Z"
   },
   {
    "duration": 347,
    "start_time": "2023-03-03T17:53:31.772Z"
   },
   {
    "duration": 5879,
    "start_time": "2023-03-03T17:53:32.121Z"
   },
   {
    "duration": 255,
    "start_time": "2023-03-03T17:54:07.019Z"
   },
   {
    "duration": 262,
    "start_time": "2023-03-03T17:55:10.777Z"
   },
   {
    "duration": 249,
    "start_time": "2023-03-03T17:55:46.585Z"
   },
   {
    "duration": 366,
    "start_time": "2023-03-03T17:55:53.848Z"
   },
   {
    "duration": 285,
    "start_time": "2023-03-03T17:56:13.135Z"
   },
   {
    "duration": 244,
    "start_time": "2023-03-03T17:56:20.269Z"
   },
   {
    "duration": 249,
    "start_time": "2023-03-03T17:59:09.154Z"
   },
   {
    "duration": 264,
    "start_time": "2023-03-03T17:59:45.665Z"
   },
   {
    "duration": 331,
    "start_time": "2023-03-03T17:59:59.609Z"
   },
   {
    "duration": 253,
    "start_time": "2023-03-03T18:00:08.598Z"
   },
   {
    "duration": 363,
    "start_time": "2023-03-03T18:01:08.999Z"
   },
   {
    "duration": 227,
    "start_time": "2023-03-03T18:01:23.114Z"
   },
   {
    "duration": 323,
    "start_time": "2023-03-03T18:01:43.947Z"
   },
   {
    "duration": 348,
    "start_time": "2023-03-03T18:01:59.525Z"
   },
   {
    "duration": 332,
    "start_time": "2023-03-03T18:02:10.355Z"
   },
   {
    "duration": 226,
    "start_time": "2023-03-03T18:02:22.426Z"
   },
   {
    "duration": 251,
    "start_time": "2023-03-03T18:02:38.070Z"
   },
   {
    "duration": 266,
    "start_time": "2023-03-03T18:02:43.194Z"
   },
   {
    "duration": 284,
    "start_time": "2023-03-03T18:03:01.985Z"
   },
   {
    "duration": 349,
    "start_time": "2023-03-03T18:05:03.571Z"
   },
   {
    "duration": 274,
    "start_time": "2023-03-03T18:05:14.518Z"
   },
   {
    "duration": 236,
    "start_time": "2023-03-03T18:05:47.670Z"
   },
   {
    "duration": 228,
    "start_time": "2023-03-03T18:05:59.074Z"
   },
   {
    "duration": 229,
    "start_time": "2023-03-03T18:06:13.379Z"
   },
   {
    "duration": 296,
    "start_time": "2023-03-03T18:06:34.235Z"
   },
   {
    "duration": 356,
    "start_time": "2023-03-03T18:06:54.064Z"
   },
   {
    "duration": 216,
    "start_time": "2023-03-03T18:07:06.582Z"
   },
   {
    "duration": 20,
    "start_time": "2023-03-03T18:25:44.517Z"
   },
   {
    "duration": 1297,
    "start_time": "2023-03-03T18:26:20.517Z"
   },
   {
    "duration": 92,
    "start_time": "2023-03-03T18:28:54.901Z"
   },
   {
    "duration": 218,
    "start_time": "2023-03-03T18:29:07.537Z"
   },
   {
    "duration": 88,
    "start_time": "2023-03-03T18:48:29.356Z"
   },
   {
    "duration": 107,
    "start_time": "2023-03-03T18:49:56.168Z"
   },
   {
    "duration": 182,
    "start_time": "2023-03-03T18:50:18.840Z"
   },
   {
    "duration": 111,
    "start_time": "2023-03-03T18:50:34.680Z"
   },
   {
    "duration": 128,
    "start_time": "2023-03-03T18:51:37.971Z"
   },
   {
    "duration": 1218,
    "start_time": "2023-03-03T18:51:46.170Z"
   },
   {
    "duration": 1250,
    "start_time": "2023-03-03T18:55:25.901Z"
   },
   {
    "duration": 1205,
    "start_time": "2023-03-03T18:55:45.968Z"
   },
   {
    "duration": 310,
    "start_time": "2023-03-03T18:56:07.448Z"
   },
   {
    "duration": 241,
    "start_time": "2023-03-03T18:56:46.857Z"
   },
   {
    "duration": 256,
    "start_time": "2023-03-03T18:56:51.993Z"
   },
   {
    "duration": 286,
    "start_time": "2023-03-03T18:57:15.046Z"
   },
   {
    "duration": 227,
    "start_time": "2023-03-03T18:58:01.859Z"
   },
   {
    "duration": 309,
    "start_time": "2023-03-03T18:59:22.770Z"
   },
   {
    "duration": 87,
    "start_time": "2023-03-03T18:59:27.965Z"
   },
   {
    "duration": 276,
    "start_time": "2023-03-03T18:59:30.922Z"
   },
   {
    "duration": 236,
    "start_time": "2023-03-03T18:59:41.977Z"
   },
   {
    "duration": 233,
    "start_time": "2023-03-03T19:00:23.356Z"
   },
   {
    "duration": 92,
    "start_time": "2023-03-03T19:00:42.473Z"
   },
   {
    "duration": 224,
    "start_time": "2023-03-03T19:00:58.048Z"
   },
   {
    "duration": 296,
    "start_time": "2023-03-03T19:01:18.182Z"
   },
   {
    "duration": 226,
    "start_time": "2023-03-03T19:01:20.486Z"
   },
   {
    "duration": 1283,
    "start_time": "2023-03-03T19:01:28.164Z"
   },
   {
    "duration": 915,
    "start_time": "2023-03-03T19:01:29.450Z"
   },
   {
    "duration": 347,
    "start_time": "2023-03-03T19:01:30.367Z"
   },
   {
    "duration": 6117,
    "start_time": "2023-03-03T19:01:30.716Z"
   },
   {
    "duration": 224,
    "start_time": "2023-03-03T19:02:17.938Z"
   },
   {
    "duration": 245,
    "start_time": "2023-03-03T19:02:22.161Z"
   },
   {
    "duration": 18,
    "start_time": "2023-03-03T19:02:29.029Z"
   },
   {
    "duration": 236,
    "start_time": "2023-03-03T19:02:32.059Z"
   },
   {
    "duration": 1297,
    "start_time": "2023-03-03T19:02:37.204Z"
   },
   {
    "duration": 894,
    "start_time": "2023-03-03T19:02:38.503Z"
   },
   {
    "duration": 353,
    "start_time": "2023-03-03T19:02:39.398Z"
   },
   {
    "duration": 5783,
    "start_time": "2023-03-03T19:02:39.754Z"
   },
   {
    "duration": 233,
    "start_time": "2023-03-03T19:02:59.965Z"
   },
   {
    "duration": 232,
    "start_time": "2023-03-03T19:03:13.672Z"
   },
   {
    "duration": 216,
    "start_time": "2023-03-03T19:13:21.670Z"
   },
   {
    "duration": 223,
    "start_time": "2023-03-03T19:13:53.810Z"
   },
   {
    "duration": 319,
    "start_time": "2023-03-03T19:14:00.366Z"
   },
   {
    "duration": 237,
    "start_time": "2023-03-03T19:14:13.365Z"
   },
   {
    "duration": 239,
    "start_time": "2023-03-03T19:16:04.667Z"
   },
   {
    "duration": 230,
    "start_time": "2023-03-03T19:16:17.639Z"
   },
   {
    "duration": 226,
    "start_time": "2023-03-03T19:17:11.967Z"
   },
   {
    "duration": 1325,
    "start_time": "2023-03-03T19:17:24.827Z"
   },
   {
    "duration": 981,
    "start_time": "2023-03-03T19:17:26.154Z"
   },
   {
    "duration": 0,
    "start_time": "2023-03-03T19:17:27.137Z"
   },
   {
    "duration": 0,
    "start_time": "2023-03-03T19:17:27.138Z"
   },
   {
    "duration": 261,
    "start_time": "2023-03-03T19:24:26.170Z"
   },
   {
    "duration": 1365,
    "start_time": "2023-03-03T19:24:32.816Z"
   },
   {
    "duration": 898,
    "start_time": "2023-03-03T19:24:34.184Z"
   },
   {
    "duration": 334,
    "start_time": "2023-03-03T19:24:35.084Z"
   },
   {
    "duration": 5866,
    "start_time": "2023-03-03T19:24:35.421Z"
   },
   {
    "duration": 699,
    "start_time": "2023-03-03T19:26:04.082Z"
   },
   {
    "duration": 256,
    "start_time": "2023-03-03T19:26:40.737Z"
   },
   {
    "duration": 630,
    "start_time": "2023-03-03T19:32:04.376Z"
   },
   {
    "duration": 549,
    "start_time": "2023-03-03T19:43:12.127Z"
   },
   {
    "duration": 286,
    "start_time": "2023-03-03T19:43:32.099Z"
   },
   {
    "duration": 220,
    "start_time": "2023-03-03T19:51:29.665Z"
   },
   {
    "duration": 303,
    "start_time": "2023-03-03T19:57:03.644Z"
   },
   {
    "duration": 96,
    "start_time": "2023-03-03T19:59:09.300Z"
   },
   {
    "duration": 237,
    "start_time": "2023-03-03T19:59:30.201Z"
   },
   {
    "duration": 1473,
    "start_time": "2023-03-03T19:59:42.328Z"
   },
   {
    "duration": 1381,
    "start_time": "2023-03-05T13:34:50.993Z"
   },
   {
    "duration": 1422,
    "start_time": "2023-03-05T13:35:09.558Z"
   },
   {
    "duration": 1685,
    "start_time": "2023-03-05T13:35:10.982Z"
   },
   {
    "duration": 0,
    "start_time": "2023-03-05T13:35:12.669Z"
   },
   {
    "duration": 0,
    "start_time": "2023-03-05T13:35:12.670Z"
   },
   {
    "duration": 893,
    "start_time": "2023-03-05T13:35:23.407Z"
   },
   {
    "duration": 188,
    "start_time": "2023-03-05T13:35:30.366Z"
   },
   {
    "duration": 257,
    "start_time": "2023-03-05T13:38:02.568Z"
   },
   {
    "duration": 201,
    "start_time": "2023-03-05T13:38:09.063Z"
   },
   {
    "duration": 202,
    "start_time": "2023-03-05T13:38:44.035Z"
   },
   {
    "duration": 220,
    "start_time": "2023-03-05T13:38:50.023Z"
   },
   {
    "duration": 218,
    "start_time": "2023-03-05T13:39:20.755Z"
   },
   {
    "duration": 242,
    "start_time": "2023-03-05T13:39:32.091Z"
   },
   {
    "duration": 226,
    "start_time": "2023-03-05T13:39:46.987Z"
   },
   {
    "duration": 215,
    "start_time": "2023-03-05T13:40:16.939Z"
   },
   {
    "duration": 196,
    "start_time": "2023-03-05T13:40:33.440Z"
   },
   {
    "duration": 187,
    "start_time": "2023-03-05T13:42:10.269Z"
   },
   {
    "duration": 199,
    "start_time": "2023-03-05T13:46:04.580Z"
   },
   {
    "duration": 301,
    "start_time": "2023-03-05T13:46:31.102Z"
   },
   {
    "duration": 219,
    "start_time": "2023-03-05T13:47:05.708Z"
   },
   {
    "duration": 1217,
    "start_time": "2023-03-05T13:47:22.871Z"
   },
   {
    "duration": 738,
    "start_time": "2023-03-05T13:47:24.091Z"
   },
   {
    "duration": 0,
    "start_time": "2023-03-05T13:47:24.830Z"
   },
   {
    "duration": 0,
    "start_time": "2023-03-05T13:47:24.832Z"
   },
   {
    "duration": 371,
    "start_time": "2023-03-05T13:47:56.504Z"
   },
   {
    "duration": 236,
    "start_time": "2023-03-05T13:48:01.283Z"
   },
   {
    "duration": 260,
    "start_time": "2023-03-05T13:52:12.352Z"
   },
   {
    "duration": 217,
    "start_time": "2023-03-05T13:53:11.236Z"
   },
   {
    "duration": 212,
    "start_time": "2023-03-05T13:53:19.299Z"
   },
   {
    "duration": 196,
    "start_time": "2023-03-05T13:56:36.384Z"
   },
   {
    "duration": 187,
    "start_time": "2023-03-05T13:58:24.720Z"
   },
   {
    "duration": 277,
    "start_time": "2023-03-05T13:58:32.546Z"
   },
   {
    "duration": 220,
    "start_time": "2023-03-05T13:58:42.253Z"
   },
   {
    "duration": 223,
    "start_time": "2023-03-05T14:21:42.284Z"
   },
   {
    "duration": 242,
    "start_time": "2023-03-05T14:21:46.804Z"
   },
   {
    "duration": 246,
    "start_time": "2023-03-05T14:23:04.694Z"
   },
   {
    "duration": 83,
    "start_time": "2023-03-05T14:28:32.549Z"
   },
   {
    "duration": 18,
    "start_time": "2023-03-05T14:29:09.751Z"
   },
   {
    "duration": 276,
    "start_time": "2023-03-05T14:29:31.657Z"
   },
   {
    "duration": 200,
    "start_time": "2023-03-05T15:40:52.145Z"
   },
   {
    "duration": 198,
    "start_time": "2023-03-05T15:41:05.609Z"
   },
   {
    "duration": 21,
    "start_time": "2023-03-05T15:41:09.269Z"
   },
   {
    "duration": 19,
    "start_time": "2023-03-05T15:41:39.697Z"
   },
   {
    "duration": 205,
    "start_time": "2023-03-05T15:41:49.471Z"
   },
   {
    "duration": 248,
    "start_time": "2023-03-05T15:42:02.037Z"
   },
   {
    "duration": 2909,
    "start_time": "2023-03-05T15:42:24.297Z"
   },
   {
    "duration": 1223,
    "start_time": "2023-03-05T15:42:49.122Z"
   },
   {
    "duration": 904,
    "start_time": "2023-03-05T15:42:50.347Z"
   },
   {
    "duration": 334,
    "start_time": "2023-03-05T15:42:51.253Z"
   },
   {
    "duration": 5788,
    "start_time": "2023-03-05T15:42:51.589Z"
   },
   {
    "duration": 241,
    "start_time": "2023-03-05T15:44:08.846Z"
   },
   {
    "duration": 216,
    "start_time": "2023-03-05T15:44:56.179Z"
   },
   {
    "duration": 242,
    "start_time": "2023-03-05T15:45:09.563Z"
   },
   {
    "duration": 322,
    "start_time": "2023-03-05T15:45:21.016Z"
   },
   {
    "duration": 230,
    "start_time": "2023-03-05T15:45:25.963Z"
   },
   {
    "duration": 236,
    "start_time": "2023-03-05T15:46:46.074Z"
   },
   {
    "duration": 1255,
    "start_time": "2023-03-05T15:46:55.663Z"
   },
   {
    "duration": 822,
    "start_time": "2023-03-05T15:46:56.921Z"
   },
   {
    "duration": 334,
    "start_time": "2023-03-05T15:46:57.744Z"
   },
   {
    "duration": 5789,
    "start_time": "2023-03-05T15:46:58.080Z"
   },
   {
    "duration": 245,
    "start_time": "2023-03-05T15:47:11.463Z"
   },
   {
    "duration": 246,
    "start_time": "2023-03-05T15:47:25.920Z"
   },
   {
    "duration": 209,
    "start_time": "2023-03-05T15:48:03.639Z"
   },
   {
    "duration": 313,
    "start_time": "2023-03-05T15:59:35.378Z"
   },
   {
    "duration": 348,
    "start_time": "2023-03-05T15:59:52.981Z"
   },
   {
    "duration": 226,
    "start_time": "2023-03-05T15:59:57.942Z"
   },
   {
    "duration": 246,
    "start_time": "2023-03-05T16:00:14.785Z"
   },
   {
    "duration": 220,
    "start_time": "2023-03-05T16:00:19.250Z"
   },
   {
    "duration": 236,
    "start_time": "2023-03-05T16:00:34.675Z"
   },
   {
    "duration": 319,
    "start_time": "2023-03-05T16:01:20.889Z"
   },
   {
    "duration": 316,
    "start_time": "2023-03-05T16:01:30.858Z"
   },
   {
    "duration": 263,
    "start_time": "2023-03-05T16:01:46.646Z"
   },
   {
    "duration": 266,
    "start_time": "2023-03-05T16:01:52.705Z"
   },
   {
    "duration": 251,
    "start_time": "2023-03-05T16:01:58.733Z"
   },
   {
    "duration": 310,
    "start_time": "2023-03-05T16:02:02.113Z"
   },
   {
    "duration": 237,
    "start_time": "2023-03-05T16:02:17.813Z"
   },
   {
    "duration": 231,
    "start_time": "2023-03-05T16:02:24.757Z"
   },
   {
    "duration": 261,
    "start_time": "2023-03-05T16:02:28.842Z"
   },
   {
    "duration": 250,
    "start_time": "2023-03-05T16:02:38.158Z"
   },
   {
    "duration": 344,
    "start_time": "2023-03-05T16:03:14.929Z"
   },
   {
    "duration": 252,
    "start_time": "2023-03-05T16:03:18.702Z"
   },
   {
    "duration": 246,
    "start_time": "2023-03-05T16:03:37.262Z"
   },
   {
    "duration": 249,
    "start_time": "2023-03-05T16:03:52.278Z"
   },
   {
    "duration": 263,
    "start_time": "2023-03-05T16:03:55.974Z"
   },
   {
    "duration": 321,
    "start_time": "2023-03-05T16:25:23.384Z"
   },
   {
    "duration": 304,
    "start_time": "2023-03-05T16:25:29.676Z"
   },
   {
    "duration": 212,
    "start_time": "2023-03-05T16:26:33.100Z"
   },
   {
    "duration": 254,
    "start_time": "2023-03-05T16:26:36.680Z"
   },
   {
    "duration": 252,
    "start_time": "2023-03-05T16:27:09.520Z"
   },
   {
    "duration": 266,
    "start_time": "2023-03-05T16:28:25.129Z"
   },
   {
    "duration": 257,
    "start_time": "2023-03-05T16:28:29.928Z"
   },
   {
    "duration": 321,
    "start_time": "2023-03-05T16:28:50.937Z"
   },
   {
    "duration": 231,
    "start_time": "2023-03-05T16:29:09.780Z"
   },
   {
    "duration": 1273,
    "start_time": "2023-03-05T16:29:24.114Z"
   },
   {
    "duration": 906,
    "start_time": "2023-03-05T16:29:25.389Z"
   },
   {
    "duration": 390,
    "start_time": "2023-03-05T16:29:26.297Z"
   },
   {
    "duration": 5658,
    "start_time": "2023-03-05T16:29:26.690Z"
   },
   {
    "duration": 282,
    "start_time": "2023-03-05T16:29:36.265Z"
   },
   {
    "duration": 380,
    "start_time": "2023-03-05T16:46:26.777Z"
   },
   {
    "duration": 340,
    "start_time": "2023-03-05T16:47:26.737Z"
   },
   {
    "duration": 319,
    "start_time": "2023-03-05T16:49:51.373Z"
   },
   {
    "duration": 287,
    "start_time": "2023-03-05T16:51:17.154Z"
   },
   {
    "duration": 255,
    "start_time": "2023-03-05T17:02:53.472Z"
   },
   {
    "duration": 1312,
    "start_time": "2023-03-05T17:07:04.275Z"
   },
   {
    "duration": 862,
    "start_time": "2023-03-05T17:07:05.589Z"
   },
   {
    "duration": 327,
    "start_time": "2023-03-05T17:07:06.453Z"
   },
   {
    "duration": 5574,
    "start_time": "2023-03-05T17:07:06.783Z"
   },
   {
    "duration": 1325,
    "start_time": "2023-03-05T17:07:55.067Z"
   },
   {
    "duration": 973,
    "start_time": "2023-03-05T17:07:56.394Z"
   },
   {
    "duration": 338,
    "start_time": "2023-03-05T17:07:57.369Z"
   },
   {
    "duration": 5742,
    "start_time": "2023-03-05T17:07:57.709Z"
   },
   {
    "duration": 257,
    "start_time": "2023-03-05T17:09:30.284Z"
   },
   {
    "duration": 78,
    "start_time": "2023-03-05T17:10:17.637Z"
   },
   {
    "duration": 268,
    "start_time": "2023-03-05T17:10:21.613Z"
   },
   {
    "duration": 249,
    "start_time": "2023-03-05T17:10:31.620Z"
   },
   {
    "duration": 5679,
    "start_time": "2023-03-05T17:35:11.154Z"
   },
   {
    "duration": 4559,
    "start_time": "2023-03-05T18:38:37.359Z"
   },
   {
    "duration": 5595,
    "start_time": "2023-03-05T18:48:19.923Z"
   },
   {
    "duration": 5880,
    "start_time": "2023-03-05T18:51:07.576Z"
   },
   {
    "duration": 5642,
    "start_time": "2023-03-05T18:52:24.976Z"
   },
   {
    "duration": 946,
    "start_time": "2023-03-05T18:58:41.304Z"
   },
   {
    "duration": 6,
    "start_time": "2023-03-05T18:58:52.916Z"
   },
   {
    "duration": 4,
    "start_time": "2023-03-05T18:59:05.205Z"
   },
   {
    "duration": 6,
    "start_time": "2023-03-05T18:59:09.496Z"
   },
   {
    "duration": 7,
    "start_time": "2023-03-05T19:01:16.732Z"
   },
   {
    "duration": 4,
    "start_time": "2023-03-05T19:01:22.920Z"
   },
   {
    "duration": 53,
    "start_time": "2023-03-06T13:04:30.281Z"
   },
   {
    "duration": 8,
    "start_time": "2023-03-06T13:05:19.009Z"
   },
   {
    "duration": 1704,
    "start_time": "2023-03-06T13:05:28.172Z"
   },
   {
    "duration": 1074,
    "start_time": "2023-03-06T13:05:29.885Z"
   },
   {
    "duration": 423,
    "start_time": "2023-03-06T13:05:30.964Z"
   },
   {
    "duration": 7103,
    "start_time": "2023-03-06T13:05:31.390Z"
   },
   {
    "duration": 24,
    "start_time": "2023-03-06T13:05:38.494Z"
   },
   {
    "duration": 6548,
    "start_time": "2023-03-06T13:06:07.521Z"
   },
   {
    "duration": 6780,
    "start_time": "2023-03-06T13:06:36.092Z"
   },
   {
    "duration": 70,
    "start_time": "2023-03-06T14:19:50.036Z"
   },
   {
    "duration": 1545,
    "start_time": "2023-03-06T14:19:56.054Z"
   },
   {
    "duration": 865,
    "start_time": "2023-03-06T14:19:57.602Z"
   },
   {
    "duration": 363,
    "start_time": "2023-03-06T14:19:58.468Z"
   },
   {
    "duration": 5467,
    "start_time": "2023-03-06T14:19:58.833Z"
   },
   {
    "duration": 5693,
    "start_time": "2023-03-06T14:20:23.385Z"
   },
   {
    "duration": 5511,
    "start_time": "2023-03-06T14:29:47.335Z"
   },
   {
    "duration": 5279,
    "start_time": "2023-03-06T14:34:44.982Z"
   },
   {
    "duration": 438,
    "start_time": "2023-03-06T14:36:49.897Z"
   },
   {
    "duration": 5716,
    "start_time": "2023-03-06T14:36:53.282Z"
   },
   {
    "duration": 5623,
    "start_time": "2023-03-06T14:43:47.726Z"
   },
   {
    "duration": 1373,
    "start_time": "2023-03-06T14:44:21.630Z"
   },
   {
    "duration": 957,
    "start_time": "2023-03-06T14:44:23.004Z"
   },
   {
    "duration": 386,
    "start_time": "2023-03-06T14:44:23.964Z"
   },
   {
    "duration": 5735,
    "start_time": "2023-03-06T14:44:24.354Z"
   },
   {
    "duration": 5601,
    "start_time": "2023-03-06T14:46:17.126Z"
   },
   {
    "duration": 1365,
    "start_time": "2023-03-06T14:47:31.724Z"
   },
   {
    "duration": 958,
    "start_time": "2023-03-06T14:47:33.091Z"
   },
   {
    "duration": 393,
    "start_time": "2023-03-06T14:47:34.050Z"
   },
   {
    "duration": 5835,
    "start_time": "2023-03-06T14:47:34.445Z"
   },
   {
    "duration": 5445,
    "start_time": "2023-03-06T15:28:17.351Z"
   },
   {
    "duration": 37,
    "start_time": "2023-03-06T15:28:56.504Z"
   },
   {
    "duration": 5457,
    "start_time": "2023-03-06T15:29:10.274Z"
   },
   {
    "duration": 5346,
    "start_time": "2023-03-06T15:29:38.871Z"
   },
   {
    "duration": 6070,
    "start_time": "2023-03-06T15:31:02.703Z"
   },
   {
    "duration": 3346,
    "start_time": "2023-03-06T15:55:11.096Z"
   },
   {
    "duration": 35482,
    "start_time": "2023-03-06T15:55:53.593Z"
   },
   {
    "duration": 150,
    "start_time": "2023-03-06T15:57:07.888Z"
   },
   {
    "duration": 169,
    "start_time": "2023-03-06T15:57:27.137Z"
   },
   {
    "duration": 611,
    "start_time": "2023-03-06T15:59:52.029Z"
   },
   {
    "duration": 621,
    "start_time": "2023-03-06T16:02:47.178Z"
   },
   {
    "duration": 729,
    "start_time": "2023-03-06T16:02:58.482Z"
   },
   {
    "duration": 564,
    "start_time": "2023-03-06T16:03:09.614Z"
   },
   {
    "duration": 1201,
    "start_time": "2023-03-06T16:03:19.252Z"
   },
   {
    "duration": 901,
    "start_time": "2023-03-06T16:03:20.455Z"
   },
   {
    "duration": 370,
    "start_time": "2023-03-06T16:03:21.357Z"
   },
   {
    "duration": 5452,
    "start_time": "2023-03-06T16:03:21.729Z"
   },
   {
    "duration": 713,
    "start_time": "2023-03-06T16:03:41.452Z"
   },
   {
    "duration": 1241,
    "start_time": "2023-03-06T16:05:05.789Z"
   },
   {
    "duration": 2060,
    "start_time": "2023-03-06T16:07:00.193Z"
   }
  ],
  "kernelspec": {
   "display_name": "Python 3 (ipykernel)",
   "language": "python",
   "name": "python3"
  },
  "language_info": {
   "codemirror_mode": {
    "name": "ipython",
    "version": 3
   },
   "file_extension": ".py",
   "mimetype": "text/x-python",
   "name": "python",
   "nbconvert_exporter": "python",
   "pygments_lexer": "ipython3",
   "version": "3.9.13"
  },
  "toc": {
   "base_numbering": 1,
   "nav_menu": {
    "height": "114px",
    "width": "432px"
   },
   "number_sections": true,
   "sideBar": true,
   "skip_h1_title": true,
   "title_cell": "Table of Contents",
   "title_sidebar": "Contents",
   "toc_cell": false,
   "toc_position": {},
   "toc_section_display": true,
   "toc_window_display": false
  }
 },
 "nbformat": 4,
 "nbformat_minor": 2
}
