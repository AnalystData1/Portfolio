{
 "cells": [
  {
   "cell_type": "markdown",
   "id": "e7dfb797",
   "metadata": {},
   "source": [
    "# Исследование базы данных StackOverflow\n",
    "\n",
    "## Описание проекта\n",
    "\n",
    "В самостоятельном проекте вы будете работать с базой данных StackOverflow — сервиса вопросов и ответов о программировании. StackOverflow похож на социальную сеть — пользователи сервиса задают вопросы, отвечают на посты, оставляют комментарии и ставят оценки другим ответам.\n"
   ]
  },
  {
   "cell_type": "markdown",
   "id": "9331ec71",
   "metadata": {},
   "source": [
    "## Данные\n",
    "\n",
    "\n",
    "Вы будете работать с версией базы, где хранятся данные о постах за 2008 год, но в таблицах вы найдёте информацию и о более поздних оценках, которые эти посты получили. "
   ]
  },
  {
   "cell_type": "markdown",
   "id": "4c0e55cc",
   "metadata": {},
   "source": [
    "## Цель\n",
    "\n",
    "С помощью SQL посчитать и визуализировать ключевые метрики сервис-системы вопросов и ответов о программировании."
   ]
  },
  {
   "cell_type": "markdown",
   "id": "6ccac7cc",
   "metadata": {},
   "source": [
    "### Задание 1\n",
    "Найдите количество вопросов, которые набрали больше 300 очков или как минимум 100 раз были добавлены в «Закладки»."
   ]
  },
  {
   "cell_type": "code",
   "execution_count": null,
   "id": "b94affd3",
   "metadata": {},
   "outputs": [],
   "source": [
    "'''\n",
    "   SELECT COUNT(parent_id)\n",
    "FROM stackoverflow.posts AS p\n",
    "JOIN stackoverflow.post_types AS pt ON p.post_type_id = pt.id\n",
    "WHERE type = 'Question'\n",
    "  AND (score > 300 \n",
    "   OR favorites_count >= 100)\n",
    "\n",
    "'''"
   ]
  },
  {
   "cell_type": "markdown",
   "id": "a8f6be8b",
   "metadata": {},
   "source": [
    "### Задание 2\n",
    "Сколько в среднем в день задавали вопросов с 1 по 18 ноября 2008 включительно? Результат округлите до целого числа.\n",
    "\n"
   ]
  },
  {
   "cell_type": "code",
   "execution_count": null,
   "id": "702093b1",
   "metadata": {},
   "outputs": [],
   "source": [
    "'''\n",
    "WITH\n",
    "type_q AS\n",
    "(SELECT id\n",
    "FROM stackoverflow.post_types\n",
    "WHERE type = 'Question'),\n",
    "count_q AS\n",
    "(SELECT CAST(creation_date AS DATE) AS date_q,\n",
    "       COUNT(p.id) AS count_q\n",
    "FROM stackoverflow.posts AS p\n",
    "JOIN type_q AS q ON p.post_type_id = q.id\n",
    "WHERE CAST(creation_date AS DATE) BETWEEN '2008-11-01' AND '2008-11-18'\n",
    "GROUP BY date_q)\n",
    "\n",
    "SELECT ROUND(AVG(count_q.count_q), 0)\n",
    "FROM count_q\n",
    "    \n",
    "'''"
   ]
  },
  {
   "cell_type": "markdown",
   "id": "81e05df1",
   "metadata": {},
   "source": [
    "### Задание 3\n",
    "Сколько пользователей получили значки сразу в день регистрации? Выведите количество уникальных пользователей.\n"
   ]
  },
  {
   "cell_type": "code",
   "execution_count": null,
   "id": "0f111021",
   "metadata": {},
   "outputs": [],
   "source": [
    "'''\n",
    "SELECT COUNT(DISTINCT u.id)\n",
    "FROM stackoverflow.users AS u\n",
    "JOIN stackoverflow.badges AS b ON u.id = b.user_id\n",
    "WHERE CAST(b.creation_date AS DATE) = CAST(u.creation_date AS DATE)\n",
    "'''"
   ]
  },
  {
   "cell_type": "markdown",
   "id": "cf0bd78d",
   "metadata": {},
   "source": [
    "### Задание 4\n",
    "\n",
    "Сколько уникальных постов пользователя с именем Joel Coehoorn получили хотя бы один голос?\n",
    "\n"
   ]
  },
  {
   "cell_type": "code",
   "execution_count": null,
   "id": "a16e6be9",
   "metadata": {},
   "outputs": [],
   "source": [
    "'''\n",
    "SELECT COUNT(DISTINCT p.id)\n",
    "FROM stackoverflow.posts AS p\n",
    "JOIN stackoverflow.users AS u ON p.user_id = u.id\n",
    "JOIN stackoverflow.votes AS v ON p.id = v.post_id \n",
    "WHERE display_name = 'Joel Coehoorn' \n",
    "'''"
   ]
  },
  {
   "cell_type": "markdown",
   "id": "d8b64c72",
   "metadata": {},
   "source": [
    "### Задание 5\n",
    "Выгрузите все поля таблицы vote_types. Добавьте к таблице поле rank, в которое войдут номера записей в обратном порядке. Таблица должна быть отсортирована по полю id."
   ]
  },
  {
   "cell_type": "code",
   "execution_count": null,
   "id": "7d7ab6da",
   "metadata": {},
   "outputs": [],
   "source": [
    "'''\n",
    "  SELECT *,\n",
    "       ROW_NUMBER() OVER (ORDER BY id DESC) AS rank\n",
    "FROM stackoverflow.vote_types\n",
    "ORDER BY id \n",
    "'''"
   ]
  },
  {
   "cell_type": "markdown",
   "id": "098bd9bc",
   "metadata": {},
   "source": [
    "### Задание 6\n",
    "\n",
    "Отберите 10 пользователей, которые поставили больше всего голосов типа Close. Отобразите таблицу из двух полей: идентификатором пользователя и количеством голосов. Отсортируйте данные сначала по убыванию количества голосов, потом по убыванию значения идентификатора пользователя."
   ]
  },
  {
   "cell_type": "code",
   "execution_count": null,
   "id": "68cc6d9d",
   "metadata": {},
   "outputs": [],
   "source": [
    "'''\n",
    "  SELECT u.id AS user_id,\n",
    "       COUNT(v.id) AS votes \n",
    "FROM stackoverflow.users AS u\n",
    "JOIN stackoverflow.votes AS v ON u.id = v.user_id\n",
    "JOIN stackoverflow.vote_types AS vt ON v.vote_type_id = vt.id\n",
    "WHERE vt.name = 'Close'\n",
    "GROUP BY u.id\n",
    "ORDER BY votes DESC, user_id DESC\n",
    "LIMIT 10\n",
    "'''"
   ]
  },
  {
   "cell_type": "markdown",
   "id": "2bc03b24",
   "metadata": {},
   "source": [
    "### Задание 7\n",
    "\n",
    "Отберите 10 пользователей по количеству значков, полученных в период с 15 ноября по 15 декабря 2008 года включительно.\n",
    "Отобразите несколько полей:\n",
    "идентификатор пользователя;\n",
    "число значков;\n",
    "место в рейтинге — чем больше значков, тем выше рейтинг.\n",
    "Пользователям, которые набрали одинаковое количество значков, присвойте одно и то же место в рейтинге.\n",
    "Отсортируйте записи по количеству значков по убыванию, а затем по возрастанию значения идентификатора пользователя."
   ]
  },
  {
   "cell_type": "code",
   "execution_count": null,
   "id": "cc9a8a1c",
   "metadata": {},
   "outputs": [],
   "source": [
    "'''\n",
    "  SELECT u.id,\n",
    "       COUNT(b.id) AS count_badges,\n",
    "       DENSE_RANK() OVER (ORDER BY COUNT(b.id) DESC) AS rn\n",
    "FROM stackoverflow.users AS u\n",
    "JOIN stackoverflow.badges AS b ON u.id = b.user_id\n",
    "WHERE CAST(b.creation_date AS DATE) BETWEEN '2008-11-15' AND '2008-12-15'\n",
    "GROUP BY u.id\n",
    "ORDER BY count_badges DESC, u.id ASC\n",
    "LIMIT 10     \n",
    "'''"
   ]
  },
  {
   "cell_type": "markdown",
   "id": "3790cb78",
   "metadata": {},
   "source": [
    "### Задание 8\n",
    "\n",
    "Сколько в среднем очков получает пост каждого пользователя?\n",
    "Сформируйте таблицу из следующих полей:\n",
    "- заголовок поста;\n",
    "- идентификатор пользователя;\n",
    "- число очков поста;\n",
    "- среднее число очков пользователя за пост, округлённое до целого числа.\n",
    "\n",
    "Не учитывайте посты без заголовка, а также те, что набрали ноль очков."
   ]
  },
  {
   "cell_type": "code",
   "execution_count": null,
   "id": "2e2cd852",
   "metadata": {},
   "outputs": [],
   "source": [
    "'''\n",
    " SELECT p.title,\n",
    "       u.id,\n",
    "       score,\n",
    "       ROUND(AVG(score) OVER (PARTITION BY u.id))\n",
    "FROM stackoverflow.posts AS p\n",
    "JOIN stackoverflow.users AS u ON p.user_id = u.id\n",
    "WHERE p.title != '' \n",
    "  AND score != 0\n",
    "'''"
   ]
  },
  {
   "cell_type": "markdown",
   "id": "b0d85ee6",
   "metadata": {},
   "source": [
    "### Задание 9\n",
    "Отобразите заголовки постов, которые были написаны пользователями, получившими более 1000 значков. Посты без заголовков не должны попасть в список."
   ]
  },
  {
   "cell_type": "code",
   "execution_count": null,
   "id": "51df210a",
   "metadata": {},
   "outputs": [],
   "source": [
    "'''\n",
    "WITH\n",
    "users_budges AS \n",
    "(SELECT b.user_id,\n",
    "        COUNT(b.id) AS count_badges\n",
    "FROM  stackoverflow.badges AS b \n",
    "GROUP BY b.user_id\n",
    "HAVING COUNT(b.id) > 1000)\n",
    "\n",
    "SELECT p.title\n",
    "FROM stackoverflow.posts AS p\n",
    "JOIN stackoverflow.users AS u ON p.user_id = u.id\n",
    "JOIN users_budges AS ub ON u.id = ub.user_id\n",
    "WHERE p.title != ''\n",
    "'''"
   ]
  },
  {
   "cell_type": "markdown",
   "id": "be802a48",
   "metadata": {},
   "source": [
    "### Задание 10\n",
    "\n",
    "Напишите запрос, который выгрузит данные о пользователях из США (англ. United States). Разделите пользователей на три группы в зависимости от количества просмотров их профилей:\n",
    "\n",
    "- пользователям с числом просмотров больше либо равным 350 присвойте группу 1;\n",
    "- пользователям с числом просмотров меньше 350, но больше либо равно 100 — группу 2;\n",
    "- пользователям с числом просмотров меньше 100 — группу 3.\n",
    "\n",
    "Отобразите в итоговой таблице идентификатор пользователя, количество просмотров профиля и группу. Пользователи с нулевым количеством просмотров не должны войти в итоговую таблицу.\n"
   ]
  },
  {
   "cell_type": "code",
   "execution_count": null,
   "id": "f18c3b97",
   "metadata": {},
   "outputs": [],
   "source": [
    "'''\n",
    "SELECT id,\n",
    "       views,\n",
    "       CASE\n",
    "          WHEN views >= 350 THEN 1\n",
    "          WHEN views < 100 THEN 3\n",
    "          ELSE 2\n",
    "       END AS group\n",
    "FROM stackoverflow.users\n",
    "WHERE location LIKE '%United States%' AND views > 0;\n",
    "'''"
   ]
  },
  {
   "cell_type": "markdown",
   "id": "b60727c0",
   "metadata": {},
   "source": [
    "### Задание 11\n",
    "Дополните предыдущий запрос. Отобразите лидеров каждой группы — пользователей, которые набрали максимальное число просмотров в своей группе. Выведите поля с идентификатором пользователя, группой и количеством просмотров. Отсортируйте таблицу по убыванию просмотров, а затем по возрастанию значения идентификатора."
   ]
  },
  {
   "cell_type": "code",
   "execution_count": null,
   "id": "ae6ceb83",
   "metadata": {},
   "outputs": [],
   "source": [
    "'''\n",
    "WITH gr AS\n",
    "(SELECT g.id,\n",
    "       g.views,\n",
    "       g.group,\n",
    "       MAX(g.views) OVER (PARTITION BY g.group) AS max     \n",
    "FROM (SELECT id,\n",
    "             views,\n",
    "             CASE\n",
    "                 WHEN views >= 350 THEN 1\n",
    "                 WHEN views < 100 THEN 3\n",
    "                 ELSE 2\n",
    "             END AS group\n",
    "        FROM stackoverflow.users\n",
    "        WHERE location LIKE '%United States%' AND views > 0) as g\n",
    ")\n",
    "SELECT gr.id,\n",
    "       gr.group,\n",
    "       gr.views\n",
    "FROM gr\n",
    "WHERE gr.views = gr.max\n",
    "ORDER BY gr.views DESC, gr.id\n",
    "'''"
   ]
  },
  {
   "cell_type": "markdown",
   "id": "6c35823a",
   "metadata": {},
   "source": [
    "### Задание 12\n",
    "Посчитайте ежедневный прирост новых пользователей в ноябре 2008 года. Сформируйте таблицу с полями:\n",
    "- номер дня;\n",
    "- число пользователей, зарегистрированных в этот день;\n",
    "- сумму пользователей с накоплением."
   ]
  },
  {
   "cell_type": "code",
   "execution_count": null,
   "id": "0393d279",
   "metadata": {},
   "outputs": [],
   "source": [
    "'''\n",
    "WITH day_c AS\n",
    "(SELECT EXTRACT(DAY FROM creation_date) AS day_n,\n",
    "       COUNT(id) AS count_id\n",
    "FROM stackoverflow.users\n",
    "WHERE CAST(DATE_TRUNC('MONTH', creation_date) AS DATE) = '2008-11-01'\n",
    "GROUP BY EXTRACT(DAY FROM creation_date))\n",
    "\n",
    "SELECT *,\n",
    "       SUM(count_id) OVER (ORDER BY day_n)\n",
    "FROM day_c\n",
    "'''"
   ]
  },
  {
   "cell_type": "markdown",
   "id": "7f24772a",
   "metadata": {},
   "source": [
    "### Задание 13\n",
    "Для каждого пользователя, который написал хотя бы один пост, найдите интервал между регистрацией и временем создания первого поста. Отобразите:\n",
    "\n",
    "- идентификатор пользователя;\n",
    "- разницу во времени между регистрацией и первым постом."
   ]
  },
  {
   "cell_type": "code",
   "execution_count": null,
   "id": "ffa11404",
   "metadata": {},
   "outputs": [],
   "source": [
    "'''\n",
    "   WITH f_post AS\n",
    "(SELECT p.user_id,\n",
    "       p.creation_date\n",
    "FROM (SELECT user_id,\n",
    "          creation_date,\n",
    "          ROW_NUMBER() OVER (PARTITION BY user_id ORDER BY creation_date) AS rn\n",
    "   FROM stackoverflow.posts) AS p\n",
    "WHERE p.rn = 1)\n",
    "\n",
    "SELECT u.id,\n",
    "       p.creation_date - u.creation_date\n",
    "FROM stackoverflow.users AS u\n",
    "JOIN f_post AS p ON u.id = p.user_id\n",
    "'''\n",
    "\n"
   ]
  },
  {
   "cell_type": "markdown",
   "id": "4f6b6ae1",
   "metadata": {},
   "source": [
    "### Задание 14\n",
    "\n",
    "Выведите общую сумму просмотров постов за каждый месяц 2008 года. Если данных за какой-либо месяц в базе нет, такой месяц можно пропустить. \n",
    "\n",
    "Результат отсортируйте по убыванию общего количества просмотров.\n"
   ]
  },
  {
   "cell_type": "code",
   "execution_count": null,
   "id": "28436dac",
   "metadata": {},
   "outputs": [],
   "source": [
    "'''\n",
    "  SELECT CAST(DATE_TRUNC('month', creation_date) AS date),\n",
    "       SUM(views_count)\n",
    "FROM stackoverflow.posts\n",
    "WHERE CAST(DATE_TRUNC('year', creation_date) AS DATE) = '2008-01-01'\n",
    "GROUP BY CAST(DATE_TRUNC('month', creation_date) AS date)\n",
    "ORDER BY SUM(views_count) DESC\n",
    "'''"
   ]
  },
  {
   "cell_type": "markdown",
   "id": "7e9f5525",
   "metadata": {},
   "source": [
    "### Задание 15\n",
    "\n",
    "Выведите имена самых активных пользователей, которые в первый месяц после регистрации (включая день регистрации) дали больше 100 ответов. \n",
    "\n",
    "Вопросы, которые задавали пользователи, не учитывайте. Для каждого имени пользователя выведите количество уникальных значений user_id. \n",
    "\n",
    "Отсортируйте результат по полю с именами в лексикографическом порядке."
   ]
  },
  {
   "cell_type": "code",
   "execution_count": null,
   "id": "0e9e7d79",
   "metadata": {},
   "outputs": [],
   "source": [
    "'''\n",
    "  SELECT display_name,\n",
    "       COUNT(DISTINCT p.user_id) AS total_answers\n",
    "FROM stackoverflow.users AS u\n",
    "JOIN stackoverflow.posts AS p ON u.id=p.user_id\n",
    "WHERE post_type_id=2\n",
    "AND p.creation_date::date <= u.creation_date::date + INTERVAL '1 month'\n",
    "GROUP BY display_name\n",
    "HAVING COUNT(DISTINCT p.id) > 100\n",
    "'''"
   ]
  },
  {
   "cell_type": "markdown",
   "id": "271ce2e8",
   "metadata": {},
   "source": [
    "### Задание 16\n",
    "Выведите количество постов за 2008 год по месяцам. Отберите посты от пользователей, которые зарегистрировались в сентябре 2008 года и сделали хотя бы один пост в декабре того же года. \n",
    "\n",
    "Отсортируйте таблицу по значению месяца по убыванию."
   ]
  },
  {
   "cell_type": "code",
   "execution_count": null,
   "id": "119fd9fc",
   "metadata": {},
   "outputs": [],
   "source": [
    "'''\n",
    "  SELECT CAST(DATE_TRUNC('month', p.creation_date) AS date) AS month_posts,\n",
    "         COUNT (DISTINCT id) AS user_count\n",
    "    FROM stackoverflow.posts AS p \n",
    "   WHERE user_id IN (\n",
    "                  SELECT DISTINCT u.id\n",
    "                    FROM stackoverflow.users AS u\n",
    "                    JOIN stackoverflow.posts AS p\n",
    "                      ON p.user_id = u.id\n",
    "                   WHERE u.creation_date :: date BETWEEN '2008-09-01' AND '2008-09-30'\n",
    "                     AND p.creation_date :: date BETWEEN '2008-12-01' AND '2008-12-31'\n",
    "                    )\n",
    "     AND p.creation_date :: date BETWEEN '2008-01-01' AND '2008-12-31'\n",
    "GROUP BY month_posts\n",
    "ORDER BY month_posts DESC\n",
    "\n",
    "'''"
   ]
  },
  {
   "cell_type": "markdown",
   "id": "27c99c65",
   "metadata": {},
   "source": [
    "### Задание 17\n",
    "Используя данные о постах, выведите несколько полей:\n",
    "- идентификатор пользователя, который написал пост;\n",
    "- дата создания поста;\n",
    "- количество просмотров у текущего поста;\n",
    "- сумму просмотров постов автора с накоплением.\n",
    "\n",
    "Данные в таблице должны быть отсортированы по возрастанию идентификаторов пользователей, а данные об одном и том же пользователе — по возрастанию даты создания поста."
   ]
  },
  {
   "cell_type": "code",
   "execution_count": null,
   "id": "1a105100",
   "metadata": {},
   "outputs": [],
   "source": [
    "'''\n",
    "  SELECT user_id,\n",
    "       creation_date,\n",
    "       views_count,\n",
    "       SUM(views_count) OVER (PARTITION BY user_id ORDER BY creation_date)\n",
    "FROM stackoverflow.posts\n",
    "ORDER BY user_id\n",
    "'''"
   ]
  },
  {
   "cell_type": "markdown",
   "id": "2ec8fdb0",
   "metadata": {},
   "source": [
    "### Задание 18\n",
    "Сколько в среднем дней в период с 1 по 7 декабря 2008 года включительно пользователи взаимодействовали с платформой? \n",
    "\n",
    "Для каждого пользователя отберите дни, в которые он или она опубликовали хотя бы один пост. Нужно получить одно целое число — не забудьте округлить результат."
   ]
  },
  {
   "cell_type": "code",
   "execution_count": null,
   "id": "37b0f227",
   "metadata": {},
   "outputs": [],
   "source": [
    "'''\n",
    "WITH ad AS (SELECT user_id,\n",
    "                   COUNT(DISTINCT creation_date::date)  AS cnt\n",
    "            FROM stackoverflow.posts\n",
    "            WHERE creation_date::date BETWEEN '2008-12-01' AND '2008-12-07' \n",
    "            GROUP BY user_id)\n",
    "\n",
    "SELECT ROUND(AVG(ad.cnt))\n",
    "FROM ad;\n",
    "\n",
    "'''"
   ]
  },
  {
   "cell_type": "markdown",
   "id": "10163198",
   "metadata": {},
   "source": [
    "### Задание 19\n",
    "На сколько процентов менялось количество постов ежемесячно с 1 сентября по 31 декабря 2008 года? Отобразите таблицу со следующими полями:\n",
    "- номер месяца;\n",
    "- количество постов за месяц;\n",
    "- процент, который показывает, насколько изменилось количество постов в текущем месяце по сравнению с предыдущим.\n",
    "\n",
    "Если постов стало меньше, значение процента должно быть отрицательным, если больше — положительным. Округлите значение процента до двух знаков после запятой.\n",
    "Напомним, что при делении одного целого числа на другое в PostgreSQL в результате получится целое число, округлённое до ближайшего целого вниз. Чтобы этого избежать, переведите делимое в тип numeric.\n"
   ]
  },
  {
   "cell_type": "code",
   "execution_count": null,
   "id": "b8048bc6",
   "metadata": {},
   "outputs": [],
   "source": [
    "'''\n",
    "WITH t AS\n",
    "(SELECT EXTRACT('MONTH' FROM creation_date) AS month_numb,\n",
    "       COUNT(id) AS count_id,\n",
    "       COUNT(id)::numeric - LAG(COUNT(id), 1, COUNT(id)) OVER (ORDER BY EXTRACT('MONTH' FROM creation_date)) AS cht\n",
    "FROM stackoverflow.posts\n",
    "WHERE CAST(creation_date AS DATE) BETWEEN '2008-09-01' AND '2008-12-31'\n",
    "GROUP BY EXTRACT('MONTH' FROM creation_date))\n",
    "\n",
    "SELECT month_numb,\n",
    "       count_id,\n",
    "       ROUND(((cht * 100) / LAG(count_id) OVER (ORDER BY month_numb))::numeric, 2)\n",
    "FROM t\n",
    "'''"
   ]
  },
  {
   "cell_type": "markdown",
   "id": "8e8f16e5",
   "metadata": {},
   "source": [
    "### Задание 20\n",
    "\n",
    "Выгрузите данные активности пользователя, который опубликовал больше всего постов за всё время. Выведите данные за октябрь 2008 года в таком виде:\n",
    "- номер недели;\n",
    "- дата и время последнего поста, опубликованного на этой неделе."
   ]
  },
  {
   "cell_type": "code",
   "execution_count": null,
   "id": "841d160e",
   "metadata": {},
   "outputs": [],
   "source": [
    "'''\n",
    "WITH\n",
    "user_numb AS\n",
    "(SELECT user_id,\n",
    "       COUNT(DISTINCT id)\n",
    "FROM stackoverflow.posts\n",
    "GROUP BY user_id\n",
    "ORDER BY COUNT(id) DESC\n",
    "LIMIT 1),\n",
    "post_inf AS\n",
    "(SELECT p.id,\n",
    "       p.creation_date,\n",
    "       EXTRACT('WEEK' FROM p.creation_date) AS week\n",
    "FROM stackoverflow.posts AS p\n",
    "JOIN user_numb AS un ON p.user_id = un.user_id\n",
    "WHERE DATE_TRUNC('month', p.creation_date) = '2008-10-01')\n",
    "\n",
    "SELECT DISTINCT week::numeric,\n",
    "       MAX(creation_date) OVER (PARTITION BY week) \n",
    "FROM post_inf\n",
    "'''   "
   ]
  }
 ],
 "metadata": {
  "kernelspec": {
   "display_name": "Python 3 (ipykernel)",
   "language": "python",
   "name": "python3"
  },
  "language_info": {
   "codemirror_mode": {
    "name": "ipython",
    "version": 3
   },
   "file_extension": ".py",
   "mimetype": "text/x-python",
   "name": "python",
   "nbconvert_exporter": "python",
   "pygments_lexer": "ipython3",
   "version": "3.9.13"
  },
  "toc": {
   "base_numbering": 1,
   "nav_menu": {},
   "number_sections": true,
   "sideBar": true,
   "skip_h1_title": true,
   "title_cell": "Table of Contents",
   "title_sidebar": "Contents",
   "toc_cell": true,
   "toc_position": {},
   "toc_section_display": true,
   "toc_window_display": false
  }
 },
 "nbformat": 4,
 "nbformat_minor": 5
}
