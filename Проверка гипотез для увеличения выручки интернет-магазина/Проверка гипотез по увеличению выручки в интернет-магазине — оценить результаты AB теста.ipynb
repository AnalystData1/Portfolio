{
 "cells": [
  {
   "cell_type": "markdown",
   "metadata": {},
   "source": [
    "# Проверка гипотез по увеличению выручки в интернет-магазине —оценить результаты A/B теста"
   ]
  },
  {
   "cell_type": "markdown",
   "metadata": {},
   "source": [
    "### Описание проекта\n",
    "\n",
    "Контекст\n",
    "Вы — аналитик крупного интернет-магазина. Вместе с отделом маркетинга вы подготовили список гипотез для увеличения выручки.\n",
    "Приоритизируйте гипотезы, запустите A/B-тест и проанализируйте результаты. "
   ]
  },
  {
   "cell_type": "markdown",
   "metadata": {},
   "source": [
    "### Задачи\n",
    "\n",
    "Используя данные интернет-магазина приоритезировать гипотезы, произвести оценку результатов A/B-тестирования различными методами"
   ]
  },
  {
   "cell_type": "markdown",
   "metadata": {},
   "source": [
    "### Описание данных\n",
    "- Данные для первой части\n",
    "\n",
    "- - Файл /datasets/hypothesis.csv. \n",
    "\n",
    "Hypothesis — краткое описание гипотезы;\n",
    "\n",
    "Reach — охват пользователей по 10-балльной шкале;\n",
    "\n",
    "Impact — влияние на пользователей по 10-балльной шкале;\n",
    "\n",
    "Confidence — уверенность в гипотезе по 10-балльной шкале;\n",
    "\n",
    "Efforts — затраты ресурсов на проверку гипотезы по 10-балльной шкале. Чем больше значение Efforts, тем дороже проверка гипотезы.\n",
    "\n",
    "\n",
    "- Данные для второй части\n",
    "\n",
    "- - Файл /datasets/orders.csv. \n",
    "\n",
    "transactionId — идентификатор заказа;\n",
    "\n",
    "visitorId — идентификатор пользователя, совершившего заказ;\n",
    "\n",
    "date — дата, когда был совершён заказ;\n",
    "\n",
    "revenue — выручка заказа;\n",
    "\n",
    "group — группа A/B-теста, в которую попал заказ.\n",
    "\n",
    "\n",
    "- - Файл /datasets/visitors.csv. \n",
    "\n",
    "date — дата;\n",
    "\n",
    "group — группа A/B-теста;\n",
    "\n",
    "visitors — количество пользователей в указанную дату в указанной группе A/B-теста"
   ]
  },
  {
   "cell_type": "markdown",
   "metadata": {},
   "source": [
    "#### План:\n",
    "\n",
    "1. Приоритизация гипотез.\n",
    "2. Анализ A/B-теста\n",
    "3. Выводы по тесту"
   ]
  },
  {
   "cell_type": "code",
   "execution_count": 2,
   "metadata": {},
   "outputs": [],
   "source": [
    "import pandas as pd"
   ]
  },
  {
   "cell_type": "code",
   "execution_count": 3,
   "metadata": {},
   "outputs": [],
   "source": [
    "import datetime as dt\n",
    "import numpy as np\n",
    "import scipy.stats as stats\n",
    "import matplotlib.pyplot as plt \n",
    "from pandas.plotting import register_matplotlib_converters\n",
    "import warnings\n",
    "register_matplotlib_converters()"
   ]
  },
  {
   "cell_type": "markdown",
   "metadata": {},
   "source": [
    "## Приоритизация гипотез\n",
    "В файле /datasets/hypothesis.csv 9 гипотез по увеличению выручки интернет-магазина с указанными параметрами Reach, Impact, Confidence, Effort."
   ]
  },
  {
   "cell_type": "code",
   "execution_count": 4,
   "metadata": {},
   "outputs": [
    {
     "data": {
      "text/html": [
       "<div>\n",
       "<style scoped>\n",
       "    .dataframe tbody tr th:only-of-type {\n",
       "        vertical-align: middle;\n",
       "    }\n",
       "\n",
       "    .dataframe tbody tr th {\n",
       "        vertical-align: top;\n",
       "    }\n",
       "\n",
       "    .dataframe thead th {\n",
       "        text-align: right;\n",
       "    }\n",
       "</style>\n",
       "<table border=\"1\" class=\"dataframe\">\n",
       "  <thead>\n",
       "    <tr style=\"text-align: right;\">\n",
       "      <th></th>\n",
       "      <th>Hypothesis</th>\n",
       "      <th>Reach</th>\n",
       "      <th>Impact</th>\n",
       "      <th>Confidence</th>\n",
       "      <th>Efforts</th>\n",
       "    </tr>\n",
       "  </thead>\n",
       "  <tbody>\n",
       "    <tr>\n",
       "      <th>0</th>\n",
       "      <td>Добавить два новых канала привлечения трафика,...</td>\n",
       "      <td>3</td>\n",
       "      <td>10</td>\n",
       "      <td>8</td>\n",
       "      <td>6</td>\n",
       "    </tr>\n",
       "    <tr>\n",
       "      <th>1</th>\n",
       "      <td>Запустить собственную службу доставки, что сок...</td>\n",
       "      <td>2</td>\n",
       "      <td>5</td>\n",
       "      <td>4</td>\n",
       "      <td>10</td>\n",
       "    </tr>\n",
       "    <tr>\n",
       "      <th>2</th>\n",
       "      <td>Добавить блоки рекомендаций товаров на сайт ин...</td>\n",
       "      <td>8</td>\n",
       "      <td>3</td>\n",
       "      <td>7</td>\n",
       "      <td>3</td>\n",
       "    </tr>\n",
       "    <tr>\n",
       "      <th>3</th>\n",
       "      <td>Изменить структура категорий, что увеличит кон...</td>\n",
       "      <td>8</td>\n",
       "      <td>3</td>\n",
       "      <td>3</td>\n",
       "      <td>8</td>\n",
       "    </tr>\n",
       "    <tr>\n",
       "      <th>4</th>\n",
       "      <td>Изменить цвет фона главной страницы, чтобы уве...</td>\n",
       "      <td>3</td>\n",
       "      <td>1</td>\n",
       "      <td>1</td>\n",
       "      <td>1</td>\n",
       "    </tr>\n",
       "    <tr>\n",
       "      <th>5</th>\n",
       "      <td>Добавить страницу отзывов клиентов о магазине,...</td>\n",
       "      <td>3</td>\n",
       "      <td>2</td>\n",
       "      <td>2</td>\n",
       "      <td>3</td>\n",
       "    </tr>\n",
       "    <tr>\n",
       "      <th>6</th>\n",
       "      <td>Показать на главной странице баннеры с актуаль...</td>\n",
       "      <td>5</td>\n",
       "      <td>3</td>\n",
       "      <td>8</td>\n",
       "      <td>3</td>\n",
       "    </tr>\n",
       "    <tr>\n",
       "      <th>7</th>\n",
       "      <td>Добавить форму подписки на все основные страни...</td>\n",
       "      <td>10</td>\n",
       "      <td>7</td>\n",
       "      <td>8</td>\n",
       "      <td>5</td>\n",
       "    </tr>\n",
       "    <tr>\n",
       "      <th>8</th>\n",
       "      <td>Запустить акцию, дающую скидку на товар в день...</td>\n",
       "      <td>1</td>\n",
       "      <td>9</td>\n",
       "      <td>9</td>\n",
       "      <td>5</td>\n",
       "    </tr>\n",
       "  </tbody>\n",
       "</table>\n",
       "</div>"
      ],
      "text/plain": [
       "                                          Hypothesis  Reach  Impact  \\\n",
       "0  Добавить два новых канала привлечения трафика,...      3      10   \n",
       "1  Запустить собственную службу доставки, что сок...      2       5   \n",
       "2  Добавить блоки рекомендаций товаров на сайт ин...      8       3   \n",
       "3  Изменить структура категорий, что увеличит кон...      8       3   \n",
       "4  Изменить цвет фона главной страницы, чтобы уве...      3       1   \n",
       "5  Добавить страницу отзывов клиентов о магазине,...      3       2   \n",
       "6  Показать на главной странице баннеры с актуаль...      5       3   \n",
       "7  Добавить форму подписки на все основные страни...     10       7   \n",
       "8  Запустить акцию, дающую скидку на товар в день...      1       9   \n",
       "\n",
       "   Confidence  Efforts  \n",
       "0           8        6  \n",
       "1           4       10  \n",
       "2           7        3  \n",
       "3           3        8  \n",
       "4           1        1  \n",
       "5           2        3  \n",
       "6           8        3  \n",
       "7           8        5  \n",
       "8           9        5  "
      ]
     },
     "execution_count": 4,
     "metadata": {},
     "output_type": "execute_result"
    }
   ],
   "source": [
    "try:\n",
    "    data = pd.read_csv('/datasets/hypothesis.csv')\n",
    "except:\n",
    "    data = pd.read_csv('https://code.s3.yandex.net/datasets/hypothesis.csv')\n",
    "data"
   ]
  },
  {
   "cell_type": "markdown",
   "metadata": {},
   "source": [
    "##### Применим фреймворк ICE для приоритизации гипотез. Отсортируем их по убыванию приоритета.\n",
    "\n"
   ]
  },
  {
   "cell_type": "markdown",
   "metadata": {},
   "source": [
    "\n",
    "Чтобы максимизировать ожидаемое улучшение ключевых метрик\n",
    "бизнеса, сформулированные гипотезы приоритизируют.\n"
   ]
  },
  {
   "cell_type": "code",
   "execution_count": 4,
   "metadata": {},
   "outputs": [
    {
     "data": {
      "text/html": [
       "<div>\n",
       "<style scoped>\n",
       "    .dataframe tbody tr th:only-of-type {\n",
       "        vertical-align: middle;\n",
       "    }\n",
       "\n",
       "    .dataframe tbody tr th {\n",
       "        vertical-align: top;\n",
       "    }\n",
       "\n",
       "    .dataframe thead th {\n",
       "        text-align: right;\n",
       "    }\n",
       "</style>\n",
       "<table border=\"1\" class=\"dataframe\">\n",
       "  <thead>\n",
       "    <tr style=\"text-align: right;\">\n",
       "      <th></th>\n",
       "      <th>Hypothesis</th>\n",
       "      <th>ICE</th>\n",
       "    </tr>\n",
       "  </thead>\n",
       "  <tbody>\n",
       "    <tr>\n",
       "      <th>8</th>\n",
       "      <td>Запустить акцию, дающую скидку на товар в день рождения</td>\n",
       "      <td>16.200000</td>\n",
       "    </tr>\n",
       "    <tr>\n",
       "      <th>0</th>\n",
       "      <td>Добавить два новых канала привлечения трафика, что позволит привлекать на 30% больше пользователей</td>\n",
       "      <td>13.333333</td>\n",
       "    </tr>\n",
       "    <tr>\n",
       "      <th>7</th>\n",
       "      <td>Добавить форму подписки на все основные страницы, чтобы собрать базу клиентов для email-рассылок</td>\n",
       "      <td>11.200000</td>\n",
       "    </tr>\n",
       "    <tr>\n",
       "      <th>6</th>\n",
       "      <td>Показать на главной странице баннеры с актуальными акциями и распродажами, чтобы увеличить конверсию</td>\n",
       "      <td>8.000000</td>\n",
       "    </tr>\n",
       "    <tr>\n",
       "      <th>2</th>\n",
       "      <td>Добавить блоки рекомендаций товаров на сайт интернет магазина, чтобы повысить конверсию и средний чек заказа</td>\n",
       "      <td>7.000000</td>\n",
       "    </tr>\n",
       "    <tr>\n",
       "      <th>1</th>\n",
       "      <td>Запустить собственную службу доставки, что сократит срок доставки заказов</td>\n",
       "      <td>2.000000</td>\n",
       "    </tr>\n",
       "    <tr>\n",
       "      <th>5</th>\n",
       "      <td>Добавить страницу отзывов клиентов о магазине, что позволит увеличить количество заказов</td>\n",
       "      <td>1.333333</td>\n",
       "    </tr>\n",
       "    <tr>\n",
       "      <th>3</th>\n",
       "      <td>Изменить структура категорий, что увеличит конверсию, т.к. пользователи быстрее найдут нужный товар</td>\n",
       "      <td>1.125000</td>\n",
       "    </tr>\n",
       "    <tr>\n",
       "      <th>4</th>\n",
       "      <td>Изменить цвет фона главной страницы, чтобы увеличить вовлеченность пользователей</td>\n",
       "      <td>1.000000</td>\n",
       "    </tr>\n",
       "  </tbody>\n",
       "</table>\n",
       "</div>"
      ],
      "text/plain": [
       "                                                                                                     Hypothesis  \\\n",
       "8                                                       Запустить акцию, дающую скидку на товар в день рождения   \n",
       "0            Добавить два новых канала привлечения трафика, что позволит привлекать на 30% больше пользователей   \n",
       "7              Добавить форму подписки на все основные страницы, чтобы собрать базу клиентов для email-рассылок   \n",
       "6          Показать на главной странице баннеры с актуальными акциями и распродажами, чтобы увеличить конверсию   \n",
       "2  Добавить блоки рекомендаций товаров на сайт интернет магазина, чтобы повысить конверсию и средний чек заказа   \n",
       "1                                     Запустить собственную службу доставки, что сократит срок доставки заказов   \n",
       "5                      Добавить страницу отзывов клиентов о магазине, что позволит увеличить количество заказов   \n",
       "3           Изменить структура категорий, что увеличит конверсию, т.к. пользователи быстрее найдут нужный товар   \n",
       "4                              Изменить цвет фона главной страницы, чтобы увеличить вовлеченность пользователей   \n",
       "\n",
       "         ICE  \n",
       "8  16.200000  \n",
       "0  13.333333  \n",
       "7  11.200000  \n",
       "6   8.000000  \n",
       "2   7.000000  \n",
       "1   2.000000  \n",
       "5   1.333333  \n",
       "3   1.125000  \n",
       "4   1.000000  "
      ]
     },
     "execution_count": 4,
     "metadata": {},
     "output_type": "execute_result"
    }
   ],
   "source": [
    "data['ICE'] = (data['Impact'] * data['Confidence']) / data['Efforts']\n",
    "data_ICE = data[['Hypothesis', 'ICE']].sort_values(by='ICE', ascending=False)\n",
    "pd.options.display.max_colwidth = 400\n",
    "data_ICE"
   ]
  },
  {
   "cell_type": "markdown",
   "metadata": {},
   "source": [
    "Наиболее перспективные гипотезы по ICE: 8, 0, 7"
   ]
  },
  {
   "cell_type": "markdown",
   "metadata": {},
   "source": [
    "##### Применим фреймворк RICE для приоритизации гипотез. Отсортируем их по убыванию приоритета."
   ]
  },
  {
   "cell_type": "code",
   "execution_count": 5,
   "metadata": {},
   "outputs": [
    {
     "data": {
      "text/html": [
       "<div>\n",
       "<style scoped>\n",
       "    .dataframe tbody tr th:only-of-type {\n",
       "        vertical-align: middle;\n",
       "    }\n",
       "\n",
       "    .dataframe tbody tr th {\n",
       "        vertical-align: top;\n",
       "    }\n",
       "\n",
       "    .dataframe thead th {\n",
       "        text-align: right;\n",
       "    }\n",
       "</style>\n",
       "<table border=\"1\" class=\"dataframe\">\n",
       "  <thead>\n",
       "    <tr style=\"text-align: right;\">\n",
       "      <th></th>\n",
       "      <th>Hypothesis</th>\n",
       "      <th>RICE</th>\n",
       "    </tr>\n",
       "  </thead>\n",
       "  <tbody>\n",
       "    <tr>\n",
       "      <th>7</th>\n",
       "      <td>Добавить форму подписки на все основные страницы, чтобы собрать базу клиентов для email-рассылок</td>\n",
       "      <td>112.0</td>\n",
       "    </tr>\n",
       "    <tr>\n",
       "      <th>2</th>\n",
       "      <td>Добавить блоки рекомендаций товаров на сайт интернет магазина, чтобы повысить конверсию и средний чек заказа</td>\n",
       "      <td>56.0</td>\n",
       "    </tr>\n",
       "    <tr>\n",
       "      <th>0</th>\n",
       "      <td>Добавить два новых канала привлечения трафика, что позволит привлекать на 30% больше пользователей</td>\n",
       "      <td>40.0</td>\n",
       "    </tr>\n",
       "    <tr>\n",
       "      <th>6</th>\n",
       "      <td>Показать на главной странице баннеры с актуальными акциями и распродажами, чтобы увеличить конверсию</td>\n",
       "      <td>40.0</td>\n",
       "    </tr>\n",
       "    <tr>\n",
       "      <th>8</th>\n",
       "      <td>Запустить акцию, дающую скидку на товар в день рождения</td>\n",
       "      <td>16.2</td>\n",
       "    </tr>\n",
       "    <tr>\n",
       "      <th>3</th>\n",
       "      <td>Изменить структура категорий, что увеличит конверсию, т.к. пользователи быстрее найдут нужный товар</td>\n",
       "      <td>9.0</td>\n",
       "    </tr>\n",
       "    <tr>\n",
       "      <th>1</th>\n",
       "      <td>Запустить собственную службу доставки, что сократит срок доставки заказов</td>\n",
       "      <td>4.0</td>\n",
       "    </tr>\n",
       "    <tr>\n",
       "      <th>5</th>\n",
       "      <td>Добавить страницу отзывов клиентов о магазине, что позволит увеличить количество заказов</td>\n",
       "      <td>4.0</td>\n",
       "    </tr>\n",
       "    <tr>\n",
       "      <th>4</th>\n",
       "      <td>Изменить цвет фона главной страницы, чтобы увеличить вовлеченность пользователей</td>\n",
       "      <td>3.0</td>\n",
       "    </tr>\n",
       "  </tbody>\n",
       "</table>\n",
       "</div>"
      ],
      "text/plain": [
       "                                                                                                     Hypothesis  \\\n",
       "7              Добавить форму подписки на все основные страницы, чтобы собрать базу клиентов для email-рассылок   \n",
       "2  Добавить блоки рекомендаций товаров на сайт интернет магазина, чтобы повысить конверсию и средний чек заказа   \n",
       "0            Добавить два новых канала привлечения трафика, что позволит привлекать на 30% больше пользователей   \n",
       "6          Показать на главной странице баннеры с актуальными акциями и распродажами, чтобы увеличить конверсию   \n",
       "8                                                       Запустить акцию, дающую скидку на товар в день рождения   \n",
       "3           Изменить структура категорий, что увеличит конверсию, т.к. пользователи быстрее найдут нужный товар   \n",
       "1                                     Запустить собственную службу доставки, что сократит срок доставки заказов   \n",
       "5                      Добавить страницу отзывов клиентов о магазине, что позволит увеличить количество заказов   \n",
       "4                              Изменить цвет фона главной страницы, чтобы увеличить вовлеченность пользователей   \n",
       "\n",
       "    RICE  \n",
       "7  112.0  \n",
       "2   56.0  \n",
       "0   40.0  \n",
       "6   40.0  \n",
       "8   16.2  \n",
       "3    9.0  \n",
       "1    4.0  \n",
       "5    4.0  \n",
       "4    3.0  "
      ]
     },
     "execution_count": 5,
     "metadata": {},
     "output_type": "execute_result"
    }
   ],
   "source": [
    "data['RICE'] = (data['Impact'] * data['Confidence'] * data['Reach']) / data['Efforts']\n",
    "data_RICE = data[['Hypothesis', 'RICE']].sort_values(by='RICE', ascending=False)\n",
    "data_RICE"
   ]
  },
  {
   "cell_type": "markdown",
   "metadata": {},
   "source": [
    "##### Укажите, как изменилась приоритизация гипотез при применении RICE вместо ICE. Объясните, почему так произошло."
   ]
  },
  {
   "cell_type": "markdown",
   "metadata": {},
   "source": [
    "В отличие от фреймворка ICE, в фреймворке RICE на первое и второе места вышли 7-я и 2-я гипотезы, так как их параметр Reach равен 10 и 8. Остальные гипотезы находятся ближе к своим места по ICE, но так же в зависимости от Reach изменили место.\n",
    "\n",
    "Наиболее перспективные гипотезы по RICE: 7, 2, 0, 6"
   ]
  },
  {
   "cell_type": "markdown",
   "metadata": {},
   "source": [
    "## Анализ A/B-теста"
   ]
  },
  {
   "cell_type": "code",
   "execution_count": 7,
   "metadata": {},
   "outputs": [
    {
     "data": {
      "text/html": [
       "<div>\n",
       "<style scoped>\n",
       "    .dataframe tbody tr th:only-of-type {\n",
       "        vertical-align: middle;\n",
       "    }\n",
       "\n",
       "    .dataframe tbody tr th {\n",
       "        vertical-align: top;\n",
       "    }\n",
       "\n",
       "    .dataframe thead th {\n",
       "        text-align: right;\n",
       "    }\n",
       "</style>\n",
       "<table border=\"1\" class=\"dataframe\">\n",
       "  <thead>\n",
       "    <tr style=\"text-align: right;\">\n",
       "      <th></th>\n",
       "      <th>transactionId</th>\n",
       "      <th>visitorId</th>\n",
       "      <th>date</th>\n",
       "      <th>revenue</th>\n",
       "      <th>group</th>\n",
       "    </tr>\n",
       "  </thead>\n",
       "  <tbody>\n",
       "    <tr>\n",
       "      <th>0</th>\n",
       "      <td>3667963787</td>\n",
       "      <td>3312258926</td>\n",
       "      <td>2019-08-15</td>\n",
       "      <td>1650</td>\n",
       "      <td>B</td>\n",
       "    </tr>\n",
       "    <tr>\n",
       "      <th>1</th>\n",
       "      <td>2804400009</td>\n",
       "      <td>3642806036</td>\n",
       "      <td>2019-08-15</td>\n",
       "      <td>730</td>\n",
       "      <td>B</td>\n",
       "    </tr>\n",
       "    <tr>\n",
       "      <th>2</th>\n",
       "      <td>2961555356</td>\n",
       "      <td>4069496402</td>\n",
       "      <td>2019-08-15</td>\n",
       "      <td>400</td>\n",
       "      <td>A</td>\n",
       "    </tr>\n",
       "    <tr>\n",
       "      <th>3</th>\n",
       "      <td>3797467345</td>\n",
       "      <td>1196621759</td>\n",
       "      <td>2019-08-15</td>\n",
       "      <td>9759</td>\n",
       "      <td>B</td>\n",
       "    </tr>\n",
       "    <tr>\n",
       "      <th>4</th>\n",
       "      <td>2282983706</td>\n",
       "      <td>2322279887</td>\n",
       "      <td>2019-08-15</td>\n",
       "      <td>2308</td>\n",
       "      <td>B</td>\n",
       "    </tr>\n",
       "  </tbody>\n",
       "</table>\n",
       "</div>"
      ],
      "text/plain": [
       "   transactionId   visitorId        date  revenue group\n",
       "0     3667963787  3312258926  2019-08-15     1650     B\n",
       "1     2804400009  3642806036  2019-08-15      730     B\n",
       "2     2961555356  4069496402  2019-08-15      400     A\n",
       "3     3797467345  1196621759  2019-08-15     9759     B\n",
       "4     2282983706  2322279887  2019-08-15     2308     B"
      ]
     },
     "metadata": {},
     "output_type": "display_data"
    },
    {
     "data": {
      "text/html": [
       "<div>\n",
       "<style scoped>\n",
       "    .dataframe tbody tr th:only-of-type {\n",
       "        vertical-align: middle;\n",
       "    }\n",
       "\n",
       "    .dataframe tbody tr th {\n",
       "        vertical-align: top;\n",
       "    }\n",
       "\n",
       "    .dataframe thead th {\n",
       "        text-align: right;\n",
       "    }\n",
       "</style>\n",
       "<table border=\"1\" class=\"dataframe\">\n",
       "  <thead>\n",
       "    <tr style=\"text-align: right;\">\n",
       "      <th></th>\n",
       "      <th>date</th>\n",
       "      <th>group</th>\n",
       "      <th>visitors</th>\n",
       "    </tr>\n",
       "  </thead>\n",
       "  <tbody>\n",
       "    <tr>\n",
       "      <th>0</th>\n",
       "      <td>2019-08-01</td>\n",
       "      <td>A</td>\n",
       "      <td>719</td>\n",
       "    </tr>\n",
       "    <tr>\n",
       "      <th>1</th>\n",
       "      <td>2019-08-02</td>\n",
       "      <td>A</td>\n",
       "      <td>619</td>\n",
       "    </tr>\n",
       "    <tr>\n",
       "      <th>2</th>\n",
       "      <td>2019-08-03</td>\n",
       "      <td>A</td>\n",
       "      <td>507</td>\n",
       "    </tr>\n",
       "    <tr>\n",
       "      <th>3</th>\n",
       "      <td>2019-08-04</td>\n",
       "      <td>A</td>\n",
       "      <td>717</td>\n",
       "    </tr>\n",
       "    <tr>\n",
       "      <th>4</th>\n",
       "      <td>2019-08-05</td>\n",
       "      <td>A</td>\n",
       "      <td>756</td>\n",
       "    </tr>\n",
       "  </tbody>\n",
       "</table>\n",
       "</div>"
      ],
      "text/plain": [
       "         date group  visitors\n",
       "0  2019-08-01     A       719\n",
       "1  2019-08-02     A       619\n",
       "2  2019-08-03     A       507\n",
       "3  2019-08-04     A       717\n",
       "4  2019-08-05     A       756"
      ]
     },
     "execution_count": 7,
     "metadata": {},
     "output_type": "execute_result"
    }
   ],
   "source": [
    "try:\n",
    "    orders = pd.read_csv('/datasets/orders.csv')\n",
    "except:\n",
    "    orders = pd.read_csv('https://code.s3.yandex.net/datasets/orders.csv')\n",
    "\n",
    "try:\n",
    "    visitors = pd.read_csv('/datasets/visitors.csv')\n",
    "except:\n",
    "    visitors = pd.read_csv('https://code.s3.yandex.net/datasets/visitors.csv')\n",
    "\n",
    "display(orders.head(5))\n",
    "visitors.head(5)"
   ]
  },
  {
   "cell_type": "code",
   "execution_count": 7,
   "metadata": {
    "scrolled": true
   },
   "outputs": [
    {
     "name": "stdout",
     "output_type": "stream",
     "text": [
      "<class 'pandas.core.frame.DataFrame'>\n",
      "RangeIndex: 1197 entries, 0 to 1196\n",
      "Data columns (total 5 columns):\n",
      " #   Column         Non-Null Count  Dtype         \n",
      "---  ------         --------------  -----         \n",
      " 0   transactionId  1197 non-null   int64         \n",
      " 1   visitorId      1197 non-null   int64         \n",
      " 2   date           1197 non-null   datetime64[ns]\n",
      " 3   revenue        1197 non-null   int64         \n",
      " 4   group          1197 non-null   object        \n",
      "dtypes: datetime64[ns](1), int64(3), object(1)\n",
      "memory usage: 46.9+ KB\n",
      "<class 'pandas.core.frame.DataFrame'>\n",
      "RangeIndex: 62 entries, 0 to 61\n",
      "Data columns (total 3 columns):\n",
      " #   Column    Non-Null Count  Dtype         \n",
      "---  ------    --------------  -----         \n",
      " 0   date      62 non-null     datetime64[ns]\n",
      " 1   group     62 non-null     object        \n",
      " 2   visitors  62 non-null     int64         \n",
      "dtypes: datetime64[ns](1), int64(1), object(1)\n",
      "memory usage: 1.6+ KB\n"
     ]
    },
    {
     "data": {
      "text/plain": [
       "(None, None)"
      ]
     },
     "execution_count": 7,
     "metadata": {},
     "output_type": "execute_result"
    }
   ],
   "source": [
    "orders['date'] = pd.to_datetime(orders['date'])\n",
    "visitors['date'] = pd.to_datetime(visitors['date'])\n",
    "orders.info(), visitors.info()"
   ]
  },
  {
   "cell_type": "code",
   "execution_count": 8,
   "metadata": {},
   "outputs": [
    {
     "data": {
      "text/plain": [
       "(0, 0)"
      ]
     },
     "execution_count": 8,
     "metadata": {},
     "output_type": "execute_result"
    }
   ],
   "source": [
    "orders.duplicated().sum(), visitors.duplicated().sum()"
   ]
  },
  {
   "cell_type": "code",
   "execution_count": 9,
   "metadata": {},
   "outputs": [
    {
     "data": {
      "text/plain": [
       "group    58\n",
       "dtype: int64"
      ]
     },
     "execution_count": 9,
     "metadata": {},
     "output_type": "execute_result"
    }
   ],
   "source": [
    "in_both_groups = orders.groupby('visitorId').agg({'group':'nunique'}).query('group > 1')\n",
    "in_both_groups.count()\n",
    "#orders = orders[~orders['visitorId'].isin(in_both_groups.index)]"
   ]
  },
  {
   "cell_type": "markdown",
   "metadata": {},
   "source": [
    "В visits у нас кумулятивные данные, мы их не сможем убрать. Т.е. можно убрать только пересечение по покупкам orders: если мы считаем только по заказам - средний чек, кумулятивную выручку. Так данные будут чище.\n",
    "А для расчета конверсии их лучше оставить. Поэтому таких пользователей лучше удалить, но допустимо и оставить"
   ]
  },
  {
   "cell_type": "markdown",
   "metadata": {},
   "source": [
    "Провел эксперимент после удаления пересекающихся пользователей, данные не значительно изменились. Не стану удалять так как процент пересекающихся пользователей не большой. Хотя в другом бы проекте удалил, так как это идет в разрез со смыслом и правилами проведения А/В теста."
   ]
  },
  {
   "cell_type": "markdown",
   "metadata": {},
   "source": [
    "### Построим график кумулятивной выручки по группам. Сделаем выводы и предположения."
   ]
  },
  {
   "cell_type": "code",
   "execution_count": 10,
   "metadata": {},
   "outputs": [],
   "source": [
    "datesGroups = orders[['date','group']].drop_duplicates() # создаем массив уникальных пар значений дат и групп теста"
   ]
  },
  {
   "cell_type": "code",
   "execution_count": 11,
   "metadata": {},
   "outputs": [],
   "source": [
    "#Соберём агрегированные кумулятивные по дням данные о заказах \n",
    "\n",
    "ordersAggregated = datesGroups.apply(lambda x: orders[np.logical_and(orders['date'] <= x['date'], orders['group'] == x['group'])]\\\n",
    ".agg({'date' : 'max', \n",
    "      'group' : 'max', \n",
    "      'transactionId' : 'nunique', \n",
    "      'visitorId' : 'nunique', \n",
    "      'revenue' : 'sum'}), axis=1).sort_values(by=['date','group'])"
   ]
  },
  {
   "cell_type": "code",
   "execution_count": 12,
   "metadata": {},
   "outputs": [],
   "source": [
    "#получим агрегированные кумулятивные по дням данные о посетителях\n",
    "\n",
    "visitorsAggregated = datesGroups.apply(lambda x: visitors[np.logical_and(visitors['date'] <= x['date'], \n",
    "                                                                         visitors['group'] == x['group'])]\n",
    "                                       .agg({'date' : 'max', 'group' : 'max', 'visitors' : 'sum'}), \n",
    "                                       axis=1).sort_values(by=['date','group'])"
   ]
  },
  {
   "cell_type": "code",
   "execution_count": 13,
   "metadata": {},
   "outputs": [
    {
     "name": "stdout",
     "output_type": "stream",
     "text": [
      "        date group  orders  buyers  revenue  visitors\n",
      "0 2019-08-01     A      24      20   148579       719\n",
      "1 2019-08-01     B      21      20   101217       713\n",
      "2 2019-08-02     A      44      38   242401      1338\n",
      "3 2019-08-02     B      45      43   266748      1294\n",
      "4 2019-08-03     A      68      62   354874      1845\n"
     ]
    }
   ],
   "source": [
    "# объединяем кумулятивные данные в одной таблице и присваиваем ее столбцам понятные названия\n",
    "cumulativeData = ordersAggregated.merge(visitorsAggregated, left_on=['date', 'group'], right_on=['date', 'group'])\n",
    "cumulativeData.columns = ['date', 'group', 'orders', 'buyers', 'revenue', 'visitors']\n",
    "\n",
    "print(cumulativeData.head(5)) \n",
    "\n",
    "#cumulativeData['date'].min()\n",
    "#cumulativeData['date'].max()\n"
   ]
  },
  {
   "cell_type": "code",
   "execution_count": 14,
   "metadata": {},
   "outputs": [
    {
     "data": {
      "image/png": "[encoded data removed]",
      "text/plain": [
       "<Figure size 720x432 with 1 Axes>"
      ]
     },
     "metadata": {
      "needs_background": "light"
     },
     "output_type": "display_data"
    }
   ],
   "source": [
    "# датафрейм с кумулятивным количеством заказов и кумулятивной выручкой по дням в группе А\n",
    "cumulativeRevenueA = cumulativeData[cumulativeData['group']=='A'][['date','revenue', 'orders']]\n",
    "\n",
    "# датафрейм с кумулятивным количеством заказов и кумулятивной выручкой по дням в группе B\n",
    "cumulativeRevenueB = cumulativeData[cumulativeData['group']=='B'][['date','revenue', 'orders']]\n",
    "\n",
    "plt.subplots(figsize=(10,6))\n",
    "plt.title('График кумулятивной выручки по группам')\n",
    "# Строим график выручки группы А\n",
    "plt.plot(cumulativeRevenueA['date'], cumulativeRevenueA['revenue'], label='A')\n",
    "\n",
    "# Строим график выручки группы B\n",
    "plt.plot(cumulativeRevenueB['date'], cumulativeRevenueB['revenue'], label='B')\n",
    "plt.ylabel('Выручка')\n",
    "plt.xlabel('Дата')\n",
    "plt.legend()\n",
    "plt.show()"
   ]
  },
  {
   "cell_type": "markdown",
   "metadata": {},
   "source": [
    "В начале теста графики были равны, но примерно в середине теста В вырвался вперед и продолжал лидировать весь остаток теста.\n",
    "Возможно это из-за аномально больших заказов."
   ]
  },
  {
   "cell_type": "markdown",
   "metadata": {},
   "source": [
    "### Построим график кумулятивного среднего чека по группам. Сделаем выводы и предположения."
   ]
  },
  {
   "cell_type": "code",
   "execution_count": 15,
   "metadata": {},
   "outputs": [
    {
     "data": {
      "image/png": "[encoded data removed]",
      "text/plain": [
       "<Figure size 720x432 with 1 Axes>"
      ]
     },
     "metadata": {
      "needs_background": "light"
     },
     "output_type": "display_data"
    }
   ],
   "source": [
    "#Построим графики среднего чека по группам — разделим кумулятивную выручку на кумулятивное число заказов:\n",
    "plt.subplots(figsize=(10,6))\n",
    "plt.plot(cumulativeRevenueA['date'], cumulativeRevenueA['revenue']/cumulativeRevenueA['orders'], label='A')\n",
    "plt.plot(cumulativeRevenueB['date'], cumulativeRevenueB['revenue']/cumulativeRevenueB['orders'], label='B')\n",
    "plt.legend() \n",
    "plt.title('График кумулятивного среднего чека по группам')\n",
    "plt.ylabel('Средний чек')\n",
    "plt.xlabel('Дата')\n",
    "plt.show()"
   ]
  },
  {
   "cell_type": "markdown",
   "metadata": {},
   "source": [
    "Средний чек скачет, возможно в группу В попали крупные заказы."
   ]
  },
  {
   "cell_type": "markdown",
   "metadata": {},
   "source": [
    "### Построим график относительного изменения кумулятивного среднего чека группы B к группе A. Сделаем выводы и предположения."
   ]
  },
  {
   "cell_type": "code",
   "execution_count": 16,
   "metadata": {},
   "outputs": [
    {
     "data": {
      "image/png": "[encoded data removed]",
      "text/plain": [
       "<Figure size 720x432 with 1 Axes>"
      ]
     },
     "metadata": {
      "needs_background": "light"
     },
     "output_type": "display_data"
    }
   ],
   "source": [
    "#Построим график относительного различия для среднего чека.\n",
    "\n",
    "# собираем данные в одном датафрейме\n",
    "mergedCumulativeRevenue = cumulativeRevenueA.merge(cumulativeRevenueB, left_on='date', right_on='date', how='left', suffixes=['A', 'B'])\n",
    "\n",
    "plt.subplots(figsize=(10,6))\n",
    "# cтроим отношение средних чеков\n",
    "plt.plot(mergedCumulativeRevenue['date'], (mergedCumulativeRevenue['revenueB']/mergedCumulativeRevenue['ordersB'])/(mergedCumulativeRevenue['revenueA']/mergedCumulativeRevenue['ordersA'])-1)\n",
    "\n",
    "\n",
    "# добавляем ось X\n",
    "plt.axhline(y=0, color='black', linestyle='--')\n",
    "\n",
    "plt.title('График относительного изменения кумулятивного среднего чека группы B к группе A')\n",
    "plt.ylabel('Уровень среднего чека')\n",
    "plt.xlabel('Дата')\n",
    "plt.show()"
   ]
  },
  {
   "cell_type": "markdown",
   "metadata": {},
   "source": [
    "По графику можно увидеть, что достаточно много больших заказов в группе В. Средний чек групп В сильно возрастал относительно группы А."
   ]
  },
  {
   "cell_type": "markdown",
   "metadata": {},
   "source": [
    "### Построим график кумулятивного среднего количества заказов на посетителя по группам. Сделаем выводы и предположения."
   ]
  },
  {
   "cell_type": "code",
   "execution_count": 17,
   "metadata": {},
   "outputs": [
    {
     "data": {
      "image/png": "[encoded data removed]",
      "text/plain": [
       "<Figure size 720x432 with 1 Axes>"
      ]
     },
     "metadata": {
      "needs_background": "light"
     },
     "output_type": "display_data"
    }
   ],
   "source": [
    "# считаем кумулятивную среднего количество заказов\n",
    "cumulativeData['conversion'] = cumulativeData['orders']/cumulativeData['visitors']\n",
    "\n",
    "# отделяем данные по группе A\n",
    "cumulativeDataA = cumulativeData[cumulativeData['group']=='A']\n",
    "\n",
    "# отделяем данные по группе B\n",
    "cumulativeDataB = cumulativeData[cumulativeData['group']=='B']\n",
    "\n",
    "# строим графики\n",
    "plt.subplots(figsize=(10,6))\n",
    "plt.plot(cumulativeDataA['date'], cumulativeDataA['conversion'], label='A')\n",
    "plt.plot(cumulativeDataB['date'], cumulativeDataB['conversion'], label='B')\n",
    "plt.legend()\n",
    "\n",
    "# задаем масштаб осей\n",
    "plt.axis([\"2019-08-01\", '2019-09-01', 0, 0.05]) \n",
    "\n",
    "plt.title('График кумулятивного среднего количества заказов на посетителя по группам')\n",
    "plt.ylabel('Среднее количество заказов')\n",
    "plt.xlabel('Дата')\n",
    "plt.show()"
   ]
  },
  {
   "cell_type": "markdown",
   "metadata": {},
   "source": [
    "По графику видим, что в начале теста показатели групп почти повторялись, но далее среднее количество заказов группы В вышло вперед, затем обе группы зафиксировались."
   ]
  },
  {
   "cell_type": "markdown",
   "metadata": {},
   "source": [
    "### Построим график относительного изменения кумулятивного среднего количества заказов на посетителя группы B к группе A. Сделаем выводы и предположения."
   ]
  },
  {
   "cell_type": "code",
   "execution_count": 18,
   "metadata": {},
   "outputs": [
    {
     "data": {
      "image/png": "[encoded data removed]",
      "text/plain": [
       "<Figure size 720x432 with 1 Axes>"
      ]
     },
     "metadata": {
      "needs_background": "light"
     },
     "output_type": "display_data"
    }
   ],
   "source": [
    "mergedCumulativeConversions = cumulativeDataA[['date','conversion']].merge(cumulativeDataB[['date','conversion']], left_on='date', right_on='date', how='left', suffixes=['A', 'B'])\n",
    "plt.subplots(figsize=(10,6))\n",
    "plt.plot(mergedCumulativeConversions['date'], mergedCumulativeConversions['conversionB']/mergedCumulativeConversions['conversionA']-1, label=\"Относительный прирост среднего количество заказов группы B относительно группы A\")\n",
    "plt.legend()\n",
    "\n",
    "plt.axhline(y=0, color='black', linestyle='--')\n",
    "plt.axhline(y=-0.1, color='grey', linestyle='--')\n",
    "plt.axis([\"2019-08-01\", '2019-09-01', -0.6, 0.6]) \n",
    "\n",
    "plt.title('График относительного изменения кумулятивного среднего количества заказов на посетителя группы B к группе A')\n",
    "plt.ylabel('Уровень среднего количества заказов')\n",
    "plt.xlabel('Дата')\n",
    "plt.show()"
   ]
  },
  {
   "cell_type": "markdown",
   "metadata": {},
   "source": [
    "В начале теста среднеее количество заказов группы В колебалось относительно  группы А, но потом вышло вперед и зафиксировалась."
   ]
  },
  {
   "cell_type": "markdown",
   "metadata": {},
   "source": [
    "### Построим точечный график количества заказов по пользователям. Сделаем выводы и предположения."
   ]
  },
  {
   "cell_type": "code",
   "execution_count": 19,
   "metadata": {},
   "outputs": [
    {
     "name": "stdout",
     "output_type": "stream",
     "text": [
      "       visitorId  orders\n",
      "1023  4256040402      11\n",
      "591   2458001652      11\n",
      "569   2378935119       9\n",
      "487   2038680547       8\n",
      "44     199603092       5\n",
      "744   3062433592       5\n",
      "55     237748145       5\n",
      "917   3803269165       5\n",
      "299   1230306981       5\n",
      "897   3717692402       5\n"
     ]
    },
    {
     "data": {
      "image/png": "[encoded data removed]",
      "text/plain": [
       "<Figure size 432x288 with 1 Axes>"
      ]
     },
     "metadata": {
      "needs_background": "light"
     },
     "output_type": "display_data"
    }
   ],
   "source": [
    "ordersByUsers = (\n",
    "    orders.groupby('visitorId', as_index=False)\n",
    "    .agg({'transactionId': 'nunique'})\n",
    ")\n",
    "\n",
    "ordersByUsers.columns = ['visitorId', 'orders']\n",
    "\n",
    "print(ordersByUsers.sort_values(by='orders', ascending=False).head(10)) \n",
    "\n",
    "x_values = pd.Series(range(0,len(ordersByUsers)))\n",
    "\n",
    "plt.scatter(x_values, ordersByUsers['orders']) \n",
    "\n",
    "plt.title('Точечный график количества заказов по пользователям')\n",
    "plt.ylabel('Количество заказов')\n",
    "plt.show()"
   ]
  },
  {
   "cell_type": "markdown",
   "metadata": {},
   "source": [
    "Видим, что почти все пользователи сделали один заказ, но не мало пользователей сделавших 2-4 заказа."
   ]
  },
  {
   "cell_type": "markdown",
   "metadata": {},
   "source": [
    "### Посчитаем 95-й и 99-й перцентили количества заказов на пользователя. Определим границу для определения аномальных пользователей."
   ]
  },
  {
   "cell_type": "code",
   "execution_count": 20,
   "metadata": {},
   "outputs": [
    {
     "data": {
      "text/plain": [
       "array([2., 4.])"
      ]
     },
     "execution_count": 20,
     "metadata": {},
     "output_type": "execute_result"
    }
   ],
   "source": [
    "np.percentile(ordersByUsers['orders'], [95, 99])"
   ]
  },
  {
   "cell_type": "markdown",
   "metadata": {},
   "source": [
    "Не более 5% оформляли больше двух заказов и не более 1% оформляли больше четырех заказов. Разумно выбрать 4 заказа верхней границей для определения аномальных пользователей."
   ]
  },
  {
   "cell_type": "markdown",
   "metadata": {},
   "source": [
    "### Построим точечный график стоимостей заказов. Сделаем выводы и предположения."
   ]
  },
  {
   "cell_type": "code",
   "execution_count": 21,
   "metadata": {},
   "outputs": [
    {
     "data": {
      "image/png": "[encoded data removed]",
      "text/plain": [
       "<Figure size 432x288 with 1 Axes>"
      ]
     },
     "metadata": {
      "needs_background": "light"
     },
     "output_type": "display_data"
    }
   ],
   "source": [
    "x_values = pd.Series(range(0, len(orders['revenue'])))\n",
    "\n",
    "plt.scatter(x_values, orders['revenue'])\n",
    "\n",
    "plt.title('Точечный график стоимостей заказов')\n",
    "plt.ylabel('Стоимости заказов')\n",
    "plt.show()"
   ]
  },
  {
   "cell_type": "markdown",
   "metadata": {},
   "source": [
    "Есть выбросы в районе 1 300 000 и 200 000."
   ]
  },
  {
   "cell_type": "markdown",
   "metadata": {},
   "source": [
    "### Посчитаем 95-й и 99-й перцентили стоимости заказов. Определим границу для определения аномальных заказов."
   ]
  },
  {
   "cell_type": "code",
   "execution_count": 22,
   "metadata": {},
   "outputs": [
    {
     "data": {
      "text/plain": [
       "array([28000. , 58233.2])"
      ]
     },
     "execution_count": 22,
     "metadata": {},
     "output_type": "execute_result"
    }
   ],
   "source": [
    "np.percentile(orders['revenue'], [95, 99])"
   ]
  },
  {
   "cell_type": "markdown",
   "metadata": {},
   "source": [
    "Не более 5% заказов стоимостью больше 28000 и не более 1% заказов стоимостью больше 58233. Разумно выбрать стоимость заказа верхней границей 60 000."
   ]
  },
  {
   "cell_type": "markdown",
   "metadata": {},
   "source": [
    "### Посчитаем статистическую значимость различий в среднем количестве заказов на посетителя между группами по «сырым» данным. Сделаем выводы и предположения. "
   ]
  },
  {
   "cell_type": "markdown",
   "metadata": {},
   "source": [
    "Сформулируем гипотезы. Нулевая: различий в среднем количестве заказов между группами по «сырым» данным нет. Альтернативная: различия в среднем между группами есть."
   ]
  },
  {
   "cell_type": "code",
   "execution_count": 23,
   "metadata": {},
   "outputs": [
    {
     "data": {
      "text/html": [
       "<div>\n",
       "<style scoped>\n",
       "    .dataframe tbody tr th:only-of-type {\n",
       "        vertical-align: middle;\n",
       "    }\n",
       "\n",
       "    .dataframe tbody tr th {\n",
       "        vertical-align: top;\n",
       "    }\n",
       "\n",
       "    .dataframe thead th {\n",
       "        text-align: right;\n",
       "    }\n",
       "</style>\n",
       "<table border=\"1\" class=\"dataframe\">\n",
       "  <thead>\n",
       "    <tr style=\"text-align: right;\">\n",
       "      <th></th>\n",
       "      <th>date</th>\n",
       "      <th>ordersPerDateA</th>\n",
       "      <th>revenuePerDateA</th>\n",
       "      <th>ordersPerDateB</th>\n",
       "      <th>revenuePerDateB</th>\n",
       "      <th>ordersCummulativeA</th>\n",
       "      <th>revenueCummulativeA</th>\n",
       "      <th>ordersCummulativeB</th>\n",
       "      <th>revenueCummulativeB</th>\n",
       "      <th>visitorsPerDateA</th>\n",
       "      <th>visitorsPerDateB</th>\n",
       "      <th>visitorsCummulativeA</th>\n",
       "      <th>visitorsCummulativeB</th>\n",
       "    </tr>\n",
       "  </thead>\n",
       "  <tbody>\n",
       "    <tr>\n",
       "      <th>0</th>\n",
       "      <td>2019-08-01</td>\n",
       "      <td>24</td>\n",
       "      <td>148579</td>\n",
       "      <td>21</td>\n",
       "      <td>101217</td>\n",
       "      <td>24</td>\n",
       "      <td>148579</td>\n",
       "      <td>21</td>\n",
       "      <td>101217</td>\n",
       "      <td>719</td>\n",
       "      <td>713</td>\n",
       "      <td>719</td>\n",
       "      <td>713</td>\n",
       "    </tr>\n",
       "    <tr>\n",
       "      <th>1</th>\n",
       "      <td>2019-08-02</td>\n",
       "      <td>20</td>\n",
       "      <td>93822</td>\n",
       "      <td>24</td>\n",
       "      <td>165531</td>\n",
       "      <td>44</td>\n",
       "      <td>242401</td>\n",
       "      <td>45</td>\n",
       "      <td>266748</td>\n",
       "      <td>619</td>\n",
       "      <td>581</td>\n",
       "      <td>1338</td>\n",
       "      <td>1294</td>\n",
       "    </tr>\n",
       "    <tr>\n",
       "      <th>2</th>\n",
       "      <td>2019-08-03</td>\n",
       "      <td>24</td>\n",
       "      <td>112473</td>\n",
       "      <td>16</td>\n",
       "      <td>114248</td>\n",
       "      <td>68</td>\n",
       "      <td>354874</td>\n",
       "      <td>61</td>\n",
       "      <td>380996</td>\n",
       "      <td>507</td>\n",
       "      <td>509</td>\n",
       "      <td>1845</td>\n",
       "      <td>1803</td>\n",
       "    </tr>\n",
       "    <tr>\n",
       "      <th>3</th>\n",
       "      <td>2019-08-04</td>\n",
       "      <td>16</td>\n",
       "      <td>70825</td>\n",
       "      <td>17</td>\n",
       "      <td>108571</td>\n",
       "      <td>84</td>\n",
       "      <td>425699</td>\n",
       "      <td>78</td>\n",
       "      <td>489567</td>\n",
       "      <td>717</td>\n",
       "      <td>770</td>\n",
       "      <td>2562</td>\n",
       "      <td>2573</td>\n",
       "    </tr>\n",
       "    <tr>\n",
       "      <th>4</th>\n",
       "      <td>2019-08-05</td>\n",
       "      <td>25</td>\n",
       "      <td>124218</td>\n",
       "      <td>23</td>\n",
       "      <td>92428</td>\n",
       "      <td>109</td>\n",
       "      <td>549917</td>\n",
       "      <td>101</td>\n",
       "      <td>581995</td>\n",
       "      <td>756</td>\n",
       "      <td>707</td>\n",
       "      <td>3318</td>\n",
       "      <td>3280</td>\n",
       "    </tr>\n",
       "  </tbody>\n",
       "</table>\n",
       "</div>"
      ],
      "text/plain": [
       "        date  ordersPerDateA  revenuePerDateA  ordersPerDateB  \\\n",
       "0 2019-08-01              24           148579              21   \n",
       "1 2019-08-02              20            93822              24   \n",
       "2 2019-08-03              24           112473              16   \n",
       "3 2019-08-04              16            70825              17   \n",
       "4 2019-08-05              25           124218              23   \n",
       "\n",
       "   revenuePerDateB  ordersCummulativeA  revenueCummulativeA  \\\n",
       "0           101217                  24               148579   \n",
       "1           165531                  44               242401   \n",
       "2           114248                  68               354874   \n",
       "3           108571                  84               425699   \n",
       "4            92428                 109               549917   \n",
       "\n",
       "   ordersCummulativeB  revenueCummulativeB  visitorsPerDateA  \\\n",
       "0                  21               101217               719   \n",
       "1                  45               266748               619   \n",
       "2                  61               380996               507   \n",
       "3                  78               489567               717   \n",
       "4                 101               581995               756   \n",
       "\n",
       "   visitorsPerDateB  visitorsCummulativeA  visitorsCummulativeB  \n",
       "0               713                   719                   713  \n",
       "1               581                  1338                  1294  \n",
       "2               509                  1845                  1803  \n",
       "3               770                  2562                  2573  \n",
       "4               707                  3318                  3280  "
      ]
     },
     "execution_count": 23,
     "metadata": {},
     "output_type": "execute_result"
    }
   ],
   "source": [
    "#Начнём с подготовки данных\n",
    "visitorsADaily = visitors[visitors['group'] == 'A'][['date', 'visitors']]\n",
    "visitorsADaily.columns = ['date', 'visitorsPerDateA']\n",
    "\n",
    "visitorsACummulative = visitorsADaily.apply(\n",
    "    lambda x: visitorsADaily[visitorsADaily['date'] <= x['date']].agg(\n",
    "        {'date': 'max', 'visitorsPerDateA': 'sum'}\n",
    "    ),\n",
    "    axis=1,\n",
    ")\n",
    "visitorsACummulative.columns = ['date', 'visitorsCummulativeA']\n",
    "\n",
    "visitorsBDaily = visitors[visitors['group'] == 'B'][['date', 'visitors']]\n",
    "visitorsBDaily.columns = ['date', 'visitorsPerDateB']\n",
    "\n",
    "visitorsBCummulative = visitorsBDaily.apply(\n",
    "    lambda x: visitorsBDaily[visitorsBDaily['date'] <= x['date']].agg(\n",
    "        {'date': 'max', 'visitorsPerDateB': 'sum'}\n",
    "    ),\n",
    "    axis=1,\n",
    ")\n",
    "visitorsBCummulative.columns = ['date', 'visitorsCummulativeB']\n",
    "\n",
    "ordersADaily = (\n",
    "    orders[orders['group'] == 'A'][['date', 'transactionId', 'visitorId', 'revenue']]\n",
    "    .groupby('date', as_index=False)\n",
    "    .agg({'transactionId': pd.Series.nunique, 'revenue': 'sum'})\n",
    ")\n",
    "ordersADaily.columns = ['date', 'ordersPerDateA', 'revenuePerDateA']\n",
    "\n",
    "ordersACummulative = ordersADaily.apply(\n",
    "    lambda x: ordersADaily[ordersADaily['date'] <= x['date']].agg(\n",
    "        {'date': 'max', 'ordersPerDateA': 'sum', 'revenuePerDateA': 'sum'}\n",
    "    ),\n",
    "    axis=1,\n",
    ").sort_values(by=['date'])\n",
    "ordersACummulative.columns = [\n",
    "    'date',\n",
    "    'ordersCummulativeA',\n",
    "    'revenueCummulativeA',\n",
    "]\n",
    "\n",
    "ordersBDaily = (\n",
    "    orders[orders['group'] == 'B'][['date', 'transactionId', 'visitorId', 'revenue']]\n",
    "    .groupby('date', as_index=False)\n",
    "    .agg({'transactionId': pd.Series.nunique, 'revenue': 'sum'})\n",
    ")\n",
    "ordersBDaily.columns = ['date', 'ordersPerDateB', 'revenuePerDateB']\n",
    "\n",
    "ordersBCummulative = ordersBDaily.apply(\n",
    "    lambda x: ordersBDaily[ordersBDaily['date'] <= x['date']].agg(\n",
    "        {'date': 'max', 'ordersPerDateB': 'sum', 'revenuePerDateB': 'sum'}\n",
    "    ),\n",
    "    axis=1,\n",
    ").sort_values(by=['date'])\n",
    "ordersBCummulative.columns = [\n",
    "    'date',\n",
    "    'ordersCummulativeB',\n",
    "    'revenueCummulativeB',\n",
    "]\n",
    "\n",
    "data = (\n",
    "    ordersADaily.merge(\n",
    "        ordersBDaily, left_on='date', right_on='date', how='left'\n",
    "    )\n",
    "    .merge(ordersACummulative, left_on='date', right_on='date', how='left')\n",
    "    .merge(ordersBCummulative, left_on='date', right_on='date', how='left')\n",
    "    .merge(visitorsADaily, left_on='date', right_on='date', how='left')\n",
    "    .merge(visitorsBDaily, left_on='date', right_on='date', how='left')\n",
    "    .merge(visitorsACummulative, left_on='date', right_on='date', how='left')\n",
    "    .merge(visitorsBCummulative, left_on='date', right_on='date', how='left')\n",
    ")\n",
    "\n",
    "data.head(5)"
   ]
  },
  {
   "cell_type": "code",
   "execution_count": 24,
   "metadata": {},
   "outputs": [],
   "source": [
    "#Создадим переменные ordersByUsersA и ordersByUsersB со столбцами ['userId', 'orders']. \n",
    "#В них для пользователей, которые заказывали хотя бы 1 раз, укажем число совершённых заказов. \n",
    "ordersByUsersA = (\n",
    "    orders[orders['group'] == 'A']\n",
    "    .groupby('visitorId', as_index=False)\n",
    "    .agg({'transactionId': pd.Series.nunique})\n",
    ")\n",
    "ordersByUsersA.columns = ['visitorId', 'orders']\n",
    "\n",
    "ordersByUsersB = (\n",
    "    orders[orders['group'] == 'B']\n",
    "    .groupby('visitorId', as_index=False)\n",
    "    .agg({'transactionId': pd.Series.nunique})\n",
    ")\n",
    "ordersByUsersB.columns = ['visitorId', 'orders'] "
   ]
  },
  {
   "cell_type": "code",
   "execution_count": 25,
   "metadata": {},
   "outputs": [],
   "source": [
    "#Объявим переменные sampleA и sampleB, в которых пользователям из разных групп будет соответствовать количество заказов. \n",
    "#Тем, кто ничего не заказал, будут соответствовать нули.\n",
    "\n",
    "sampleA = pd.concat([ordersByUsersA['orders'],pd.Series(0, index=np.arange(data['visitorsPerDateA'].sum() - len(ordersByUsersA['orders'])), name='orders')],axis=0)\n",
    "\n",
    "sampleB = pd.concat([ordersByUsersB['orders'],pd.Series(0, index=np.arange(data['visitorsPerDateB'].sum() - len(ordersByUsersB['orders'])), name='orders')],axis=0)"
   ]
  },
  {
   "cell_type": "code",
   "execution_count": 26,
   "metadata": {},
   "outputs": [
    {
     "name": "stdout",
     "output_type": "stream",
     "text": [
      "P-value: 0.017\n",
      "0.138\n"
     ]
    }
   ],
   "source": [
    "print('P-value:', \"{0:.3f}\".format(stats.mannwhitneyu(sampleA, sampleB)[1]))\n",
    "\n",
    "print(\"{0:.3f}\".format(sampleB.mean() / sampleA.mean() - 1))"
   ]
  },
  {
   "cell_type": "markdown",
   "metadata": {},
   "source": [
    "P-value меньше 0.05. Анализ данных говорит о том что в среднем количестве заказов на посетителя между группами по «сырым» данным есть статистически значимые различия. Относительный прирост равен 13.8% Отвергаем нулевую гипотезу."
   ]
  },
  {
   "cell_type": "markdown",
   "metadata": {},
   "source": [
    "### Посчитаем статистическую значимость различий в среднем чеке заказа между группами по «сырым» данным. Сделаем выводы и предположения."
   ]
  },
  {
   "cell_type": "markdown",
   "metadata": {},
   "source": [
    "Сформулируем гипотезы. Нулевая: различий в среднем чеке заказа между группами по «сырым» данным нет. Альтернативная: различия в среднем чеке заказа между группами есть."
   ]
  },
  {
   "cell_type": "code",
   "execution_count": 27,
   "metadata": {},
   "outputs": [
    {
     "name": "stdout",
     "output_type": "stream",
     "text": [
      "P-value: 0.729\n",
      "0.259\n"
     ]
    }
   ],
   "source": [
    "print('P-value:', '{0:.3f}'.format(stats.mannwhitneyu(orders[orders['group']=='A']['revenue'], orders[orders['group']=='B']['revenue'])[1]))\n",
    "print('{0:.3f}'.format(orders[orders['group']=='B']['revenue'].mean()/orders[orders['group']=='A']['revenue'].mean()-1)) "
   ]
  },
  {
   "cell_type": "markdown",
   "metadata": {},
   "source": [
    "P-value значительно больше 0.05. Значит, причин отвергать нулевую гипотезу и считать, что в среднем чеке есть различия, нет. наблюдаемое различие в 25.9% не является статистически значимым.\n",
    "\n"
   ]
  },
  {
   "cell_type": "markdown",
   "metadata": {},
   "source": [
    "### Посчитаем статистическую значимость различий в среднем количестве заказов на посетителя между группами по «очищенным» данным. Сделаем выводы и предположения."
   ]
  },
  {
   "cell_type": "markdown",
   "metadata": {},
   "source": [
    "Сформулируем гипотезы. Нулевая: различий в среднем количестве заказов между группами по «очищенным» данным нет. Альтернативная: различия в среднем количестве заказов между группами есть."
   ]
  },
  {
   "cell_type": "code",
   "execution_count": 28,
   "metadata": {},
   "outputs": [],
   "source": [
    "revenue_lim = np.percentile(orders['revenue'], 99)"
   ]
  },
  {
   "cell_type": "code",
   "execution_count": 29,
   "metadata": {},
   "outputs": [
    {
     "name": "stdout",
     "output_type": "stream",
     "text": [
      "1099     148427295\n",
      "949      887908475\n",
      "744      888512513\n",
      "1103    1164614297\n",
      "1136    1307669133\n",
      "Name: visitorId, dtype: int64\n",
      "14\n"
     ]
    }
   ],
   "source": [
    "usersWithManyOrders = pd.concat(\n",
    "    [\n",
    "        ordersByUsersA[ordersByUsersA['orders'] > 4]['visitorId'],\n",
    "        ordersByUsersB[ordersByUsersB['orders'] > 4]['visitorId'],\n",
    "    ],\n",
    "    axis=0,\n",
    ")\n",
    "usersWithExpensiveOrders = orders[orders['revenue'] > 60000]['visitorId']\n",
    "abnormalUsers = (\n",
    "    pd.concat([usersWithManyOrders, usersWithExpensiveOrders], axis=0)\n",
    "    .drop_duplicates()\n",
    "    .sort_values()\n",
    ")\n",
    "print(abnormalUsers.head(5))\n",
    "print(abnormalUsers.shape[0]) "
   ]
  },
  {
   "cell_type": "code",
   "execution_count": 30,
   "metadata": {},
   "outputs": [],
   "source": [
    "#подготовим выборки количества заказов по пользователям по группам теста:\n",
    "sampleAFiltered = pd.concat(\n",
    "    [\n",
    "        ordersByUsersA[\n",
    "            np.logical_not(ordersByUsersA['visitorId'].isin(abnormalUsers))\n",
    "        ]['orders'],\n",
    "        pd.Series(\n",
    "            0,\n",
    "            index=np.arange(\n",
    "                data['visitorsPerDateA'].sum() - len(ordersByUsersA['orders'])\n",
    "            ),\n",
    "            name='orders',\n",
    "        ),\n",
    "    ],\n",
    "    axis=0,\n",
    ")\n",
    "\n",
    "sampleBFiltered = pd.concat(\n",
    "    [\n",
    "        ordersByUsersB[\n",
    "            np.logical_not(ordersByUsersB['visitorId'].isin(abnormalUsers))\n",
    "        ]['orders'],\n",
    "        pd.Series(\n",
    "            0,\n",
    "            index=np.arange(\n",
    "                data['visitorsPerDateB'].sum() - len(ordersByUsersB['orders'])\n",
    "            ),\n",
    "            name='orders',\n",
    "        ),\n",
    "    ],\n",
    "    axis=0,\n",
    ")"
   ]
  },
  {
   "cell_type": "code",
   "execution_count": 31,
   "metadata": {},
   "outputs": [
    {
     "name": "stdout",
     "output_type": "stream",
     "text": [
      "P-value: 0.013\n",
      "0.155\n"
     ]
    }
   ],
   "source": [
    "print('P-value:', '{0:.3f}'.format(stats.mannwhitneyu(sampleAFiltered, sampleBFiltered)[1]))\n",
    "print('{0:.3f}'.format(sampleBFiltered.mean()/sampleAFiltered.mean()-1))"
   ]
  },
  {
   "cell_type": "markdown",
   "metadata": {},
   "source": [
    "\n",
    "P-value меньше 0.05. Анализ данных говорит о том, что в среднем количестве заказов на посетителя между группами по «очищенным» данным есть статистически значимые различия.\n",
    "Отвергаем нулевую гипотезу."
   ]
  },
  {
   "cell_type": "markdown",
   "metadata": {},
   "source": [
    "### Посчитаем статистическую значимость различий в среднем чеке заказа между группами по «очищенным» данным. Сделаем выводы и предположения."
   ]
  },
  {
   "cell_type": "markdown",
   "metadata": {},
   "source": [
    "Сформулируем гипотезы. Нулевая: различий в среднем чеке заказа между группами по «очищенным» данным нет. Альтернативная: различия в среднем чеке заказа между группами есть."
   ]
  },
  {
   "cell_type": "code",
   "execution_count": 32,
   "metadata": {},
   "outputs": [
    {
     "name": "stdout",
     "output_type": "stream",
     "text": [
      "P-value: 0.814\n",
      "0.007\n"
     ]
    }
   ],
   "source": [
    "print('P-value:', \n",
    "    '{0:.3f}'.format(\n",
    "        stats.mannwhitneyu(\n",
    "            orders[\n",
    "                np.logical_and(\n",
    "                    orders['group'] == 'A',\n",
    "                    np.logical_not(orders['visitorId'].isin(abnormalUsers)),\n",
    "                )\n",
    "            ]['revenue'],\n",
    "            orders[\n",
    "                np.logical_and(\n",
    "                    orders['group'] == 'B',\n",
    "                    np.logical_not(orders['visitorId'].isin(abnormalUsers)),\n",
    "                )\n",
    "            ]['revenue'],\n",
    "        )[1]\n",
    "    )\n",
    ")\n",
    "\n",
    "print(\n",
    "    \"{0:.3f}\".format(\n",
    "        orders[\n",
    "            np.logical_and(\n",
    "                orders['group'] == 'B',\n",
    "                np.logical_not(orders['visitorId'].isin(abnormalUsers)),\n",
    "            )\n",
    "        ]['revenue'].mean()\n",
    "        / orders[\n",
    "            np.logical_and(\n",
    "                orders['group'] == 'A',\n",
    "                np.logical_not(orders['visitorId'].isin(abnormalUsers)),\n",
    "            )\n",
    "        ]['revenue'].mean()\n",
    "        - 1\n",
    "    )\n",
    ")"
   ]
  },
  {
   "cell_type": "markdown",
   "metadata": {},
   "source": [
    "P-value больше  0.05. Значит, причин отвергать нулевую гипотезу и считать, что в среднем чеке есть различия, нет. наблюдаемое различие не является статистически значимым.\n",
    "\n"
   ]
  },
  {
   "cell_type": "markdown",
   "metadata": {},
   "source": [
    "### Выводы по тесту:\n",
    "\n",
    "Есть статистически значимые различия по среднему количеству заказов между группами и по «сырым», и по данным после фильтрации аномалий;\n",
    "\n",
    "Нет статистически значимого различия по среднему чеку между группами по «сырым» данным, и по данным после фильтрации аномалий;\n",
    "\n",
    "График различия среднего количество заказов между группами сообщает, что результаты группы B лучше группы A;\n"
   ]
  },
  {
   "cell_type": "markdown",
   "metadata": {},
   "source": [
    "Исходя из обнаруженных фактов, тест следует остановить и признать его успешным.\n",
    "\n",
    "По результатам теста, было принято решение зафиксировать победу группы В."
   ]
  }
 ],
 "metadata": {
  "ExecuteTimeLog": [
   {
    "duration": 457,
    "start_time": "2023-05-14T14:29:54.959Z"
   },
   {
    "duration": 105,
    "start_time": "2023-05-14T14:33:48.931Z"
   },
   {
    "duration": 40,
    "start_time": "2023-05-14T14:33:58.520Z"
   },
   {
    "duration": 22,
    "start_time": "2023-05-14T14:39:04.671Z"
   },
   {
    "duration": 18,
    "start_time": "2023-05-14T14:41:16.639Z"
   },
   {
    "duration": 11,
    "start_time": "2023-05-14T14:41:23.615Z"
   },
   {
    "duration": 5,
    "start_time": "2023-05-14T14:41:42.101Z"
   },
   {
    "duration": 24,
    "start_time": "2023-05-14T15:08:00.300Z"
   },
   {
    "duration": 177,
    "start_time": "2023-05-14T15:49:28.402Z"
   },
   {
    "duration": 71,
    "start_time": "2023-05-14T15:54:27.703Z"
   },
   {
    "duration": 72,
    "start_time": "2023-05-14T15:54:36.347Z"
   },
   {
    "duration": 3,
    "start_time": "2023-05-14T15:56:09.759Z"
   },
   {
    "duration": 78,
    "start_time": "2023-05-14T15:58:41.373Z"
   },
   {
    "duration": 294,
    "start_time": "2023-05-14T15:59:05.192Z"
   },
   {
    "duration": 11,
    "start_time": "2023-05-14T16:39:25.676Z"
   },
   {
    "duration": 486,
    "start_time": "2023-05-14T16:39:42.385Z"
   },
   {
    "duration": 7,
    "start_time": "2023-05-14T16:40:21.332Z"
   },
   {
    "duration": 6,
    "start_time": "2023-05-14T16:43:46.521Z"
   },
   {
    "duration": 37,
    "start_time": "2023-05-14T16:44:12.995Z"
   },
   {
    "duration": 174,
    "start_time": "2023-05-14T16:45:06.779Z"
   },
   {
    "duration": 173,
    "start_time": "2023-05-14T16:46:08.346Z"
   },
   {
    "duration": 121,
    "start_time": "2023-05-14T16:46:56.483Z"
   },
   {
    "duration": 168,
    "start_time": "2023-05-14T16:47:25.662Z"
   },
   {
    "duration": 53,
    "start_time": "2023-05-14T16:47:38.470Z"
   },
   {
    "duration": 133,
    "start_time": "2023-05-14T16:47:57.882Z"
   },
   {
    "duration": 148,
    "start_time": "2023-05-14T16:48:20.378Z"
   },
   {
    "duration": 30,
    "start_time": "2023-05-14T16:48:51.007Z"
   },
   {
    "duration": 15,
    "start_time": "2023-05-14T16:49:31.909Z"
   },
   {
    "duration": 130,
    "start_time": "2023-05-14T16:49:51.226Z"
   },
   {
    "duration": 177,
    "start_time": "2023-05-14T16:50:16.058Z"
   },
   {
    "duration": 52,
    "start_time": "2023-05-14T16:50:27.549Z"
   },
   {
    "duration": 189,
    "start_time": "2023-05-14T16:50:46.386Z"
   },
   {
    "duration": 294,
    "start_time": "2023-05-14T16:59:26.117Z"
   },
   {
    "duration": 4,
    "start_time": "2023-05-14T17:07:33.469Z"
   },
   {
    "duration": 313,
    "start_time": "2023-05-14T17:14:15.090Z"
   },
   {
    "duration": 350,
    "start_time": "2023-05-14T17:14:58.617Z"
   },
   {
    "duration": 443,
    "start_time": "2023-05-14T17:30:06.577Z"
   },
   {
    "duration": 357,
    "start_time": "2023-05-14T17:53:18.296Z"
   },
   {
    "duration": 381,
    "start_time": "2023-05-14T17:54:15.060Z"
   },
   {
    "duration": 4,
    "start_time": "2023-05-14T18:02:59.322Z"
   },
   {
    "duration": 14,
    "start_time": "2023-05-14T18:06:32.966Z"
   },
   {
    "duration": 16,
    "start_time": "2023-05-14T18:07:15.741Z"
   },
   {
    "duration": 13,
    "start_time": "2023-05-14T18:09:14.464Z"
   },
   {
    "duration": 263,
    "start_time": "2023-05-14T18:41:49.811Z"
   },
   {
    "duration": 176,
    "start_time": "2023-05-14T18:43:01.007Z"
   },
   {
    "duration": 160,
    "start_time": "2023-05-14T18:43:11.827Z"
   },
   {
    "duration": 180,
    "start_time": "2023-05-14T18:43:31.752Z"
   },
   {
    "duration": 163,
    "start_time": "2023-05-14T18:47:10.727Z"
   },
   {
    "duration": 14,
    "start_time": "2023-05-14T18:48:16.531Z"
   },
   {
    "duration": 253,
    "start_time": "2023-05-14T18:48:30.092Z"
   },
   {
    "duration": 83,
    "start_time": "2023-05-14T18:49:12.032Z"
   },
   {
    "duration": 80,
    "start_time": "2023-05-14T18:49:25.977Z"
   },
   {
    "duration": 421,
    "start_time": "2023-05-14T18:49:40.182Z"
   },
   {
    "duration": 39,
    "start_time": "2023-05-14T18:49:40.605Z"
   },
   {
    "duration": 12,
    "start_time": "2023-05-14T18:49:40.645Z"
   },
   {
    "duration": 33,
    "start_time": "2023-05-14T18:49:40.659Z"
   },
   {
    "duration": 263,
    "start_time": "2023-05-14T18:49:40.694Z"
   },
   {
    "duration": 70,
    "start_time": "2023-05-14T18:49:40.959Z"
   },
   {
    "duration": 13,
    "start_time": "2023-05-14T18:49:41.030Z"
   },
   {
    "duration": 40,
    "start_time": "2023-05-14T18:49:41.045Z"
   },
   {
    "duration": 189,
    "start_time": "2023-05-14T18:49:41.087Z"
   },
   {
    "duration": 136,
    "start_time": "2023-05-14T18:49:41.278Z"
   },
   {
    "duration": 9,
    "start_time": "2023-05-14T18:49:41.416Z"
   },
   {
    "duration": 291,
    "start_time": "2023-05-14T18:49:41.427Z"
   },
   {
    "duration": 198,
    "start_time": "2023-05-14T18:49:41.720Z"
   },
   {
    "duration": 273,
    "start_time": "2023-05-14T18:49:41.919Z"
   },
   {
    "duration": 10,
    "start_time": "2023-05-14T18:49:42.194Z"
   },
   {
    "duration": 252,
    "start_time": "2023-05-14T18:49:42.205Z"
   },
   {
    "duration": 312,
    "start_time": "2023-05-14T18:49:54.998Z"
   },
   {
    "duration": 249,
    "start_time": "2023-05-14T18:50:17.158Z"
   },
   {
    "duration": 241,
    "start_time": "2023-05-14T18:55:40.882Z"
   },
   {
    "duration": 72,
    "start_time": "2023-05-14T18:56:15.554Z"
   },
   {
    "duration": 227,
    "start_time": "2023-05-14T18:56:18.606Z"
   },
   {
    "duration": 256,
    "start_time": "2023-05-14T18:56:32.950Z"
   },
   {
    "duration": 220,
    "start_time": "2023-05-14T18:57:17.966Z"
   },
   {
    "duration": 9,
    "start_time": "2023-05-14T18:57:25.743Z"
   },
   {
    "duration": 8,
    "start_time": "2023-05-14T18:57:28.147Z"
   },
   {
    "duration": 8,
    "start_time": "2023-05-14T18:57:45.426Z"
   },
   {
    "duration": 30,
    "start_time": "2023-05-14T18:58:05.499Z"
   },
   {
    "duration": 208,
    "start_time": "2023-05-14T18:58:44.623Z"
   },
   {
    "duration": 21,
    "start_time": "2023-05-14T19:02:46.479Z"
   },
   {
    "duration": 17,
    "start_time": "2023-05-14T19:02:53.775Z"
   },
   {
    "duration": 14,
    "start_time": "2023-05-14T19:02:58.711Z"
   },
   {
    "duration": 14,
    "start_time": "2023-05-14T19:03:20.227Z"
   },
   {
    "duration": 184,
    "start_time": "2023-05-14T19:03:51.272Z"
   },
   {
    "duration": 186,
    "start_time": "2023-05-14T19:04:54.361Z"
   },
   {
    "duration": 214,
    "start_time": "2023-05-14T19:05:10.328Z"
   },
   {
    "duration": 207,
    "start_time": "2023-05-14T19:05:50.779Z"
   },
   {
    "duration": 240,
    "start_time": "2023-05-14T19:07:43.552Z"
   },
   {
    "duration": 216,
    "start_time": "2023-05-14T19:07:53.295Z"
   },
   {
    "duration": 221,
    "start_time": "2023-05-14T19:07:57.844Z"
   },
   {
    "duration": 276,
    "start_time": "2023-05-14T19:08:00.745Z"
   },
   {
    "duration": 342,
    "start_time": "2023-05-14T19:10:23.184Z"
   },
   {
    "duration": 394,
    "start_time": "2023-05-14T19:10:39.812Z"
   },
   {
    "duration": 45,
    "start_time": "2023-05-14T19:16:26.597Z"
   },
   {
    "duration": 133,
    "start_time": "2023-05-14T19:39:08.635Z"
   },
   {
    "duration": 56,
    "start_time": "2023-05-14T19:53:55.116Z"
   },
   {
    "duration": 6,
    "start_time": "2023-05-14T19:55:12.593Z"
   },
   {
    "duration": 1069,
    "start_time": "2023-05-14T20:00:29.282Z"
   },
   {
    "duration": 164,
    "start_time": "2023-05-14T20:00:41.153Z"
   },
   {
    "duration": 137,
    "start_time": "2023-05-14T20:02:51.689Z"
   },
   {
    "duration": 155,
    "start_time": "2023-05-14T20:04:21.265Z"
   },
   {
    "duration": 5,
    "start_time": "2023-05-14T20:05:21.438Z"
   },
   {
    "duration": 144,
    "start_time": "2023-05-14T20:05:28.321Z"
   },
   {
    "duration": 6,
    "start_time": "2023-05-14T20:09:22.927Z"
   },
   {
    "duration": 6,
    "start_time": "2023-05-14T20:09:28.079Z"
   },
   {
    "duration": 115,
    "start_time": "2023-05-14T20:24:21.985Z"
   },
   {
    "duration": 229,
    "start_time": "2023-05-14T20:27:24.822Z"
   },
   {
    "duration": 223,
    "start_time": "2023-05-14T20:27:59.859Z"
   },
   {
    "duration": 159,
    "start_time": "2023-05-14T20:35:27.460Z"
   },
   {
    "duration": 173,
    "start_time": "2023-05-14T20:36:12.368Z"
   },
   {
    "duration": 143,
    "start_time": "2023-05-14T20:36:18.723Z"
   },
   {
    "duration": 15,
    "start_time": "2023-05-14T20:41:17.869Z"
   },
   {
    "duration": 6,
    "start_time": "2023-05-14T20:41:49.995Z"
   },
   {
    "duration": 9,
    "start_time": "2023-05-14T20:43:38.196Z"
   },
   {
    "duration": 539,
    "start_time": "2023-05-14T20:44:21.664Z"
   },
   {
    "duration": 3,
    "start_time": "2023-05-14T20:44:52.697Z"
   },
   {
    "duration": 256,
    "start_time": "2023-05-14T20:44:56.460Z"
   },
   {
    "duration": 8,
    "start_time": "2023-05-14T20:45:06.349Z"
   },
   {
    "duration": 401,
    "start_time": "2023-05-14T20:45:13.590Z"
   },
   {
    "duration": 40,
    "start_time": "2023-05-14T20:45:13.993Z"
   },
   {
    "duration": 12,
    "start_time": "2023-05-14T20:45:14.035Z"
   },
   {
    "duration": 57,
    "start_time": "2023-05-14T20:45:14.049Z"
   },
   {
    "duration": 832,
    "start_time": "2023-05-14T20:45:14.109Z"
   },
   {
    "duration": 69,
    "start_time": "2023-05-14T20:45:14.943Z"
   },
   {
    "duration": 24,
    "start_time": "2023-05-14T20:45:15.015Z"
   },
   {
    "duration": 344,
    "start_time": "2023-05-14T20:45:15.041Z"
   },
   {
    "duration": 0,
    "start_time": "2023-05-14T20:45:15.389Z"
   },
   {
    "duration": 0,
    "start_time": "2023-05-14T20:45:15.390Z"
   },
   {
    "duration": 0,
    "start_time": "2023-05-14T20:45:15.392Z"
   },
   {
    "duration": 0,
    "start_time": "2023-05-14T20:45:15.393Z"
   },
   {
    "duration": 0,
    "start_time": "2023-05-14T20:45:15.395Z"
   },
   {
    "duration": 0,
    "start_time": "2023-05-14T20:45:15.397Z"
   },
   {
    "duration": 0,
    "start_time": "2023-05-14T20:45:15.398Z"
   },
   {
    "duration": 0,
    "start_time": "2023-05-14T20:45:15.399Z"
   },
   {
    "duration": 0,
    "start_time": "2023-05-14T20:45:15.401Z"
   },
   {
    "duration": 0,
    "start_time": "2023-05-14T20:45:15.402Z"
   },
   {
    "duration": 0,
    "start_time": "2023-05-14T20:45:15.404Z"
   },
   {
    "duration": 0,
    "start_time": "2023-05-14T20:45:15.407Z"
   },
   {
    "duration": 0,
    "start_time": "2023-05-14T20:45:15.408Z"
   },
   {
    "duration": 0,
    "start_time": "2023-05-14T20:45:15.410Z"
   },
   {
    "duration": 0,
    "start_time": "2023-05-14T20:45:15.412Z"
   },
   {
    "duration": 0,
    "start_time": "2023-05-14T20:45:15.413Z"
   },
   {
    "duration": 0,
    "start_time": "2023-05-14T20:45:15.414Z"
   },
   {
    "duration": 10,
    "start_time": "2023-05-14T20:45:44.519Z"
   },
   {
    "duration": 426,
    "start_time": "2023-05-14T20:45:53.091Z"
   },
   {
    "duration": 41,
    "start_time": "2023-05-14T20:45:53.519Z"
   },
   {
    "duration": 25,
    "start_time": "2023-05-14T20:45:53.561Z"
   },
   {
    "duration": 12,
    "start_time": "2023-05-14T20:45:53.587Z"
   },
   {
    "duration": 723,
    "start_time": "2023-05-14T20:45:53.602Z"
   },
   {
    "duration": 71,
    "start_time": "2023-05-14T20:45:54.327Z"
   },
   {
    "duration": 26,
    "start_time": "2023-05-14T20:45:54.400Z"
   },
   {
    "duration": 322,
    "start_time": "2023-05-14T20:45:54.428Z"
   },
   {
    "duration": 0,
    "start_time": "2023-05-14T20:45:54.752Z"
   },
   {
    "duration": 0,
    "start_time": "2023-05-14T20:45:54.753Z"
   },
   {
    "duration": 0,
    "start_time": "2023-05-14T20:45:54.754Z"
   },
   {
    "duration": 0,
    "start_time": "2023-05-14T20:45:54.756Z"
   },
   {
    "duration": 0,
    "start_time": "2023-05-14T20:45:54.757Z"
   },
   {
    "duration": 0,
    "start_time": "2023-05-14T20:45:54.758Z"
   },
   {
    "duration": 0,
    "start_time": "2023-05-14T20:45:54.760Z"
   },
   {
    "duration": 0,
    "start_time": "2023-05-14T20:45:54.761Z"
   },
   {
    "duration": 0,
    "start_time": "2023-05-14T20:45:54.762Z"
   },
   {
    "duration": 0,
    "start_time": "2023-05-14T20:45:54.763Z"
   },
   {
    "duration": 0,
    "start_time": "2023-05-14T20:45:54.765Z"
   },
   {
    "duration": 0,
    "start_time": "2023-05-14T20:45:54.766Z"
   },
   {
    "duration": 0,
    "start_time": "2023-05-14T20:45:54.767Z"
   },
   {
    "duration": 0,
    "start_time": "2023-05-14T20:45:54.769Z"
   },
   {
    "duration": 0,
    "start_time": "2023-05-14T20:45:54.770Z"
   },
   {
    "duration": 0,
    "start_time": "2023-05-14T20:45:54.771Z"
   },
   {
    "duration": 0,
    "start_time": "2023-05-14T20:45:54.771Z"
   },
   {
    "duration": 13,
    "start_time": "2023-05-14T20:46:17.037Z"
   },
   {
    "duration": 7,
    "start_time": "2023-05-14T20:46:20.458Z"
   },
   {
    "duration": 200,
    "start_time": "2023-05-14T20:46:21.158Z"
   },
   {
    "duration": 130,
    "start_time": "2023-05-14T20:46:21.945Z"
   },
   {
    "duration": 11,
    "start_time": "2023-05-14T20:46:22.490Z"
   },
   {
    "duration": 291,
    "start_time": "2023-05-14T20:46:23.000Z"
   },
   {
    "duration": 200,
    "start_time": "2023-05-14T20:46:24.501Z"
   },
   {
    "duration": 349,
    "start_time": "2023-05-14T20:46:25.886Z"
   },
   {
    "duration": 183,
    "start_time": "2023-05-14T20:46:27.214Z"
   },
   {
    "duration": 309,
    "start_time": "2023-05-14T20:46:28.594Z"
   },
   {
    "duration": 155,
    "start_time": "2023-05-14T20:46:30.034Z"
   },
   {
    "duration": 7,
    "start_time": "2023-05-14T20:46:31.501Z"
   },
   {
    "duration": 170,
    "start_time": "2023-05-14T20:46:33.293Z"
   },
   {
    "duration": 6,
    "start_time": "2023-05-14T20:46:34.854Z"
   },
   {
    "duration": 260,
    "start_time": "2023-05-14T20:46:36.822Z"
   },
   {
    "duration": 189,
    "start_time": "2023-05-14T20:46:37.614Z"
   },
   {
    "duration": 16,
    "start_time": "2023-05-14T20:46:38.670Z"
   },
   {
    "duration": 25,
    "start_time": "2023-05-14T20:46:39.631Z"
   },
   {
    "duration": 23,
    "start_time": "2023-05-14T20:51:42.410Z"
   },
   {
    "duration": 22,
    "start_time": "2023-05-14T20:51:46.990Z"
   },
   {
    "duration": 22,
    "start_time": "2023-05-14T20:51:50.718Z"
   },
   {
    "duration": 23,
    "start_time": "2023-05-14T20:51:54.490Z"
   },
   {
    "duration": 13,
    "start_time": "2023-05-14T20:55:29.280Z"
   },
   {
    "duration": 1120,
    "start_time": "2023-05-14T21:17:18.831Z"
   },
   {
    "duration": 982,
    "start_time": "2023-05-14T21:19:34.381Z"
   },
   {
    "duration": 135,
    "start_time": "2023-05-14T21:19:52.526Z"
   },
   {
    "duration": 1019,
    "start_time": "2023-05-14T21:19:56.510Z"
   },
   {
    "duration": 968,
    "start_time": "2023-05-14T21:21:14.457Z"
   },
   {
    "duration": 951,
    "start_time": "2023-05-14T21:21:45.499Z"
   },
   {
    "duration": 872,
    "start_time": "2023-05-14T21:22:42.545Z"
   },
   {
    "duration": 198,
    "start_time": "2023-05-14T21:22:54.054Z"
   },
   {
    "duration": 139,
    "start_time": "2023-05-14T21:22:56.298Z"
   },
   {
    "duration": 919,
    "start_time": "2023-05-14T21:23:07.709Z"
   },
   {
    "duration": 1839,
    "start_time": "2023-05-14T21:23:30.966Z"
   },
   {
    "duration": 407,
    "start_time": "2023-05-14T21:26:19.915Z"
   },
   {
    "duration": 40,
    "start_time": "2023-05-14T21:26:20.324Z"
   },
   {
    "duration": 21,
    "start_time": "2023-05-14T21:26:20.366Z"
   },
   {
    "duration": 26,
    "start_time": "2023-05-14T21:26:20.390Z"
   },
   {
    "duration": 772,
    "start_time": "2023-05-14T21:26:20.418Z"
   },
   {
    "duration": 64,
    "start_time": "2023-05-14T21:26:21.195Z"
   },
   {
    "duration": 28,
    "start_time": "2023-05-14T21:26:21.261Z"
   },
   {
    "duration": 374,
    "start_time": "2023-05-14T21:26:21.291Z"
   },
   {
    "duration": 0,
    "start_time": "2023-05-14T21:26:21.667Z"
   },
   {
    "duration": 0,
    "start_time": "2023-05-14T21:26:21.668Z"
   },
   {
    "duration": 0,
    "start_time": "2023-05-14T21:26:21.670Z"
   },
   {
    "duration": 0,
    "start_time": "2023-05-14T21:26:21.671Z"
   },
   {
    "duration": 0,
    "start_time": "2023-05-14T21:26:21.673Z"
   },
   {
    "duration": 0,
    "start_time": "2023-05-14T21:26:21.674Z"
   },
   {
    "duration": 0,
    "start_time": "2023-05-14T21:26:21.675Z"
   },
   {
    "duration": 0,
    "start_time": "2023-05-14T21:26:21.676Z"
   },
   {
    "duration": 0,
    "start_time": "2023-05-14T21:26:21.678Z"
   },
   {
    "duration": 0,
    "start_time": "2023-05-14T21:26:21.680Z"
   },
   {
    "duration": 0,
    "start_time": "2023-05-14T21:26:21.681Z"
   },
   {
    "duration": 0,
    "start_time": "2023-05-14T21:26:21.682Z"
   },
   {
    "duration": 0,
    "start_time": "2023-05-14T21:26:21.683Z"
   },
   {
    "duration": 0,
    "start_time": "2023-05-14T21:26:21.684Z"
   },
   {
    "duration": 0,
    "start_time": "2023-05-14T21:26:21.685Z"
   },
   {
    "duration": 0,
    "start_time": "2023-05-14T21:26:21.686Z"
   },
   {
    "duration": 0,
    "start_time": "2023-05-14T21:26:21.686Z"
   },
   {
    "duration": 0,
    "start_time": "2023-05-14T21:26:21.687Z"
   },
   {
    "duration": 0,
    "start_time": "2023-05-14T21:26:21.688Z"
   },
   {
    "duration": 387,
    "start_time": "2023-05-14T21:28:50.648Z"
   },
   {
    "duration": 43,
    "start_time": "2023-05-14T21:28:51.037Z"
   },
   {
    "duration": 19,
    "start_time": "2023-05-14T21:28:51.082Z"
   },
   {
    "duration": 12,
    "start_time": "2023-05-14T21:28:51.104Z"
   },
   {
    "duration": 781,
    "start_time": "2023-05-14T21:28:51.118Z"
   },
   {
    "duration": 61,
    "start_time": "2023-05-14T21:28:51.902Z"
   },
   {
    "duration": 25,
    "start_time": "2023-05-14T21:28:51.965Z"
   },
   {
    "duration": 403,
    "start_time": "2023-05-14T21:28:51.992Z"
   },
   {
    "duration": 0,
    "start_time": "2023-05-14T21:28:52.397Z"
   },
   {
    "duration": 0,
    "start_time": "2023-05-14T21:28:52.399Z"
   },
   {
    "duration": 0,
    "start_time": "2023-05-14T21:28:52.400Z"
   },
   {
    "duration": 0,
    "start_time": "2023-05-14T21:28:52.401Z"
   },
   {
    "duration": 0,
    "start_time": "2023-05-14T21:28:52.402Z"
   },
   {
    "duration": 0,
    "start_time": "2023-05-14T21:28:52.403Z"
   },
   {
    "duration": 0,
    "start_time": "2023-05-14T21:28:52.405Z"
   },
   {
    "duration": 0,
    "start_time": "2023-05-14T21:28:52.406Z"
   },
   {
    "duration": 0,
    "start_time": "2023-05-14T21:28:52.407Z"
   },
   {
    "duration": 0,
    "start_time": "2023-05-14T21:28:52.408Z"
   },
   {
    "duration": 0,
    "start_time": "2023-05-14T21:28:52.410Z"
   },
   {
    "duration": 0,
    "start_time": "2023-05-14T21:28:52.411Z"
   },
   {
    "duration": 0,
    "start_time": "2023-05-14T21:28:52.412Z"
   },
   {
    "duration": 0,
    "start_time": "2023-05-14T21:28:52.414Z"
   },
   {
    "duration": 0,
    "start_time": "2023-05-14T21:28:52.415Z"
   },
   {
    "duration": 0,
    "start_time": "2023-05-14T21:28:52.416Z"
   },
   {
    "duration": 0,
    "start_time": "2023-05-14T21:28:52.417Z"
   },
   {
    "duration": 0,
    "start_time": "2023-05-14T21:28:52.419Z"
   },
   {
    "duration": 1,
    "start_time": "2023-05-14T21:28:52.419Z"
   },
   {
    "duration": 6,
    "start_time": "2023-05-14T21:29:43.386Z"
   },
   {
    "duration": 196,
    "start_time": "2023-05-14T21:29:44.408Z"
   },
   {
    "duration": 133,
    "start_time": "2023-05-14T21:29:48.104Z"
   },
   {
    "duration": 11,
    "start_time": "2023-05-14T21:29:48.832Z"
   },
   {
    "duration": 316,
    "start_time": "2023-05-14T21:29:49.682Z"
   },
   {
    "duration": 187,
    "start_time": "2023-05-14T21:29:56.736Z"
   },
   {
    "duration": 296,
    "start_time": "2023-05-14T21:30:01.187Z"
   },
   {
    "duration": 200,
    "start_time": "2023-05-14T21:30:05.011Z"
   },
   {
    "duration": 308,
    "start_time": "2023-05-14T21:30:08.495Z"
   },
   {
    "duration": 132,
    "start_time": "2023-05-14T21:30:11.999Z"
   },
   {
    "duration": 6,
    "start_time": "2023-05-14T21:30:14.723Z"
   },
   {
    "duration": 156,
    "start_time": "2023-05-14T21:30:17.656Z"
   },
   {
    "duration": 5,
    "start_time": "2023-05-14T21:30:21.215Z"
   },
   {
    "duration": 239,
    "start_time": "2023-05-14T21:30:25.011Z"
   },
   {
    "duration": 169,
    "start_time": "2023-05-14T21:30:26.516Z"
   },
   {
    "duration": 7,
    "start_time": "2023-05-14T21:30:27.632Z"
   },
   {
    "duration": 33,
    "start_time": "2023-05-14T21:30:28.672Z"
   },
   {
    "duration": 15,
    "start_time": "2023-05-14T21:30:32.820Z"
   },
   {
    "duration": 756,
    "start_time": "2023-05-14T21:31:13.270Z"
   },
   {
    "duration": 169,
    "start_time": "2023-05-14T21:32:36.315Z"
   },
   {
    "duration": 145,
    "start_time": "2023-05-14T21:32:49.087Z"
   },
   {
    "duration": 142,
    "start_time": "2023-05-14T21:32:50.795Z"
   },
   {
    "duration": 156,
    "start_time": "2023-05-14T21:36:53.671Z"
   },
   {
    "duration": 10,
    "start_time": "2023-05-14T21:36:57.147Z"
   },
   {
    "duration": 143,
    "start_time": "2023-05-14T21:37:22.435Z"
   },
   {
    "duration": 1218,
    "start_time": "2023-05-14T21:37:28.127Z"
   },
   {
    "duration": 168,
    "start_time": "2023-05-14T21:37:33.267Z"
   },
   {
    "duration": 176,
    "start_time": "2023-05-14T21:37:39.907Z"
   },
   {
    "duration": 10,
    "start_time": "2023-05-14T21:37:40.551Z"
   },
   {
    "duration": 156,
    "start_time": "2023-05-14T21:38:41.263Z"
   },
   {
    "duration": 7,
    "start_time": "2023-05-14T21:38:42.515Z"
   },
   {
    "duration": 22,
    "start_time": "2023-05-14T21:38:43.939Z"
   },
   {
    "duration": 11,
    "start_time": "2023-05-14T21:38:52.131Z"
   },
   {
    "duration": 11,
    "start_time": "2023-05-14T21:40:20.807Z"
   },
   {
    "duration": 8,
    "start_time": "2023-05-14T21:40:42.979Z"
   },
   {
    "duration": 21,
    "start_time": "2023-05-14T21:41:04.415Z"
   },
   {
    "duration": 15,
    "start_time": "2023-05-14T21:43:37.339Z"
   },
   {
    "duration": 15,
    "start_time": "2023-05-14T21:43:57.127Z"
   },
   {
    "duration": 15,
    "start_time": "2023-05-14T21:44:05.959Z"
   },
   {
    "duration": 15,
    "start_time": "2023-05-14T21:44:14.599Z"
   },
   {
    "duration": 18,
    "start_time": "2023-05-14T21:44:21.161Z"
   },
   {
    "duration": 13,
    "start_time": "2023-05-14T21:44:50.232Z"
   },
   {
    "duration": 16,
    "start_time": "2023-05-14T21:45:12.990Z"
   },
   {
    "duration": 15,
    "start_time": "2023-05-14T21:46:09.352Z"
   },
   {
    "duration": 15,
    "start_time": "2023-05-14T21:47:39.320Z"
   },
   {
    "duration": 22,
    "start_time": "2023-05-14T21:47:42.960Z"
   },
   {
    "duration": 15,
    "start_time": "2023-05-14T21:47:47.619Z"
   },
   {
    "duration": 14,
    "start_time": "2023-05-14T21:47:51.483Z"
   },
   {
    "duration": 58,
    "start_time": "2023-05-14T21:51:16.599Z"
   },
   {
    "duration": 463,
    "start_time": "2023-05-15T18:23:43.916Z"
   },
   {
    "duration": 95,
    "start_time": "2023-05-15T18:23:44.381Z"
   },
   {
    "duration": 15,
    "start_time": "2023-05-15T18:23:44.477Z"
   },
   {
    "duration": 26,
    "start_time": "2023-05-15T18:23:44.494Z"
   },
   {
    "duration": 907,
    "start_time": "2023-05-15T18:23:44.523Z"
   },
   {
    "duration": 189,
    "start_time": "2023-05-15T18:23:45.437Z"
   },
   {
    "duration": 27,
    "start_time": "2023-05-15T18:23:45.630Z"
   },
   {
    "duration": 760,
    "start_time": "2023-05-15T18:23:45.659Z"
   },
   {
    "duration": 0,
    "start_time": "2023-05-15T18:23:46.424Z"
   },
   {
    "duration": 0,
    "start_time": "2023-05-15T18:23:46.427Z"
   },
   {
    "duration": 0,
    "start_time": "2023-05-15T18:23:46.428Z"
   },
   {
    "duration": 0,
    "start_time": "2023-05-15T18:23:46.430Z"
   },
   {
    "duration": 0,
    "start_time": "2023-05-15T18:23:46.431Z"
   },
   {
    "duration": 0,
    "start_time": "2023-05-15T18:23:46.432Z"
   },
   {
    "duration": 0,
    "start_time": "2023-05-15T18:23:46.434Z"
   },
   {
    "duration": 0,
    "start_time": "2023-05-15T18:23:46.435Z"
   },
   {
    "duration": 0,
    "start_time": "2023-05-15T18:23:46.436Z"
   },
   {
    "duration": 0,
    "start_time": "2023-05-15T18:23:46.437Z"
   },
   {
    "duration": 0,
    "start_time": "2023-05-15T18:23:46.438Z"
   },
   {
    "duration": 0,
    "start_time": "2023-05-15T18:23:46.439Z"
   },
   {
    "duration": 0,
    "start_time": "2023-05-15T18:23:46.440Z"
   },
   {
    "duration": 0,
    "start_time": "2023-05-15T18:23:46.441Z"
   },
   {
    "duration": 0,
    "start_time": "2023-05-15T18:23:46.442Z"
   },
   {
    "duration": 0,
    "start_time": "2023-05-15T18:23:46.443Z"
   },
   {
    "duration": 0,
    "start_time": "2023-05-15T18:23:46.444Z"
   },
   {
    "duration": 0,
    "start_time": "2023-05-15T18:23:46.445Z"
   },
   {
    "duration": 0,
    "start_time": "2023-05-15T18:23:46.446Z"
   },
   {
    "duration": 0,
    "start_time": "2023-05-15T18:23:46.447Z"
   },
   {
    "duration": 0,
    "start_time": "2023-05-15T18:23:46.448Z"
   },
   {
    "duration": 0,
    "start_time": "2023-05-15T18:23:46.449Z"
   },
   {
    "duration": 97,
    "start_time": "2023-05-15T18:35:47.328Z"
   },
   {
    "duration": 77,
    "start_time": "2023-05-15T18:35:55.056Z"
   },
   {
    "duration": 44,
    "start_time": "2023-05-15T18:36:30.029Z"
   },
   {
    "duration": 22,
    "start_time": "2023-05-15T18:36:38.789Z"
   },
   {
    "duration": 8,
    "start_time": "2023-05-15T18:36:42.002Z"
   },
   {
    "duration": 391,
    "start_time": "2023-05-15T18:36:44.093Z"
   },
   {
    "duration": 93,
    "start_time": "2023-05-15T18:36:45.673Z"
   },
   {
    "duration": 13,
    "start_time": "2023-05-15T18:36:48.292Z"
   },
   {
    "duration": 170,
    "start_time": "2023-05-15T18:37:32.062Z"
   },
   {
    "duration": 411,
    "start_time": "2023-05-15T18:38:39.186Z"
   },
   {
    "duration": 39,
    "start_time": "2023-05-15T18:38:39.600Z"
   },
   {
    "duration": 13,
    "start_time": "2023-05-15T18:38:39.641Z"
   },
   {
    "duration": 16,
    "start_time": "2023-05-15T18:38:39.656Z"
   },
   {
    "duration": 1013,
    "start_time": "2023-05-15T18:38:39.675Z"
   },
   {
    "duration": 69,
    "start_time": "2023-05-15T18:38:40.690Z"
   },
   {
    "duration": 30,
    "start_time": "2023-05-15T18:38:40.762Z"
   },
   {
    "duration": 435,
    "start_time": "2023-05-15T18:38:40.794Z"
   },
   {
    "duration": 0,
    "start_time": "2023-05-15T18:38:41.232Z"
   },
   {
    "duration": 0,
    "start_time": "2023-05-15T18:38:41.234Z"
   },
   {
    "duration": 0,
    "start_time": "2023-05-15T18:38:41.236Z"
   },
   {
    "duration": 0,
    "start_time": "2023-05-15T18:38:41.237Z"
   },
   {
    "duration": 0,
    "start_time": "2023-05-15T18:38:41.238Z"
   },
   {
    "duration": 1,
    "start_time": "2023-05-15T18:38:41.240Z"
   },
   {
    "duration": 0,
    "start_time": "2023-05-15T18:38:41.242Z"
   },
   {
    "duration": 0,
    "start_time": "2023-05-15T18:38:41.243Z"
   },
   {
    "duration": 0,
    "start_time": "2023-05-15T18:38:41.245Z"
   },
   {
    "duration": 0,
    "start_time": "2023-05-15T18:38:41.246Z"
   },
   {
    "duration": 0,
    "start_time": "2023-05-15T18:38:41.247Z"
   },
   {
    "duration": 0,
    "start_time": "2023-05-15T18:38:41.250Z"
   },
   {
    "duration": 0,
    "start_time": "2023-05-15T18:38:41.251Z"
   },
   {
    "duration": 0,
    "start_time": "2023-05-15T18:38:41.253Z"
   },
   {
    "duration": 0,
    "start_time": "2023-05-15T18:38:41.255Z"
   },
   {
    "duration": 0,
    "start_time": "2023-05-15T18:38:41.256Z"
   },
   {
    "duration": 0,
    "start_time": "2023-05-15T18:38:41.258Z"
   },
   {
    "duration": 0,
    "start_time": "2023-05-15T18:38:41.259Z"
   },
   {
    "duration": 0,
    "start_time": "2023-05-15T18:38:41.261Z"
   },
   {
    "duration": 0,
    "start_time": "2023-05-15T18:38:41.262Z"
   },
   {
    "duration": 0,
    "start_time": "2023-05-15T18:38:41.264Z"
   },
   {
    "duration": 0,
    "start_time": "2023-05-15T18:38:41.266Z"
   },
   {
    "duration": 22,
    "start_time": "2023-05-15T18:39:21.894Z"
   },
   {
    "duration": 22,
    "start_time": "2023-05-15T18:39:43.438Z"
   },
   {
    "duration": 29,
    "start_time": "2023-05-15T18:39:50.074Z"
   },
   {
    "duration": 588,
    "start_time": "2023-05-15T18:39:59.440Z"
   },
   {
    "duration": 50,
    "start_time": "2023-05-15T18:40:00.030Z"
   },
   {
    "duration": 21,
    "start_time": "2023-05-15T18:40:00.083Z"
   },
   {
    "duration": 26,
    "start_time": "2023-05-15T18:40:00.107Z"
   },
   {
    "duration": 919,
    "start_time": "2023-05-15T18:40:00.137Z"
   },
   {
    "duration": 92,
    "start_time": "2023-05-15T18:40:01.059Z"
   },
   {
    "duration": 30,
    "start_time": "2023-05-15T18:40:01.154Z"
   },
   {
    "duration": 22,
    "start_time": "2023-05-15T18:40:01.186Z"
   },
   {
    "duration": 207,
    "start_time": "2023-05-15T18:40:01.210Z"
   },
   {
    "duration": 140,
    "start_time": "2023-05-15T18:40:01.419Z"
   },
   {
    "duration": 29,
    "start_time": "2023-05-15T18:40:01.561Z"
   },
   {
    "duration": 393,
    "start_time": "2023-05-15T18:40:01.593Z"
   },
   {
    "duration": 331,
    "start_time": "2023-05-15T18:40:01.988Z"
   },
   {
    "duration": 477,
    "start_time": "2023-05-15T18:40:02.324Z"
   },
   {
    "duration": 332,
    "start_time": "2023-05-15T18:40:02.804Z"
   },
   {
    "duration": 426,
    "start_time": "2023-05-15T18:40:03.138Z"
   },
   {
    "duration": 232,
    "start_time": "2023-05-15T18:40:03.566Z"
   },
   {
    "duration": 7,
    "start_time": "2023-05-15T18:40:03.801Z"
   },
   {
    "duration": 182,
    "start_time": "2023-05-15T18:40:03.811Z"
   },
   {
    "duration": 7,
    "start_time": "2023-05-15T18:40:03.995Z"
   },
   {
    "duration": 397,
    "start_time": "2023-05-15T18:40:04.004Z"
   },
   {
    "duration": 176,
    "start_time": "2023-05-15T18:40:04.404Z"
   },
   {
    "duration": 8,
    "start_time": "2023-05-15T18:40:04.582Z"
   },
   {
    "duration": 25,
    "start_time": "2023-05-15T18:40:04.592Z"
   },
   {
    "duration": 41,
    "start_time": "2023-05-15T18:40:04.619Z"
   },
   {
    "duration": 21,
    "start_time": "2023-05-15T18:40:04.662Z"
   },
   {
    "duration": 13,
    "start_time": "2023-05-15T18:40:04.685Z"
   },
   {
    "duration": 24,
    "start_time": "2023-05-15T18:40:04.700Z"
   },
   {
    "duration": 46,
    "start_time": "2023-05-15T18:40:04.725Z"
   },
   {
    "duration": 636,
    "start_time": "2023-05-15T18:40:16.827Z"
   },
   {
    "duration": 333,
    "start_time": "2023-05-15T18:40:42.878Z"
   },
   {
    "duration": 34,
    "start_time": "2023-05-15T18:43:22.645Z"
   },
   {
    "duration": 2435,
    "start_time": "2023-05-15T18:45:17.076Z"
   },
   {
    "duration": 39,
    "start_time": "2023-05-15T18:45:31.127Z"
   },
   {
    "duration": 13,
    "start_time": "2023-05-15T18:45:32.915Z"
   },
   {
    "duration": 13,
    "start_time": "2023-05-15T18:45:48.671Z"
   },
   {
    "duration": 13,
    "start_time": "2023-05-15T18:45:54.468Z"
   },
   {
    "duration": 18,
    "start_time": "2023-05-15T18:45:58.853Z"
   },
   {
    "duration": 16,
    "start_time": "2023-05-15T18:46:05.172Z"
   },
   {
    "duration": 13,
    "start_time": "2023-05-15T18:46:09.289Z"
   },
   {
    "duration": 18,
    "start_time": "2023-05-15T18:46:13.119Z"
   },
   {
    "duration": 13,
    "start_time": "2023-05-15T18:46:16.811Z"
   },
   {
    "duration": 451,
    "start_time": "2023-05-15T18:46:24.053Z"
   },
   {
    "duration": 40,
    "start_time": "2023-05-15T18:46:24.506Z"
   },
   {
    "duration": 19,
    "start_time": "2023-05-15T18:46:24.548Z"
   },
   {
    "duration": 15,
    "start_time": "2023-05-15T18:46:24.570Z"
   },
   {
    "duration": 1006,
    "start_time": "2023-05-15T18:46:24.588Z"
   },
   {
    "duration": 69,
    "start_time": "2023-05-15T18:46:25.596Z"
   },
   {
    "duration": 36,
    "start_time": "2023-05-15T18:46:25.668Z"
   },
   {
    "duration": 8,
    "start_time": "2023-05-15T18:46:25.707Z"
   },
   {
    "duration": 251,
    "start_time": "2023-05-15T18:46:25.718Z"
   },
   {
    "duration": 161,
    "start_time": "2023-05-15T18:46:25.971Z"
   },
   {
    "duration": 28,
    "start_time": "2023-05-15T18:46:26.134Z"
   },
   {
    "duration": 342,
    "start_time": "2023-05-15T18:46:26.165Z"
   },
   {
    "duration": 272,
    "start_time": "2023-05-15T18:46:26.509Z"
   },
   {
    "duration": 295,
    "start_time": "2023-05-15T18:46:26.784Z"
   },
   {
    "duration": 222,
    "start_time": "2023-05-15T18:46:27.081Z"
   },
   {
    "duration": 384,
    "start_time": "2023-05-15T18:46:27.306Z"
   },
   {
    "duration": 166,
    "start_time": "2023-05-15T18:46:27.693Z"
   },
   {
    "duration": 7,
    "start_time": "2023-05-15T18:46:27.861Z"
   },
   {
    "duration": 214,
    "start_time": "2023-05-15T18:46:27.869Z"
   },
   {
    "duration": 6,
    "start_time": "2023-05-15T18:46:28.086Z"
   },
   {
    "duration": 325,
    "start_time": "2023-05-15T18:46:28.094Z"
   },
   {
    "duration": 217,
    "start_time": "2023-05-15T18:46:28.422Z"
   },
   {
    "duration": 18,
    "start_time": "2023-05-15T18:46:28.642Z"
   },
   {
    "duration": 36,
    "start_time": "2023-05-15T18:46:28.662Z"
   },
   {
    "duration": 12,
    "start_time": "2023-05-15T18:46:28.700Z"
   },
   {
    "duration": 16,
    "start_time": "2023-05-15T18:46:28.714Z"
   },
   {
    "duration": 12,
    "start_time": "2023-05-15T18:46:28.756Z"
   },
   {
    "duration": 55,
    "start_time": "2023-05-15T18:46:28.770Z"
   },
   {
    "duration": 33,
    "start_time": "2023-05-15T18:46:28.827Z"
   },
   {
    "duration": 1371,
    "start_time": "2023-05-15T18:46:44.663Z"
   },
   {
    "duration": 35,
    "start_time": "2023-05-15T18:46:50.878Z"
   },
   {
    "duration": 18,
    "start_time": "2023-05-15T18:46:57.676Z"
   },
   {
    "duration": 17,
    "start_time": "2023-05-15T18:47:02.526Z"
   },
   {
    "duration": 17,
    "start_time": "2023-05-15T18:50:19.526Z"
   },
   {
    "duration": 16,
    "start_time": "2023-05-15T18:50:28.238Z"
   },
   {
    "duration": 460,
    "start_time": "2023-05-15T18:50:34.248Z"
   },
   {
    "duration": 58,
    "start_time": "2023-05-15T18:50:34.711Z"
   },
   {
    "duration": 21,
    "start_time": "2023-05-15T18:50:34.771Z"
   },
   {
    "duration": 13,
    "start_time": "2023-05-15T18:50:34.795Z"
   },
   {
    "duration": 849,
    "start_time": "2023-05-15T18:50:34.811Z"
   },
   {
    "duration": 61,
    "start_time": "2023-05-15T18:50:35.662Z"
   },
   {
    "duration": 30,
    "start_time": "2023-05-15T18:50:35.726Z"
   },
   {
    "duration": 22,
    "start_time": "2023-05-15T18:50:35.758Z"
   },
   {
    "duration": 204,
    "start_time": "2023-05-15T18:50:35.783Z"
   },
   {
    "duration": 142,
    "start_time": "2023-05-15T18:50:35.990Z"
   },
   {
    "duration": 31,
    "start_time": "2023-05-15T18:50:36.134Z"
   },
   {
    "duration": 301,
    "start_time": "2023-05-15T18:50:36.171Z"
   },
   {
    "duration": 240,
    "start_time": "2023-05-15T18:50:36.476Z"
   },
   {
    "duration": 299,
    "start_time": "2023-05-15T18:50:36.718Z"
   },
   {
    "duration": 217,
    "start_time": "2023-05-15T18:50:37.019Z"
   },
   {
    "duration": 344,
    "start_time": "2023-05-15T18:50:37.239Z"
   },
   {
    "duration": 150,
    "start_time": "2023-05-15T18:50:37.585Z"
   },
   {
    "duration": 6,
    "start_time": "2023-05-15T18:50:37.737Z"
   },
   {
    "duration": 175,
    "start_time": "2023-05-15T18:50:37.757Z"
   },
   {
    "duration": 6,
    "start_time": "2023-05-15T18:50:37.935Z"
   },
   {
    "duration": 274,
    "start_time": "2023-05-15T18:50:37.943Z"
   },
   {
    "duration": 175,
    "start_time": "2023-05-15T18:50:38.220Z"
   },
   {
    "duration": 10,
    "start_time": "2023-05-15T18:50:38.397Z"
   },
   {
    "duration": 96,
    "start_time": "2023-05-15T18:50:38.409Z"
   },
   {
    "duration": 11,
    "start_time": "2023-05-15T18:50:38.507Z"
   },
   {
    "duration": 13,
    "start_time": "2023-05-15T18:50:38.520Z"
   },
   {
    "duration": 87,
    "start_time": "2023-05-15T18:50:38.535Z"
   },
   {
    "duration": 25,
    "start_time": "2023-05-15T18:50:38.627Z"
   },
   {
    "duration": 24,
    "start_time": "2023-05-15T18:50:38.654Z"
   },
   {
    "duration": 503,
    "start_time": "2023-05-15T18:53:14.774Z"
   },
   {
    "duration": 809,
    "start_time": "2023-05-15T18:53:15.280Z"
   },
   {
    "duration": 46,
    "start_time": "2023-05-15T18:53:16.092Z"
   },
   {
    "duration": 29,
    "start_time": "2023-05-15T18:53:16.142Z"
   },
   {
    "duration": 17,
    "start_time": "2023-05-15T18:53:16.178Z"
   },
   {
    "duration": 68,
    "start_time": "2023-05-15T18:53:16.198Z"
   },
   {
    "duration": 36,
    "start_time": "2023-05-15T18:53:16.272Z"
   },
   {
    "duration": 9,
    "start_time": "2023-05-15T18:53:16.310Z"
   },
   {
    "duration": 331,
    "start_time": "2023-05-15T18:53:16.322Z"
   },
   {
    "duration": 145,
    "start_time": "2023-05-15T18:53:16.656Z"
   },
   {
    "duration": 15,
    "start_time": "2023-05-15T18:53:16.803Z"
   },
   {
    "duration": 433,
    "start_time": "2023-05-15T18:53:16.820Z"
   },
   {
    "duration": 241,
    "start_time": "2023-05-15T18:53:17.255Z"
   },
   {
    "duration": 305,
    "start_time": "2023-05-15T18:53:17.499Z"
   },
   {
    "duration": 235,
    "start_time": "2023-05-15T18:53:17.808Z"
   },
   {
    "duration": 414,
    "start_time": "2023-05-15T18:53:18.046Z"
   },
   {
    "duration": 166,
    "start_time": "2023-05-15T18:53:18.467Z"
   },
   {
    "duration": 6,
    "start_time": "2023-05-15T18:53:18.636Z"
   },
   {
    "duration": 162,
    "start_time": "2023-05-15T18:53:18.658Z"
   },
   {
    "duration": 6,
    "start_time": "2023-05-15T18:53:18.822Z"
   },
   {
    "duration": 351,
    "start_time": "2023-05-15T18:53:18.830Z"
   },
   {
    "duration": 210,
    "start_time": "2023-05-15T18:53:19.186Z"
   },
   {
    "duration": 11,
    "start_time": "2023-05-15T18:53:19.399Z"
   },
   {
    "duration": 65,
    "start_time": "2023-05-15T18:53:19.413Z"
   },
   {
    "duration": 13,
    "start_time": "2023-05-15T18:53:19.480Z"
   },
   {
    "duration": 16,
    "start_time": "2023-05-15T18:53:19.496Z"
   },
   {
    "duration": 13,
    "start_time": "2023-05-15T18:53:19.515Z"
   },
   {
    "duration": 56,
    "start_time": "2023-05-15T18:53:19.532Z"
   },
   {
    "duration": 29,
    "start_time": "2023-05-15T18:53:19.597Z"
   },
   {
    "duration": 57,
    "start_time": "2023-05-15T20:47:50.361Z"
   },
   {
    "duration": 43,
    "start_time": "2023-05-15T20:48:38.582Z"
   },
   {
    "duration": 415,
    "start_time": "2023-05-15T20:48:49.292Z"
   },
   {
    "duration": 974,
    "start_time": "2023-05-15T20:48:49.709Z"
   },
   {
    "duration": 74,
    "start_time": "2023-05-15T20:48:50.685Z"
   },
   {
    "duration": 12,
    "start_time": "2023-05-15T20:48:50.762Z"
   },
   {
    "duration": 12,
    "start_time": "2023-05-15T20:48:50.776Z"
   },
   {
    "duration": 147,
    "start_time": "2023-05-15T20:48:50.789Z"
   },
   {
    "duration": 27,
    "start_time": "2023-05-15T20:48:50.938Z"
   },
   {
    "duration": 18,
    "start_time": "2023-05-15T20:48:50.967Z"
   },
   {
    "duration": 207,
    "start_time": "2023-05-15T20:48:50.986Z"
   },
   {
    "duration": 131,
    "start_time": "2023-05-15T20:48:51.196Z"
   },
   {
    "duration": 23,
    "start_time": "2023-05-15T20:48:51.329Z"
   },
   {
    "duration": 320,
    "start_time": "2023-05-15T20:48:51.357Z"
   },
   {
    "duration": 218,
    "start_time": "2023-05-15T20:48:51.679Z"
   },
   {
    "duration": 348,
    "start_time": "2023-05-15T20:48:51.898Z"
   },
   {
    "duration": 236,
    "start_time": "2023-05-15T20:48:52.248Z"
   },
   {
    "duration": 348,
    "start_time": "2023-05-15T20:48:52.486Z"
   },
   {
    "duration": 159,
    "start_time": "2023-05-15T20:48:52.838Z"
   },
   {
    "duration": 5,
    "start_time": "2023-05-15T20:48:52.999Z"
   },
   {
    "duration": 181,
    "start_time": "2023-05-15T20:48:53.006Z"
   },
   {
    "duration": 5,
    "start_time": "2023-05-15T20:48:53.189Z"
   },
   {
    "duration": 268,
    "start_time": "2023-05-15T20:48:53.196Z"
   },
   {
    "duration": 153,
    "start_time": "2023-05-15T20:48:53.465Z"
   },
   {
    "duration": 7,
    "start_time": "2023-05-15T20:48:53.619Z"
   },
   {
    "duration": 42,
    "start_time": "2023-05-15T20:48:53.627Z"
   },
   {
    "duration": 11,
    "start_time": "2023-05-15T20:48:53.671Z"
   },
   {
    "duration": 37,
    "start_time": "2023-05-15T20:48:53.683Z"
   },
   {
    "duration": 155,
    "start_time": "2023-05-15T20:48:53.722Z"
   },
   {
    "duration": 35,
    "start_time": "2023-05-15T20:48:53.880Z"
   },
   {
    "duration": 18,
    "start_time": "2023-05-15T20:48:53.916Z"
   },
   {
    "duration": 135,
    "start_time": "2023-05-15T20:51:12.372Z"
   },
   {
    "duration": 206,
    "start_time": "2023-05-15T20:51:35.057Z"
   },
   {
    "duration": 270,
    "start_time": "2023-05-15T20:52:44.741Z"
   },
   {
    "duration": 311,
    "start_time": "2023-05-15T20:53:04.737Z"
   },
   {
    "duration": 190,
    "start_time": "2023-05-15T20:53:17.188Z"
   },
   {
    "duration": 327,
    "start_time": "2023-05-15T20:53:28.032Z"
   },
   {
    "duration": 149,
    "start_time": "2023-05-15T21:00:07.162Z"
   },
   {
    "duration": 352,
    "start_time": "2023-05-15T21:00:31.281Z"
   },
   {
    "duration": 155,
    "start_time": "2023-05-15T21:01:49.057Z"
   },
   {
    "duration": 302,
    "start_time": "2023-05-15T21:06:14.004Z"
   },
   {
    "duration": 192,
    "start_time": "2023-05-15T21:07:03.766Z"
   },
   {
    "duration": 301,
    "start_time": "2023-05-15T21:07:08.362Z"
   },
   {
    "duration": 383,
    "start_time": "2023-05-16T11:12:23.861Z"
   },
   {
    "duration": 740,
    "start_time": "2023-05-16T11:12:24.246Z"
   },
   {
    "duration": 79,
    "start_time": "2023-05-16T11:12:24.987Z"
   },
   {
    "duration": 14,
    "start_time": "2023-05-16T11:12:25.068Z"
   },
   {
    "duration": 12,
    "start_time": "2023-05-16T11:12:25.084Z"
   },
   {
    "duration": 135,
    "start_time": "2023-05-16T11:12:25.098Z"
   },
   {
    "duration": 22,
    "start_time": "2023-05-16T11:12:25.234Z"
   },
   {
    "duration": 6,
    "start_time": "2023-05-16T11:12:25.257Z"
   },
   {
    "duration": 186,
    "start_time": "2023-05-16T11:12:25.264Z"
   },
   {
    "duration": 133,
    "start_time": "2023-05-16T11:12:25.452Z"
   },
   {
    "duration": 10,
    "start_time": "2023-05-16T11:12:25.587Z"
   },
   {
    "duration": 348,
    "start_time": "2023-05-16T11:12:25.599Z"
   },
   {
    "duration": 212,
    "start_time": "2023-05-16T11:12:25.949Z"
   },
   {
    "duration": 274,
    "start_time": "2023-05-16T11:12:26.164Z"
   },
   {
    "duration": 201,
    "start_time": "2023-05-16T11:12:26.440Z"
   },
   {
    "duration": 311,
    "start_time": "2023-05-16T11:12:26.642Z"
   },
   {
    "duration": 133,
    "start_time": "2023-05-16T11:12:26.954Z"
   },
   {
    "duration": 5,
    "start_time": "2023-05-16T11:12:27.088Z"
   },
   {
    "duration": 144,
    "start_time": "2023-05-16T11:12:27.094Z"
   },
   {
    "duration": 5,
    "start_time": "2023-05-16T11:12:27.240Z"
   },
   {
    "duration": 248,
    "start_time": "2023-05-16T11:12:27.247Z"
   },
   {
    "duration": 134,
    "start_time": "2023-05-16T11:12:27.496Z"
   },
   {
    "duration": 6,
    "start_time": "2023-05-16T11:12:27.632Z"
   },
   {
    "duration": 24,
    "start_time": "2023-05-16T11:12:27.640Z"
   },
   {
    "duration": 10,
    "start_time": "2023-05-16T11:12:27.665Z"
   },
   {
    "duration": 9,
    "start_time": "2023-05-16T11:12:27.677Z"
   },
   {
    "duration": 40,
    "start_time": "2023-05-16T11:12:27.687Z"
   },
   {
    "duration": 24,
    "start_time": "2023-05-16T11:12:27.729Z"
   },
   {
    "duration": 13,
    "start_time": "2023-05-16T11:12:27.755Z"
   },
   {
    "duration": 80,
    "start_time": "2023-05-16T11:56:36.106Z"
   },
   {
    "duration": 9,
    "start_time": "2023-05-16T11:56:39.933Z"
   },
   {
    "duration": 439,
    "start_time": "2023-05-16T11:56:46.760Z"
   },
   {
    "duration": 1064,
    "start_time": "2023-05-16T11:56:47.206Z"
   },
   {
    "duration": 101,
    "start_time": "2023-05-16T11:56:48.272Z"
   },
   {
    "duration": 37,
    "start_time": "2023-05-16T11:56:48.382Z"
   },
   {
    "duration": 25,
    "start_time": "2023-05-16T11:56:48.422Z"
   },
   {
    "duration": 245,
    "start_time": "2023-05-16T11:56:48.450Z"
   },
   {
    "duration": 35,
    "start_time": "2023-05-16T11:56:48.701Z"
   },
   {
    "duration": 133,
    "start_time": "2023-05-16T11:56:48.738Z"
   },
   {
    "duration": 0,
    "start_time": "2023-05-16T11:56:48.874Z"
   },
   {
    "duration": 0,
    "start_time": "2023-05-16T11:56:48.877Z"
   },
   {
    "duration": 0,
    "start_time": "2023-05-16T11:56:48.878Z"
   },
   {
    "duration": 1,
    "start_time": "2023-05-16T11:56:48.879Z"
   },
   {
    "duration": 0,
    "start_time": "2023-05-16T11:56:48.881Z"
   },
   {
    "duration": 0,
    "start_time": "2023-05-16T11:56:48.882Z"
   },
   {
    "duration": 0,
    "start_time": "2023-05-16T11:56:48.883Z"
   },
   {
    "duration": 0,
    "start_time": "2023-05-16T11:56:48.885Z"
   },
   {
    "duration": 0,
    "start_time": "2023-05-16T11:56:48.886Z"
   },
   {
    "duration": 0,
    "start_time": "2023-05-16T11:56:48.887Z"
   },
   {
    "duration": 0,
    "start_time": "2023-05-16T11:56:48.888Z"
   },
   {
    "duration": 0,
    "start_time": "2023-05-16T11:56:48.890Z"
   },
   {
    "duration": 0,
    "start_time": "2023-05-16T11:56:48.891Z"
   },
   {
    "duration": 0,
    "start_time": "2023-05-16T11:56:48.893Z"
   },
   {
    "duration": 0,
    "start_time": "2023-05-16T11:56:48.894Z"
   },
   {
    "duration": 0,
    "start_time": "2023-05-16T11:56:48.895Z"
   },
   {
    "duration": 0,
    "start_time": "2023-05-16T11:56:48.896Z"
   },
   {
    "duration": 0,
    "start_time": "2023-05-16T11:56:48.897Z"
   },
   {
    "duration": 0,
    "start_time": "2023-05-16T11:56:48.898Z"
   },
   {
    "duration": 0,
    "start_time": "2023-05-16T11:56:48.900Z"
   },
   {
    "duration": 0,
    "start_time": "2023-05-16T11:56:48.901Z"
   },
   {
    "duration": 0,
    "start_time": "2023-05-16T11:56:48.902Z"
   },
   {
    "duration": 30,
    "start_time": "2023-05-16T11:57:27.210Z"
   },
   {
    "duration": 14,
    "start_time": "2023-05-16T11:57:40.010Z"
   },
   {
    "duration": 15,
    "start_time": "2023-05-16T11:59:12.150Z"
   },
   {
    "duration": 17,
    "start_time": "2023-05-16T11:59:18.947Z"
   },
   {
    "duration": 11,
    "start_time": "2023-05-16T11:59:22.861Z"
   },
   {
    "duration": 12,
    "start_time": "2023-05-16T12:03:09.446Z"
   },
   {
    "duration": 9,
    "start_time": "2023-05-16T12:03:15.138Z"
   },
   {
    "duration": 31,
    "start_time": "2023-05-16T12:03:21.239Z"
   },
   {
    "duration": 18,
    "start_time": "2023-05-16T12:04:41.036Z"
   },
   {
    "duration": 11,
    "start_time": "2023-05-16T12:04:57.663Z"
   },
   {
    "duration": 20,
    "start_time": "2023-05-16T12:04:59.976Z"
   },
   {
    "duration": 15,
    "start_time": "2023-05-16T12:05:04.147Z"
   },
   {
    "duration": 28,
    "start_time": "2023-05-16T12:05:48.669Z"
   },
   {
    "duration": 21,
    "start_time": "2023-05-16T12:06:11.602Z"
   },
   {
    "duration": 16,
    "start_time": "2023-05-16T12:06:15.254Z"
   },
   {
    "duration": 21,
    "start_time": "2023-05-16T12:06:24.529Z"
   },
   {
    "duration": 32,
    "start_time": "2023-05-16T12:07:13.655Z"
   },
   {
    "duration": 24,
    "start_time": "2023-05-16T12:07:49.843Z"
   },
   {
    "duration": 61,
    "start_time": "2023-05-16T12:07:55.692Z"
   },
   {
    "duration": 42,
    "start_time": "2023-05-16T12:08:28.678Z"
   },
   {
    "duration": 28,
    "start_time": "2023-05-16T12:08:34.967Z"
   },
   {
    "duration": 15,
    "start_time": "2023-05-16T12:08:38.351Z"
   },
   {
    "duration": 9,
    "start_time": "2023-05-16T12:10:04.650Z"
   },
   {
    "duration": 6,
    "start_time": "2023-05-16T12:10:09.949Z"
   },
   {
    "duration": 5,
    "start_time": "2023-05-16T12:10:23.449Z"
   },
   {
    "duration": 7,
    "start_time": "2023-05-16T12:10:55.050Z"
   },
   {
    "duration": 5,
    "start_time": "2023-05-16T12:11:06.151Z"
   },
   {
    "duration": 9,
    "start_time": "2023-05-16T12:11:55.098Z"
   },
   {
    "duration": 31,
    "start_time": "2023-05-16T12:11:59.507Z"
   },
   {
    "duration": 16,
    "start_time": "2023-05-16T12:16:25.124Z"
   },
   {
    "duration": 15,
    "start_time": "2023-05-16T12:16:36.764Z"
   },
   {
    "duration": 7,
    "start_time": "2023-05-16T12:16:42.347Z"
   },
   {
    "duration": 13,
    "start_time": "2023-05-16T12:16:55.560Z"
   },
   {
    "duration": 23,
    "start_time": "2023-05-16T12:17:01.863Z"
   },
   {
    "duration": 27,
    "start_time": "2023-05-16T12:17:10.261Z"
   },
   {
    "duration": 9,
    "start_time": "2023-05-16T12:23:52.679Z"
   },
   {
    "duration": 209,
    "start_time": "2023-05-16T12:23:53.121Z"
   },
   {
    "duration": 142,
    "start_time": "2023-05-16T12:23:53.648Z"
   },
   {
    "duration": 14,
    "start_time": "2023-05-16T12:23:54.154Z"
   },
   {
    "duration": 376,
    "start_time": "2023-05-16T12:23:55.252Z"
   },
   {
    "duration": 233,
    "start_time": "2023-05-16T12:24:12.800Z"
   },
   {
    "duration": 265,
    "start_time": "2023-05-16T12:25:19.393Z"
   },
   {
    "duration": 302,
    "start_time": "2023-05-16T12:29:51.954Z"
   },
   {
    "duration": 231,
    "start_time": "2023-05-16T12:30:22.049Z"
   },
   {
    "duration": 266,
    "start_time": "2023-05-16T12:30:46.255Z"
   },
   {
    "duration": 298,
    "start_time": "2023-05-16T12:31:45.853Z"
   },
   {
    "duration": 332,
    "start_time": "2023-05-16T12:45:08.788Z"
   },
   {
    "duration": 347,
    "start_time": "2023-05-16T12:45:46.364Z"
   },
   {
    "duration": 373,
    "start_time": "2023-05-16T12:46:07.822Z"
   },
   {
    "duration": 377,
    "start_time": "2023-05-16T12:46:16.155Z"
   },
   {
    "duration": 224,
    "start_time": "2023-05-16T12:46:22.964Z"
   },
   {
    "duration": 227,
    "start_time": "2023-05-16T12:47:05.856Z"
   },
   {
    "duration": 391,
    "start_time": "2023-05-16T12:47:14.866Z"
   },
   {
    "duration": 362,
    "start_time": "2023-05-16T12:47:48.368Z"
   },
   {
    "duration": 180,
    "start_time": "2023-05-16T12:48:27.802Z"
   },
   {
    "duration": 176,
    "start_time": "2023-05-16T12:52:10.544Z"
   },
   {
    "duration": 7,
    "start_time": "2023-05-16T12:52:33.609Z"
   },
   {
    "duration": 168,
    "start_time": "2023-05-16T12:53:39.239Z"
   },
   {
    "duration": 165,
    "start_time": "2023-05-16T12:54:17.249Z"
   },
   {
    "duration": 13,
    "start_time": "2023-05-16T12:54:25.402Z"
   },
   {
    "duration": 296,
    "start_time": "2023-05-16T12:55:03.172Z"
   },
   {
    "duration": 161,
    "start_time": "2023-05-16T12:55:19.100Z"
   },
   {
    "duration": 8,
    "start_time": "2023-05-16T12:55:19.828Z"
   },
   {
    "duration": 57,
    "start_time": "2023-05-16T12:55:20.993Z"
   },
   {
    "duration": 11,
    "start_time": "2023-05-16T12:57:21.758Z"
   },
   {
    "duration": 16,
    "start_time": "2023-05-16T12:58:30.007Z"
   },
   {
    "duration": 100,
    "start_time": "2023-05-16T12:59:49.807Z"
   },
   {
    "duration": 8,
    "start_time": "2023-05-16T12:59:52.886Z"
   },
   {
    "duration": 5,
    "start_time": "2023-05-16T12:59:58.218Z"
   },
   {
    "duration": 15,
    "start_time": "2023-05-16T13:00:04.270Z"
   },
   {
    "duration": 9,
    "start_time": "2023-05-16T13:00:18.555Z"
   },
   {
    "duration": 23,
    "start_time": "2023-05-16T13:00:19.326Z"
   },
   {
    "duration": 15,
    "start_time": "2023-05-16T13:08:45.057Z"
   },
   {
    "duration": 135,
    "start_time": "2023-05-16T13:13:06.111Z"
   },
   {
    "duration": 170,
    "start_time": "2023-05-16T13:13:15.961Z"
   },
   {
    "duration": 231,
    "start_time": "2023-05-16T13:14:05.598Z"
   },
   {
    "duration": 135,
    "start_time": "2023-05-16T13:14:09.122Z"
   },
   {
    "duration": 12,
    "start_time": "2023-05-16T13:18:32.757Z"
   },
   {
    "duration": 425,
    "start_time": "2023-05-16T13:18:39.814Z"
   },
   {
    "duration": 769,
    "start_time": "2023-05-16T13:18:40.241Z"
   },
   {
    "duration": 38,
    "start_time": "2023-05-16T13:18:41.027Z"
   },
   {
    "duration": 14,
    "start_time": "2023-05-16T13:18:41.068Z"
   },
   {
    "duration": 17,
    "start_time": "2023-05-16T13:18:41.086Z"
   },
   {
    "duration": 63,
    "start_time": "2023-05-16T13:18:41.105Z"
   },
   {
    "duration": 29,
    "start_time": "2023-05-16T13:18:41.170Z"
   },
   {
    "duration": 7,
    "start_time": "2023-05-16T13:18:41.200Z"
   },
   {
    "duration": 17,
    "start_time": "2023-05-16T13:18:41.211Z"
   },
   {
    "duration": 19,
    "start_time": "2023-05-16T13:18:41.230Z"
   },
   {
    "duration": 6,
    "start_time": "2023-05-16T13:18:41.250Z"
   },
   {
    "duration": 243,
    "start_time": "2023-05-16T13:18:41.257Z"
   },
   {
    "duration": 140,
    "start_time": "2023-05-16T13:18:41.502Z"
   },
   {
    "duration": 10,
    "start_time": "2023-05-16T13:18:41.646Z"
   },
   {
    "duration": 379,
    "start_time": "2023-05-16T13:18:41.657Z"
   },
   {
    "duration": 223,
    "start_time": "2023-05-16T13:18:42.038Z"
   },
   {
    "duration": 365,
    "start_time": "2023-05-16T13:18:42.262Z"
   },
   {
    "duration": 224,
    "start_time": "2023-05-16T13:18:42.632Z"
   },
   {
    "duration": 379,
    "start_time": "2023-05-16T13:18:42.857Z"
   },
   {
    "duration": 166,
    "start_time": "2023-05-16T13:18:43.237Z"
   },
   {
    "duration": 18,
    "start_time": "2023-05-16T13:18:43.405Z"
   },
   {
    "duration": 157,
    "start_time": "2023-05-16T13:18:43.424Z"
   },
   {
    "duration": 9,
    "start_time": "2023-05-16T13:18:43.583Z"
   },
   {
    "duration": 298,
    "start_time": "2023-05-16T13:18:43.594Z"
   },
   {
    "duration": 188,
    "start_time": "2023-05-16T13:18:43.894Z"
   },
   {
    "duration": 7,
    "start_time": "2023-05-16T13:18:44.084Z"
   },
   {
    "duration": 47,
    "start_time": "2023-05-16T13:18:44.092Z"
   },
   {
    "duration": 23,
    "start_time": "2023-05-16T13:18:44.141Z"
   },
   {
    "duration": 22,
    "start_time": "2023-05-16T13:18:44.167Z"
   },
   {
    "duration": 20,
    "start_time": "2023-05-16T13:18:44.195Z"
   },
   {
    "duration": 16,
    "start_time": "2023-05-16T13:18:44.220Z"
   },
   {
    "duration": 44,
    "start_time": "2023-05-16T13:18:44.243Z"
   },
   {
    "duration": 19,
    "start_time": "2023-05-16T13:18:44.289Z"
   },
   {
    "duration": 23,
    "start_time": "2023-05-16T13:19:52.394Z"
   },
   {
    "duration": 382,
    "start_time": "2023-05-16T13:32:02.917Z"
   },
   {
    "duration": 772,
    "start_time": "2023-05-16T13:32:03.302Z"
   },
   {
    "duration": 45,
    "start_time": "2023-05-16T13:32:04.077Z"
   },
   {
    "duration": 16,
    "start_time": "2023-05-16T13:32:04.124Z"
   },
   {
    "duration": 14,
    "start_time": "2023-05-16T13:32:04.142Z"
   },
   {
    "duration": 72,
    "start_time": "2023-05-16T13:32:04.158Z"
   },
   {
    "duration": 31,
    "start_time": "2023-05-16T13:32:04.232Z"
   },
   {
    "duration": 9,
    "start_time": "2023-05-16T13:32:04.265Z"
   },
   {
    "duration": 16,
    "start_time": "2023-05-16T13:32:04.276Z"
   },
   {
    "duration": 8,
    "start_time": "2023-05-16T13:32:04.296Z"
   },
   {
    "duration": 234,
    "start_time": "2023-05-16T13:32:04.306Z"
   },
   {
    "duration": 130,
    "start_time": "2023-05-16T13:32:04.541Z"
   },
   {
    "duration": 13,
    "start_time": "2023-05-16T13:32:04.673Z"
   },
   {
    "duration": 325,
    "start_time": "2023-05-16T13:32:04.691Z"
   },
   {
    "duration": 231,
    "start_time": "2023-05-16T13:32:05.018Z"
   },
   {
    "duration": 357,
    "start_time": "2023-05-16T13:32:05.251Z"
   },
   {
    "duration": 239,
    "start_time": "2023-05-16T13:32:05.609Z"
   },
   {
    "duration": 382,
    "start_time": "2023-05-16T13:32:05.850Z"
   },
   {
    "duration": 146,
    "start_time": "2023-05-16T13:32:06.234Z"
   },
   {
    "duration": 9,
    "start_time": "2023-05-16T13:32:06.386Z"
   },
   {
    "duration": 158,
    "start_time": "2023-05-16T13:32:06.397Z"
   },
   {
    "duration": 6,
    "start_time": "2023-05-16T13:32:06.557Z"
   },
   {
    "duration": 253,
    "start_time": "2023-05-16T13:32:06.564Z"
   },
   {
    "duration": 154,
    "start_time": "2023-05-16T13:32:06.819Z"
   },
   {
    "duration": 7,
    "start_time": "2023-05-16T13:32:06.976Z"
   },
   {
    "duration": 29,
    "start_time": "2023-05-16T13:32:06.985Z"
   },
   {
    "duration": 12,
    "start_time": "2023-05-16T13:32:07.016Z"
   },
   {
    "duration": 4,
    "start_time": "2023-05-16T13:32:07.031Z"
   },
   {
    "duration": 10,
    "start_time": "2023-05-16T13:32:07.036Z"
   },
   {
    "duration": 8,
    "start_time": "2023-05-16T13:32:07.079Z"
   },
   {
    "duration": 29,
    "start_time": "2023-05-16T13:32:07.091Z"
   },
   {
    "duration": 13,
    "start_time": "2023-05-16T13:32:07.122Z"
   },
   {
    "duration": 429,
    "start_time": "2023-05-16T13:33:40.752Z"
   },
   {
    "duration": 782,
    "start_time": "2023-05-16T13:33:41.183Z"
   },
   {
    "duration": 42,
    "start_time": "2023-05-16T13:33:41.967Z"
   },
   {
    "duration": 13,
    "start_time": "2023-05-16T13:33:42.011Z"
   },
   {
    "duration": 11,
    "start_time": "2023-05-16T13:33:42.026Z"
   },
   {
    "duration": 59,
    "start_time": "2023-05-16T13:33:42.039Z"
   },
   {
    "duration": 23,
    "start_time": "2023-05-16T13:33:42.099Z"
   },
   {
    "duration": 9,
    "start_time": "2023-05-16T13:33:42.123Z"
   },
   {
    "duration": 13,
    "start_time": "2023-05-16T13:33:42.134Z"
   },
   {
    "duration": 6,
    "start_time": "2023-05-16T13:33:42.149Z"
   },
   {
    "duration": 186,
    "start_time": "2023-05-16T13:33:42.157Z"
   },
   {
    "duration": 149,
    "start_time": "2023-05-16T13:33:42.344Z"
   },
   {
    "duration": 9,
    "start_time": "2023-05-16T13:33:42.495Z"
   },
   {
    "duration": 301,
    "start_time": "2023-05-16T13:33:42.507Z"
   },
   {
    "duration": 228,
    "start_time": "2023-05-16T13:33:42.809Z"
   },
   {
    "duration": 393,
    "start_time": "2023-05-16T13:33:43.039Z"
   },
   {
    "duration": 235,
    "start_time": "2023-05-16T13:33:43.435Z"
   },
   {
    "duration": 427,
    "start_time": "2023-05-16T13:33:43.672Z"
   },
   {
    "duration": 179,
    "start_time": "2023-05-16T13:33:44.101Z"
   },
   {
    "duration": 7,
    "start_time": "2023-05-16T13:33:44.282Z"
   },
   {
    "duration": 210,
    "start_time": "2023-05-16T13:33:44.293Z"
   },
   {
    "duration": 6,
    "start_time": "2023-05-16T13:33:44.507Z"
   },
   {
    "duration": 282,
    "start_time": "2023-05-16T13:33:44.517Z"
   },
   {
    "duration": 149,
    "start_time": "2023-05-16T13:33:44.800Z"
   },
   {
    "duration": 6,
    "start_time": "2023-05-16T13:33:44.951Z"
   },
   {
    "duration": 45,
    "start_time": "2023-05-16T13:33:44.959Z"
   },
   {
    "duration": 12,
    "start_time": "2023-05-16T13:33:45.009Z"
   },
   {
    "duration": 22,
    "start_time": "2023-05-16T13:33:45.022Z"
   },
   {
    "duration": 19,
    "start_time": "2023-05-16T13:33:45.046Z"
   },
   {
    "duration": 19,
    "start_time": "2023-05-16T13:33:45.067Z"
   },
   {
    "duration": 26,
    "start_time": "2023-05-16T13:33:45.098Z"
   },
   {
    "duration": 22,
    "start_time": "2023-05-16T13:33:45.125Z"
   },
   {
    "duration": 14,
    "start_time": "2023-05-16T13:34:35.275Z"
   },
   {
    "duration": 18,
    "start_time": "2023-05-16T13:35:26.497Z"
   },
   {
    "duration": 2094,
    "start_time": "2023-05-16T13:35:46.320Z"
   },
   {
    "duration": 9,
    "start_time": "2023-05-16T13:35:53.311Z"
   },
   {
    "duration": 7,
    "start_time": "2023-05-16T13:36:55.224Z"
   },
   {
    "duration": 23,
    "start_time": "2023-05-16T13:37:22.507Z"
   },
   {
    "duration": 39,
    "start_time": "2023-05-16T13:38:11.121Z"
   },
   {
    "duration": 11,
    "start_time": "2023-05-16T13:38:28.763Z"
   },
   {
    "duration": 32,
    "start_time": "2023-05-16T13:39:28.051Z"
   },
   {
    "duration": 19,
    "start_time": "2023-05-16T13:39:54.120Z"
   },
   {
    "duration": 20,
    "start_time": "2023-05-16T13:39:58.746Z"
   },
   {
    "duration": 19,
    "start_time": "2023-05-16T13:40:02.109Z"
   },
   {
    "duration": 18,
    "start_time": "2023-05-16T13:41:12.654Z"
   },
   {
    "duration": 12,
    "start_time": "2023-05-16T13:54:58.997Z"
   },
   {
    "duration": 9,
    "start_time": "2023-05-16T13:55:05.306Z"
   },
   {
    "duration": 23,
    "start_time": "2023-05-16T13:55:06.203Z"
   },
   {
    "duration": 16,
    "start_time": "2023-05-16T13:55:22.651Z"
   },
   {
    "duration": 10,
    "start_time": "2023-05-16T13:56:44.986Z"
   },
   {
    "duration": 11,
    "start_time": "2023-05-16T13:56:51.630Z"
   },
   {
    "duration": 14,
    "start_time": "2023-05-16T14:00:30.606Z"
   },
   {
    "duration": 12,
    "start_time": "2023-05-16T14:01:23.816Z"
   },
   {
    "duration": 417,
    "start_time": "2023-05-17T07:04:10.445Z"
   },
   {
    "duration": 784,
    "start_time": "2023-05-17T07:04:10.864Z"
   },
   {
    "duration": 82,
    "start_time": "2023-05-17T07:04:11.650Z"
   },
   {
    "duration": 13,
    "start_time": "2023-05-17T07:04:11.733Z"
   },
   {
    "duration": 15,
    "start_time": "2023-05-17T07:04:11.749Z"
   },
   {
    "duration": 138,
    "start_time": "2023-05-17T07:04:11.766Z"
   },
   {
    "duration": 22,
    "start_time": "2023-05-17T07:04:11.906Z"
   },
   {
    "duration": 7,
    "start_time": "2023-05-17T07:04:11.930Z"
   },
   {
    "duration": 16,
    "start_time": "2023-05-17T07:04:11.939Z"
   },
   {
    "duration": 8,
    "start_time": "2023-05-17T07:04:11.958Z"
   },
   {
    "duration": 202,
    "start_time": "2023-05-17T07:04:11.968Z"
   },
   {
    "duration": 153,
    "start_time": "2023-05-17T07:04:12.172Z"
   },
   {
    "duration": 11,
    "start_time": "2023-05-17T07:04:12.326Z"
   },
   {
    "duration": 374,
    "start_time": "2023-05-17T07:04:12.340Z"
   },
   {
    "duration": 214,
    "start_time": "2023-05-17T07:04:12.716Z"
   },
   {
    "duration": 334,
    "start_time": "2023-05-17T07:04:12.931Z"
   },
   {
    "duration": 230,
    "start_time": "2023-05-17T07:04:13.267Z"
   },
   {
    "duration": 337,
    "start_time": "2023-05-17T07:04:13.500Z"
   },
   {
    "duration": 173,
    "start_time": "2023-05-17T07:04:13.839Z"
   },
   {
    "duration": 6,
    "start_time": "2023-05-17T07:04:14.014Z"
   },
   {
    "duration": 193,
    "start_time": "2023-05-17T07:04:14.022Z"
   },
   {
    "duration": 6,
    "start_time": "2023-05-17T07:04:14.217Z"
   },
   {
    "duration": 260,
    "start_time": "2023-05-17T07:04:14.225Z"
   },
   {
    "duration": 144,
    "start_time": "2023-05-17T07:04:14.487Z"
   },
   {
    "duration": 6,
    "start_time": "2023-05-17T07:04:14.632Z"
   },
   {
    "duration": 45,
    "start_time": "2023-05-17T07:04:14.640Z"
   },
   {
    "duration": 12,
    "start_time": "2023-05-17T07:04:14.687Z"
   },
   {
    "duration": 12,
    "start_time": "2023-05-17T07:04:14.701Z"
   },
   {
    "duration": 13,
    "start_time": "2023-05-17T07:04:14.714Z"
   },
   {
    "duration": 8,
    "start_time": "2023-05-17T07:04:14.728Z"
   },
   {
    "duration": 22,
    "start_time": "2023-05-17T07:04:14.759Z"
   },
   {
    "duration": 19,
    "start_time": "2023-05-17T07:04:14.783Z"
   }
  ],
  "kernelspec": {
   "display_name": "Python 3 (ipykernel)",
   "language": "python",
   "name": "python3"
  },
  "language_info": {
   "codemirror_mode": {
    "name": "ipython",
    "version": 3
   },
   "file_extension": ".py",
   "mimetype": "text/x-python",
   "name": "python",
   "nbconvert_exporter": "python",
   "pygments_lexer": "ipython3",
   "version": "3.9.13"
  },
  "toc": {
   "base_numbering": 1,
   "nav_menu": {
    "height": "169.431px",
    "width": "487.611px"
   },
   "number_sections": true,
   "sideBar": true,
   "skip_h1_title": true,
   "title_cell": "Table of Contents",
   "title_sidebar": "Contents",
   "toc_cell": false,
   "toc_position": {
    "height": "calc(100% - 180px)",
    "left": "10px",
    "top": "150px",
    "width": "328.347px"
   },
   "toc_section_display": true,
   "toc_window_display": true
  }
 },
 "nbformat": 4,
 "nbformat_minor": 2
}
