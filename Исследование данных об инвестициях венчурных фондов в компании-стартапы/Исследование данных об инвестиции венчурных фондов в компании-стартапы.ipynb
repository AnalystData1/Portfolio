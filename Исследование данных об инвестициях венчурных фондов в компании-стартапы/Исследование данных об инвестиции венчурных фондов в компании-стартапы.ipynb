{
 "cells": [
  {
   "cell_type": "markdown",
   "id": "e7dfb797",
   "metadata": {},
   "source": [
    "# Исследование данных об инвестиции венчурных фондов в компании-стартапы"
   ]
  },
  {
   "cell_type": "markdown",
   "id": "984b97f0",
   "metadata": {},
   "source": [
    "## Описание проекта\n",
    "\n",
    "Проект автоматически проверяется в тренажёре SQL. В самостоятельном проекте этого курса работа идёт с базой данных, которая хранит информацию о венчурных фондах и инвестициях в компании-стартапы. "
   ]
  },
  {
   "cell_type": "markdown",
   "id": "e95a0497",
   "metadata": {},
   "source": [
    "## Данные\n",
    "\n",
    "Эта база данных основана на датасете Startup Investments, опубликованном на популярной платформе для соревнований по исследованию данных Kaggle (https://www.kaggle.com/justinas/startup-investments). \n",
    "\n",
    "\n",
    "## Цель\n",
    "\n",
    "Произвести различные выгрузки данных венчурных фондов, проанализировать данные о фондах и инвестициях и написать запросы к базе."
   ]
  },
  {
   "cell_type": "markdown",
   "id": "de03e0d9",
   "metadata": {},
   "source": [
    "### Задание 1\n",
    "Посчитайте, сколько компаний закрылось."
   ]
  },
  {
   "cell_type": "code",
   "execution_count": null,
   "id": "b94affd3",
   "metadata": {},
   "outputs": [],
   "source": [
    "'''\n",
    "SELECT COUNT(*)\n",
    "FROM company\n",
    "WHERE status = 'closed'\n",
    "'''"
   ]
  },
  {
   "cell_type": "markdown",
   "id": "a8f6be8b",
   "metadata": {},
   "source": [
    "### Задание 2\n",
    "Отобразите количество привлечённых средств для новостных компаний США. Используйте данные из таблицы company. Отсортируйте таблицу по убыванию значений в поле funding_total.\n",
    "\n"
   ]
  },
  {
   "cell_type": "code",
   "execution_count": null,
   "id": "702093b1",
   "metadata": {},
   "outputs": [],
   "source": [
    "'''\n",
    "SELECT funding_total \n",
    "FROM company\n",
    "WHERE category_code = 'news'\n",
    "  AND country_code = 'USA'\n",
    "ORDER BY funding_total DESC\n",
    "'''"
   ]
  },
  {
   "cell_type": "markdown",
   "id": "81e05df1",
   "metadata": {},
   "source": [
    "### Задание 3\n",
    "\n",
    "Найдите общую сумму сделок по покупке одних компаний другими в долларах. Отберите сделки, которые осуществлялись только за наличные с 2011 по 2013 год включительно.\n",
    "\n"
   ]
  },
  {
   "cell_type": "code",
   "execution_count": null,
   "id": "0f111021",
   "metadata": {},
   "outputs": [],
   "source": [
    "'''\n",
    "SELECT SUM(price_amount)\n",
    "FROM acquisition\n",
    "WHERE EXTRACT(YEAR FROM acquired_at) IN (2011, 2012, 2013)\n",
    "  AND term_code = 'cash'\n",
    "'''"
   ]
  },
  {
   "cell_type": "markdown",
   "id": "cf0bd78d",
   "metadata": {},
   "source": [
    "### Задание 4\n",
    "Отобразите имя, фамилию и названия аккаунтов людей в твиттере, у которых названия аккаунтов начинаются на 'Silver'.\n",
    "\n"
   ]
  },
  {
   "cell_type": "code",
   "execution_count": null,
   "id": "a16e6be9",
   "metadata": {},
   "outputs": [],
   "source": [
    "'''\n",
    "SELECT first_name,\n",
    "       last_name,\n",
    "       twitter_username\n",
    "FROM people \n",
    "WHERE twitter_username LIKE 'Silver%'\n",
    "'''"
   ]
  },
  {
   "cell_type": "markdown",
   "id": "d8b64c72",
   "metadata": {},
   "source": [
    "### Задание 5\n",
    "\n",
    "Выведите на экран всю информацию о людях, у которых названия аккаунтов в твиттере содержат подстроку 'money', а фамилия начинается на 'K'.\n",
    "\n"
   ]
  },
  {
   "cell_type": "code",
   "execution_count": null,
   "id": "7d7ab6da",
   "metadata": {},
   "outputs": [],
   "source": [
    "'''\n",
    "SELECT *\n",
    "FROM people \n",
    "WHERE twitter_username LIKE '%money%' \n",
    "  AND last_name LIKE 'K%'\n",
    "'''"
   ]
  },
  {
   "cell_type": "markdown",
   "id": "098bd9bc",
   "metadata": {},
   "source": [
    "### Задание 6\n",
    "Для каждой страны отобразите общую сумму привлечённых инвестиций, которые получили компании, зарегистрированные в этой стране. Страну, в которой зарегистрирована компания, можно определить по коду страны. Отсортируйте данные по убыванию суммы.\n",
    "\n"
   ]
  },
  {
   "cell_type": "code",
   "execution_count": null,
   "id": "68cc6d9d",
   "metadata": {},
   "outputs": [],
   "source": [
    "'''\n",
    "SELECT country_code,\n",
    "       SUM(funding_total)\n",
    "FROM company\n",
    "GROUP BY country_code\n",
    "ORDER BY SUM(funding_total) DESC\n",
    "'''"
   ]
  },
  {
   "cell_type": "markdown",
   "id": "2bc03b24",
   "metadata": {},
   "source": [
    "### Задание 7\n",
    "Составьте таблицу, в которую войдёт дата проведения раунда, а также минимальное и максимальное значения суммы инвестиций, привлечённых в эту дату.\n",
    "Оставьте в итоговой таблице только те записи, в которых минимальное значение суммы инвестиций не равно нулю и не равно максимальному значению.\n"
   ]
  },
  {
   "cell_type": "code",
   "execution_count": null,
   "id": "cc9a8a1c",
   "metadata": {},
   "outputs": [],
   "source": [
    "'''\n",
    "SELECT funded_at,\n",
    "       MIN(raised_amount),\n",
    "       MAX(raised_amount)\n",
    "FROM funding_round\n",
    "GROUP BY funded_at\n",
    "HAVING MIN(raised_amount) != 0 AND MIN(raised_amount) !=  MAX(raised_amount)\n",
    "'''"
   ]
  },
  {
   "cell_type": "markdown",
   "id": "3790cb78",
   "metadata": {},
   "source": [
    "### Задание 8\n",
    "Создайте поле с категориями:\n",
    "\n",
    "Для фондов, которые инвестируют в 100 и более компаний, назначьте категорию high_activity.\n",
    "\n",
    "Для фондов, которые инвестируют в 20 и более компаний до 100, назначьте категорию middle_activity.\n",
    "\n",
    "Если количество инвестируемых компаний фонда не достигает 20, назначьте категорию low_activity.\n",
    "\n",
    "Отобразите все поля таблицы fund и новое поле с категориями."
   ]
  },
  {
   "cell_type": "code",
   "execution_count": null,
   "id": "2e2cd852",
   "metadata": {},
   "outputs": [],
   "source": [
    "'''\n",
    "SELECT *, \n",
    "       CASE \n",
    "           WHEN invested_companies >= 100 THEN 'high_activity'\n",
    "           WHEN (invested_companies >= 20 AND invested_companies < 100) THEN 'middle_activity'\n",
    "           ELSE 'low_activity' \n",
    "       END\n",
    "FROM fund\n",
    "'''"
   ]
  },
  {
   "cell_type": "markdown",
   "id": "b0d85ee6",
   "metadata": {},
   "source": [
    "### Задание 9\n",
    "\n",
    "Для каждой из категорий, назначенных в предыдущем задании, посчитайте округлённое до ближайшего целого числа среднее количество инвестиционных раундов, в которых фонд принимал участие. Выведите на экран категории и среднее число инвестиционных раундов. Отсортируйте таблицу по возрастанию среднего."
   ]
  },
  {
   "cell_type": "code",
   "execution_count": null,
   "id": "51df210a",
   "metadata": {},
   "outputs": [],
   "source": [
    "'''\n",
    "SELECT CASE\n",
    "           WHEN invested_companies>=100 THEN 'high_activity'\n",
    "           WHEN invested_companies>=20 THEN 'middle_activity'\n",
    "           ELSE 'low_activity'\n",
    "       END AS activity,\n",
    "       ROUND(AVG(investment_rounds)) AS average\n",
    "FROM fund\n",
    "GROUP BY activity\n",
    "ORDER BY average\n",
    "'''"
   ]
  },
  {
   "cell_type": "markdown",
   "id": "be802a48",
   "metadata": {},
   "source": [
    "### Задание 10\n",
    "Проанализируйте, в каких странах находятся фонды, которые чаще всего инвестируют в стартапы. \n",
    "Для каждой страны посчитайте минимальное, максимальное и среднее число компаний, в которые инвестировали фонды этой страны, основанные с 2010 по 2012 год включительно. Исключите страны с фондами, у которых минимальное число компаний, получивших инвестиции, равно нулю. \n",
    "Выгрузите десять самых активных стран-инвесторов: отсортируйте таблицу по среднему количеству компаний от большего к меньшему. Затем добавьте сортировку по коду страны в лексикографическом порядке.\n"
   ]
  },
  {
   "cell_type": "code",
   "execution_count": null,
   "id": "f18c3b97",
   "metadata": {},
   "outputs": [],
   "source": [
    "'''\n",
    "SELECT country_code,\n",
    "       MIN(invested_companies),\n",
    "       MAX(invested_companies),\n",
    "       AVG(invested_companies)\n",
    "FROM fund\n",
    "WHERE (EXTRACT(YEAR FROM founded_at) BETWEEN 2010 AND 2012)\n",
    "GROUP BY country_code\n",
    "HAVING MIN(invested_companies) != 0\n",
    "ORDER BY AVG(invested_companies) DESC, country_code\n",
    "LIMIT 10\n",
    "'''"
   ]
  },
  {
   "cell_type": "markdown",
   "id": "b60727c0",
   "metadata": {},
   "source": [
    "### Задание 11\n",
    "\n",
    "Отобразите имя и фамилию всех сотрудников стартапов. Добавьте поле с названием учебного заведения, которое окончил сотрудник, если эта информация известна.\n",
    "\n"
   ]
  },
  {
   "cell_type": "code",
   "execution_count": null,
   "id": "ae6ceb83",
   "metadata": {},
   "outputs": [],
   "source": [
    "'''\n",
    "SELECT p.first_name,\n",
    "       p.last_name,\n",
    "       e.instituition\n",
    "FROM people AS p\n",
    "LEFT JOIN education AS e ON p.id = e.person_id;\n",
    "'''"
   ]
  },
  {
   "cell_type": "markdown",
   "id": "6c35823a",
   "metadata": {},
   "source": [
    "### Задание 12\n",
    "Для каждой компании найдите количество учебных заведений, которые окончили её сотрудники. Выведите название компании и число уникальных названий учебных заведений. Составьте топ-5 компаний по количеству университетов.\n",
    "\n"
   ]
  },
  {
   "cell_type": "code",
   "execution_count": null,
   "id": "0393d279",
   "metadata": {},
   "outputs": [],
   "source": [
    "'''\n",
    "SELECT c.name,\n",
    "       COUNT(DISTINCT e.instituition)\n",
    "FROM company AS c\n",
    "JOIN people AS p ON c.id = p.company_id\n",
    "JOIN education AS e ON p.id = e.person_id\n",
    "GROUP BY c.name\n",
    "ORDER BY COUNT(DISTINCT e.instituition) DESC\n",
    "LIMIT 5\n",
    "'''"
   ]
  },
  {
   "cell_type": "markdown",
   "id": "7f24772a",
   "metadata": {},
   "source": [
    "### Задание 13\n",
    "Составьте список с уникальными названиями закрытых компаний, для которых первый раунд финансирования оказался последним.\n",
    "\n"
   ]
  },
  {
   "cell_type": "code",
   "execution_count": null,
   "id": "ffa11404",
   "metadata": {},
   "outputs": [],
   "source": [
    "'''\n",
    "SELECT DISTINCT c.name\n",
    "FROM company AS c\n",
    "JOIN funding_round AS fr ON c.id = fr.company_id\n",
    "WHERE fr.is_first_round = 1\n",
    "  AND fr.is_last_round = 1\n",
    "  AND status = 'closed'\n",
    "'''\n",
    "\n"
   ]
  },
  {
   "cell_type": "markdown",
   "id": "4f6b6ae1",
   "metadata": {},
   "source": [
    "### Задание 14\n",
    "Составьте список уникальных номеров сотрудников, которые работают в компаниях, отобранных в предыдущем задании.\n",
    "\n"
   ]
  },
  {
   "cell_type": "code",
   "execution_count": null,
   "id": "28436dac",
   "metadata": {},
   "outputs": [],
   "source": [
    "'''\n",
    "WITH b AS\n",
    "(SELECT DISTINCT c.name AS company_name,\n",
    "        c.id\n",
    "FROM company AS c\n",
    "JOIN funding_round AS fr ON c.id = fr.company_id\n",
    "WHERE fr.is_first_round = 1\n",
    "  AND fr.is_last_round = 1\n",
    "  AND status = 'closed') \n",
    "\n",
    "SELECT p.id\n",
    "FROM people AS p\n",
    "JOIN b ON p.company_id = b.id\n",
    "'''"
   ]
  },
  {
   "cell_type": "markdown",
   "id": "7e9f5525",
   "metadata": {},
   "source": [
    "### Задание 15\n",
    "Составьте таблицу, куда войдут уникальные пары с номерами сотрудников из предыдущей задачи и учебным заведением, которое окончил сотрудник.\n",
    "\n"
   ]
  },
  {
   "cell_type": "code",
   "execution_count": null,
   "id": "0e9e7d79",
   "metadata": {},
   "outputs": [],
   "source": [
    "'''\n",
    "WITH b AS\n",
    "(SELECT DISTINCT c.name AS company_name,\n",
    "        c.id\n",
    "FROM company AS c\n",
    "JOIN funding_round AS fr ON c.id = fr.company_id\n",
    "WHERE fr.is_first_round = 1\n",
    "  AND fr.is_last_round = 1\n",
    "  AND status = 'closed') ,\n",
    "v AS\n",
    "(SELECT p.id AS people_id\n",
    "FROM people AS p\n",
    "JOIN b ON p.company_id = b.id)\n",
    "\n",
    "SELECT DISTINCT v.people_id,\n",
    "       e.instituition\n",
    "FROM education AS e\n",
    "JOIN v ON e.person_id = v.people_id\n",
    "'''"
   ]
  },
  {
   "cell_type": "markdown",
   "id": "271ce2e8",
   "metadata": {},
   "source": [
    "### Задание 16\n",
    "\n",
    "Посчитайте количество учебных заведений для каждого сотрудника из предыдущего задания. При подсчёте учитывайте, что некоторые сотрудники могли окончить одно и то же заведение дважды.\n",
    "\n"
   ]
  },
  {
   "cell_type": "code",
   "execution_count": null,
   "id": "119fd9fc",
   "metadata": {},
   "outputs": [],
   "source": [
    "'''\n",
    "WITH b AS\n",
    "(SELECT DISTINCT c.name AS company_name,\n",
    "        c.id\n",
    "FROM company AS c\n",
    "JOIN funding_round AS fr ON c.id = fr.company_id\n",
    "WHERE fr.is_first_round = 1\n",
    "  AND fr.is_last_round = 1\n",
    "  AND status = 'closed') ,\n",
    "v AS\n",
    "(SELECT p.id AS people_id\n",
    "FROM people AS p\n",
    "JOIN b ON p.company_id = b.id),\n",
    "n AS\n",
    "(SELECT DISTINCT v.people_id AS worker,\n",
    "        COUNT(e.instituition) AS institut\n",
    "FROM education AS e\n",
    "JOIN v ON e.person_id = v.people_id\n",
    "GROUP BY worker)\n",
    "\n",
    "SELECT *\n",
    "FROM n\n",
    "'''"
   ]
  },
  {
   "cell_type": "markdown",
   "id": "27c99c65",
   "metadata": {},
   "source": [
    "### Задание 17\n",
    "\n",
    "Дополните предыдущий запрос и выведите среднее число учебных заведений (всех, не только уникальных), которые окончили сотрудники разных компаний. Нужно вывести только одну запись, группировка здесь не понадобится.\n",
    "\n"
   ]
  },
  {
   "cell_type": "code",
   "execution_count": null,
   "id": "1a105100",
   "metadata": {},
   "outputs": [],
   "source": [
    "'''\n",
    "WITH b AS\n",
    "(SELECT DISTINCT c.name AS company_name,\n",
    "        c.id\n",
    "FROM company AS c\n",
    "JOIN funding_round AS fr ON c.id = fr.company_id\n",
    "WHERE fr.is_first_round = 1\n",
    "  AND fr.is_last_round = 1\n",
    "  AND status = 'closed') ,\n",
    "v AS\n",
    "(SELECT p.id AS people_id\n",
    "FROM people AS p\n",
    "JOIN b ON p.company_id = b.id),\n",
    "n AS\n",
    "(SELECT DISTINCT v.people_id AS worker,\n",
    "        COUNT(e.instituition) AS institut\n",
    "FROM education AS e\n",
    "JOIN v ON e.person_id = v.people_id\n",
    "GROUP BY worker)\n",
    "\n",
    "SELECT AVG(institut)\n",
    "FROM n\n",
    "'''"
   ]
  },
  {
   "cell_type": "markdown",
   "id": "2ec8fdb0",
   "metadata": {},
   "source": [
    "### Задание 18\n",
    "\n",
    "Напишите похожий запрос: выведите среднее число учебных заведений (всех, не только уникальных), которые окончили сотрудники Facebook*.\n",
    "\n"
   ]
  },
  {
   "cell_type": "code",
   "execution_count": null,
   "id": "37b0f227",
   "metadata": {},
   "outputs": [],
   "source": [
    "'''\n",
    "WITH b AS\n",
    "(SELECT DISTINCT c.name AS company_name,\n",
    "        c.id\n",
    "FROM company AS c\n",
    "WHERE c.name = 'Facebook') ,\n",
    "v AS\n",
    "(SELECT p.id AS people_id\n",
    "FROM people AS p\n",
    "JOIN b ON p.company_id = b.id),\n",
    "n AS\n",
    "(SELECT DISTINCT v.people_id AS worker,\n",
    "        COUNT(e.instituition) AS institut\n",
    "FROM education AS e\n",
    "JOIN v ON e.person_id = v.people_id\n",
    "GROUP BY worker)\n",
    "\n",
    "SELECT AVG(institut)\n",
    "FROM n\n",
    "'''\n",
    "\n"
   ]
  },
  {
   "cell_type": "markdown",
   "id": "10163198",
   "metadata": {},
   "source": [
    "### Задание 19\n",
    "Составьте таблицу из полей:\n",
    "\n",
    "- name_of_fund — название фонда;\n",
    "\n",
    "- name_of_company — название компании;\n",
    "\n",
    "- amount — сумма инвестиций, которую привлекла компания в раунде.\n",
    "\n",
    "В таблицу войдут данные о компаниях, в истории которых было больше шести важных этапов, а раунды финансирования проходили с 2012 по 2013 год включительно.\n",
    "\n"
   ]
  },
  {
   "cell_type": "code",
   "execution_count": null,
   "id": "b8048bc6",
   "metadata": {},
   "outputs": [],
   "source": [
    "'''\n",
    "SELECT f.name AS name_of_fund,\n",
    "       c.name AS name_of_company,\n",
    "       fr.raised_amount AS amount \n",
    "FROM investment AS i\n",
    "JOIN company AS c ON i.company_id = c.id\n",
    "JOIN fund AS f ON i.fund_id = f.id\n",
    "JOIN funding_round AS fr ON i.funding_round_id = fr.id\n",
    "WHERE c.milestones > 6\n",
    "  AND EXTRACT (YEAR FROM CAST (fr.funded_at AS date)) BETWEEN '2012' AND '2013'\n",
    "GROUP BY name_of_fund, name_of_company, amount\n",
    "'''"
   ]
  },
  {
   "cell_type": "markdown",
   "id": "8e8f16e5",
   "metadata": {},
   "source": [
    "### Задание 20\n",
    "Выгрузите таблицу, в которой будут такие поля:\n",
    "\n",
    "- название компании-покупателя;\n",
    "- сумма сделки;\n",
    "- название компании, которую купили;\n",
    "- сумма инвестиций, вложенных в купленную компанию;\n",
    "- доля, которая отображает, во сколько раз сумма покупки превысила сумму вложенных в компанию инвестиций, округлённая до ближайшего целого числа.\n",
    "\n",
    "Не учитывайте те сделки, в которых сумма покупки равна нулю. Если сумма инвестиций в компанию равна нулю, исключите такую компанию из таблицы. \n",
    "\n",
    "Отсортируйте таблицу по сумме сделки от большей к меньшей, а затем по названию купленной компании в лексикографическом порядке. Ограничьте таблицу первыми десятью записями.\n",
    "\n"
   ]
  },
  {
   "cell_type": "code",
   "execution_count": null,
   "id": "36fb1826",
   "metadata": {},
   "outputs": [],
   "source": [
    "'''\n",
    "SELECT c.name,\n",
    "       ac.price_amount,\n",
    "       cc.name,\n",
    "       cc.funding_total,\n",
    "       ROUND(ac.price_amount / cc.funding_total)\n",
    "FROM acquisition AS ac\n",
    "JOIN company AS c ON ac.acquiring_company_id = c.id\n",
    "JOIN company AS cc ON ac.acquired_company_id = cc.id\n",
    "WHERE ac.price_amount != 0 \n",
    "  AND cc.funding_total != 0\n",
    "ORDER BY ac.price_amount DESC \n",
    "LIMIT 10\n",
    "'''"
   ]
  },
  {
   "cell_type": "markdown",
   "id": "89f5db99",
   "metadata": {},
   "source": [
    "### Задание 21\n",
    "\n",
    "\n",
    "Выгрузите таблицу, в которую войдут названия компаний из категории social, получившие финансирование с 2010 по 2013 год включительно. Проверьте, что сумма инвестиций не равна нулю. Выведите также номер месяца, в котором проходил раунд финансирования.\n",
    "\n"
   ]
  },
  {
   "cell_type": "code",
   "execution_count": null,
   "id": "27bbd226",
   "metadata": {},
   "outputs": [],
   "source": [
    "'''\n",
    "SELECT c.name,\n",
    "       EXTRACT(MONTH FROM fr.funded_at)\n",
    "FROM company AS c\n",
    "JOIN funding_round AS fr ON c.id = fr.company_id\n",
    "WHERE c.category_code = 'social'\n",
    "  AND fr.raised_amount <> 0\n",
    "  AND EXTRACT(YEAR FROM fr.funded_at) BETWEEN 2010 AND 2013\n",
    "'''"
   ]
  },
  {
   "cell_type": "markdown",
   "id": "7d35b679",
   "metadata": {},
   "source": [
    "### Задание 22\n",
    "\n",
    "Отберите данные по месяцам с 2010 по 2013 год, когда проходили инвестиционные раунды. Сгруппируйте данные по номеру месяца и получите таблицу, в которой будут поля:\n",
    "\n",
    "- номер месяца, в котором проходили раунды;\n",
    "\n",
    "- количество уникальных названий фондов из США, которые инвестировали в этом месяце;\n",
    "\n",
    "- количество компаний, купленных за этот месяц;\n",
    "\n",
    "- общая сумма сделок по покупкам в этом месяце.\n"
   ]
  },
  {
   "cell_type": "code",
   "execution_count": null,
   "id": "1b7f79e4",
   "metadata": {},
   "outputs": [],
   "source": [
    "'''\n",
    "WITH month_fund_count AS (\n",
    "    SELECT EXTRACT(MONTH FROM funded_at) as month,\n",
    "           COUNT(DISTINCT name) as fund_count\n",
    "    FROM funding_round AS fr\n",
    "    LEFT JOIN investment AS i ON i.funding_round_id = fr.id\n",
    "    LEFT JOIN fund AS f ON f.id = i.fund_id\n",
    "    WHERE country_code = 'USA'\n",
    "      AND funded_at BETWEEN '2010-01-01' AND '2013-12-31'\n",
    "    GROUP BY month),\n",
    "month_company_price AS (\n",
    "    SELECT EXTRACT(MONTH FROM acquired_at) as month,\n",
    "    COUNT(acquired_company_id) AS company_count,\n",
    "    SUM(price_amount) AS price\n",
    "    FROM acquisition\n",
    "        WHERE acquired_at BETWEEN '2010-01-01' AND '2013-12-31'\n",
    "    GROUP BY month)    \n",
    "    \n",
    "\n",
    "SELECT month_fund_count.month,\n",
    "       month_fund_count.fund_count AS count_unique_name,\n",
    "       month_company_price.company_count AS count_company,\n",
    "       month_company_price.price\n",
    "FROM month_fund_count \n",
    "JOIN month_company_price ON month_fund_count.month = month_company_price.month\n",
    "\n",
    "'''"
   ]
  },
  {
   "cell_type": "markdown",
   "id": "d925cd03",
   "metadata": {},
   "source": [
    "### Задание 23\n",
    "\n",
    "Составьте сводную таблицу и выведите среднюю сумму инвестиций для стран, в которых есть стартапы, зарегистрированные в 2011, 2012 и 2013 годах. Данные за каждый год должны быть в отдельном поле. Отсортируйте таблицу по среднему значению инвестиций за 2011 год от большего к меньшему.\n"
   ]
  },
  {
   "cell_type": "code",
   "execution_count": null,
   "id": "d9dac583",
   "metadata": {},
   "outputs": [],
   "source": [
    "\n",
    "'''\n",
    "WITH\n",
    "q AS\n",
    "(SELECT AVG(funding_total) AS year2011,\n",
    "       country_code\n",
    "FROM company \n",
    "WHERE EXTRACT(YEAR FROM founded_at) = 2011\n",
    "GROUP BY country_code),\n",
    "w AS\n",
    "(SELECT AVG(funding_total) AS year2012,\n",
    "       country_code\n",
    "FROM company \n",
    "WHERE EXTRACT(YEAR FROM founded_at) = 2012\n",
    "GROUP BY country_code),\n",
    "e AS\n",
    "(SELECT AVG(funding_total) AS year2013,\n",
    "       country_code\n",
    "FROM company \n",
    "WHERE EXTRACT(YEAR FROM founded_at) = 2013\n",
    "GROUP BY country_code)\n",
    "\n",
    "SELECT q.country_code,\n",
    "       q.year2011,\n",
    "       w.year2012,\n",
    "       e.year2013\n",
    "FROM q\n",
    "JOIN w ON q.country_code = w.country_code\n",
    "JOIN e ON q.country_code = e.country_code\n",
    "ORDER BY q.year2011 DESC\n",
    "'''"
   ]
  }
 ],
 "metadata": {
  "kernelspec": {
   "display_name": "Python 3 (ipykernel)",
   "language": "python",
   "name": "python3"
  },
  "language_info": {
   "codemirror_mode": {
    "name": "ipython",
    "version": 3
   },
   "file_extension": ".py",
   "mimetype": "text/x-python",
   "name": "python",
   "nbconvert_exporter": "python",
   "pygments_lexer": "ipython3",
   "version": "3.9.13"
  },
  "toc": {
   "base_numbering": 1,
   "nav_menu": {},
   "number_sections": true,
   "sideBar": true,
   "skip_h1_title": true,
   "title_cell": "Table of Contents",
   "title_sidebar": "Contents",
   "toc_cell": true,
   "toc_position": {},
   "toc_section_display": true,
   "toc_window_display": false
  }
 },
 "nbformat": 4,
 "nbformat_minor": 5
}
