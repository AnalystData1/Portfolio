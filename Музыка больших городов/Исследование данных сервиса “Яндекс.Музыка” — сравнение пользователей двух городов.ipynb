{
 "cells": [
  {
   "cell_type": "markdown",
   "metadata": {
    "deletable": false,
    "editable": false,
    "id": "E0vqbgi9ay0H"
   },
   "source": [
    "# Яндекс Музыка"
   ]
  },
  {
   "cell_type": "markdown",
   "metadata": {},
   "source": [
    "Сравнение Москвы и Петербурга окружено мифами. Например:\n",
    " * Москва — мегаполис, подчинённый жёсткому ритму рабочей недели;\n",
    " * Петербург — культурная столица, со своими вкусами.\n",
    " \n",
    "На данных Яндекс Музыки сравним поведение пользователей двух столиц.\n",
    "\n",
    "**Цель исследования** — проверить три гипотезы:\n",
    "1. Активность пользователей зависит от дня недели. Причём в Москве и Петербурге это проявляется по-разному.\n",
    "2. В понедельник утром в Москве преобладают одни жанры, а в Петербурге — другие. Так же и вечером пятницы преобладают разные жанры — в зависимости от города. \n",
    "3. Москва и Петербург предпочитают разные жанры музыки. В Москве чаще слушают поп-музыку, в Петербурге — русский рэп.\n",
    "\n",
    "**Ход исследования**\n",
    "\n",
    "Данные о поведении пользователей получим из файла `yandex_music_project.csv`. О качестве данных ничего не известно. Поэтому перед проверкой гипотез понадобится обзор данных. \n",
    "\n",
    "Проверим данные на ошибки и оценим их влияние на исследование. Затем, на этапе предобработки найдем возможность исправить самые критичные ошибки данных.\n",
    " \n",
    "Таким образом, исследование пройдёт в три этапа:\n",
    " 1. Обзор данных.\n",
    " 2. Предобработка данных.\n",
    " 3. Проверка гипотез.\n"
   ]
  },
  {
   "cell_type": "markdown",
   "metadata": {
    "id": "Ml1hmfXC_Zcs"
   },
   "source": [
    "## Обзор данных\n",
    "\n",
    "Составим первое представление о данных Яндекс Музыки.\n",
    "\n",
    "\n"
   ]
  },
  {
   "cell_type": "markdown",
   "metadata": {
    "id": "57eAOGIz_Zcs",
    "tags": [
     "start_task"
    ]
   },
   "source": [
    "Импортируем библиотеку."
   ]
  },
  {
   "cell_type": "code",
   "execution_count": 1,
   "metadata": {
    "deletable": false,
    "id": "AXN7PHPN_Zcs"
   },
   "outputs": [],
   "source": [
    "import pandas as pd"
   ]
  },
  {
   "cell_type": "markdown",
   "metadata": {
    "id": "SG23P8tt_Zcs",
    "tags": [
     "start_task"
    ]
   },
   "source": [
    "Прочитаем файл `yandex_music_project.csv` из папки `/datasets` и сохраним его в переменной `df`:"
   ]
  },
  {
   "cell_type": "code",
   "execution_count": 2,
   "metadata": {
    "deletable": false,
    "id": "fFVu7vqh_Zct"
   },
   "outputs": [],
   "source": [
    "df = pd.read_csv('/datasets/yandex_music_project.csv')"
   ]
  },
  {
   "cell_type": "markdown",
   "metadata": {
    "id": "rDoOMd3uTqnZ",
    "tags": [
     "start_task"
    ]
   },
   "source": [
    "Выведем на экран первые десять строк таблицы:"
   ]
  },
  {
   "cell_type": "code",
   "execution_count": 3,
   "metadata": {
    "deletable": false,
    "id": "oWTVX3gW_Zct"
   },
   "outputs": [
    {
     "data": {
      "text/html": [
       "<div>\n",
       "<style scoped>\n",
       "    .dataframe tbody tr th:only-of-type {\n",
       "        vertical-align: middle;\n",
       "    }\n",
       "\n",
       "    .dataframe tbody tr th {\n",
       "        vertical-align: top;\n",
       "    }\n",
       "\n",
       "    .dataframe thead th {\n",
       "        text-align: right;\n",
       "    }\n",
       "</style>\n",
       "<table border=\"1\" class=\"dataframe\">\n",
       "  <thead>\n",
       "    <tr style=\"text-align: right;\">\n",
       "      <th></th>\n",
       "      <th>userID</th>\n",
       "      <th>Track</th>\n",
       "      <th>artist</th>\n",
       "      <th>genre</th>\n",
       "      <th>City</th>\n",
       "      <th>time</th>\n",
       "      <th>Day</th>\n",
       "    </tr>\n",
       "  </thead>\n",
       "  <tbody>\n",
       "    <tr>\n",
       "      <th>0</th>\n",
       "      <td>FFB692EC</td>\n",
       "      <td>Kamigata To Boots</td>\n",
       "      <td>The Mass Missile</td>\n",
       "      <td>rock</td>\n",
       "      <td>Saint-Petersburg</td>\n",
       "      <td>20:28:33</td>\n",
       "      <td>Wednesday</td>\n",
       "    </tr>\n",
       "    <tr>\n",
       "      <th>1</th>\n",
       "      <td>55204538</td>\n",
       "      <td>Delayed Because of Accident</td>\n",
       "      <td>Andreas Rönnberg</td>\n",
       "      <td>rock</td>\n",
       "      <td>Moscow</td>\n",
       "      <td>14:07:09</td>\n",
       "      <td>Friday</td>\n",
       "    </tr>\n",
       "    <tr>\n",
       "      <th>2</th>\n",
       "      <td>20EC38</td>\n",
       "      <td>Funiculì funiculà</td>\n",
       "      <td>Mario Lanza</td>\n",
       "      <td>pop</td>\n",
       "      <td>Saint-Petersburg</td>\n",
       "      <td>20:58:07</td>\n",
       "      <td>Wednesday</td>\n",
       "    </tr>\n",
       "    <tr>\n",
       "      <th>3</th>\n",
       "      <td>A3DD03C9</td>\n",
       "      <td>Dragons in the Sunset</td>\n",
       "      <td>Fire + Ice</td>\n",
       "      <td>folk</td>\n",
       "      <td>Saint-Petersburg</td>\n",
       "      <td>08:37:09</td>\n",
       "      <td>Monday</td>\n",
       "    </tr>\n",
       "    <tr>\n",
       "      <th>4</th>\n",
       "      <td>E2DC1FAE</td>\n",
       "      <td>Soul People</td>\n",
       "      <td>Space Echo</td>\n",
       "      <td>dance</td>\n",
       "      <td>Moscow</td>\n",
       "      <td>08:34:34</td>\n",
       "      <td>Monday</td>\n",
       "    </tr>\n",
       "    <tr>\n",
       "      <th>5</th>\n",
       "      <td>842029A1</td>\n",
       "      <td>Преданная</td>\n",
       "      <td>IMPERVTOR</td>\n",
       "      <td>rusrap</td>\n",
       "      <td>Saint-Petersburg</td>\n",
       "      <td>13:09:41</td>\n",
       "      <td>Friday</td>\n",
       "    </tr>\n",
       "    <tr>\n",
       "      <th>6</th>\n",
       "      <td>4CB90AA5</td>\n",
       "      <td>True</td>\n",
       "      <td>Roman Messer</td>\n",
       "      <td>dance</td>\n",
       "      <td>Moscow</td>\n",
       "      <td>13:00:07</td>\n",
       "      <td>Wednesday</td>\n",
       "    </tr>\n",
       "    <tr>\n",
       "      <th>7</th>\n",
       "      <td>F03E1C1F</td>\n",
       "      <td>Feeling This Way</td>\n",
       "      <td>Polina Griffith</td>\n",
       "      <td>dance</td>\n",
       "      <td>Moscow</td>\n",
       "      <td>20:47:49</td>\n",
       "      <td>Wednesday</td>\n",
       "    </tr>\n",
       "    <tr>\n",
       "      <th>8</th>\n",
       "      <td>8FA1D3BE</td>\n",
       "      <td>И вновь продолжается бой</td>\n",
       "      <td>NaN</td>\n",
       "      <td>ruspop</td>\n",
       "      <td>Moscow</td>\n",
       "      <td>09:17:40</td>\n",
       "      <td>Friday</td>\n",
       "    </tr>\n",
       "    <tr>\n",
       "      <th>9</th>\n",
       "      <td>E772D5C0</td>\n",
       "      <td>Pessimist</td>\n",
       "      <td>NaN</td>\n",
       "      <td>dance</td>\n",
       "      <td>Saint-Petersburg</td>\n",
       "      <td>21:20:49</td>\n",
       "      <td>Wednesday</td>\n",
       "    </tr>\n",
       "  </tbody>\n",
       "</table>\n",
       "</div>"
      ],
      "text/plain": [
       "     userID                        Track            artist   genre  \\\n",
       "0  FFB692EC            Kamigata To Boots  The Mass Missile    rock   \n",
       "1  55204538  Delayed Because of Accident  Andreas Rönnberg    rock   \n",
       "2    20EC38            Funiculì funiculà       Mario Lanza     pop   \n",
       "3  A3DD03C9        Dragons in the Sunset        Fire + Ice    folk   \n",
       "4  E2DC1FAE                  Soul People        Space Echo   dance   \n",
       "5  842029A1                    Преданная         IMPERVTOR  rusrap   \n",
       "6  4CB90AA5                         True      Roman Messer   dance   \n",
       "7  F03E1C1F             Feeling This Way   Polina Griffith   dance   \n",
       "8  8FA1D3BE     И вновь продолжается бой               NaN  ruspop   \n",
       "9  E772D5C0                    Pessimist               NaN   dance   \n",
       "\n",
       "             City        time        Day  \n",
       "0  Saint-Petersburg  20:28:33  Wednesday  \n",
       "1            Moscow  14:07:09     Friday  \n",
       "2  Saint-Petersburg  20:58:07  Wednesday  \n",
       "3  Saint-Petersburg  08:37:09     Monday  \n",
       "4            Moscow  08:34:34     Monday  \n",
       "5  Saint-Petersburg  13:09:41     Friday  \n",
       "6            Moscow  13:00:07  Wednesday  \n",
       "7            Moscow  20:47:49  Wednesday  \n",
       "8            Moscow  09:17:40     Friday  \n",
       "9  Saint-Petersburg  21:20:49  Wednesday  "
      ]
     },
     "execution_count": 3,
     "metadata": {},
     "output_type": "execute_result"
    }
   ],
   "source": [
    "df.head(10)"
   ]
  },
  {
   "cell_type": "markdown",
   "metadata": {
    "id": "EO73Kwic_Zct",
    "tags": [
     "start_task"
    ]
   },
   "source": [
    "Одной командой получим общую информацию о таблице c помощью метода `info()`:"
   ]
  },
  {
   "cell_type": "code",
   "execution_count": 4,
   "metadata": {
    "deletable": false,
    "id": "DSf2kIb-_Zct"
   },
   "outputs": [
    {
     "name": "stdout",
     "output_type": "stream",
     "text": [
      "<class 'pandas.core.frame.DataFrame'>\n",
      "RangeIndex: 65079 entries, 0 to 65078\n",
      "Data columns (total 7 columns):\n",
      " #   Column    Non-Null Count  Dtype \n",
      "---  ------    --------------  ----- \n",
      " 0     userID  65079 non-null  object\n",
      " 1   Track     63848 non-null  object\n",
      " 2   artist    57876 non-null  object\n",
      " 3   genre     63881 non-null  object\n",
      " 4     City    65079 non-null  object\n",
      " 5   time      65079 non-null  object\n",
      " 6   Day       65079 non-null  object\n",
      "dtypes: object(7)\n",
      "memory usage: 3.5+ MB\n"
     ]
    }
   ],
   "source": [
    "df.info()"
   ]
  },
  {
   "cell_type": "markdown",
   "metadata": {
    "deletable": false,
    "editable": false,
    "id": "TaQ2Iwbr_Zct"
   },
   "source": [
    "Итак, в таблице семь столбцов. Тип данных во всех столбцах — `object`.\n",
    "\n",
    "Согласно документации к данным:\n",
    "* `userID` — идентификатор пользователя;\n",
    "* `Track` — название трека;  \n",
    "* `artist` — имя исполнителя;\n",
    "* `genre` — название жанра;\n",
    "* `City` — город пользователя;\n",
    "* `time` — время начала прослушивания;\n",
    "* `Day` — день недели.\n",
    "\n",
    "Количество значений в столбцах различается. Значит, в данных есть пропущенные значения."
   ]
  },
  {
   "cell_type": "markdown",
   "metadata": {
    "id": "rAfziTBDmf2h",
    "tags": [
     "start_task"
    ]
   },
   "source": [
    "В названиях колонок видны нарушения стиля:\n",
    "* Строчные буквы сочетаются с прописными.\n",
    "* Встречаются пробелы.\n",
    "* змеиный регистр"
   ]
  },
  {
   "cell_type": "markdown",
   "metadata": {
    "deletable": false,
    "editable": false,
    "id": "MCB6-dXG_Zct"
   },
   "source": [
    "**Выводы**\n",
    "\n",
    "В каждой строке таблицы — данные о прослушанном треке. Часть колонок описывает саму композицию: название, исполнителя и жанр. Остальные данные рассказывают о пользователе: из какого он города, когда он слушал музыку. \n",
    "\n",
    "Предварительно можно утверждать, что данных достаточно для проверки гипотез. Но встречаются пропуски в данных, а в названиях колонок — расхождения с хорошим стилем.\n",
    "\n",
    "Чтобы двигаться дальше, нужно устранить проблемы в данных."
   ]
  },
  {
   "cell_type": "markdown",
   "metadata": {
    "id": "SjYF6Ub9_Zct"
   },
   "source": [
    "## Предобработка данных\n",
    "Исправим стиль в заголовках столбцов, исключим пропуски. Затем проверим данные на дубликаты."
   ]
  },
  {
   "cell_type": "markdown",
   "metadata": {
    "id": "dIaKXr29_Zct",
    "tags": [
     "start_task"
    ]
   },
   "source": [
    "### Стиль заголовков\n",
    "\n",
    "Выведем на экран названия столбцов:"
   ]
  },
  {
   "cell_type": "code",
   "execution_count": 6,
   "metadata": {
    "deletable": false,
    "id": "oKOTdF_Q_Zct"
   },
   "outputs": [
    {
     "data": {
      "text/plain": [
       "Index(['  userID', 'Track', 'artist', 'genre', '  City  ', 'time', 'Day'], dtype='object')"
      ]
     },
     "execution_count": 6,
     "metadata": {},
     "output_type": "execute_result"
    }
   ],
   "source": [
    "df.columns"
   ]
  },
  {
   "cell_type": "markdown",
   "metadata": {
    "id": "zj5534cv_Zct",
    "tags": [
     "start_task"
    ]
   },
   "source": [
    "Приведем названия в соответствие с хорошим стилем:\n",
    "* несколько слов в названии запишем в «змеином_регистре»,\n",
    "* все символы сделаем строчными,\n",
    "* устраним пробелы.\n",
    "\n",
    "Для этого переименуем колонки так:\n",
    "* `'  userID'` → `'user_id'`;\n",
    "* `'Track'` → `'track'`;\n",
    "* `'  City  '` → `'city'`;\n",
    "* `'Day'` → `'day'`."
   ]
  },
  {
   "cell_type": "code",
   "execution_count": 7,
   "metadata": {
    "deletable": false,
    "id": "ISlFqs5y_Zct"
   },
   "outputs": [],
   "source": [
    "df = df.rename(\n",
    "    columns={\n",
    "    '  userID': 'user_id',\n",
    "    'Track': 'track',\n",
    "    '  City  ':'city',\n",
    "    'Day': 'day'\n",
    "    }\n",
    ")\n",
    "        "
   ]
  },
  {
   "cell_type": "markdown",
   "metadata": {
    "id": "1dqbh00J_Zct",
    "tags": [
     "start_task"
    ]
   },
   "source": [
    "\n",
    "Проверим результат. Для этого ещё раз выведем на экран названия столбцов:"
   ]
  },
  {
   "cell_type": "code",
   "execution_count": 8,
   "metadata": {
    "deletable": false,
    "id": "d4NOAmTW_Zct"
   },
   "outputs": [
    {
     "data": {
      "text/plain": [
       "Index(['user_id', 'track', 'artist', 'genre', 'city', 'time', 'day'], dtype='object')"
      ]
     },
     "execution_count": 8,
     "metadata": {},
     "output_type": "execute_result"
    }
   ],
   "source": [
    "df.columns"
   ]
  },
  {
   "cell_type": "markdown",
   "metadata": {
    "id": "5ISfbcfY_Zct",
    "tags": [
     "start_task"
    ]
   },
   "source": [
    "### Пропуски значений\n",
    "\n",
    "\n",
    "Сначала посчитаем, сколько в таблице пропущенных значений. Для этого достаточно двух методов `pandas`:"
   ]
  },
  {
   "cell_type": "code",
   "execution_count": 9,
   "metadata": {
    "deletable": false,
    "id": "RskX29qr_Zct"
   },
   "outputs": [
    {
     "data": {
      "text/plain": [
       "user_id       0\n",
       "track      1231\n",
       "artist     7203\n",
       "genre      1198\n",
       "city          0\n",
       "time          0\n",
       "day           0\n",
       "dtype: int64"
      ]
     },
     "execution_count": 9,
     "metadata": {},
     "output_type": "execute_result"
    }
   ],
   "source": [
    "df.isna().sum()"
   ]
  },
  {
   "cell_type": "markdown",
   "metadata": {
    "id": "qubhgnlO_Zct"
   },
   "source": [
    "Не все пропущенные значения влияют на исследование. Так в `track` и `artist` пропуски не важны для вашей работы. Достаточно заменить их явными обозначениями.\n",
    "\n",
    "Но пропуски в `genre` могут помешать сравнению музыкальных вкусов в Москве и Санкт-Петербурге. На практике было бы правильно установить причину пропусков и восстановить данные. Такой возможности нет в учебном проекте. Придётся:\n",
    "* заполнить и эти пропуски явными обозначениями;\n",
    "* оценить, насколько они повредят расчётам. "
   ]
  },
  {
   "cell_type": "markdown",
   "metadata": {
    "id": "fSv2laPA_Zct",
    "tags": [
     "start_task"
    ]
   },
   "source": [
    "\n",
    "Заменим пропущенные значения в столбцах `track`, `artist` и `genre` на строку `'unknown'`. Для этого создадим список `columns_to_replace`, переберем его элементы циклом `for` и для каждого столбца выполним замену пропущенных значений:"
   ]
  },
  {
   "cell_type": "code",
   "execution_count": 10,
   "metadata": {
    "deletable": false,
    "id": "KplB5qWs_Zct"
   },
   "outputs": [],
   "source": [
    "columns_to_replace = ['track', 'artist', 'genre']\n",
    "for column in columns_to_replace:\n",
    "    df[column] = df[column].fillna('unknown')"
   ]
  },
  {
   "cell_type": "markdown",
   "metadata": {
    "id": "Ilsm-MZo_Zct",
    "tags": [
     "start_task"
    ]
   },
   "source": [
    "\n",
    "Убедимся, что в таблице не осталось пропусков. Для этого ещё раз посчитаем пропущенные значения."
   ]
  },
  {
   "cell_type": "code",
   "execution_count": 11,
   "metadata": {
    "deletable": false,
    "id": "Tq4nYRX4_Zct"
   },
   "outputs": [
    {
     "data": {
      "text/plain": [
       "user_id    0\n",
       "track      0\n",
       "artist     0\n",
       "genre      0\n",
       "city       0\n",
       "time       0\n",
       "day        0\n",
       "dtype: int64"
      ]
     },
     "execution_count": 11,
     "metadata": {},
     "output_type": "execute_result"
    }
   ],
   "source": [
    "df.isna().sum()"
   ]
  },
  {
   "cell_type": "markdown",
   "metadata": {
    "id": "BWKRtBJ3_Zct",
    "tags": [
     "start_task"
    ]
   },
   "source": [
    "### Дубликаты\n",
    "\n",
    "\n",
    "Посчитаем явные дубликаты в таблице одной командой:"
   ]
  },
  {
   "cell_type": "code",
   "execution_count": 12,
   "metadata": {
    "deletable": false,
    "id": "36eES_S0_Zct"
   },
   "outputs": [
    {
     "data": {
      "text/plain": [
       "3826"
      ]
     },
     "execution_count": 12,
     "metadata": {},
     "output_type": "execute_result"
    }
   ],
   "source": [
    "df.duplicated().sum()"
   ]
  },
  {
   "cell_type": "markdown",
   "metadata": {
    "id": "Ot25h6XR_Zct",
    "tags": [
     "start_task"
    ]
   },
   "source": [
    "\n",
    "Вызовим специальный метод `pandas`, чтобы удалить явные дубликаты:"
   ]
  },
  {
   "cell_type": "code",
   "execution_count": 13,
   "metadata": {
    "deletable": false,
    "id": "exFHq6tt_Zct"
   },
   "outputs": [],
   "source": [
    "df = df.drop_duplicates()"
   ]
  },
  {
   "cell_type": "markdown",
   "metadata": {
    "id": "Im2YwBEG_Zct",
    "tags": [
     "start_task"
    ]
   },
   "source": [
    "\n",
    "Ещё раз посчитаем явные дубликаты в таблице — убедимся, что полностью от них избавились:"
   ]
  },
  {
   "cell_type": "code",
   "execution_count": 14,
   "metadata": {
    "deletable": false,
    "id": "-8PuNWQ0_Zct"
   },
   "outputs": [
    {
     "data": {
      "text/plain": [
       "0"
      ]
     },
     "execution_count": 14,
     "metadata": {},
     "output_type": "execute_result"
    }
   ],
   "source": [
    "df.duplicated().sum()"
   ]
  },
  {
   "cell_type": "markdown",
   "metadata": {
    "id": "QlFBsxAr_Zct"
   },
   "source": [
    "Теперь избавимся от неявных дубликатов в колонке `genre`. Например, название одного и того же жанра может быть записано немного по-разному. Такие ошибки тоже повлияют на результат исследования."
   ]
  },
  {
   "cell_type": "markdown",
   "metadata": {
    "id": "eSjWwsOh_Zct",
    "tags": [
     "start_task"
    ]
   },
   "source": [
    "\n",
    "Выведем на экран список уникальных названий жанров, отсортированный в алфавитном порядке. Для этого:\n",
    "1. извлечем нужный столбец датафрейма; \n",
    "2. применим к нему метод сортировки;\n",
    "3. для отсортированного столбца вызовим метод, который вернёт уникальные значения из столбца."
   ]
  },
  {
   "cell_type": "code",
   "execution_count": 15,
   "metadata": {
    "deletable": false,
    "id": "JIUcqzZN_Zct"
   },
   "outputs": [
    {
     "data": {
      "text/plain": [
       "array(['acid', 'acoustic', 'action', 'adult', 'africa', 'afrikaans',\n",
       "       'alternative', 'alternativepunk', 'ambient', 'americana',\n",
       "       'animated', 'anime', 'arabesk', 'arabic', 'arena',\n",
       "       'argentinetango', 'art', 'audiobook', 'author', 'avantgarde',\n",
       "       'axé', 'baile', 'balkan', 'beats', 'bigroom', 'black', 'bluegrass',\n",
       "       'blues', 'bollywood', 'bossa', 'brazilian', 'breakbeat', 'breaks',\n",
       "       'broadway', 'cantautori', 'cantopop', 'canzone', 'caribbean',\n",
       "       'caucasian', 'celtic', 'chamber', 'chanson', 'children', 'chill',\n",
       "       'chinese', 'choral', 'christian', 'christmas', 'classical',\n",
       "       'classicmetal', 'club', 'colombian', 'comedy', 'conjazz',\n",
       "       'contemporary', 'country', 'cuban', 'dance', 'dancehall',\n",
       "       'dancepop', 'dark', 'death', 'deep', 'deutschrock', 'deutschspr',\n",
       "       'dirty', 'disco', 'dnb', 'documentary', 'downbeat', 'downtempo',\n",
       "       'drum', 'dub', 'dubstep', 'eastern', 'easy', 'electronic',\n",
       "       'electropop', 'emo', 'entehno', 'epicmetal', 'estrada', 'ethnic',\n",
       "       'eurofolk', 'european', 'experimental', 'extrememetal', 'fado',\n",
       "       'fairytail', 'film', 'fitness', 'flamenco', 'folk', 'folklore',\n",
       "       'folkmetal', 'folkrock', 'folktronica', 'forró', 'frankreich',\n",
       "       'französisch', 'french', 'funk', 'future', 'gangsta', 'garage',\n",
       "       'german', 'ghazal', 'gitarre', 'glitch', 'gospel', 'gothic',\n",
       "       'grime', 'grunge', 'gypsy', 'handsup', \"hard'n'heavy\", 'hardcore',\n",
       "       'hardstyle', 'hardtechno', 'hip', 'hip-hop', 'hiphop',\n",
       "       'historisch', 'holiday', 'hop', 'horror', 'house', 'hymn', 'idm',\n",
       "       'independent', 'indian', 'indie', 'indipop', 'industrial',\n",
       "       'inspirational', 'instrumental', 'international', 'irish', 'jam',\n",
       "       'japanese', 'jazz', 'jewish', 'jpop', 'jungle', 'k-pop',\n",
       "       'karadeniz', 'karaoke', 'kayokyoku', 'korean', 'laiko', 'latin',\n",
       "       'latino', 'leftfield', 'local', 'lounge', 'loungeelectronic',\n",
       "       'lovers', 'malaysian', 'mandopop', 'marschmusik', 'meditative',\n",
       "       'mediterranean', 'melodic', 'metal', 'metalcore', 'mexican',\n",
       "       'middle', 'minimal', 'miscellaneous', 'modern', 'mood', 'mpb',\n",
       "       'muslim', 'native', 'neoklassik', 'neue', 'new', 'newage',\n",
       "       'newwave', 'nu', 'nujazz', 'numetal', 'oceania', 'old', 'opera',\n",
       "       'orchestral', 'other', 'piano', 'podcasts', 'pop', 'popdance',\n",
       "       'popelectronic', 'popeurodance', 'poprussian', 'post',\n",
       "       'posthardcore', 'postrock', 'power', 'progmetal', 'progressive',\n",
       "       'psychedelic', 'punjabi', 'punk', 'quebecois', 'ragga', 'ram',\n",
       "       'rancheras', 'rap', 'rave', 'reggae', 'reggaeton', 'regional',\n",
       "       'relax', 'religious', 'retro', 'rhythm', 'rnb', 'rnr', 'rock',\n",
       "       'rockabilly', 'rockalternative', 'rockindie', 'rockother',\n",
       "       'romance', 'roots', 'ruspop', 'rusrap', 'rusrock', 'russian',\n",
       "       'salsa', 'samba', 'scenic', 'schlager', 'self', 'sertanejo',\n",
       "       'shanson', 'shoegazing', 'showtunes', 'singer', 'ska', 'skarock',\n",
       "       'slow', 'smooth', 'soft', 'soul', 'soulful', 'sound', 'soundtrack',\n",
       "       'southern', 'specialty', 'speech', 'spiritual', 'sport',\n",
       "       'stonerrock', 'surf', 'swing', 'synthpop', 'synthrock',\n",
       "       'sängerportrait', 'tango', 'tanzorchester', 'taraftar', 'tatar',\n",
       "       'tech', 'techno', 'teen', 'thrash', 'top', 'traditional',\n",
       "       'tradjazz', 'trance', 'tribal', 'trip', 'triphop', 'tropical',\n",
       "       'türk', 'türkçe', 'ukrrock', 'unknown', 'urban', 'uzbek',\n",
       "       'variété', 'vi', 'videogame', 'vocal', 'western', 'world',\n",
       "       'worldbeat', 'ïîï', 'электроника'], dtype=object)"
      ]
     },
     "execution_count": 15,
     "metadata": {},
     "output_type": "execute_result"
    }
   ],
   "source": [
    "df['genre'].sort_values().unique()"
   ]
  },
  {
   "cell_type": "markdown",
   "metadata": {
    "id": "qej-Qmuo_Zct",
    "tags": [
     "start_task"
    ]
   },
   "source": [
    "\n",
    "Просмотрим список и найдем неявные дубликаты названия `hiphop`. Это могут быть названия с ошибками или альтернативные названия того же жанра.\n",
    "\n",
    "Мы увидим следующие неявные дубликаты:\n",
    "* *hip*,\n",
    "* *hop*,\n",
    "* *hip-hop*.\n",
    "\n",
    "Чтобы очистить от них таблицу используем метод `replace()` с двумя аргументами: списком строк-дубликатов (включащий *hip*, *hop* и *hip-hop*) и строкой с правильным значением. Нужно исправить колонку `genre` в таблице `df`: заменить каждое значение из списка дубликатов на верное. Вместо `hip`, `hop` и `hip-hop` в таблице должно быть значение `hiphop`:"
   ]
  },
  {
   "cell_type": "code",
   "execution_count": 16,
   "metadata": {
    "deletable": false,
    "id": "ErNDkmns_Zct"
   },
   "outputs": [],
   "source": [
    "duplicates = ['hip', 'hop', 'hip-hop']\n",
    "name = 'hiphop'\n",
    "df['genre'] = df['genre'].replace(duplicates, name)"
   ]
  },
  {
   "cell_type": "markdown",
   "metadata": {
    "id": "zQKF16_RG15m",
    "tags": [
     "start_task"
    ]
   },
   "source": [
    "\n",
    "Проверим, что заменили неправильные названия:\n",
    "\n",
    "*   hip,\n",
    "*   hop,\n",
    "*   hip-hop.\n",
    "\n",
    "Выведем отсортированный список уникальных значений столбца `genre`:"
   ]
  },
  {
   "cell_type": "code",
   "execution_count": 17,
   "metadata": {
    "deletable": false,
    "id": "wvixALnFG15m"
   },
   "outputs": [
    {
     "data": {
      "text/plain": [
       "array(['acid', 'acoustic', 'action', 'adult', 'africa', 'afrikaans',\n",
       "       'alternative', 'alternativepunk', 'ambient', 'americana',\n",
       "       'animated', 'anime', 'arabesk', 'arabic', 'arena',\n",
       "       'argentinetango', 'art', 'audiobook', 'author', 'avantgarde',\n",
       "       'axé', 'baile', 'balkan', 'beats', 'bigroom', 'black', 'bluegrass',\n",
       "       'blues', 'bollywood', 'bossa', 'brazilian', 'breakbeat', 'breaks',\n",
       "       'broadway', 'cantautori', 'cantopop', 'canzone', 'caribbean',\n",
       "       'caucasian', 'celtic', 'chamber', 'chanson', 'children', 'chill',\n",
       "       'chinese', 'choral', 'christian', 'christmas', 'classical',\n",
       "       'classicmetal', 'club', 'colombian', 'comedy', 'conjazz',\n",
       "       'contemporary', 'country', 'cuban', 'dance', 'dancehall',\n",
       "       'dancepop', 'dark', 'death', 'deep', 'deutschrock', 'deutschspr',\n",
       "       'dirty', 'disco', 'dnb', 'documentary', 'downbeat', 'downtempo',\n",
       "       'drum', 'dub', 'dubstep', 'eastern', 'easy', 'electronic',\n",
       "       'electropop', 'emo', 'entehno', 'epicmetal', 'estrada', 'ethnic',\n",
       "       'eurofolk', 'european', 'experimental', 'extrememetal', 'fado',\n",
       "       'fairytail', 'film', 'fitness', 'flamenco', 'folk', 'folklore',\n",
       "       'folkmetal', 'folkrock', 'folktronica', 'forró', 'frankreich',\n",
       "       'französisch', 'french', 'funk', 'future', 'gangsta', 'garage',\n",
       "       'german', 'ghazal', 'gitarre', 'glitch', 'gospel', 'gothic',\n",
       "       'grime', 'grunge', 'gypsy', 'handsup', \"hard'n'heavy\", 'hardcore',\n",
       "       'hardstyle', 'hardtechno', 'hiphop', 'historisch', 'holiday',\n",
       "       'horror', 'house', 'hymn', 'idm', 'independent', 'indian', 'indie',\n",
       "       'indipop', 'industrial', 'inspirational', 'instrumental',\n",
       "       'international', 'irish', 'jam', 'japanese', 'jazz', 'jewish',\n",
       "       'jpop', 'jungle', 'k-pop', 'karadeniz', 'karaoke', 'kayokyoku',\n",
       "       'korean', 'laiko', 'latin', 'latino', 'leftfield', 'local',\n",
       "       'lounge', 'loungeelectronic', 'lovers', 'malaysian', 'mandopop',\n",
       "       'marschmusik', 'meditative', 'mediterranean', 'melodic', 'metal',\n",
       "       'metalcore', 'mexican', 'middle', 'minimal', 'miscellaneous',\n",
       "       'modern', 'mood', 'mpb', 'muslim', 'native', 'neoklassik', 'neue',\n",
       "       'new', 'newage', 'newwave', 'nu', 'nujazz', 'numetal', 'oceania',\n",
       "       'old', 'opera', 'orchestral', 'other', 'piano', 'podcasts', 'pop',\n",
       "       'popdance', 'popelectronic', 'popeurodance', 'poprussian', 'post',\n",
       "       'posthardcore', 'postrock', 'power', 'progmetal', 'progressive',\n",
       "       'psychedelic', 'punjabi', 'punk', 'quebecois', 'ragga', 'ram',\n",
       "       'rancheras', 'rap', 'rave', 'reggae', 'reggaeton', 'regional',\n",
       "       'relax', 'religious', 'retro', 'rhythm', 'rnb', 'rnr', 'rock',\n",
       "       'rockabilly', 'rockalternative', 'rockindie', 'rockother',\n",
       "       'romance', 'roots', 'ruspop', 'rusrap', 'rusrock', 'russian',\n",
       "       'salsa', 'samba', 'scenic', 'schlager', 'self', 'sertanejo',\n",
       "       'shanson', 'shoegazing', 'showtunes', 'singer', 'ska', 'skarock',\n",
       "       'slow', 'smooth', 'soft', 'soul', 'soulful', 'sound', 'soundtrack',\n",
       "       'southern', 'specialty', 'speech', 'spiritual', 'sport',\n",
       "       'stonerrock', 'surf', 'swing', 'synthpop', 'synthrock',\n",
       "       'sängerportrait', 'tango', 'tanzorchester', 'taraftar', 'tatar',\n",
       "       'tech', 'techno', 'teen', 'thrash', 'top', 'traditional',\n",
       "       'tradjazz', 'trance', 'tribal', 'trip', 'triphop', 'tropical',\n",
       "       'türk', 'türkçe', 'ukrrock', 'unknown', 'urban', 'uzbek',\n",
       "       'variété', 'vi', 'videogame', 'vocal', 'western', 'world',\n",
       "       'worldbeat', 'ïîï', 'электроника'], dtype=object)"
      ]
     },
     "execution_count": 17,
     "metadata": {},
     "output_type": "execute_result"
    }
   ],
   "source": [
    "df['genre'].sort_values().unique()"
   ]
  },
  {
   "cell_type": "markdown",
   "metadata": {
    "id": "jz6a9-7HQUDd"
   },
   "source": [
    "**Выводы**\n",
    "\n",
    "Предобработка обнаружила три проблемы в данных:\n",
    "\n",
    "- нарушения в стиле заголовков,\n",
    "- пропущенные значения,\n",
    "- дубликаты — явные и неявные.\n",
    "\n",
    "Мы исправили заголовки, чтобы упростить работу с таблицей. Без дубликатов исследование станет более точным.\n",
    "\n",
    "Пропущенные значения мы заменили на `'unknown'`. Ещё предстоит увидеть, не повредят ли исследованию пропуски в колонке `genre`.\n",
    "\n",
    "Теперь можно перейти к проверке гипотез. "
   ]
  },
  {
   "cell_type": "markdown",
   "metadata": {
    "id": "WttZHXH0SqKk"
   },
   "source": [
    "## Проверка гипотез"
   ]
  },
  {
   "cell_type": "markdown",
   "metadata": {
    "id": "Im936VVi_Zcu"
   },
   "source": [
    "### Сравнение поведения пользователей двух столиц"
   ]
  },
  {
   "cell_type": "markdown",
   "metadata": {
    "id": "nwt_MuaL_Zcu"
   },
   "source": [
    "Первая гипотеза утверждает, что пользователи по-разному слушают музыку в Москве и Санкт-Петербурге. Проверим это предположение по данным о трёх днях недели — понедельнике, среде и пятнице. Для этого:\n",
    "\n",
    "* Разделим пользователей Москвы и Санкт-Петербурга.\n",
    "* Сравним, сколько треков послушала каждая группа пользователей в понедельник, среду и пятницу.\n"
   ]
  },
  {
   "cell_type": "markdown",
   "metadata": {
    "id": "8Dw_YMmT_Zcu",
    "tags": [
     "start_task"
    ]
   },
   "source": [
    "Для тренировки сначала выполним каждый из расчётов по отдельности. \n",
    "\n",
    "Оценим активность пользователей в каждом городе. Сгруппируем данные по городу и посчитаем прослушивания в каждой группе.\n",
    "\n"
   ]
  },
  {
   "cell_type": "code",
   "execution_count": 18,
   "metadata": {
    "deletable": false,
    "id": "0_Qs96oh_Zcu"
   },
   "outputs": [
    {
     "data": {
      "text/plain": [
       "city\n",
       "Moscow              42741\n",
       "Saint-Petersburg    18512\n",
       "Name: time, dtype: int64"
      ]
     },
     "execution_count": 18,
     "metadata": {},
     "output_type": "execute_result"
    }
   ],
   "source": [
    "df.groupby('city')['time'].count()"
   ]
  },
  {
   "cell_type": "markdown",
   "metadata": {
    "id": "dzli3w8o_Zcu",
    "tags": [
     "start_task"
    ]
   },
   "source": [
    "В Москве прослушиваний больше, чем в Петербурге. Из этого не следует, что московские пользователи чаще слушают музыку. Просто самих пользователей в Москве больше.\n",
    "\n",
    "\n",
    "Теперь сгруппируем данные по дню недели и посчитайте прослушивания в понедельник, среду и пятницу. Учтем, что в данных есть информация о прослушиваниях только за эти дни.\n"
   ]
  },
  {
   "cell_type": "code",
   "execution_count": 19,
   "metadata": {
    "deletable": false,
    "id": "uZMKjiJz_Zcu"
   },
   "outputs": [
    {
     "data": {
      "text/plain": [
       "day\n",
       "Friday       21840\n",
       "Monday       21354\n",
       "Wednesday    18059\n",
       "Name: time, dtype: int64"
      ]
     },
     "execution_count": 19,
     "metadata": {},
     "output_type": "execute_result"
    }
   ],
   "source": [
    "df.groupby('day')['time'].count()"
   ]
  },
  {
   "cell_type": "markdown",
   "metadata": {
    "id": "cC2tNrlL_Zcu"
   },
   "source": [
    "В среднем пользователи из двух городов менее активны по средам. Но картина может измениться, если рассмотреть каждый город в отдельности."
   ]
  },
  {
   "cell_type": "markdown",
   "metadata": {
    "id": "POzs8bGa_Zcu",
    "tags": [
     "start_task"
    ]
   },
   "source": [
    "\n",
    "\n",
    "Создадим функцию `number_tracks()`, которая посчитает прослушивания для заданного дня и города. Ей понадобятся два параметра:\n",
    "* день недели,\n",
    "* название города.\n",
    "\n",
    "В функции сохраним в переменную строки исходной таблицы, у которых значение:\n",
    "  * в колонке `day` равно параметру `day`,\n",
    "  * в колонке `city` равно параметру `city`.\n",
    "\n",
    "Для этого применим последовательную фильтрацию с логической индексацией (или сложные логические выражения в одну строку, если вы уже знакомы с ними).\n",
    "\n",
    "Затем посчитаем значения в столбце `user_id` получившейся таблицы. Результат сохраним в новую переменную. Вернием эту переменную из функции."
   ]
  },
  {
   "cell_type": "code",
   "execution_count": 20,
   "metadata": {
    "deletable": false,
    "id": "Nz3GdQB1_Zcu"
   },
   "outputs": [],
   "source": [
    "def number_tracks(day, city):\n",
    "    track_list = df[df['day'] == day]\n",
    "    track_list = track_list[track_list['city'] == city]\n",
    "    track_list_count = track_list['user_id'].count()\n",
    "    return track_list_count"
   ]
  },
  {
   "cell_type": "markdown",
   "metadata": {
    "id": "ytf7xFrFJQ2r",
    "tags": [
     "start_task"
    ]
   },
   "source": [
    "\n",
    "Вызовем `number_tracks()` шесть раз, меняя значение параметров — так, чтобы получить данные для каждого города в каждый из трёх дней."
   ]
  },
  {
   "cell_type": "code",
   "execution_count": 21,
   "metadata": {
    "deletable": false,
    "id": "rJcRATNQ_Zcu"
   },
   "outputs": [
    {
     "data": {
      "text/plain": [
       "15740"
      ]
     },
     "execution_count": 21,
     "metadata": {},
     "output_type": "execute_result"
    }
   ],
   "source": [
    "number_tracks('Monday', 'Moscow')"
   ]
  },
  {
   "cell_type": "code",
   "execution_count": 22,
   "metadata": {
    "deletable": false,
    "id": "hq_ncZ5T_Zcu"
   },
   "outputs": [
    {
     "data": {
      "text/plain": [
       "5614"
      ]
     },
     "execution_count": 22,
     "metadata": {},
     "output_type": "execute_result"
    }
   ],
   "source": [
    "number_tracks('Monday', 'Saint-Petersburg')"
   ]
  },
  {
   "cell_type": "code",
   "execution_count": 23,
   "metadata": {
    "deletable": false,
    "id": "_NTy2VPU_Zcu"
   },
   "outputs": [
    {
     "data": {
      "text/plain": [
       "11056"
      ]
     },
     "execution_count": 23,
     "metadata": {},
     "output_type": "execute_result"
    }
   ],
   "source": [
    "number_tracks('Wednesday', 'Moscow')"
   ]
  },
  {
   "cell_type": "code",
   "execution_count": 24,
   "metadata": {
    "deletable": false,
    "id": "j2y3TAwo_Zcu"
   },
   "outputs": [
    {
     "data": {
      "text/plain": [
       "7003"
      ]
     },
     "execution_count": 24,
     "metadata": {},
     "output_type": "execute_result"
    }
   ],
   "source": [
    "number_tracks('Wednesday', 'Saint-Petersburg')"
   ]
  },
  {
   "cell_type": "code",
   "execution_count": 25,
   "metadata": {
    "deletable": false,
    "id": "vYDw5u_K_Zcu"
   },
   "outputs": [
    {
     "data": {
      "text/plain": [
       "15945"
      ]
     },
     "execution_count": 25,
     "metadata": {},
     "output_type": "execute_result"
    }
   ],
   "source": [
    "number_tracks('Friday', 'Moscow')"
   ]
  },
  {
   "cell_type": "code",
   "execution_count": 26,
   "metadata": {
    "deletable": false,
    "id": "8_yzFtW3_Zcu"
   },
   "outputs": [
    {
     "data": {
      "text/plain": [
       "5895"
      ]
     },
     "execution_count": 26,
     "metadata": {},
     "output_type": "execute_result"
    }
   ],
   "source": [
    "number_tracks('Friday', 'Saint-Petersburg')"
   ]
  },
  {
   "cell_type": "markdown",
   "metadata": {
    "id": "7QXffbO-_Zcu",
    "tags": [
     "start_task"
    ]
   },
   "source": [
    "\n",
    "Создадим c помощью конструктора `pd.DataFrame` таблицу, где\n",
    "* названия колонок — `['city', 'monday', 'wednesday', 'friday']`;\n",
    "* данные — результаты, которые вы получили с помощью `number_tracks`."
   ]
  },
  {
   "cell_type": "code",
   "execution_count": 27,
   "metadata": {
    "deletable": false,
    "id": "APAcLpOr_Zcu"
   },
   "outputs": [
    {
     "data": {
      "text/html": [
       "<div>\n",
       "<style scoped>\n",
       "    .dataframe tbody tr th:only-of-type {\n",
       "        vertical-align: middle;\n",
       "    }\n",
       "\n",
       "    .dataframe tbody tr th {\n",
       "        vertical-align: top;\n",
       "    }\n",
       "\n",
       "    .dataframe thead th {\n",
       "        text-align: right;\n",
       "    }\n",
       "</style>\n",
       "<table border=\"1\" class=\"dataframe\">\n",
       "  <thead>\n",
       "    <tr style=\"text-align: right;\">\n",
       "      <th></th>\n",
       "      <th>city</th>\n",
       "      <th>monday</th>\n",
       "      <th>wednesday</th>\n",
       "      <th>friday</th>\n",
       "    </tr>\n",
       "  </thead>\n",
       "  <tbody>\n",
       "    <tr>\n",
       "      <th>0</th>\n",
       "      <td>Москва</td>\n",
       "      <td>15740</td>\n",
       "      <td>11056</td>\n",
       "      <td>15945</td>\n",
       "    </tr>\n",
       "    <tr>\n",
       "      <th>1</th>\n",
       "      <td>Санкт-Петербург</td>\n",
       "      <td>5614</td>\n",
       "      <td>7003</td>\n",
       "      <td>5895</td>\n",
       "    </tr>\n",
       "  </tbody>\n",
       "</table>\n",
       "</div>"
      ],
      "text/plain": [
       "              city  monday  wednesday  friday\n",
       "0           Москва   15740      11056   15945\n",
       "1  Санкт-Петербург    5614       7003    5895"
      ]
     },
     "execution_count": 27,
     "metadata": {},
     "output_type": "execute_result"
    }
   ],
   "source": [
    "info = pd.DataFrame(data=[['Москва',15740, 11056, 15945], ['Санкт-Петербург',5614, 7003, 5895]], columns=['city', 'monday', 'wednesday', 'friday'])\n",
    "info"
   ]
  },
  {
   "cell_type": "markdown",
   "metadata": {
    "id": "-EgPIHYu_Zcu"
   },
   "source": [
    "**Выводы**\n",
    "\n",
    "Данные показывают разницу поведения пользователей:\n",
    "\n",
    "- В Москве пик прослушиваний приходится на понедельник и пятницу, а в среду заметен спад.\n",
    "- В Петербурге, наоборот, больше слушают музыку по средам. Активность в понедельник и пятницу здесь почти в равной мере уступает среде.\n",
    "\n",
    "Значит, данные говорят в пользу первой гипотезы."
   ]
  },
  {
   "cell_type": "markdown",
   "metadata": {
    "id": "atZAxtq4_Zcu"
   },
   "source": [
    "### Музыка в начале и в конце недели"
   ]
  },
  {
   "cell_type": "markdown",
   "metadata": {
    "id": "eXrQqXFH_Zcu"
   },
   "source": [
    "Согласно второй гипотезе, утром в понедельник в Москве преобладают одни жанры, а в Петербурге — другие. Так же и вечером пятницы преобладают разные жанры — в зависимости от города."
   ]
  },
  {
   "cell_type": "markdown",
   "metadata": {
    "id": "S8UcW6Hw_Zcu",
    "tags": [
     "start_task"
    ]
   },
   "source": [
    "\n",
    "Сохраним таблицы с данными в две переменные:\n",
    "* по Москве — в `moscow_general`;\n",
    "* по Санкт-Петербургу — в `spb_general`."
   ]
  },
  {
   "cell_type": "code",
   "execution_count": 28,
   "metadata": {
    "deletable": false,
    "id": "qeaFfM_P_Zcu"
   },
   "outputs": [
    {
     "data": {
      "text/html": [
       "<div>\n",
       "<style scoped>\n",
       "    .dataframe tbody tr th:only-of-type {\n",
       "        vertical-align: middle;\n",
       "    }\n",
       "\n",
       "    .dataframe tbody tr th {\n",
       "        vertical-align: top;\n",
       "    }\n",
       "\n",
       "    .dataframe thead th {\n",
       "        text-align: right;\n",
       "    }\n",
       "</style>\n",
       "<table border=\"1\" class=\"dataframe\">\n",
       "  <thead>\n",
       "    <tr style=\"text-align: right;\">\n",
       "      <th></th>\n",
       "      <th>user_id</th>\n",
       "      <th>track</th>\n",
       "      <th>artist</th>\n",
       "      <th>genre</th>\n",
       "      <th>city</th>\n",
       "      <th>time</th>\n",
       "      <th>day</th>\n",
       "    </tr>\n",
       "  </thead>\n",
       "  <tbody>\n",
       "    <tr>\n",
       "      <th>1</th>\n",
       "      <td>55204538</td>\n",
       "      <td>Delayed Because of Accident</td>\n",
       "      <td>Andreas Rönnberg</td>\n",
       "      <td>rock</td>\n",
       "      <td>Moscow</td>\n",
       "      <td>14:07:09</td>\n",
       "      <td>Friday</td>\n",
       "    </tr>\n",
       "    <tr>\n",
       "      <th>4</th>\n",
       "      <td>E2DC1FAE</td>\n",
       "      <td>Soul People</td>\n",
       "      <td>Space Echo</td>\n",
       "      <td>dance</td>\n",
       "      <td>Moscow</td>\n",
       "      <td>08:34:34</td>\n",
       "      <td>Monday</td>\n",
       "    </tr>\n",
       "    <tr>\n",
       "      <th>6</th>\n",
       "      <td>4CB90AA5</td>\n",
       "      <td>True</td>\n",
       "      <td>Roman Messer</td>\n",
       "      <td>dance</td>\n",
       "      <td>Moscow</td>\n",
       "      <td>13:00:07</td>\n",
       "      <td>Wednesday</td>\n",
       "    </tr>\n",
       "    <tr>\n",
       "      <th>7</th>\n",
       "      <td>F03E1C1F</td>\n",
       "      <td>Feeling This Way</td>\n",
       "      <td>Polina Griffith</td>\n",
       "      <td>dance</td>\n",
       "      <td>Moscow</td>\n",
       "      <td>20:47:49</td>\n",
       "      <td>Wednesday</td>\n",
       "    </tr>\n",
       "    <tr>\n",
       "      <th>8</th>\n",
       "      <td>8FA1D3BE</td>\n",
       "      <td>И вновь продолжается бой</td>\n",
       "      <td>unknown</td>\n",
       "      <td>ruspop</td>\n",
       "      <td>Moscow</td>\n",
       "      <td>09:17:40</td>\n",
       "      <td>Friday</td>\n",
       "    </tr>\n",
       "    <tr>\n",
       "      <th>...</th>\n",
       "      <td>...</td>\n",
       "      <td>...</td>\n",
       "      <td>...</td>\n",
       "      <td>...</td>\n",
       "      <td>...</td>\n",
       "      <td>...</td>\n",
       "      <td>...</td>\n",
       "    </tr>\n",
       "    <tr>\n",
       "      <th>65073</th>\n",
       "      <td>83A474E7</td>\n",
       "      <td>I Worship Only What You Bleed</td>\n",
       "      <td>The Black Dahlia Murder</td>\n",
       "      <td>extrememetal</td>\n",
       "      <td>Moscow</td>\n",
       "      <td>21:07:12</td>\n",
       "      <td>Monday</td>\n",
       "    </tr>\n",
       "    <tr>\n",
       "      <th>65074</th>\n",
       "      <td>729CBB09</td>\n",
       "      <td>My Name</td>\n",
       "      <td>McLean</td>\n",
       "      <td>rnb</td>\n",
       "      <td>Moscow</td>\n",
       "      <td>13:32:28</td>\n",
       "      <td>Wednesday</td>\n",
       "    </tr>\n",
       "    <tr>\n",
       "      <th>65076</th>\n",
       "      <td>C5E3A0D5</td>\n",
       "      <td>Jalopiina</td>\n",
       "      <td>unknown</td>\n",
       "      <td>industrial</td>\n",
       "      <td>Moscow</td>\n",
       "      <td>20:09:26</td>\n",
       "      <td>Friday</td>\n",
       "    </tr>\n",
       "    <tr>\n",
       "      <th>65077</th>\n",
       "      <td>321D0506</td>\n",
       "      <td>Freight Train</td>\n",
       "      <td>Chas McDevitt</td>\n",
       "      <td>rock</td>\n",
       "      <td>Moscow</td>\n",
       "      <td>21:43:59</td>\n",
       "      <td>Friday</td>\n",
       "    </tr>\n",
       "    <tr>\n",
       "      <th>65078</th>\n",
       "      <td>3A64EF84</td>\n",
       "      <td>Tell Me Sweet Little Lies</td>\n",
       "      <td>Monica Lopez</td>\n",
       "      <td>country</td>\n",
       "      <td>Moscow</td>\n",
       "      <td>21:59:46</td>\n",
       "      <td>Friday</td>\n",
       "    </tr>\n",
       "  </tbody>\n",
       "</table>\n",
       "<p>42741 rows × 7 columns</p>\n",
       "</div>"
      ],
      "text/plain": [
       "        user_id                          track                   artist  \\\n",
       "1      55204538    Delayed Because of Accident         Andreas Rönnberg   \n",
       "4      E2DC1FAE                    Soul People               Space Echo   \n",
       "6      4CB90AA5                           True             Roman Messer   \n",
       "7      F03E1C1F               Feeling This Way          Polina Griffith   \n",
       "8      8FA1D3BE       И вновь продолжается бой                  unknown   \n",
       "...         ...                            ...                      ...   \n",
       "65073  83A474E7  I Worship Only What You Bleed  The Black Dahlia Murder   \n",
       "65074  729CBB09                        My Name                   McLean   \n",
       "65076  C5E3A0D5                      Jalopiina                  unknown   \n",
       "65077  321D0506                  Freight Train            Chas McDevitt   \n",
       "65078  3A64EF84      Tell Me Sweet Little Lies             Monica Lopez   \n",
       "\n",
       "              genre    city      time        day  \n",
       "1              rock  Moscow  14:07:09     Friday  \n",
       "4             dance  Moscow  08:34:34     Monday  \n",
       "6             dance  Moscow  13:00:07  Wednesday  \n",
       "7             dance  Moscow  20:47:49  Wednesday  \n",
       "8            ruspop  Moscow  09:17:40     Friday  \n",
       "...             ...     ...       ...        ...  \n",
       "65073  extrememetal  Moscow  21:07:12     Monday  \n",
       "65074           rnb  Moscow  13:32:28  Wednesday  \n",
       "65076    industrial  Moscow  20:09:26     Friday  \n",
       "65077          rock  Moscow  21:43:59     Friday  \n",
       "65078       country  Moscow  21:59:46     Friday  \n",
       "\n",
       "[42741 rows x 7 columns]"
      ]
     },
     "execution_count": 28,
     "metadata": {},
     "output_type": "execute_result"
    }
   ],
   "source": [
    "moscow_general = df[df['city'] == 'Moscow']# получение таблицы moscow_general из тех строк таблицы df, \n",
    "# для которых значение в столбце 'city' равно 'Moscow'\n",
    "moscow_general"
   ]
  },
  {
   "cell_type": "code",
   "execution_count": 53,
   "metadata": {
    "deletable": false,
    "id": "ORaVRKto_Zcu"
   },
   "outputs": [
    {
     "data": {
      "text/html": [
       "<div>\n",
       "<style scoped>\n",
       "    .dataframe tbody tr th:only-of-type {\n",
       "        vertical-align: middle;\n",
       "    }\n",
       "\n",
       "    .dataframe tbody tr th {\n",
       "        vertical-align: top;\n",
       "    }\n",
       "\n",
       "    .dataframe thead th {\n",
       "        text-align: right;\n",
       "    }\n",
       "</style>\n",
       "<table border=\"1\" class=\"dataframe\">\n",
       "  <thead>\n",
       "    <tr style=\"text-align: right;\">\n",
       "      <th></th>\n",
       "      <th>user_id</th>\n",
       "      <th>track</th>\n",
       "      <th>artist</th>\n",
       "      <th>genre</th>\n",
       "      <th>city</th>\n",
       "      <th>time</th>\n",
       "      <th>day</th>\n",
       "    </tr>\n",
       "  </thead>\n",
       "  <tbody>\n",
       "    <tr>\n",
       "      <th>0</th>\n",
       "      <td>FFB692EC</td>\n",
       "      <td>Kamigata To Boots</td>\n",
       "      <td>The Mass Missile</td>\n",
       "      <td>rock</td>\n",
       "      <td>Saint-Petersburg</td>\n",
       "      <td>20:28:33</td>\n",
       "      <td>Wednesday</td>\n",
       "    </tr>\n",
       "    <tr>\n",
       "      <th>2</th>\n",
       "      <td>20EC38</td>\n",
       "      <td>Funiculì funiculà</td>\n",
       "      <td>Mario Lanza</td>\n",
       "      <td>pop</td>\n",
       "      <td>Saint-Petersburg</td>\n",
       "      <td>20:58:07</td>\n",
       "      <td>Wednesday</td>\n",
       "    </tr>\n",
       "    <tr>\n",
       "      <th>3</th>\n",
       "      <td>A3DD03C9</td>\n",
       "      <td>Dragons in the Sunset</td>\n",
       "      <td>Fire + Ice</td>\n",
       "      <td>folk</td>\n",
       "      <td>Saint-Petersburg</td>\n",
       "      <td>08:37:09</td>\n",
       "      <td>Monday</td>\n",
       "    </tr>\n",
       "    <tr>\n",
       "      <th>5</th>\n",
       "      <td>842029A1</td>\n",
       "      <td>Преданная</td>\n",
       "      <td>IMPERVTOR</td>\n",
       "      <td>rusrap</td>\n",
       "      <td>Saint-Petersburg</td>\n",
       "      <td>13:09:41</td>\n",
       "      <td>Friday</td>\n",
       "    </tr>\n",
       "    <tr>\n",
       "      <th>9</th>\n",
       "      <td>E772D5C0</td>\n",
       "      <td>Pessimist</td>\n",
       "      <td>unknown</td>\n",
       "      <td>dance</td>\n",
       "      <td>Saint-Petersburg</td>\n",
       "      <td>21:20:49</td>\n",
       "      <td>Wednesday</td>\n",
       "    </tr>\n",
       "    <tr>\n",
       "      <th>...</th>\n",
       "      <td>...</td>\n",
       "      <td>...</td>\n",
       "      <td>...</td>\n",
       "      <td>...</td>\n",
       "      <td>...</td>\n",
       "      <td>...</td>\n",
       "      <td>...</td>\n",
       "    </tr>\n",
       "    <tr>\n",
       "      <th>65063</th>\n",
       "      <td>D94F810B</td>\n",
       "      <td>Theme from the Walking Dead</td>\n",
       "      <td>Proyecto Halloween</td>\n",
       "      <td>film</td>\n",
       "      <td>Saint-Petersburg</td>\n",
       "      <td>21:14:40</td>\n",
       "      <td>Monday</td>\n",
       "    </tr>\n",
       "    <tr>\n",
       "      <th>65064</th>\n",
       "      <td>BC8EC5CF</td>\n",
       "      <td>Red Lips: Gta (Rover Rework)</td>\n",
       "      <td>Rover</td>\n",
       "      <td>electronic</td>\n",
       "      <td>Saint-Petersburg</td>\n",
       "      <td>21:06:50</td>\n",
       "      <td>Monday</td>\n",
       "    </tr>\n",
       "    <tr>\n",
       "      <th>65065</th>\n",
       "      <td>29E04611</td>\n",
       "      <td>Bre Petrunko</td>\n",
       "      <td>Perunika Trio</td>\n",
       "      <td>world</td>\n",
       "      <td>Saint-Petersburg</td>\n",
       "      <td>13:56:00</td>\n",
       "      <td>Monday</td>\n",
       "    </tr>\n",
       "    <tr>\n",
       "      <th>65066</th>\n",
       "      <td>1B91C621</td>\n",
       "      <td>(Hello) Cloud Mountain</td>\n",
       "      <td>sleepmakeswaves</td>\n",
       "      <td>postrock</td>\n",
       "      <td>Saint-Petersburg</td>\n",
       "      <td>09:22:13</td>\n",
       "      <td>Monday</td>\n",
       "    </tr>\n",
       "    <tr>\n",
       "      <th>65075</th>\n",
       "      <td>D08D4A55</td>\n",
       "      <td>Maybe One Day (feat. Black Spade)</td>\n",
       "      <td>Blu &amp; Exile</td>\n",
       "      <td>hiphop</td>\n",
       "      <td>Saint-Petersburg</td>\n",
       "      <td>10:00:00</td>\n",
       "      <td>Monday</td>\n",
       "    </tr>\n",
       "  </tbody>\n",
       "</table>\n",
       "<p>18512 rows × 7 columns</p>\n",
       "</div>"
      ],
      "text/plain": [
       "        user_id                              track              artist  \\\n",
       "0      FFB692EC                  Kamigata To Boots    The Mass Missile   \n",
       "2        20EC38                  Funiculì funiculà         Mario Lanza   \n",
       "3      A3DD03C9              Dragons in the Sunset          Fire + Ice   \n",
       "5      842029A1                          Преданная           IMPERVTOR   \n",
       "9      E772D5C0                          Pessimist             unknown   \n",
       "...         ...                                ...                 ...   \n",
       "65063  D94F810B        Theme from the Walking Dead  Proyecto Halloween   \n",
       "65064  BC8EC5CF       Red Lips: Gta (Rover Rework)               Rover   \n",
       "65065  29E04611                       Bre Petrunko       Perunika Trio   \n",
       "65066  1B91C621             (Hello) Cloud Mountain     sleepmakeswaves   \n",
       "65075  D08D4A55  Maybe One Day (feat. Black Spade)         Blu & Exile   \n",
       "\n",
       "            genre              city      time        day  \n",
       "0            rock  Saint-Petersburg  20:28:33  Wednesday  \n",
       "2             pop  Saint-Petersburg  20:58:07  Wednesday  \n",
       "3            folk  Saint-Petersburg  08:37:09     Monday  \n",
       "5          rusrap  Saint-Petersburg  13:09:41     Friday  \n",
       "9           dance  Saint-Petersburg  21:20:49  Wednesday  \n",
       "...           ...               ...       ...        ...  \n",
       "65063        film  Saint-Petersburg  21:14:40     Monday  \n",
       "65064  electronic  Saint-Petersburg  21:06:50     Monday  \n",
       "65065       world  Saint-Petersburg  13:56:00     Monday  \n",
       "65066    postrock  Saint-Petersburg  09:22:13     Monday  \n",
       "65075      hiphop  Saint-Petersburg  10:00:00     Monday  \n",
       "\n",
       "[18512 rows x 7 columns]"
      ]
     },
     "execution_count": 53,
     "metadata": {},
     "output_type": "execute_result"
    }
   ],
   "source": [
    "spb_general = df[df['city'] == 'Saint-Petersburg']# получение таблицы spb_general из тех строк таблицы df,\n",
    "# для которых значение в столбце 'city' равно 'Saint-Petersburg'\n",
    "spb_general"
   ]
  },
  {
   "cell_type": "markdown",
   "metadata": {
    "id": "MEJV-CX2_Zcu",
    "tags": [
     "start_task"
    ]
   },
   "source": [
    "\n",
    "Создадим функцию `genre_weekday()` с четырьмя параметрами:\n",
    "* таблица (датафрейм) с данными,\n",
    "* день недели,\n",
    "* начальная временная метка в формате 'hh:mm', \n",
    "* последняя временная метка в формате 'hh:mm'.\n",
    "\n",
    "Функция должна вернуть информацию о топ-10 жанров тех треков, которые прослушивали в указанный день, в промежутке между двумя отметками времени."
   ]
  },
  {
   "cell_type": "code",
   "execution_count": 30,
   "metadata": {
    "deletable": false,
    "id": "laJT9BYl_Zcu"
   },
   "outputs": [],
   "source": [
    "# Объявление функции genre_weekday() с параметрами table, day, time1, time2,\n",
    "# которая возвращает информацию о самых популярных жанрах в указанный день в\n",
    "# заданное время:\n",
    "# 1) в переменную genre_df сохраняются те строки переданного датафрейма table, для\n",
    "#    которых одновременно:\n",
    "#    - значение в столбце day равно значению аргумента day\n",
    "#    - значение в столбце time больше значения аргумента time1\n",
    "#    - значение в столбце time меньше значения аргумента time2\n",
    "#    Используйте последовательную фильтрацию с помощью логической индексации.\n",
    "# 2) сгруппировать датафрейм genre_df по столбцу genre, взять один из его\n",
    "#    столбцов и посчитать методом count() количество записей для каждого из\n",
    "#    присутствующих жанров, получившийся Series записать в переменную\n",
    "#    genre_df_count\n",
    "# 3) отсортировать genre_df_count по убыванию встречаемости и сохранить\n",
    "#    в переменную genre_df_sorted\n",
    "# 4) вернуть Series из 10 первых значений genre_df_sorted, это будут топ-10\n",
    "#    популярных жанров (в указанный день, в заданное время)\n",
    "\n",
    "def genre_weekday(df, day, time1, time2):\n",
    "    genre_df = df[df['day'] == day]\n",
    "    genre_df_1 = genre_df[genre_df['time'] < time2]\n",
    "    genre_df_2 = genre_df_1[genre_df_1['time'] > time1]\n",
    "    genre_df_grouped = genre_df_2.groupby('genre')['genre'].count()\n",
    "    genre_df_sorted = genre_df_grouped.sort_values(ascending=False)\n",
    "    return genre_df_sorted[:10]"
   ]
  },
  {
   "cell_type": "markdown",
   "metadata": {
    "id": "la2s2_PF_Zcu",
    "tags": [
     "start_task"
    ]
   },
   "source": [
    "\n",
    "\n",
    "Cравним результаты функции `genre_weekday()` для Москвы и Санкт-Петербурга в понедельник утром (с 7:00 до 11:00) и в пятницу вечером (с 17:00 до 23:00):"
   ]
  },
  {
   "cell_type": "code",
   "execution_count": 52,
   "metadata": {
    "id": "yz7itPUQ_Zcu"
   },
   "outputs": [
    {
     "data": {
      "text/plain": [
       "genre\n",
       "pop            781\n",
       "dance          549\n",
       "electronic     480\n",
       "rock           474\n",
       "hiphop         286\n",
       "ruspop         186\n",
       "world          181\n",
       "rusrap         175\n",
       "alternative    164\n",
       "unknown        161\n",
       "Name: genre, dtype: int64"
      ]
     },
     "execution_count": 52,
     "metadata": {},
     "output_type": "execute_result"
    }
   ],
   "source": [
    "genre_weekday(moscow_general, 'Monday', '07:00', '11:00')"
   ]
  },
  {
   "cell_type": "code",
   "execution_count": 54,
   "metadata": {
    "deletable": false,
    "id": "kwUcHPdy_Zcu"
   },
   "outputs": [
    {
     "data": {
      "text/plain": [
       "genre\n",
       "pop            218\n",
       "dance          182\n",
       "rock           162\n",
       "electronic     147\n",
       "hiphop          80\n",
       "ruspop          64\n",
       "alternative     58\n",
       "rusrap          55\n",
       "jazz            44\n",
       "classical       40\n",
       "Name: genre, dtype: int64"
      ]
     },
     "execution_count": 54,
     "metadata": {},
     "output_type": "execute_result"
    }
   ],
   "source": [
    "genre_weekday(spb_general, 'Monday', '07:00', '11:00')"
   ]
  },
  {
   "cell_type": "code",
   "execution_count": 33,
   "metadata": {
    "deletable": false,
    "id": "EzXVRE1o_Zcu"
   },
   "outputs": [
    {
     "data": {
      "text/plain": [
       "genre\n",
       "pop            713\n",
       "rock           517\n",
       "dance          495\n",
       "electronic     482\n",
       "hiphop         273\n",
       "world          208\n",
       "ruspop         170\n",
       "alternative    163\n",
       "classical      163\n",
       "rusrap         142\n",
       "Name: genre, dtype: int64"
      ]
     },
     "execution_count": 33,
     "metadata": {},
     "output_type": "execute_result"
    }
   ],
   "source": [
    "genre_weekday(moscow_general, 'Friday', '17:00', '23:00')"
   ]
  },
  {
   "cell_type": "code",
   "execution_count": 34,
   "metadata": {
    "deletable": false,
    "id": "JZaEKu5v_Zcu"
   },
   "outputs": [
    {
     "data": {
      "text/plain": [
       "genre\n",
       "pop            256\n",
       "electronic     216\n",
       "rock           216\n",
       "dance          210\n",
       "hiphop          97\n",
       "alternative     63\n",
       "jazz            61\n",
       "classical       60\n",
       "rusrap          59\n",
       "world           54\n",
       "Name: genre, dtype: int64"
      ]
     },
     "execution_count": 34,
     "metadata": {},
     "output_type": "execute_result"
    }
   ],
   "source": [
    "genre_weekday(spb_general, 'Friday', '17:00', '23:00')"
   ]
  },
  {
   "cell_type": "markdown",
   "metadata": {
    "id": "wrCe4MNX_Zcu"
   },
   "source": [
    "**Выводы**\n",
    "\n",
    "Если сравнить топ-10 жанров в понедельник утром, можно сделать такие выводы:\n",
    "\n",
    "1. В Москве и Петербурге слушают похожую музыку. Единственное отличие — в московский рейтинг вошёл жанр “world”, а в петербургский — джаз и классика.\n",
    "\n",
    "2. В Москве пропущенных значений оказалось так много, что значение `'unknown'` заняло десятое место среди самых популярных жанров. Значит, пропущенные значения занимают существенную долю в данных и угрожают достоверности исследования.\n",
    "\n",
    "Вечер пятницы не меняет эту картину. Некоторые жанры поднимаются немного выше, другие спускаются, но в целом топ-10 остаётся тем же самым.\n",
    "\n",
    "Таким образом, вторая гипотеза подтвердилась лишь частично:\n",
    "* Пользователи слушают похожую музыку в начале недели и в конце.\n",
    "* Разница между Москвой и Петербургом не слишком выражена. В Москве чаще слушают русскую популярную музыку, в Петербурге — джаз.\n",
    "\n",
    "Однако пропуски в данных ставят под сомнение этот результат. В Москве их так много, что рейтинг топ-10 мог бы выглядеть иначе, если бы не утерянные  данные о жанрах."
   ]
  },
  {
   "cell_type": "markdown",
   "metadata": {
    "id": "JolODAqr_Zcu"
   },
   "source": [
    "### Жанровые предпочтения в Москве и Петербурге\n",
    "\n",
    "Гипотеза: Петербург — столица рэпа, музыку этого жанра там слушают чаще, чем в Москве.  А Москва — город контрастов, в котором, тем не менее, преобладает поп-музыка."
   ]
  },
  {
   "cell_type": "markdown",
   "metadata": {
    "id": "DlegSvaT_Zcu",
    "tags": [
     "start_task"
    ]
   },
   "source": [
    "\n",
    "Сгруппируем таблицу `moscow_general` по жанру и посчитайте прослушивания треков каждого жанра методом `count()`. Затем отсортируем результат в порядке убывания и сохраним его в таблице `moscow_genres`."
   ]
  },
  {
   "cell_type": "code",
   "execution_count": 49,
   "metadata": {
    "deletable": false,
    "id": "r19lIPke_Zcu"
   },
   "outputs": [],
   "source": [
    "moscow_genres = moscow_general.groupby('genre')['genre'].count().sort_values(ascending=False)\n",
    "# одной строкой: группировка таблицы moscow_general по столбцу 'genre', \n",
    "# подсчёт числа значений 'genre' в этой группировке методом count(), \n",
    "# сортировка получившегося Series в порядке убывания и сохранение в moscow_genres"
   ]
  },
  {
   "cell_type": "markdown",
   "metadata": {
    "id": "6kMuomxTiIr8",
    "tags": [
     "start_task"
    ]
   },
   "source": [
    "\n",
    "Выведем на экран первые десять строк `moscow_genres`:"
   ]
  },
  {
   "cell_type": "code",
   "execution_count": 36,
   "metadata": {
    "deletable": false,
    "id": "WhCSooF8_Zcv"
   },
   "outputs": [
    {
     "data": {
      "text/plain": [
       "genre\n",
       "pop            5892\n",
       "dance          4435\n",
       "rock           3965\n",
       "electronic     3786\n",
       "hiphop         2096\n",
       "classical      1616\n",
       "world          1432\n",
       "alternative    1379\n",
       "ruspop         1372\n",
       "rusrap         1161\n",
       "Name: genre, dtype: int64"
      ]
     },
     "execution_count": 36,
     "metadata": {},
     "output_type": "execute_result"
    }
   ],
   "source": [
    "moscow_genres.head(10)"
   ]
  },
  {
   "cell_type": "markdown",
   "metadata": {
    "id": "cnPG2vnN_Zcv",
    "tags": [
     "start_task"
    ]
   },
   "source": [
    "\n",
    "\n",
    "Теперь повторим то же и для Петербурга.\n",
    "\n",
    "Сгруппируем таблицу `spb_general` по жанру. Посчитаем прослушивания треков каждого жанра. Результат отсортируйте в порядке убывания и сохраните в таблице `spb_genres`:\n"
   ]
  },
  {
   "cell_type": "code",
   "execution_count": 55,
   "metadata": {
    "deletable": false,
    "id": "gluLIpE7_Zcv"
   },
   "outputs": [],
   "source": [
    "spb_genres = spb_general.groupby('genre')['genre'].count().sort_values(ascending=False)"
   ]
  },
  {
   "cell_type": "markdown",
   "metadata": {
    "id": "5Doha_ODgyQ8",
    "tags": [
     "start_task"
    ]
   },
   "source": [
    "\n",
    "Выведем на экран первые десять строк `spb_genres`:"
   ]
  },
  {
   "cell_type": "code",
   "execution_count": 56,
   "metadata": {
    "deletable": false,
    "id": "uaGJHjVU_Zcv"
   },
   "outputs": [
    {
     "data": {
      "text/plain": [
       "genre\n",
       "pop            2431\n",
       "dance          1932\n",
       "rock           1879\n",
       "electronic     1736\n",
       "hiphop          960\n",
       "alternative     649\n",
       "classical       646\n",
       "rusrap          564\n",
       "ruspop          538\n",
       "world           515\n",
       "Name: genre, dtype: int64"
      ]
     },
     "execution_count": 56,
     "metadata": {},
     "output_type": "execute_result"
    }
   ],
   "source": [
    "spb_genres.head(10) # просмотр первых 10 строк spb_genres"
   ]
  },
  {
   "cell_type": "markdown",
   "metadata": {
    "id": "RY51YJYu_Zcv"
   },
   "source": [
    "**Выводы**"
   ]
  },
  {
   "cell_type": "markdown",
   "metadata": {
    "id": "nVhnJEm__Zcv"
   },
   "source": [
    "Гипотеза частично подтвердилась:\n",
    "* Поп-музыка — самый популярный жанр в Москве, как и предполагала гипотеза. Более того, в топ-10 жанров встречается близкий жанр — русская популярная музыка.\n",
    "* Вопреки ожиданиям, рэп одинаково популярен в Москве и Петербурге. \n"
   ]
  },
  {
   "cell_type": "markdown",
   "metadata": {
    "id": "ykKQ0N65_Zcv"
   },
   "source": [
    "## Итоги исследования"
   ]
  },
  {
   "cell_type": "markdown",
   "metadata": {
    "id": "tjUwbHb3_Zcv"
   },
   "source": [
    "Мы проверили три гипотезы и установили:\n",
    "\n",
    "1. День недели по-разному влияет на активность пользователей в Москве и Петербурге. \n",
    "\n",
    "Первая гипотеза полностью подтвердилась.\n",
    "\n",
    "2. Музыкальные предпочтения не сильно меняются в течение недели — будь то Москва или Петербург. Небольшие различия заметны в начале недели, по понедельникам:\n",
    "* в Москве слушают музыку жанра “world”,\n",
    "* в Петербурге — джаз и классику.\n",
    "\n",
    "Таким образом, вторая гипотеза подтвердилась лишь отчасти. Этот результат мог оказаться иным, если бы не пропуски в данных.\n",
    "\n",
    "3. Во вкусах пользователей Москвы и Петербурга больше общего чем различий. Вопреки ожиданиям, предпочтения жанров в Петербурге напоминают московские.\n",
    "\n",
    "Третья гипотеза не подтвердилась. Если различия в предпочтениях и существуют, на основной массе пользователей они незаметны.\n",
    "\n",
    "**На практике исследования содержат проверки статистических гипотез.**\n",
    "Из данных одного сервиса не всегда можно сделать вывод о всех жителях города.\n",
    "Проверки статистических гипотез покажут, насколько они достоверны, исходя из имеющихся данных. "
   ]
  }
 ],
 "metadata": {
  "ExecuteTimeLog": [
   {
    "duration": 389,
    "start_time": "2022-12-11T08:36:58.124Z"
   },
   {
    "duration": 2,
    "start_time": "2022-12-11T08:37:01.629Z"
   },
   {
    "duration": 4,
    "start_time": "2022-12-11T08:37:04.220Z"
   },
   {
    "duration": 69,
    "start_time": "2022-12-11T08:38:10.756Z"
   },
   {
    "duration": 69,
    "start_time": "2022-12-11T08:47:32.358Z"
   },
   {
    "duration": 8,
    "start_time": "2022-12-11T08:47:42.918Z"
   },
   {
    "duration": 7,
    "start_time": "2022-12-11T08:47:59.423Z"
   },
   {
    "duration": 7,
    "start_time": "2022-12-11T08:51:05.519Z"
   },
   {
    "duration": 7,
    "start_time": "2022-12-11T08:51:34.986Z"
   },
   {
    "duration": 36,
    "start_time": "2022-12-11T08:51:58.342Z"
   },
   {
    "duration": 41,
    "start_time": "2022-12-11T08:52:14.742Z"
   },
   {
    "duration": 6,
    "start_time": "2022-12-11T08:53:27.023Z"
   },
   {
    "duration": 3,
    "start_time": "2022-12-11T08:53:35.228Z"
   },
   {
    "duration": 45,
    "start_time": "2022-12-11T08:53:37.903Z"
   },
   {
    "duration": 33,
    "start_time": "2022-12-11T08:54:26.718Z"
   },
   {
    "duration": 8,
    "start_time": "2022-12-11T08:55:30.222Z"
   },
   {
    "duration": 3,
    "start_time": "2022-12-11T08:55:49.259Z"
   },
   {
    "duration": 274,
    "start_time": "2022-12-11T08:56:10.275Z"
   },
   {
    "duration": 17,
    "start_time": "2022-12-11T08:56:49.935Z"
   },
   {
    "duration": 36,
    "start_time": "2022-12-11T09:02:45.351Z"
   },
   {
    "duration": 2,
    "start_time": "2022-12-11T09:13:39.557Z"
   },
   {
    "duration": 8,
    "start_time": "2022-12-11T09:15:38.949Z"
   },
   {
    "duration": 7,
    "start_time": "2022-12-11T09:16:21.417Z"
   },
   {
    "duration": 7,
    "start_time": "2022-12-11T09:16:27.333Z"
   },
   {
    "duration": 7,
    "start_time": "2022-12-11T09:20:24.145Z"
   },
   {
    "duration": 6,
    "start_time": "2022-12-11T09:20:35.218Z"
   },
   {
    "duration": 8,
    "start_time": "2022-12-11T09:20:39.430Z"
   },
   {
    "duration": 6,
    "start_time": "2022-12-11T09:20:47.914Z"
   },
   {
    "duration": 6,
    "start_time": "2022-12-11T09:21:37.828Z"
   },
   {
    "duration": 6,
    "start_time": "2022-12-11T09:21:43.402Z"
   },
   {
    "duration": 5,
    "start_time": "2022-12-11T09:22:31.109Z"
   },
   {
    "duration": 10,
    "start_time": "2022-12-11T09:32:28.879Z"
   },
   {
    "duration": 44,
    "start_time": "2022-12-11T09:35:51.223Z"
   },
   {
    "duration": 19,
    "start_time": "2022-12-11T09:36:12.255Z"
   },
   {
    "duration": 19,
    "start_time": "2022-12-11T09:36:19.367Z"
   },
   {
    "duration": 19,
    "start_time": "2022-12-11T09:37:45.578Z"
   },
   {
    "duration": 4,
    "start_time": "2022-12-11T09:46:11.518Z"
   },
   {
    "duration": 10,
    "start_time": "2022-12-11T09:46:51.719Z"
   },
   {
    "duration": 3,
    "start_time": "2022-12-11T09:47:08.259Z"
   },
   {
    "duration": 25,
    "start_time": "2022-12-11T09:51:46.667Z"
   },
   {
    "duration": 10,
    "start_time": "2022-12-11T10:11:30.440Z"
   },
   {
    "duration": 678,
    "start_time": "2022-12-11T10:12:11.425Z"
   },
   {
    "duration": 13,
    "start_time": "2022-12-11T10:13:15.864Z"
   },
   {
    "duration": 10,
    "start_time": "2022-12-11T10:13:36.137Z"
   },
   {
    "duration": 7,
    "start_time": "2022-12-11T10:13:47.068Z"
   },
   {
    "duration": 694,
    "start_time": "2022-12-11T10:16:56.192Z"
   },
   {
    "duration": 7,
    "start_time": "2022-12-11T10:18:29.072Z"
   },
   {
    "duration": 709,
    "start_time": "2022-12-11T10:20:59.773Z"
   },
   {
    "duration": 627,
    "start_time": "2022-12-11T10:22:28.308Z"
   },
   {
    "duration": 310,
    "start_time": "2022-12-11T10:23:05.909Z"
   },
   {
    "duration": 641,
    "start_time": "2022-12-11T10:24:41.829Z"
   },
   {
    "duration": 7,
    "start_time": "2022-12-11T10:24:59.641Z"
   },
   {
    "duration": 7,
    "start_time": "2022-12-11T10:25:04.486Z"
   },
   {
    "duration": 670,
    "start_time": "2022-12-11T10:26:00.481Z"
   },
   {
    "duration": 7,
    "start_time": "2022-12-11T10:26:09.557Z"
   },
   {
    "duration": 709,
    "start_time": "2022-12-11T10:27:02.585Z"
   },
   {
    "duration": 19,
    "start_time": "2022-12-11T10:27:31.632Z"
   },
   {
    "duration": 18,
    "start_time": "2022-12-11T10:27:37.318Z"
   },
   {
    "duration": 6,
    "start_time": "2022-12-11T10:27:59.873Z"
   },
   {
    "duration": 23,
    "start_time": "2022-12-11T10:28:19.841Z"
   },
   {
    "duration": 67,
    "start_time": "2022-12-11T10:29:09.052Z"
   },
   {
    "duration": 69,
    "start_time": "2022-12-11T10:29:35.621Z"
   },
   {
    "duration": 58,
    "start_time": "2022-12-11T10:29:55.928Z"
   },
   {
    "duration": 62,
    "start_time": "2022-12-11T10:33:53.837Z"
   },
   {
    "duration": 63,
    "start_time": "2022-12-11T10:34:30.593Z"
   },
   {
    "duration": 6,
    "start_time": "2022-12-11T10:40:48.690Z"
   },
   {
    "duration": 10,
    "start_time": "2022-12-11T10:41:30.073Z"
   },
   {
    "duration": 38,
    "start_time": "2022-12-11T10:43:12.062Z"
   },
   {
    "duration": 45,
    "start_time": "2022-12-11T10:44:22.338Z"
   },
   {
    "duration": 34,
    "start_time": "2022-12-11T10:44:29.474Z"
   },
   {
    "duration": 40,
    "start_time": "2022-12-11T10:44:42.363Z"
   },
   {
    "duration": 11,
    "start_time": "2022-12-11T10:48:46.888Z"
   },
   {
    "duration": 13,
    "start_time": "2022-12-11T10:52:00.488Z"
   },
   {
    "duration": 10,
    "start_time": "2022-12-11T10:52:04.383Z"
   },
   {
    "duration": 3,
    "start_time": "2022-12-11T10:52:05.067Z"
   },
   {
    "duration": 9,
    "start_time": "2022-12-11T10:52:10.100Z"
   },
   {
    "duration": 10,
    "start_time": "2022-12-11T10:52:12.023Z"
   },
   {
    "duration": 504,
    "start_time": "2022-12-11T10:52:53.834Z"
   },
   {
    "duration": 9,
    "start_time": "2022-12-11T10:53:10.492Z"
   },
   {
    "duration": 9,
    "start_time": "2022-12-11T10:55:50.752Z"
   },
   {
    "duration": 496,
    "start_time": "2022-12-11T10:56:11.693Z"
   },
   {
    "duration": 493,
    "start_time": "2022-12-11T10:56:16.276Z"
   },
   {
    "duration": 10,
    "start_time": "2022-12-11T10:56:26.508Z"
   },
   {
    "duration": 43,
    "start_time": "2022-12-11T14:34:38.181Z"
   },
   {
    "duration": 6,
    "start_time": "2022-12-11T14:43:58.531Z"
   },
   {
    "duration": 69,
    "start_time": "2022-12-11T14:44:12.792Z"
   },
   {
    "duration": 6,
    "start_time": "2022-12-11T14:44:21.103Z"
   },
   {
    "duration": 410,
    "start_time": "2022-12-11T14:46:27.222Z"
   },
   {
    "duration": 451,
    "start_time": "2022-12-11T14:46:27.634Z"
   },
   {
    "duration": 15,
    "start_time": "2022-12-11T14:46:28.086Z"
   },
   {
    "duration": 28,
    "start_time": "2022-12-11T14:46:28.102Z"
   },
   {
    "duration": 11,
    "start_time": "2022-12-11T14:46:28.132Z"
   },
   {
    "duration": 24,
    "start_time": "2022-12-11T14:46:28.144Z"
   },
   {
    "duration": 23,
    "start_time": "2022-12-11T14:46:28.170Z"
   },
   {
    "duration": 24,
    "start_time": "2022-12-11T14:46:28.195Z"
   },
   {
    "duration": 42,
    "start_time": "2022-12-11T14:46:28.220Z"
   },
   {
    "duration": 33,
    "start_time": "2022-12-11T14:46:28.265Z"
   },
   {
    "duration": 24,
    "start_time": "2022-12-11T14:46:28.300Z"
   },
   {
    "duration": 95,
    "start_time": "2022-12-11T14:46:28.326Z"
   },
   {
    "duration": 72,
    "start_time": "2022-12-11T14:46:28.422Z"
   },
   {
    "duration": 68,
    "start_time": "2022-12-11T14:46:28.496Z"
   },
   {
    "duration": 33,
    "start_time": "2022-12-11T14:46:28.565Z"
   },
   {
    "duration": 10,
    "start_time": "2022-12-11T14:46:28.599Z"
   },
   {
    "duration": 15,
    "start_time": "2022-12-11T14:46:28.625Z"
   },
   {
    "duration": 18,
    "start_time": "2022-12-11T14:46:28.641Z"
   },
   {
    "duration": 11,
    "start_time": "2022-12-11T14:46:28.661Z"
   },
   {
    "duration": 17,
    "start_time": "2022-12-11T14:46:28.674Z"
   },
   {
    "duration": 26,
    "start_time": "2022-12-11T14:46:28.693Z"
   },
   {
    "duration": 20,
    "start_time": "2022-12-11T14:46:28.721Z"
   },
   {
    "duration": 18,
    "start_time": "2022-12-11T14:46:28.743Z"
   },
   {
    "duration": 21,
    "start_time": "2022-12-11T14:46:28.763Z"
   },
   {
    "duration": 23,
    "start_time": "2022-12-11T14:46:28.785Z"
   },
   {
    "duration": 16,
    "start_time": "2022-12-11T14:46:28.809Z"
   },
   {
    "duration": 20,
    "start_time": "2022-12-11T14:46:28.826Z"
   },
   {
    "duration": 18,
    "start_time": "2022-12-11T14:46:28.849Z"
   },
   {
    "duration": 19,
    "start_time": "2022-12-11T14:46:28.869Z"
   },
   {
    "duration": 77,
    "start_time": "2022-12-11T14:46:28.889Z"
   },
   {
    "duration": 0,
    "start_time": "2022-12-11T14:46:28.968Z"
   },
   {
    "duration": 0,
    "start_time": "2022-12-11T14:46:28.969Z"
   },
   {
    "duration": 0,
    "start_time": "2022-12-11T14:46:28.970Z"
   },
   {
    "duration": 0,
    "start_time": "2022-12-11T14:46:28.971Z"
   },
   {
    "duration": 0,
    "start_time": "2022-12-11T14:46:28.972Z"
   },
   {
    "duration": 0,
    "start_time": "2022-12-11T14:46:28.973Z"
   },
   {
    "duration": 0,
    "start_time": "2022-12-11T14:46:28.974Z"
   },
   {
    "duration": 0,
    "start_time": "2022-12-11T14:46:28.976Z"
   },
   {
    "duration": 10,
    "start_time": "2022-12-11T14:46:43.799Z"
   },
   {
    "duration": 8,
    "start_time": "2022-12-11T14:47:07.597Z"
   },
   {
    "duration": 7,
    "start_time": "2022-12-11T14:50:06.523Z"
   },
   {
    "duration": 35,
    "start_time": "2022-12-11T14:51:01.633Z"
   },
   {
    "duration": 85,
    "start_time": "2022-12-11T16:03:55.810Z"
   },
   {
    "duration": 12,
    "start_time": "2022-12-11T16:04:30.066Z"
   },
   {
    "duration": 12,
    "start_time": "2022-12-11T16:04:56.051Z"
   },
   {
    "duration": 11,
    "start_time": "2022-12-11T16:04:59.783Z"
   },
   {
    "duration": 13,
    "start_time": "2022-12-11T16:05:06.722Z"
   },
   {
    "duration": 9,
    "start_time": "2022-12-11T16:06:02.653Z"
   },
   {
    "duration": 9,
    "start_time": "2022-12-11T16:06:32.486Z"
   },
   {
    "duration": 12,
    "start_time": "2022-12-11T16:08:13.276Z"
   },
   {
    "duration": 5,
    "start_time": "2022-12-11T16:08:20.356Z"
   },
   {
    "duration": 34,
    "start_time": "2022-12-11T16:09:09.955Z"
   },
   {
    "duration": 11,
    "start_time": "2022-12-11T16:11:17.967Z"
   },
   {
    "duration": 9,
    "start_time": "2022-12-11T17:54:47.005Z"
   },
   {
    "duration": 12,
    "start_time": "2022-12-11T17:55:36.797Z"
   },
   {
    "duration": 11,
    "start_time": "2022-12-11T17:56:15.413Z"
   },
   {
    "duration": 7,
    "start_time": "2022-12-11T17:56:21.297Z"
   },
   {
    "duration": 4,
    "start_time": "2022-12-11T17:56:24.055Z"
   },
   {
    "duration": 11,
    "start_time": "2022-12-11T17:56:34.149Z"
   },
   {
    "duration": 70,
    "start_time": "2022-12-11T18:36:26.378Z"
   },
   {
    "duration": 89,
    "start_time": "2022-12-11T18:36:35.338Z"
   },
   {
    "duration": 68,
    "start_time": "2022-12-11T18:36:52.254Z"
   },
   {
    "duration": 3,
    "start_time": "2022-12-11T18:36:59.665Z"
   },
   {
    "duration": 3,
    "start_time": "2022-12-11T18:40:02.827Z"
   },
   {
    "duration": 3,
    "start_time": "2022-12-11T18:40:05.846Z"
   },
   {
    "duration": 7,
    "start_time": "2022-12-11T18:40:47.762Z"
   },
   {
    "duration": 7,
    "start_time": "2022-12-11T18:41:02.814Z"
   },
   {
    "duration": 3,
    "start_time": "2022-12-11T18:41:11.887Z"
   },
   {
    "duration": 4,
    "start_time": "2022-12-11T18:41:16.194Z"
   },
   {
    "duration": 3,
    "start_time": "2022-12-11T18:42:58.623Z"
   },
   {
    "duration": 4,
    "start_time": "2022-12-11T18:48:52.563Z"
   },
   {
    "duration": 4,
    "start_time": "2022-12-11T18:51:06.271Z"
   },
   {
    "duration": 3,
    "start_time": "2022-12-11T18:57:37.704Z"
   },
   {
    "duration": 3,
    "start_time": "2022-12-11T19:04:04.740Z"
   },
   {
    "duration": 3,
    "start_time": "2022-12-11T19:04:47.748Z"
   },
   {
    "duration": 3,
    "start_time": "2022-12-11T19:05:25.968Z"
   },
   {
    "duration": 76,
    "start_time": "2022-12-11T19:05:30.815Z"
   },
   {
    "duration": 3,
    "start_time": "2022-12-11T19:06:25.996Z"
   },
   {
    "duration": 7,
    "start_time": "2022-12-11T19:07:26.040Z"
   },
   {
    "duration": 8,
    "start_time": "2022-12-11T19:07:34.672Z"
   },
   {
    "duration": 7,
    "start_time": "2022-12-11T19:07:39.456Z"
   },
   {
    "duration": 3,
    "start_time": "2022-12-11T19:08:36.672Z"
   },
   {
    "duration": 15,
    "start_time": "2022-12-11T19:10:46.900Z"
   },
   {
    "duration": 21,
    "start_time": "2022-12-11T19:11:09.480Z"
   },
   {
    "duration": 16,
    "start_time": "2022-12-11T19:11:43.344Z"
   },
   {
    "duration": 14,
    "start_time": "2022-12-11T19:14:59.493Z"
   },
   {
    "duration": 3,
    "start_time": "2022-12-11T19:15:34.481Z"
   },
   {
    "duration": 14,
    "start_time": "2022-12-11T19:15:37.348Z"
   },
   {
    "duration": 3,
    "start_time": "2022-12-11T19:22:11.205Z"
   },
   {
    "duration": 4,
    "start_time": "2022-12-11T19:24:07.789Z"
   },
   {
    "duration": 16,
    "start_time": "2022-12-11T19:24:09.822Z"
   },
   {
    "duration": 13,
    "start_time": "2022-12-11T19:24:24.863Z"
   },
   {
    "duration": 12,
    "start_time": "2022-12-11T19:24:27.332Z"
   },
   {
    "duration": 12,
    "start_time": "2022-12-11T19:24:32.629Z"
   },
   {
    "duration": 391,
    "start_time": "2022-12-11T19:24:42.121Z"
   },
   {
    "duration": 155,
    "start_time": "2022-12-11T19:24:42.514Z"
   },
   {
    "duration": 16,
    "start_time": "2022-12-11T19:24:42.671Z"
   },
   {
    "duration": 24,
    "start_time": "2022-12-11T19:24:42.689Z"
   },
   {
    "duration": 3,
    "start_time": "2022-12-11T19:24:42.726Z"
   },
   {
    "duration": 8,
    "start_time": "2022-12-11T19:24:42.730Z"
   },
   {
    "duration": 11,
    "start_time": "2022-12-11T19:24:42.740Z"
   },
   {
    "duration": 5,
    "start_time": "2022-12-11T19:24:42.753Z"
   },
   {
    "duration": 24,
    "start_time": "2022-12-11T19:24:42.760Z"
   },
   {
    "duration": 17,
    "start_time": "2022-12-11T19:24:42.786Z"
   },
   {
    "duration": 40,
    "start_time": "2022-12-11T19:24:42.805Z"
   },
   {
    "duration": 62,
    "start_time": "2022-12-11T19:24:42.846Z"
   },
   {
    "duration": 64,
    "start_time": "2022-12-11T19:24:42.926Z"
   },
   {
    "duration": 66,
    "start_time": "2022-12-11T19:24:42.991Z"
   },
   {
    "duration": 33,
    "start_time": "2022-12-11T19:24:43.059Z"
   },
   {
    "duration": 9,
    "start_time": "2022-12-11T19:24:43.094Z"
   },
   {
    "duration": 49,
    "start_time": "2022-12-11T19:24:43.104Z"
   },
   {
    "duration": 19,
    "start_time": "2022-12-11T19:24:43.155Z"
   },
   {
    "duration": 10,
    "start_time": "2022-12-11T19:24:43.176Z"
   },
   {
    "duration": 3,
    "start_time": "2022-12-11T19:24:43.187Z"
   },
   {
    "duration": 75,
    "start_time": "2022-12-11T19:24:43.191Z"
   },
   {
    "duration": 0,
    "start_time": "2022-12-11T19:24:43.267Z"
   },
   {
    "duration": 0,
    "start_time": "2022-12-11T19:24:43.269Z"
   },
   {
    "duration": 0,
    "start_time": "2022-12-11T19:24:43.270Z"
   },
   {
    "duration": 0,
    "start_time": "2022-12-11T19:24:43.271Z"
   },
   {
    "duration": 0,
    "start_time": "2022-12-11T19:24:43.271Z"
   },
   {
    "duration": 0,
    "start_time": "2022-12-11T19:24:43.273Z"
   },
   {
    "duration": 0,
    "start_time": "2022-12-11T19:24:43.273Z"
   },
   {
    "duration": 0,
    "start_time": "2022-12-11T19:24:43.274Z"
   },
   {
    "duration": 0,
    "start_time": "2022-12-11T19:24:43.275Z"
   },
   {
    "duration": 0,
    "start_time": "2022-12-11T19:24:43.276Z"
   },
   {
    "duration": 0,
    "start_time": "2022-12-11T19:24:43.277Z"
   },
   {
    "duration": 0,
    "start_time": "2022-12-11T19:24:43.278Z"
   },
   {
    "duration": 0,
    "start_time": "2022-12-11T19:24:43.279Z"
   },
   {
    "duration": 0,
    "start_time": "2022-12-11T19:24:43.280Z"
   },
   {
    "duration": 0,
    "start_time": "2022-12-11T19:24:43.281Z"
   },
   {
    "duration": 0,
    "start_time": "2022-12-11T19:24:43.282Z"
   },
   {
    "duration": 0,
    "start_time": "2022-12-11T19:24:43.283Z"
   },
   {
    "duration": 12,
    "start_time": "2022-12-11T19:24:52.401Z"
   },
   {
    "duration": 12,
    "start_time": "2022-12-11T19:25:31.285Z"
   },
   {
    "duration": 19,
    "start_time": "2022-12-11T19:25:37.154Z"
   },
   {
    "duration": 3,
    "start_time": "2022-12-11T19:25:43.681Z"
   },
   {
    "duration": 12,
    "start_time": "2022-12-11T19:25:46.065Z"
   },
   {
    "duration": 3,
    "start_time": "2022-12-11T19:26:05.042Z"
   },
   {
    "duration": 10,
    "start_time": "2022-12-11T19:26:06.925Z"
   },
   {
    "duration": 2,
    "start_time": "2022-12-11T19:26:39.442Z"
   },
   {
    "duration": 18,
    "start_time": "2022-12-11T19:26:41.486Z"
   },
   {
    "duration": 3,
    "start_time": "2022-12-11T19:27:04.006Z"
   },
   {
    "duration": 10,
    "start_time": "2022-12-11T19:27:06.222Z"
   },
   {
    "duration": 23,
    "start_time": "2022-12-11T19:28:16.002Z"
   },
   {
    "duration": 20,
    "start_time": "2022-12-11T19:28:51.925Z"
   },
   {
    "duration": 20,
    "start_time": "2022-12-11T19:29:10.442Z"
   },
   {
    "duration": 17,
    "start_time": "2022-12-11T19:29:25.186Z"
   },
   {
    "duration": 22,
    "start_time": "2022-12-11T19:29:36.193Z"
   },
   {
    "duration": 21,
    "start_time": "2022-12-11T19:29:46.129Z"
   },
   {
    "duration": 19,
    "start_time": "2022-12-11T19:29:52.825Z"
   },
   {
    "duration": 18,
    "start_time": "2022-12-11T19:30:12.482Z"
   },
   {
    "duration": 20,
    "start_time": "2022-12-11T19:30:14.841Z"
   },
   {
    "duration": 22,
    "start_time": "2022-12-11T19:31:22.659Z"
   },
   {
    "duration": 3,
    "start_time": "2022-12-11T19:31:25.923Z"
   },
   {
    "duration": 16,
    "start_time": "2022-12-11T19:31:27.778Z"
   },
   {
    "duration": 3,
    "start_time": "2022-12-11T19:31:58.807Z"
   },
   {
    "duration": 13,
    "start_time": "2022-12-11T19:32:01.007Z"
   },
   {
    "duration": 3,
    "start_time": "2022-12-11T19:32:39.867Z"
   },
   {
    "duration": 17,
    "start_time": "2022-12-11T19:32:43.319Z"
   },
   {
    "duration": 17,
    "start_time": "2022-12-11T19:33:15.483Z"
   },
   {
    "duration": 367,
    "start_time": "2022-12-11T19:33:26.759Z"
   },
   {
    "duration": 163,
    "start_time": "2022-12-11T19:33:27.128Z"
   },
   {
    "duration": 16,
    "start_time": "2022-12-11T19:33:27.292Z"
   },
   {
    "duration": 33,
    "start_time": "2022-12-11T19:33:27.310Z"
   },
   {
    "duration": 2,
    "start_time": "2022-12-11T19:33:27.344Z"
   },
   {
    "duration": 26,
    "start_time": "2022-12-11T19:33:27.348Z"
   },
   {
    "duration": 14,
    "start_time": "2022-12-11T19:33:27.376Z"
   },
   {
    "duration": 9,
    "start_time": "2022-12-11T19:33:27.392Z"
   },
   {
    "duration": 25,
    "start_time": "2022-12-11T19:33:27.402Z"
   },
   {
    "duration": 19,
    "start_time": "2022-12-11T19:33:27.429Z"
   },
   {
    "duration": 20,
    "start_time": "2022-12-11T19:33:27.450Z"
   },
   {
    "duration": 82,
    "start_time": "2022-12-11T19:33:27.472Z"
   },
   {
    "duration": 73,
    "start_time": "2022-12-11T19:33:27.555Z"
   },
   {
    "duration": 58,
    "start_time": "2022-12-11T19:33:27.630Z"
   },
   {
    "duration": 47,
    "start_time": "2022-12-11T19:33:27.690Z"
   },
   {
    "duration": 10,
    "start_time": "2022-12-11T19:33:27.738Z"
   },
   {
    "duration": 49,
    "start_time": "2022-12-11T19:33:27.749Z"
   },
   {
    "duration": 11,
    "start_time": "2022-12-11T19:33:27.800Z"
   },
   {
    "duration": 25,
    "start_time": "2022-12-11T19:33:27.813Z"
   },
   {
    "duration": 4,
    "start_time": "2022-12-11T19:33:27.839Z"
   },
   {
    "duration": 80,
    "start_time": "2022-12-11T19:33:27.845Z"
   },
   {
    "duration": 0,
    "start_time": "2022-12-11T19:33:27.927Z"
   },
   {
    "duration": 0,
    "start_time": "2022-12-11T19:33:27.929Z"
   },
   {
    "duration": 0,
    "start_time": "2022-12-11T19:33:27.930Z"
   },
   {
    "duration": 0,
    "start_time": "2022-12-11T19:33:27.931Z"
   },
   {
    "duration": 0,
    "start_time": "2022-12-11T19:33:27.932Z"
   },
   {
    "duration": 0,
    "start_time": "2022-12-11T19:33:27.933Z"
   },
   {
    "duration": 0,
    "start_time": "2022-12-11T19:33:27.934Z"
   },
   {
    "duration": 0,
    "start_time": "2022-12-11T19:33:27.935Z"
   },
   {
    "duration": 0,
    "start_time": "2022-12-11T19:33:27.936Z"
   },
   {
    "duration": 0,
    "start_time": "2022-12-11T19:33:27.937Z"
   },
   {
    "duration": 0,
    "start_time": "2022-12-11T19:33:27.938Z"
   },
   {
    "duration": 0,
    "start_time": "2022-12-11T19:33:27.939Z"
   },
   {
    "duration": 0,
    "start_time": "2022-12-11T19:33:27.941Z"
   },
   {
    "duration": 0,
    "start_time": "2022-12-11T19:33:27.942Z"
   },
   {
    "duration": 0,
    "start_time": "2022-12-11T19:33:27.943Z"
   },
   {
    "duration": 0,
    "start_time": "2022-12-11T19:33:27.944Z"
   },
   {
    "duration": 0,
    "start_time": "2022-12-11T19:33:27.945Z"
   },
   {
    "duration": 3,
    "start_time": "2022-12-11T19:33:37.295Z"
   },
   {
    "duration": 12,
    "start_time": "2022-12-11T19:33:39.227Z"
   },
   {
    "duration": 3,
    "start_time": "2022-12-11T19:38:42.253Z"
   },
   {
    "duration": 21,
    "start_time": "2022-12-11T19:38:44.121Z"
   },
   {
    "duration": 18,
    "start_time": "2022-12-11T19:38:46.954Z"
   },
   {
    "duration": 21,
    "start_time": "2022-12-11T19:38:48.657Z"
   },
   {
    "duration": 18,
    "start_time": "2022-12-11T19:38:50.525Z"
   },
   {
    "duration": 25,
    "start_time": "2022-12-11T19:38:52.593Z"
   },
   {
    "duration": 29,
    "start_time": "2022-12-11T19:38:55.169Z"
   },
   {
    "duration": 3,
    "start_time": "2022-12-11T19:42:08.434Z"
   },
   {
    "duration": 15,
    "start_time": "2022-12-11T19:42:10.362Z"
   },
   {
    "duration": 14,
    "start_time": "2022-12-11T19:42:12.612Z"
   },
   {
    "duration": 15,
    "start_time": "2022-12-11T19:42:15.098Z"
   },
   {
    "duration": 13,
    "start_time": "2022-12-11T19:42:17.090Z"
   },
   {
    "duration": 17,
    "start_time": "2022-12-11T19:42:19.021Z"
   },
   {
    "duration": 14,
    "start_time": "2022-12-11T19:42:20.806Z"
   },
   {
    "duration": 9,
    "start_time": "2022-12-11T19:45:14.274Z"
   },
   {
    "duration": 10,
    "start_time": "2022-12-11T19:46:23.026Z"
   },
   {
    "duration": 14,
    "start_time": "2022-12-11T19:46:51.247Z"
   },
   {
    "duration": 13,
    "start_time": "2022-12-11T19:47:19.659Z"
   },
   {
    "duration": 10,
    "start_time": "2022-12-11T19:48:03.051Z"
   },
   {
    "duration": 14,
    "start_time": "2022-12-11T19:48:07.443Z"
   },
   {
    "duration": 12,
    "start_time": "2022-12-11T19:51:23.711Z"
   },
   {
    "duration": 4,
    "start_time": "2022-12-11T19:52:26.168Z"
   },
   {
    "duration": 3,
    "start_time": "2022-12-11T19:52:29.356Z"
   },
   {
    "duration": 9,
    "start_time": "2022-12-11T19:52:44.540Z"
   },
   {
    "duration": 21,
    "start_time": "2022-12-11T20:11:05.491Z"
   },
   {
    "duration": 10,
    "start_time": "2022-12-13T15:13:57.560Z"
   },
   {
    "duration": 426,
    "start_time": "2022-12-13T15:15:13.693Z"
   },
   {
    "duration": 182,
    "start_time": "2022-12-13T15:15:14.121Z"
   },
   {
    "duration": 18,
    "start_time": "2022-12-13T15:15:14.305Z"
   },
   {
    "duration": 29,
    "start_time": "2022-12-13T15:15:14.325Z"
   },
   {
    "duration": 2,
    "start_time": "2022-12-13T15:15:14.356Z"
   },
   {
    "duration": 7,
    "start_time": "2022-12-13T15:15:14.360Z"
   },
   {
    "duration": 13,
    "start_time": "2022-12-13T15:15:14.368Z"
   },
   {
    "duration": 4,
    "start_time": "2022-12-13T15:15:14.412Z"
   },
   {
    "duration": 27,
    "start_time": "2022-12-13T15:15:14.418Z"
   },
   {
    "duration": 21,
    "start_time": "2022-12-13T15:15:14.448Z"
   },
   {
    "duration": 43,
    "start_time": "2022-12-13T15:15:14.471Z"
   },
   {
    "duration": 75,
    "start_time": "2022-12-13T15:15:14.516Z"
   },
   {
    "duration": 92,
    "start_time": "2022-12-13T15:15:14.593Z"
   },
   {
    "duration": 76,
    "start_time": "2022-12-13T15:15:14.687Z"
   },
   {
    "duration": 49,
    "start_time": "2022-12-13T15:15:14.765Z"
   },
   {
    "duration": 14,
    "start_time": "2022-12-13T15:15:14.816Z"
   },
   {
    "duration": 43,
    "start_time": "2022-12-13T15:15:14.832Z"
   },
   {
    "duration": 36,
    "start_time": "2022-12-13T15:15:14.877Z"
   },
   {
    "duration": 13,
    "start_time": "2022-12-13T15:15:14.915Z"
   },
   {
    "duration": 3,
    "start_time": "2022-12-13T15:15:14.930Z"
   },
   {
    "duration": 23,
    "start_time": "2022-12-13T15:15:14.935Z"
   },
   {
    "duration": 19,
    "start_time": "2022-12-13T15:15:14.960Z"
   },
   {
    "duration": 43,
    "start_time": "2022-12-13T15:15:14.980Z"
   },
   {
    "duration": 26,
    "start_time": "2022-12-13T15:15:15.025Z"
   },
   {
    "duration": 19,
    "start_time": "2022-12-13T15:15:15.053Z"
   },
   {
    "duration": 21,
    "start_time": "2022-12-13T15:15:15.074Z"
   },
   {
    "duration": 10,
    "start_time": "2022-12-13T15:15:15.112Z"
   },
   {
    "duration": 12,
    "start_time": "2022-12-13T15:15:15.127Z"
   },
   {
    "duration": 10,
    "start_time": "2022-12-13T15:15:15.141Z"
   },
   {
    "duration": 5,
    "start_time": "2022-12-13T15:15:15.154Z"
   },
   {
    "duration": 8,
    "start_time": "2022-12-13T15:15:15.161Z"
   },
   {
    "duration": 5,
    "start_time": "2022-12-13T15:15:15.170Z"
   },
   {
    "duration": 36,
    "start_time": "2022-12-13T15:15:15.177Z"
   },
   {
    "duration": 5,
    "start_time": "2022-12-13T15:15:15.214Z"
   },
   {
    "duration": 6,
    "start_time": "2022-12-13T15:15:15.221Z"
   },
   {
    "duration": 7,
    "start_time": "2022-12-13T15:15:15.228Z"
   },
   {
    "duration": 7,
    "start_time": "2022-12-13T15:15:15.236Z"
   },
   {
    "duration": 6,
    "start_time": "2022-12-13T15:15:15.245Z"
   },
   {
    "duration": 5,
    "start_time": "2022-12-13T15:15:27.025Z"
   },
   {
    "duration": 369,
    "start_time": "2022-12-13T16:15:15.550Z"
   },
   {
    "duration": 169,
    "start_time": "2022-12-13T16:15:19.846Z"
   },
   {
    "duration": 10,
    "start_time": "2022-12-13T16:16:12.570Z"
   },
   {
    "duration": 14,
    "start_time": "2022-12-13T16:16:17.814Z"
   },
   {
    "duration": 4,
    "start_time": "2022-12-13T16:16:21.714Z"
   },
   {
    "duration": 25,
    "start_time": "2022-12-13T16:16:28.155Z"
   },
   {
    "duration": 24,
    "start_time": "2022-12-13T16:21:50.646Z"
   },
   {
    "duration": 23,
    "start_time": "2022-12-13T16:21:54.354Z"
   },
   {
    "duration": 18,
    "start_time": "2022-12-13T16:21:56.478Z"
   },
   {
    "duration": 23,
    "start_time": "2022-12-13T16:21:58.830Z"
   },
   {
    "duration": 71,
    "start_time": "2022-12-13T16:22:11.127Z"
   },
   {
    "duration": 73,
    "start_time": "2022-12-13T16:22:14.392Z"
   },
   {
    "duration": 72,
    "start_time": "2022-12-13T16:22:17.190Z"
   },
   {
    "duration": 62,
    "start_time": "2022-12-13T16:22:20.342Z"
   },
   {
    "duration": 37,
    "start_time": "2022-12-13T16:22:26.798Z"
   },
   {
    "duration": 10,
    "start_time": "2022-12-13T16:22:39.974Z"
   },
   {
    "duration": 10,
    "start_time": "2022-12-13T16:23:17.514Z"
   },
   {
    "duration": 35,
    "start_time": "2022-12-13T16:23:21.187Z"
   },
   {
    "duration": 13,
    "start_time": "2022-12-13T16:23:55.127Z"
   },
   {
    "duration": 13,
    "start_time": "2022-12-13T16:23:59.218Z"
   },
   {
    "duration": 3,
    "start_time": "2022-12-13T16:24:08.798Z"
   },
   {
    "duration": 18,
    "start_time": "2022-12-13T16:24:15.254Z"
   },
   {
    "duration": 16,
    "start_time": "2022-12-13T16:24:18.112Z"
   },
   {
    "duration": 17,
    "start_time": "2022-12-13T16:24:20.750Z"
   },
   {
    "duration": 17,
    "start_time": "2022-12-13T16:24:21.562Z"
   },
   {
    "duration": 14,
    "start_time": "2022-12-13T16:24:22.475Z"
   },
   {
    "duration": 17,
    "start_time": "2022-12-13T16:24:23.323Z"
   },
   {
    "duration": 16,
    "start_time": "2022-12-13T16:24:24.018Z"
   },
   {
    "duration": 9,
    "start_time": "2022-12-13T16:24:27.891Z"
   },
   {
    "duration": 9,
    "start_time": "2022-12-13T16:24:59.922Z"
   },
   {
    "duration": 5,
    "start_time": "2022-12-13T16:25:36.162Z"
   },
   {
    "duration": 64,
    "start_time": "2022-12-13T16:25:47.342Z"
   },
   {
    "duration": 11,
    "start_time": "2022-12-13T16:25:57.015Z"
   },
   {
    "duration": 10,
    "start_time": "2022-12-13T16:25:59.730Z"
   },
   {
    "duration": 14,
    "start_time": "2022-12-13T16:26:03.714Z"
   },
   {
    "duration": 14,
    "start_time": "2022-12-13T16:26:07.695Z"
   },
   {
    "duration": 13,
    "start_time": "2022-12-13T18:19:16.855Z"
   },
   {
    "duration": 355,
    "start_time": "2022-12-13T18:56:41.260Z"
   },
   {
    "duration": 155,
    "start_time": "2022-12-13T18:56:41.617Z"
   },
   {
    "duration": 17,
    "start_time": "2022-12-13T18:56:41.773Z"
   },
   {
    "duration": 29,
    "start_time": "2022-12-13T18:56:41.791Z"
   },
   {
    "duration": 3,
    "start_time": "2022-12-13T18:56:41.821Z"
   },
   {
    "duration": 8,
    "start_time": "2022-12-13T18:56:41.825Z"
   },
   {
    "duration": 12,
    "start_time": "2022-12-13T18:56:41.834Z"
   },
   {
    "duration": 8,
    "start_time": "2022-12-13T18:56:41.847Z"
   },
   {
    "duration": 24,
    "start_time": "2022-12-13T18:56:41.856Z"
   },
   {
    "duration": 40,
    "start_time": "2022-12-13T18:56:41.883Z"
   },
   {
    "duration": 21,
    "start_time": "2022-12-13T18:56:41.925Z"
   },
   {
    "duration": 74,
    "start_time": "2022-12-13T18:56:41.948Z"
   },
   {
    "duration": 66,
    "start_time": "2022-12-13T18:56:42.023Z"
   },
   {
    "duration": 70,
    "start_time": "2022-12-13T18:56:42.090Z"
   },
   {
    "duration": 39,
    "start_time": "2022-12-13T18:56:42.162Z"
   },
   {
    "duration": 9,
    "start_time": "2022-12-13T18:56:42.212Z"
   },
   {
    "duration": 35,
    "start_time": "2022-12-13T18:56:42.223Z"
   },
   {
    "duration": 10,
    "start_time": "2022-12-13T18:56:42.260Z"
   },
   {
    "duration": 11,
    "start_time": "2022-12-13T18:56:42.272Z"
   },
   {
    "duration": 3,
    "start_time": "2022-12-13T18:56:42.284Z"
   },
   {
    "duration": 38,
    "start_time": "2022-12-13T18:56:42.288Z"
   },
   {
    "duration": 13,
    "start_time": "2022-12-13T18:56:42.328Z"
   },
   {
    "duration": 13,
    "start_time": "2022-12-13T18:56:42.343Z"
   },
   {
    "duration": 12,
    "start_time": "2022-12-13T18:56:42.358Z"
   },
   {
    "duration": 50,
    "start_time": "2022-12-13T18:56:42.371Z"
   },
   {
    "duration": 14,
    "start_time": "2022-12-13T18:56:42.422Z"
   },
   {
    "duration": 8,
    "start_time": "2022-12-13T18:56:42.437Z"
   },
   {
    "duration": 9,
    "start_time": "2022-12-13T18:56:42.448Z"
   },
   {
    "duration": 9,
    "start_time": "2022-12-13T18:56:42.459Z"
   },
   {
    "duration": 5,
    "start_time": "2022-12-13T18:56:42.469Z"
   },
   {
    "duration": 43,
    "start_time": "2022-12-13T18:56:42.475Z"
   },
   {
    "duration": 2,
    "start_time": "2022-12-13T18:56:42.520Z"
   },
   {
    "duration": 5,
    "start_time": "2022-12-13T18:56:42.524Z"
   },
   {
    "duration": 4,
    "start_time": "2022-12-13T18:56:42.530Z"
   },
   {
    "duration": 7,
    "start_time": "2022-12-13T18:56:42.536Z"
   },
   {
    "duration": 9,
    "start_time": "2022-12-13T18:56:42.545Z"
   },
   {
    "duration": 5,
    "start_time": "2022-12-13T18:56:42.555Z"
   },
   {
    "duration": 6,
    "start_time": "2022-12-13T18:56:42.563Z"
   },
   {
    "duration": 13,
    "start_time": "2022-12-13T18:57:47.832Z"
   },
   {
    "duration": 5,
    "start_time": "2022-12-13T19:02:49.636Z"
   },
   {
    "duration": 16,
    "start_time": "2022-12-13T19:02:52.353Z"
   },
   {
    "duration": 16,
    "start_time": "2022-12-13T19:02:56.909Z"
   },
   {
    "duration": 4,
    "start_time": "2022-12-13T19:06:13.581Z"
   },
   {
    "duration": 71,
    "start_time": "2022-12-13T19:06:17.401Z"
   },
   {
    "duration": 4,
    "start_time": "2022-12-13T19:06:23.962Z"
   },
   {
    "duration": 14,
    "start_time": "2022-12-13T19:06:26.112Z"
   },
   {
    "duration": 5,
    "start_time": "2022-12-13T19:07:26.937Z"
   },
   {
    "duration": 395,
    "start_time": "2022-12-13T19:07:32.732Z"
   },
   {
    "duration": 169,
    "start_time": "2022-12-13T19:07:33.129Z"
   },
   {
    "duration": 18,
    "start_time": "2022-12-13T19:07:33.300Z"
   },
   {
    "duration": 27,
    "start_time": "2022-12-13T19:07:33.320Z"
   },
   {
    "duration": 2,
    "start_time": "2022-12-13T19:07:33.348Z"
   },
   {
    "duration": 6,
    "start_time": "2022-12-13T19:07:33.351Z"
   },
   {
    "duration": 26,
    "start_time": "2022-12-13T19:07:33.359Z"
   },
   {
    "duration": 6,
    "start_time": "2022-12-13T19:07:33.387Z"
   },
   {
    "duration": 33,
    "start_time": "2022-12-13T19:07:33.395Z"
   },
   {
    "duration": 18,
    "start_time": "2022-12-13T19:07:33.431Z"
   },
   {
    "duration": 21,
    "start_time": "2022-12-13T19:07:33.451Z"
   },
   {
    "duration": 79,
    "start_time": "2022-12-13T19:07:33.474Z"
   },
   {
    "duration": 76,
    "start_time": "2022-12-13T19:07:33.555Z"
   },
   {
    "duration": 58,
    "start_time": "2022-12-13T19:07:33.632Z"
   },
   {
    "duration": 47,
    "start_time": "2022-12-13T19:07:33.691Z"
   },
   {
    "duration": 9,
    "start_time": "2022-12-13T19:07:33.739Z"
   },
   {
    "duration": 35,
    "start_time": "2022-12-13T19:07:33.749Z"
   },
   {
    "duration": 29,
    "start_time": "2022-12-13T19:07:33.786Z"
   },
   {
    "duration": 10,
    "start_time": "2022-12-13T19:07:33.817Z"
   },
   {
    "duration": 3,
    "start_time": "2022-12-13T19:07:33.828Z"
   },
   {
    "duration": 19,
    "start_time": "2022-12-13T19:07:33.832Z"
   },
   {
    "duration": 12,
    "start_time": "2022-12-13T19:07:33.852Z"
   },
   {
    "duration": 12,
    "start_time": "2022-12-13T19:07:33.866Z"
   },
   {
    "duration": 41,
    "start_time": "2022-12-13T19:07:33.880Z"
   },
   {
    "duration": 16,
    "start_time": "2022-12-13T19:07:33.922Z"
   },
   {
    "duration": 14,
    "start_time": "2022-12-13T19:07:33.940Z"
   },
   {
    "duration": 8,
    "start_time": "2022-12-13T19:07:33.955Z"
   },
   {
    "duration": 11,
    "start_time": "2022-12-13T19:07:33.965Z"
   },
   {
    "duration": 40,
    "start_time": "2022-12-13T19:07:33.977Z"
   },
   {
    "duration": 14,
    "start_time": "2022-12-13T19:07:34.018Z"
   },
   {
    "duration": 16,
    "start_time": "2022-12-13T19:07:34.033Z"
   },
   {
    "duration": 3,
    "start_time": "2022-12-13T19:07:34.050Z"
   },
   {
    "duration": 6,
    "start_time": "2022-12-13T19:07:34.054Z"
   },
   {
    "duration": 5,
    "start_time": "2022-12-13T19:07:34.061Z"
   },
   {
    "duration": 5,
    "start_time": "2022-12-13T19:07:34.067Z"
   },
   {
    "duration": 5,
    "start_time": "2022-12-13T19:07:34.073Z"
   },
   {
    "duration": 5,
    "start_time": "2022-12-13T19:07:34.079Z"
   },
   {
    "duration": 6,
    "start_time": "2022-12-13T19:07:34.085Z"
   },
   {
    "duration": 4,
    "start_time": "2022-12-13T19:07:40.217Z"
   },
   {
    "duration": 14,
    "start_time": "2022-12-13T19:07:58.993Z"
   },
   {
    "duration": 23,
    "start_time": "2022-12-13T19:08:02.381Z"
   },
   {
    "duration": 12,
    "start_time": "2022-12-13T19:08:08.545Z"
   },
   {
    "duration": 20,
    "start_time": "2022-12-13T19:08:22.295Z"
   },
   {
    "duration": 9,
    "start_time": "2022-12-13T19:08:34.971Z"
   },
   {
    "duration": 16,
    "start_time": "2022-12-13T19:08:40.405Z"
   },
   {
    "duration": 4,
    "start_time": "2022-12-13T19:08:54.074Z"
   },
   {
    "duration": 12,
    "start_time": "2022-12-13T19:08:55.998Z"
   },
   {
    "duration": 11,
    "start_time": "2022-12-13T19:09:10.201Z"
   },
   {
    "duration": 41,
    "start_time": "2022-12-13T19:09:25.377Z"
   },
   {
    "duration": 4,
    "start_time": "2022-12-13T19:10:08.953Z"
   },
   {
    "duration": 3,
    "start_time": "2022-12-13T19:10:42.893Z"
   },
   {
    "duration": 3,
    "start_time": "2022-12-13T19:10:46.153Z"
   },
   {
    "duration": 69,
    "start_time": "2022-12-13T19:10:48.601Z"
   },
   {
    "duration": 3,
    "start_time": "2022-12-13T19:10:58.169Z"
   },
   {
    "duration": 18,
    "start_time": "2022-12-13T19:11:00.098Z"
   },
   {
    "duration": 14,
    "start_time": "2022-12-13T19:11:02.050Z"
   },
   {
    "duration": 15,
    "start_time": "2022-12-13T19:11:03.473Z"
   },
   {
    "duration": 15,
    "start_time": "2022-12-13T19:11:04.098Z"
   },
   {
    "duration": 20,
    "start_time": "2022-12-13T19:11:04.645Z"
   },
   {
    "duration": 14,
    "start_time": "2022-12-13T19:11:05.205Z"
   },
   {
    "duration": 8,
    "start_time": "2022-12-13T19:11:06.429Z"
   },
   {
    "duration": 20,
    "start_time": "2022-12-13T19:11:09.838Z"
   },
   {
    "duration": 20,
    "start_time": "2022-12-13T19:11:10.337Z"
   },
   {
    "duration": 4,
    "start_time": "2022-12-13T19:11:11.577Z"
   },
   {
    "duration": 12,
    "start_time": "2022-12-13T19:11:12.809Z"
   },
   {
    "duration": 9,
    "start_time": "2022-12-13T19:11:29.205Z"
   },
   {
    "duration": 4,
    "start_time": "2022-12-13T19:11:58.257Z"
   },
   {
    "duration": 11,
    "start_time": "2022-12-13T19:12:16.941Z"
   },
   {
    "duration": 16,
    "start_time": "2022-12-13T19:12:28.961Z"
   },
   {
    "duration": 17,
    "start_time": "2022-12-13T19:14:40.159Z"
   },
   {
    "duration": 14,
    "start_time": "2022-12-13T19:14:47.653Z"
   },
   {
    "duration": 14,
    "start_time": "2022-12-13T19:14:53.706Z"
   },
   {
    "duration": 12,
    "start_time": "2022-12-13T19:15:00.838Z"
   },
   {
    "duration": 19,
    "start_time": "2022-12-13T19:15:11.653Z"
   },
   {
    "duration": 12,
    "start_time": "2022-12-13T19:15:17.553Z"
   },
   {
    "duration": 18,
    "start_time": "2022-12-13T19:15:26.381Z"
   },
   {
    "duration": 32,
    "start_time": "2022-12-13T19:16:03.686Z"
   },
   {
    "duration": 15,
    "start_time": "2022-12-13T19:16:23.766Z"
   },
   {
    "duration": 18,
    "start_time": "2022-12-13T19:16:27.202Z"
   },
   {
    "duration": 13,
    "start_time": "2022-12-13T19:17:18.912Z"
   },
   {
    "duration": 9,
    "start_time": "2022-12-13T19:17:51.138Z"
   },
   {
    "duration": 3,
    "start_time": "2022-12-13T19:18:19.200Z"
   },
   {
    "duration": 162,
    "start_time": "2022-12-13T19:18:21.826Z"
   },
   {
    "duration": 12,
    "start_time": "2022-12-13T19:18:24.949Z"
   },
   {
    "duration": 27,
    "start_time": "2022-12-13T19:18:27.574Z"
   },
   {
    "duration": 4,
    "start_time": "2022-12-13T19:18:33.953Z"
   },
   {
    "duration": 11,
    "start_time": "2022-12-13T19:18:40.159Z"
   },
   {
    "duration": 4,
    "start_time": "2022-12-13T19:18:42.474Z"
   },
   {
    "duration": 23,
    "start_time": "2022-12-13T19:18:50.022Z"
   },
   {
    "duration": 17,
    "start_time": "2022-12-13T19:18:52.990Z"
   },
   {
    "duration": 22,
    "start_time": "2022-12-13T19:18:54.670Z"
   },
   {
    "duration": 59,
    "start_time": "2022-12-13T19:18:57.474Z"
   },
   {
    "duration": 67,
    "start_time": "2022-12-13T19:18:59.353Z"
   },
   {
    "duration": 59,
    "start_time": "2022-12-13T19:19:01.126Z"
   },
   {
    "duration": 37,
    "start_time": "2022-12-13T19:19:04.346Z"
   },
   {
    "duration": 10,
    "start_time": "2022-12-13T19:19:08.650Z"
   },
   {
    "duration": 34,
    "start_time": "2022-12-13T19:19:10.970Z"
   },
   {
    "duration": 12,
    "start_time": "2022-12-13T19:19:15.929Z"
   },
   {
    "duration": 11,
    "start_time": "2022-12-13T19:19:18.198Z"
   },
   {
    "duration": 3,
    "start_time": "2022-12-13T19:19:21.638Z"
   },
   {
    "duration": 17,
    "start_time": "2022-12-13T19:19:23.834Z"
   },
   {
    "duration": 19,
    "start_time": "2022-12-13T19:19:26.382Z"
   },
   {
    "duration": 9,
    "start_time": "2022-12-13T19:19:29.274Z"
   },
   {
    "duration": 19,
    "start_time": "2022-12-13T19:19:34.382Z"
   },
   {
    "duration": 18,
    "start_time": "2022-12-13T19:19:39.479Z"
   },
   {
    "duration": 4,
    "start_time": "2022-12-13T19:19:42.482Z"
   },
   {
    "duration": 12,
    "start_time": "2022-12-13T19:19:44.618Z"
   },
   {
    "duration": 8,
    "start_time": "2022-12-13T19:19:55.430Z"
   },
   {
    "duration": 5,
    "start_time": "2022-12-13T19:20:27.194Z"
   },
   {
    "duration": 14,
    "start_time": "2022-12-13T19:20:29.866Z"
   },
   {
    "duration": 14,
    "start_time": "2022-12-13T19:21:09.074Z"
   },
   {
    "duration": 4,
    "start_time": "2022-12-13T19:21:41.303Z"
   },
   {
    "duration": 13,
    "start_time": "2022-12-13T19:21:42.950Z"
   },
   {
    "duration": 14,
    "start_time": "2022-12-13T19:21:44.798Z"
   },
   {
    "duration": 5,
    "start_time": "2022-12-13T19:27:19.522Z"
   },
   {
    "duration": 14,
    "start_time": "2022-12-13T19:27:21.735Z"
   },
   {
    "duration": 4,
    "start_time": "2022-12-13T19:28:49.696Z"
   },
   {
    "duration": 5,
    "start_time": "2022-12-13T19:29:15.003Z"
   },
   {
    "duration": 17,
    "start_time": "2022-12-13T19:29:17.297Z"
   },
   {
    "duration": 4,
    "start_time": "2022-12-13T19:30:19.151Z"
   },
   {
    "duration": 17,
    "start_time": "2022-12-13T19:30:23.451Z"
   },
   {
    "duration": 12,
    "start_time": "2022-12-13T19:31:44.759Z"
   },
   {
    "duration": 11,
    "start_time": "2022-12-13T19:32:56.915Z"
   },
   {
    "duration": 13,
    "start_time": "2022-12-13T19:33:43.471Z"
   },
   {
    "duration": 45,
    "start_time": "2022-12-13T19:34:07.111Z"
   },
   {
    "duration": 14,
    "start_time": "2022-12-13T19:34:13.907Z"
   },
   {
    "duration": 41,
    "start_time": "2022-12-13T19:36:28.155Z"
   },
   {
    "duration": 42,
    "start_time": "2022-12-13T19:36:33.731Z"
   },
   {
    "duration": 11,
    "start_time": "2022-12-13T19:38:41.568Z"
   },
   {
    "duration": 33,
    "start_time": "2022-12-13T19:39:29.656Z"
   },
   {
    "duration": 12,
    "start_time": "2022-12-13T19:39:32.168Z"
   },
   {
    "duration": 41,
    "start_time": "2022-12-13T19:39:51.456Z"
   },
   {
    "duration": 13,
    "start_time": "2022-12-13T19:40:38.376Z"
   },
   {
    "duration": 13,
    "start_time": "2022-12-13T19:40:49.328Z"
   },
   {
    "duration": 5,
    "start_time": "2022-12-13T19:40:52.860Z"
   },
   {
    "duration": 5,
    "start_time": "2022-12-13T19:42:03.164Z"
   },
   {
    "duration": 5,
    "start_time": "2022-12-13T19:43:40.412Z"
   },
   {
    "duration": 5,
    "start_time": "2022-12-13T19:44:03.292Z"
   },
   {
    "duration": 6,
    "start_time": "2022-12-13T19:44:15.573Z"
   },
   {
    "duration": 5,
    "start_time": "2022-12-13T19:45:49.124Z"
   },
   {
    "duration": 378,
    "start_time": "2022-12-13T19:46:26.950Z"
   },
   {
    "duration": 159,
    "start_time": "2022-12-13T19:46:27.329Z"
   },
   {
    "duration": 16,
    "start_time": "2022-12-13T19:46:27.490Z"
   },
   {
    "duration": 29,
    "start_time": "2022-12-13T19:46:27.513Z"
   },
   {
    "duration": 3,
    "start_time": "2022-12-13T19:46:27.543Z"
   },
   {
    "duration": 6,
    "start_time": "2022-12-13T19:46:27.548Z"
   },
   {
    "duration": 13,
    "start_time": "2022-12-13T19:46:27.555Z"
   },
   {
    "duration": 7,
    "start_time": "2022-12-13T19:46:27.570Z"
   },
   {
    "duration": 49,
    "start_time": "2022-12-13T19:46:27.579Z"
   },
   {
    "duration": 19,
    "start_time": "2022-12-13T19:46:27.631Z"
   },
   {
    "duration": 24,
    "start_time": "2022-12-13T19:46:27.651Z"
   },
   {
    "duration": 89,
    "start_time": "2022-12-13T19:46:27.676Z"
   },
   {
    "duration": 78,
    "start_time": "2022-12-13T19:46:27.767Z"
   },
   {
    "duration": 68,
    "start_time": "2022-12-13T19:46:27.846Z"
   },
   {
    "duration": 37,
    "start_time": "2022-12-13T19:46:27.915Z"
   },
   {
    "duration": 10,
    "start_time": "2022-12-13T19:46:27.953Z"
   },
   {
    "duration": 58,
    "start_time": "2022-12-13T19:46:27.965Z"
   },
   {
    "duration": 12,
    "start_time": "2022-12-13T19:46:28.024Z"
   },
   {
    "duration": 12,
    "start_time": "2022-12-13T19:46:28.038Z"
   },
   {
    "duration": 3,
    "start_time": "2022-12-13T19:46:28.051Z"
   },
   {
    "duration": 21,
    "start_time": "2022-12-13T19:46:28.056Z"
   },
   {
    "duration": 41,
    "start_time": "2022-12-13T19:46:28.079Z"
   },
   {
    "duration": 31,
    "start_time": "2022-12-13T19:46:28.121Z"
   },
   {
    "duration": 38,
    "start_time": "2022-12-13T19:46:28.154Z"
   },
   {
    "duration": 17,
    "start_time": "2022-12-13T19:46:28.193Z"
   },
   {
    "duration": 28,
    "start_time": "2022-12-13T19:46:28.212Z"
   },
   {
    "duration": 9,
    "start_time": "2022-12-13T19:46:28.242Z"
   },
   {
    "duration": 33,
    "start_time": "2022-12-13T19:46:28.254Z"
   },
   {
    "duration": 20,
    "start_time": "2022-12-13T19:46:28.288Z"
   },
   {
    "duration": 4,
    "start_time": "2022-12-13T19:46:28.310Z"
   },
   {
    "duration": 43,
    "start_time": "2022-12-13T19:46:28.316Z"
   },
   {
    "duration": 46,
    "start_time": "2022-12-13T19:46:28.361Z"
   },
   {
    "duration": 25,
    "start_time": "2022-12-13T19:46:28.409Z"
   },
   {
    "duration": 16,
    "start_time": "2022-12-13T19:46:28.436Z"
   },
   {
    "duration": 16,
    "start_time": "2022-12-13T19:46:28.454Z"
   },
   {
    "duration": 10,
    "start_time": "2022-12-13T19:46:28.472Z"
   },
   {
    "duration": 14,
    "start_time": "2022-12-13T19:46:28.483Z"
   },
   {
    "duration": 19,
    "start_time": "2022-12-13T19:46:28.498Z"
   },
   {
    "duration": 5,
    "start_time": "2022-12-13T19:46:33.292Z"
   },
   {
    "duration": 9,
    "start_time": "2022-12-13T19:47:03.474Z"
   },
   {
    "duration": 5,
    "start_time": "2022-12-13T19:47:05.546Z"
   },
   {
    "duration": 9,
    "start_time": "2022-12-13T19:47:27.299Z"
   },
   {
    "duration": 5,
    "start_time": "2022-12-13T19:47:29.174Z"
   },
   {
    "duration": 6,
    "start_time": "2022-12-13T19:48:23.607Z"
   },
   {
    "duration": 5,
    "start_time": "2022-12-13T19:48:37.310Z"
   },
   {
    "duration": 71,
    "start_time": "2022-12-13T19:49:19.304Z"
   },
   {
    "duration": 342,
    "start_time": "2022-12-13T19:49:27.271Z"
   },
   {
    "duration": 156,
    "start_time": "2022-12-13T19:49:27.615Z"
   },
   {
    "duration": 17,
    "start_time": "2022-12-13T19:49:27.772Z"
   },
   {
    "duration": 36,
    "start_time": "2022-12-13T19:49:27.791Z"
   },
   {
    "duration": 2,
    "start_time": "2022-12-13T19:49:27.829Z"
   },
   {
    "duration": 7,
    "start_time": "2022-12-13T19:49:27.832Z"
   },
   {
    "duration": 12,
    "start_time": "2022-12-13T19:49:27.840Z"
   },
   {
    "duration": 6,
    "start_time": "2022-12-13T19:49:27.853Z"
   },
   {
    "duration": 25,
    "start_time": "2022-12-13T19:49:27.861Z"
   },
   {
    "duration": 42,
    "start_time": "2022-12-13T19:49:27.888Z"
   },
   {
    "duration": 21,
    "start_time": "2022-12-13T19:49:27.931Z"
   },
   {
    "duration": 80,
    "start_time": "2022-12-13T19:49:27.954Z"
   },
   {
    "duration": 77,
    "start_time": "2022-12-13T19:49:28.035Z"
   },
   {
    "duration": 60,
    "start_time": "2022-12-13T19:49:28.114Z"
   },
   {
    "duration": 45,
    "start_time": "2022-12-13T19:49:28.176Z"
   },
   {
    "duration": 10,
    "start_time": "2022-12-13T19:49:28.223Z"
   },
   {
    "duration": 36,
    "start_time": "2022-12-13T19:49:28.234Z"
   },
   {
    "duration": 13,
    "start_time": "2022-12-13T19:49:28.271Z"
   },
   {
    "duration": 37,
    "start_time": "2022-12-13T19:49:28.285Z"
   },
   {
    "duration": 3,
    "start_time": "2022-12-13T19:49:28.324Z"
   },
   {
    "duration": 22,
    "start_time": "2022-12-13T19:49:28.329Z"
   },
   {
    "duration": 15,
    "start_time": "2022-12-13T19:49:28.352Z"
   },
   {
    "duration": 45,
    "start_time": "2022-12-13T19:49:28.368Z"
   },
   {
    "duration": 14,
    "start_time": "2022-12-13T19:49:28.415Z"
   },
   {
    "duration": 18,
    "start_time": "2022-12-13T19:49:28.431Z"
   },
   {
    "duration": 15,
    "start_time": "2022-12-13T19:49:28.450Z"
   },
   {
    "duration": 8,
    "start_time": "2022-12-13T19:49:28.467Z"
   },
   {
    "duration": 51,
    "start_time": "2022-12-13T19:49:28.478Z"
   },
   {
    "duration": 18,
    "start_time": "2022-12-13T19:49:28.531Z"
   },
   {
    "duration": 4,
    "start_time": "2022-12-13T19:49:28.551Z"
   },
   {
    "duration": 26,
    "start_time": "2022-12-13T19:49:28.556Z"
   },
   {
    "duration": 32,
    "start_time": "2022-12-13T19:49:28.584Z"
   },
   {
    "duration": 17,
    "start_time": "2022-12-13T19:49:28.618Z"
   },
   {
    "duration": 12,
    "start_time": "2022-12-13T19:49:28.637Z"
   },
   {
    "duration": 8,
    "start_time": "2022-12-13T19:49:28.651Z"
   },
   {
    "duration": 4,
    "start_time": "2022-12-13T19:49:28.661Z"
   },
   {
    "duration": 7,
    "start_time": "2022-12-13T19:49:28.667Z"
   },
   {
    "duration": 6,
    "start_time": "2022-12-13T19:49:28.712Z"
   },
   {
    "duration": 60,
    "start_time": "2022-12-13T19:49:35.899Z"
   },
   {
    "duration": 8,
    "start_time": "2022-12-13T19:49:49.543Z"
   },
   {
    "duration": 10,
    "start_time": "2022-12-13T19:50:12.784Z"
   },
   {
    "duration": 9,
    "start_time": "2022-12-13T19:50:47.051Z"
   },
   {
    "duration": 5,
    "start_time": "2022-12-13T19:50:50.527Z"
   },
   {
    "duration": 7,
    "start_time": "2022-12-13T19:50:59.819Z"
   },
   {
    "duration": 9,
    "start_time": "2022-12-13T19:52:11.771Z"
   },
   {
    "duration": 5,
    "start_time": "2022-12-13T19:52:17.619Z"
   },
   {
    "duration": 5,
    "start_time": "2022-12-13T19:52:20.255Z"
   },
   {
    "duration": 8,
    "start_time": "2022-12-13T19:52:50.363Z"
   },
   {
    "duration": 8,
    "start_time": "2022-12-13T19:52:55.847Z"
   },
   {
    "duration": 699,
    "start_time": "2022-12-13T19:53:03.659Z"
   },
   {
    "duration": 15,
    "start_time": "2022-12-13T19:53:08.331Z"
   },
   {
    "duration": 16,
    "start_time": "2022-12-13T19:53:12.423Z"
   },
   {
    "duration": 20,
    "start_time": "2022-12-13T19:53:18.794Z"
   },
   {
    "duration": 12,
    "start_time": "2022-12-13T19:53:23.963Z"
   },
   {
    "duration": 6,
    "start_time": "2022-12-13T19:53:29.291Z"
   },
   {
    "duration": 5,
    "start_time": "2022-12-13T19:53:31.619Z"
   }
  ],
  "colab": {
   "collapsed_sections": [
    "E0vqbgi9ay0H",
    "VUC88oWjTJw2"
   ],
   "name": "automatization_template_upd4.ipynb",
   "provenance": []
  },
  "kernelspec": {
   "display_name": "Python 3 (ipykernel)",
   "language": "python",
   "name": "python3"
  },
  "language_info": {
   "codemirror_mode": {
    "name": "ipython",
    "version": 3
   },
   "file_extension": ".py",
   "mimetype": "text/x-python",
   "name": "python",
   "nbconvert_exporter": "python",
   "pygments_lexer": "ipython3",
   "version": "3.9.13"
  },
  "toc": {
   "base_numbering": 1,
   "nav_menu": {
    "height": "215px",
    "width": "403px"
   },
   "number_sections": true,
   "sideBar": true,
   "skip_h1_title": true,
   "title_cell": "Table of Contents",
   "title_sidebar": "Contents",
   "toc_cell": false,
   "toc_position": {
    "height": "calc(100% - 180px)",
    "left": "10px",
    "top": "150px",
    "width": "285.825px"
   },
   "toc_section_display": true,
   "toc_window_display": false
  }
 },
 "nbformat": 4,
 "nbformat_minor": 1
}
